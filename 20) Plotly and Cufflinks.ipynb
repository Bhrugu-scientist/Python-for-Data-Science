{
 "cells": [
  {
   "cell_type": "code",
   "execution_count": 1,
   "metadata": {},
   "outputs": [],
   "source": [
    "import numpy as np\n",
    "import pandas as pd\n",
    "import matplotlib.pyplot as plt\n",
    "import seaborn as sns \n"
   ]
  },
  {
   "cell_type": "code",
   "execution_count": 3,
   "metadata": {},
   "outputs": [],
   "source": [
    "%matplotlib inline"
   ]
  },
  {
   "cell_type": "code",
   "execution_count": 4,
   "metadata": {},
   "outputs": [],
   "source": [
    "from plotly import __version__"
   ]
  },
  {
   "cell_type": "code",
   "execution_count": 5,
   "metadata": {},
   "outputs": [],
   "source": [
    "import cufflinks as cf"
   ]
  },
  {
   "cell_type": "code",
   "execution_count": 7,
   "metadata": {},
   "outputs": [],
   "source": [
    "from plotly.offline import download_plotlyjs,init_notebook_mode,plot,iplot"
   ]
  },
  {
   "cell_type": "code",
   "execution_count": 8,
   "metadata": {},
   "outputs": [
    {
     "data": {
      "text/html": [
       "        <script type=\"text/javascript\">\n",
       "        window.PlotlyConfig = {MathJaxConfig: 'local'};\n",
       "        if (window.MathJax) {MathJax.Hub.Config({SVG: {font: \"STIX-Web\"}});}\n",
       "        if (typeof require !== 'undefined') {\n",
       "        require.undef(\"plotly\");\n",
       "        requirejs.config({\n",
       "            paths: {\n",
       "                'plotly': ['https://cdn.plot.ly/plotly-latest.min']\n",
       "            }\n",
       "        });\n",
       "        require(['plotly'], function(Plotly) {\n",
       "            window._Plotly = Plotly;\n",
       "        });\n",
       "        }\n",
       "        </script>\n",
       "        "
      ]
     },
     "metadata": {},
     "output_type": "display_data"
    }
   ],
   "source": [
    "init_notebook_mode(connected = True)"
   ]
  },
  {
   "cell_type": "code",
   "execution_count": 9,
   "metadata": {},
   "outputs": [
    {
     "data": {
      "text/html": [
       "        <script type=\"text/javascript\">\n",
       "        window.PlotlyConfig = {MathJaxConfig: 'local'};\n",
       "        if (window.MathJax) {MathJax.Hub.Config({SVG: {font: \"STIX-Web\"}});}\n",
       "        if (typeof require !== 'undefined') {\n",
       "        require.undef(\"plotly\");\n",
       "        requirejs.config({\n",
       "            paths: {\n",
       "                'plotly': ['https://cdn.plot.ly/plotly-latest.min']\n",
       "            }\n",
       "        });\n",
       "        require(['plotly'], function(Plotly) {\n",
       "            window._Plotly = Plotly;\n",
       "        });\n",
       "        }\n",
       "        </script>\n",
       "        "
      ]
     },
     "metadata": {},
     "output_type": "display_data"
    }
   ],
   "source": [
    "cf.go_offline()"
   ]
  },
  {
   "cell_type": "code",
   "execution_count": 10,
   "metadata": {},
   "outputs": [],
   "source": [
    "df = pd.DataFrame(np.random.randn(100,4),columns = 'A B C D'.split())"
   ]
  },
  {
   "cell_type": "code",
   "execution_count": 11,
   "metadata": {},
   "outputs": [
    {
     "data": {
      "text/html": [
       "<div>\n",
       "<style scoped>\n",
       "    .dataframe tbody tr th:only-of-type {\n",
       "        vertical-align: middle;\n",
       "    }\n",
       "\n",
       "    .dataframe tbody tr th {\n",
       "        vertical-align: top;\n",
       "    }\n",
       "\n",
       "    .dataframe thead th {\n",
       "        text-align: right;\n",
       "    }\n",
       "</style>\n",
       "<table border=\"1\" class=\"dataframe\">\n",
       "  <thead>\n",
       "    <tr style=\"text-align: right;\">\n",
       "      <th></th>\n",
       "      <th>A</th>\n",
       "      <th>B</th>\n",
       "      <th>C</th>\n",
       "      <th>D</th>\n",
       "    </tr>\n",
       "  </thead>\n",
       "  <tbody>\n",
       "    <tr>\n",
       "      <th>0</th>\n",
       "      <td>1.330631</td>\n",
       "      <td>-0.807754</td>\n",
       "      <td>0.365665</td>\n",
       "      <td>0.797542</td>\n",
       "    </tr>\n",
       "    <tr>\n",
       "      <th>1</th>\n",
       "      <td>-1.038591</td>\n",
       "      <td>0.756563</td>\n",
       "      <td>-2.024622</td>\n",
       "      <td>-0.219407</td>\n",
       "    </tr>\n",
       "    <tr>\n",
       "      <th>2</th>\n",
       "      <td>0.187499</td>\n",
       "      <td>1.123757</td>\n",
       "      <td>-0.175952</td>\n",
       "      <td>-0.649522</td>\n",
       "    </tr>\n",
       "    <tr>\n",
       "      <th>3</th>\n",
       "      <td>-1.280273</td>\n",
       "      <td>-0.395659</td>\n",
       "      <td>0.387521</td>\n",
       "      <td>-1.104582</td>\n",
       "    </tr>\n",
       "    <tr>\n",
       "      <th>4</th>\n",
       "      <td>1.049058</td>\n",
       "      <td>0.054979</td>\n",
       "      <td>-0.400981</td>\n",
       "      <td>-0.719319</td>\n",
       "    </tr>\n",
       "    <tr>\n",
       "      <th>...</th>\n",
       "      <td>...</td>\n",
       "      <td>...</td>\n",
       "      <td>...</td>\n",
       "      <td>...</td>\n",
       "    </tr>\n",
       "    <tr>\n",
       "      <th>95</th>\n",
       "      <td>1.824383</td>\n",
       "      <td>0.302890</td>\n",
       "      <td>-0.929745</td>\n",
       "      <td>-0.972116</td>\n",
       "    </tr>\n",
       "    <tr>\n",
       "      <th>96</th>\n",
       "      <td>-0.112524</td>\n",
       "      <td>-0.202216</td>\n",
       "      <td>0.852373</td>\n",
       "      <td>0.413917</td>\n",
       "    </tr>\n",
       "    <tr>\n",
       "      <th>97</th>\n",
       "      <td>-2.773932</td>\n",
       "      <td>0.141514</td>\n",
       "      <td>-0.233129</td>\n",
       "      <td>0.650592</td>\n",
       "    </tr>\n",
       "    <tr>\n",
       "      <th>98</th>\n",
       "      <td>-0.089809</td>\n",
       "      <td>-0.089201</td>\n",
       "      <td>0.411646</td>\n",
       "      <td>-1.476543</td>\n",
       "    </tr>\n",
       "    <tr>\n",
       "      <th>99</th>\n",
       "      <td>0.832832</td>\n",
       "      <td>0.459691</td>\n",
       "      <td>-0.253043</td>\n",
       "      <td>-0.227236</td>\n",
       "    </tr>\n",
       "  </tbody>\n",
       "</table>\n",
       "<p>100 rows × 4 columns</p>\n",
       "</div>"
      ],
      "text/plain": [
       "           A         B         C         D\n",
       "0   1.330631 -0.807754  0.365665  0.797542\n",
       "1  -1.038591  0.756563 -2.024622 -0.219407\n",
       "2   0.187499  1.123757 -0.175952 -0.649522\n",
       "3  -1.280273 -0.395659  0.387521 -1.104582\n",
       "4   1.049058  0.054979 -0.400981 -0.719319\n",
       "..       ...       ...       ...       ...\n",
       "95  1.824383  0.302890 -0.929745 -0.972116\n",
       "96 -0.112524 -0.202216  0.852373  0.413917\n",
       "97 -2.773932  0.141514 -0.233129  0.650592\n",
       "98 -0.089809 -0.089201  0.411646 -1.476543\n",
       "99  0.832832  0.459691 -0.253043 -0.227236\n",
       "\n",
       "[100 rows x 4 columns]"
      ]
     },
     "execution_count": 11,
     "metadata": {},
     "output_type": "execute_result"
    }
   ],
   "source": [
    "df"
   ]
  },
  {
   "cell_type": "code",
   "execution_count": 12,
   "metadata": {},
   "outputs": [],
   "source": [
    "df2 = pd.DataFrame({\n",
    "    'Category': ['A','B','C'],\n",
    "    'Value': [32,43,50]\n",
    "})"
   ]
  },
  {
   "cell_type": "code",
   "execution_count": 13,
   "metadata": {},
   "outputs": [
    {
     "data": {
      "text/html": [
       "<div>\n",
       "<style scoped>\n",
       "    .dataframe tbody tr th:only-of-type {\n",
       "        vertical-align: middle;\n",
       "    }\n",
       "\n",
       "    .dataframe tbody tr th {\n",
       "        vertical-align: top;\n",
       "    }\n",
       "\n",
       "    .dataframe thead th {\n",
       "        text-align: right;\n",
       "    }\n",
       "</style>\n",
       "<table border=\"1\" class=\"dataframe\">\n",
       "  <thead>\n",
       "    <tr style=\"text-align: right;\">\n",
       "      <th></th>\n",
       "      <th>Category</th>\n",
       "      <th>Value</th>\n",
       "    </tr>\n",
       "  </thead>\n",
       "  <tbody>\n",
       "    <tr>\n",
       "      <th>0</th>\n",
       "      <td>A</td>\n",
       "      <td>32</td>\n",
       "    </tr>\n",
       "    <tr>\n",
       "      <th>1</th>\n",
       "      <td>B</td>\n",
       "      <td>43</td>\n",
       "    </tr>\n",
       "    <tr>\n",
       "      <th>2</th>\n",
       "      <td>C</td>\n",
       "      <td>50</td>\n",
       "    </tr>\n",
       "  </tbody>\n",
       "</table>\n",
       "</div>"
      ],
      "text/plain": [
       "  Category  Value\n",
       "0        A     32\n",
       "1        B     43\n",
       "2        C     50"
      ]
     },
     "execution_count": 13,
     "metadata": {},
     "output_type": "execute_result"
    }
   ],
   "source": [
    "df2.head()"
   ]
  },
  {
   "cell_type": "code",
   "execution_count": 14,
   "metadata": {},
   "outputs": [
    {
     "data": {
      "text/plain": [
       "<matplotlib.axes._subplots.AxesSubplot at 0x1f7dca80e48>"
      ]
     },
     "execution_count": 14,
     "metadata": {},
     "output_type": "execute_result"
    },
    {
     "data": {
      "image/png": "[encoded data removed]",
      "text/plain": [
       "<Figure size 432x288 with 1 Axes>"
      ]
     },
     "metadata": {
      "needs_background": "light"
     },
     "output_type": "display_data"
    }
   ],
   "source": [
    "df.plot()"
   ]
  },
  {
   "cell_type": "code",
   "execution_count": 15,
   "metadata": {},
   "outputs": [
    {
     "data": {
      "application/vnd.plotly.v1+json": {
       "config": {
        "linkText": "Export to plot.ly",
        "plotlyServerURL": "https://plot.ly",
        "showLink": true
       },
       "data": [
        {
         "line": {
          "color": "rgba(255, 153, 51, 1.0)",
          "dash": "solid",
          "shape": "linear",
          "width": 1.3
         },
         "mode": "lines",
         "name": "A",
         "text": "",
         "type": "scatter",
         "x": [
          0,
          1,
          2,
          3,
          4,
          5,
          6,
          7,
          8,
          9,
          10,
          11,
          12,
          13,
          14,
          15,
          16,
          17,
          18,
          19,
          20,
          21,
          22,
          23,
          24,
          25,
          26,
          27,
          28,
          29,
          30,
          31,
          32,
          33,
          34,
          35,
          36,
          37,
          38,
          39,
          40,
          41,
          42,
          43,
          44,
          45,
          46,
          47,
          48,
          49,
          50,
          51,
          52,
          53,
          54,
          55,
          56,
          57,
          58,
          59,
          60,
          61,
          62,
          63,
          64,
          65,
          66,
          67,
          68,
          69,
          70,
          71,
          72,
          73,
          74,
          75,
          76,
          77,
          78,
          79,
          80,
          81,
          82,
          83,
          84,
          85,
          86,
          87,
          88,
          89,
          90,
          91,
          92,
          93,
          94,
          95,
          96,
          97,
          98,
          99
         ],
         "y": [
          1.3306309417176265,
          -1.0385908792182337,
          0.1874988544332731,
          -1.280273142495005,
          1.049058077764222,
          1.0611683123235378,
          1.9071191693896197,
          2.7352170168230985,
          -0.6397746814172409,
          0.8463438925366744,
          0.6654798489053015,
          0.5898888031987908,
          -0.24578070323181664,
          0.8969285206540074,
          -0.5662410084123332,
          1.0938500603836203,
          -0.12239543313528743,
          0.22232875620726475,
          -2.100252650446614,
          0.07236905792648542,
          1.4025076400931227,
          -0.5884562982794522,
          -0.9889691929554822,
          1.254073734692926,
          -0.46372972298110055,
          -0.48538707079930976,
          1.3291500350558658,
          -0.5959406223584038,
          0.8264347369014085,
          0.03382006102493553,
          -1.7403756156373102,
          -0.10120422308479786,
          -2.0763793530629675,
          0.32975298291286204,
          -0.2513970373300905,
          1.0686811177498006,
          -1.287088310176192,
          1.7189073509803223,
          -2.1812920330972028,
          -1.653046828768346,
          -0.6299599276446443,
          -0.6603974395461192,
          1.9616869789233804,
          0.8559600837851427,
          0.6831248737350233,
          -0.28491484930330135,
          2.273199289527967,
          -0.6001597532078587,
          -1.0362480369487086,
          1.277052361551702,
          0.716203215161114,
          -0.07102696522231514,
          -2.033535045783543,
          -0.7538182027296547,
          0.0013298173934843229,
          2.012898833923275,
          1.2880410548949353,
          0.4014209245850137,
          -0.7741539809820434,
          0.7252590743472118,
          -0.8483347797463456,
          -0.49958477134736623,
          0.14473176345929775,
          -0.8034821874756903,
          -1.351101132144767,
          0.6170023030683952,
          -1.891397712945495,
          -0.9383709684301289,
          -0.41277249311839675,
          -1.591460336585324,
          -0.8097421575333087,
          2.2616634455467683,
          -0.11339795454097942,
          -0.14794045700105715,
          -0.2163222303007041,
          0.47811209099295643,
          -1.0224603818250957,
          1.7108857580680352,
          1.1466963877389036,
          0.4356283563208712,
          0.01784311691288129,
          0.11980539540514351,
          0.3947055397125486,
          0.7596655979349227,
          -0.21600082570836415,
          -0.023137565460243193,
          0.017163582231720136,
          0.21032173566674786,
          -0.389023597520661,
          -0.19793727668987773,
          -0.29492035190757415,
          -1.2411400701237552,
          0.39606779670549547,
          -0.9150253620940234,
          -0.5257507006499514,
          1.8243832582774786,
          -0.1125237963450426,
          -2.7739318359255813,
          -0.0898090875362181,
          0.8328315823372676
         ]
        },
        {
         "line": {
          "color": "rgba(55, 128, 191, 1.0)",
          "dash": "solid",
          "shape": "linear",
          "width": 1.3
         },
         "mode": "lines",
         "name": "B",
         "text": "",
         "type": "scatter",
         "x": [
          0,
          1,
          2,
          3,
          4,
          5,
          6,
          7,
          8,
          9,
          10,
          11,
          12,
          13,
          14,
          15,
          16,
          17,
          18,
          19,
          20,
          21,
          22,
          23,
          24,
          25,
          26,
          27,
          28,
          29,
          30,
          31,
          32,
          33,
          34,
          35,
          36,
          37,
          38,
          39,
          40,
          41,
          42,
          43,
          44,
          45,
          46,
          47,
          48,
          49,
          50,
          51,
          52,
          53,
          54,
          55,
          56,
          57,
          58,
          59,
          60,
          61,
          62,
          63,
          64,
          65,
          66,
          67,
          68,
          69,
          70,
          71,
          72,
          73,
          74,
          75,
          76,
          77,
          78,
          79,
          80,
          81,
          82,
          83,
          84,
          85,
          86,
          87,
          88,
          89,
          90,
          91,
          92,
          93,
          94,
          95,
          96,
          97,
          98,
          99
         ],
         "y": [
          -0.8077541023962002,
          0.7565634938517336,
          1.1237573596606032,
          -0.39565919347789863,
          0.0549785621201317,
          1.366502617290853,
          -1.3230694814486699,
          0.7387889439830942,
          -1.199480435930739,
          -2.282949284120805,
          -0.11425954367285318,
          0.8220010850043288,
          -1.1018014057796768,
          0.2503149600873541,
          1.1736158070252711,
          0.6947821804303227,
          0.5283230210516395,
          0.02697684131203542,
          1.2281054446817783,
          0.30732376074071527,
          -1.8252020255670138,
          2.6418773394416872,
          0.4006178825484417,
          0.5288086239368401,
          0.42863236503672264,
          0.30564260765961393,
          1.2778053713476605,
          1.472255914104073,
          0.05872832874232765,
          0.7251880601234464,
          -0.2138418181358444,
          -2.0005260137365877,
          1.534647810447825,
          2.084477685137188,
          2.7052715499038764,
          0.6695822248372039,
          -0.06518920375824615,
          -1.9049080959097124,
          1.2169413778613276,
          -2.03197874321166,
          1.4546371527133481,
          0.1989084957309017,
          -1.7818535501801909,
          2.0004508452916028,
          1.6296031993340103,
          0.24500116269463681,
          0.5640050900164671,
          0.5904149850770735,
          0.3823351716117955,
          1.7376514275808248,
          -0.8979434180678454,
          0.5914107965134787,
          0.4234285284764335,
          -0.6922168342136781,
          -0.6970659041760846,
          -1.4925661057491024,
          0.4165199828435986,
          -0.17973830756700138,
          -0.1899146526268394,
          0.5206315273626101,
          -0.06918200176339967,
          -0.7240010125943824,
          1.2793270686278744,
          0.3365658155828963,
          -2.0232355137365383,
          -1.955386468277755,
          1.0471304394836258,
          -0.3234898040130142,
          0.7452124347332417,
          0.9305259702811042,
          -0.7515431305554422,
          1.9675896545741405,
          0.28748431790382417,
          -0.19642992033258458,
          -0.49064884204819204,
          0.18816479377724749,
          0.07676733695429527,
          0.49804273677106,
          0.34102017267473134,
          0.7200324639469576,
          0.0606644111172542,
          -0.6137673524489353,
          0.6592257674514602,
          -1.367796620444945,
          1.3767073670816232,
          -0.6286369092359241,
          -2.659475702790765,
          0.06032259735863327,
          1.0736657620512429,
          -0.8494551963668133,
          0.7416402492100004,
          1.2144400487378093,
          0.41762560003557575,
          -0.40527781652274925,
          -0.31652693291467393,
          0.3028904622839831,
          -0.20221592711223793,
          0.14151449129352375,
          -0.08920104667800999,
          0.45969093794151544
         ]
        },
        {
         "line": {
          "color": "rgba(50, 171, 96, 1.0)",
          "dash": "solid",
          "shape": "linear",
          "width": 1.3
         },
         "mode": "lines",
         "name": "C",
         "text": "",
         "type": "scatter",
         "x": [
          0,
          1,
          2,
          3,
          4,
          5,
          6,
          7,
          8,
          9,
          10,
          11,
          12,
          13,
          14,
          15,
          16,
          17,
          18,
          19,
          20,
          21,
          22,
          23,
          24,
          25,
          26,
          27,
          28,
          29,
          30,
          31,
          32,
          33,
          34,
          35,
          36,
          37,
          38,
          39,
          40,
          41,
          42,
          43,
          44,
          45,
          46,
          47,
          48,
          49,
          50,
          51,
          52,
          53,
          54,
          55,
          56,
          57,
          58,
          59,
          60,
          61,
          62,
          63,
          64,
          65,
          66,
          67,
          68,
          69,
          70,
          71,
          72,
          73,
          74,
          75,
          76,
          77,
          78,
          79,
          80,
          81,
          82,
          83,
          84,
          85,
          86,
          87,
          88,
          89,
          90,
          91,
          92,
          93,
          94,
          95,
          96,
          97,
          98,
          99
         ],
         "y": [
          0.3656651539700398,
          -2.024621508933484,
          -0.17595214258639766,
          0.38752123388547627,
          -0.40098108684220674,
          0.7047994399031737,
          0.6111222021594415,
          0.2984057022335293,
          -0.5054188984967285,
          0.12024912953358627,
          0.03658450937199128,
          -0.28327791808777447,
          -1.3967097446357228,
          1.1161579807451723,
          -0.02769518065720461,
          0.3824321539746692,
          0.5477711577384979,
          0.08142385667673246,
          1.3064477629658349,
          -0.16079346035363284,
          1.3087896864926647,
          0.3062345125176454,
          0.09288871560599347,
          0.1293533941503134,
          0.5788875746115371,
          0.01434073846552713,
          -1.8944062485400481,
          1.8888049406514158,
          -0.4776845884066758,
          1.2764291854498908,
          -0.5042490922031749,
          -0.7801119239008675,
          1.3421330442051493,
          0.672714533915635,
          0.9893919285907951,
          0.8494961107716652,
          0.5838121382918745,
          1.250930509255457,
          1.09968861421728,
          -0.04163656113428267,
          0.05322861552611884,
          -0.6125501183133603,
          -1.2206193313774207,
          0.144642554577054,
          -1.319235756758065,
          0.19491832305045914,
          -0.775115685297024,
          1.0167592539070043,
          0.983563546849777,
          -0.39039835223133834,
          -0.8284730578893609,
          -0.3936660846606071,
          0.6232568363690445,
          -0.6333224212073132,
          1.0650741192534734,
          -2.1686623348824674,
          -1.228154969602673,
          -0.9977266640263869,
          0.9726160769808196,
          0.2930229304519651,
          -0.4821496574965753,
          -0.5846169212147282,
          -0.9316895418709534,
          -1.2179313081717043,
          -2.074013254064868,
          0.09682363701248563,
          -0.38151715167604977,
          0.49188500666415497,
          -0.725306836736184,
          -0.8246979833109914,
          -1.3562429729164502,
          0.2673330090054745,
          1.2924557312605747,
          0.24010807839265333,
          -0.1525097779159531,
          0.013773240989478044,
          0.801672870583813,
          2.6129068949654126,
          -0.004835514247692923,
          0.00038433475050008765,
          0.3768613102888822,
          1.5852792940187583,
          -1.2303409245158452,
          0.10101802359198322,
          0.8844781483544862,
          -0.8811133498746999,
          0.373372580639977,
          -0.40411158698473626,
          1.3672213632922996,
          0.30692054933826124,
          0.2980331198680305,
          -1.6977885063533618,
          0.9342253811855618,
          0.6893014976844566,
          -0.7823612487342642,
          -0.9297453414885516,
          0.8523734371748879,
          -0.23312884194180006,
          0.4116455392105631,
          -0.2530425260066888
         ]
        },
        {
         "line": {
          "color": "rgba(128, 0, 128, 1.0)",
          "dash": "solid",
          "shape": "linear",
          "width": 1.3
         },
         "mode": "lines",
         "name": "D",
         "text": "",
         "type": "scatter",
         "x": [
          0,
          1,
          2,
          3,
          4,
          5,
          6,
          7,
          8,
          9,
          10,
          11,
          12,
          13,
          14,
          15,
          16,
          17,
          18,
          19,
          20,
          21,
          22,
          23,
          24,
          25,
          26,
          27,
          28,
          29,
          30,
          31,
          32,
          33,
          34,
          35,
          36,
          37,
          38,
          39,
          40,
          41,
          42,
          43,
          44,
          45,
          46,
          47,
          48,
          49,
          50,
          51,
          52,
          53,
          54,
          55,
          56,
          57,
          58,
          59,
          60,
          61,
          62,
          63,
          64,
          65,
          66,
          67,
          68,
          69,
          70,
          71,
          72,
          73,
          74,
          75,
          76,
          77,
          78,
          79,
          80,
          81,
          82,
          83,
          84,
          85,
          86,
          87,
          88,
          89,
          90,
          91,
          92,
          93,
          94,
          95,
          96,
          97,
          98,
          99
         ],
         "y": [
          0.7975416162339963,
          -0.21940657560340165,
          -0.6495223186326463,
          -1.1045817227401677,
          -0.7193189821090035,
          -0.8349004696712116,
          -1.1270940359263222,
          0.045792655428507856,
          -0.916793147440208,
          0.9213674139500968,
          -0.5886707980598632,
          -0.09356438719274726,
          1.1920978378959821,
          -0.8317211629636166,
          -0.38109088723742296,
          0.5766422340104451,
          0.43763503347873917,
          -0.41169971859837184,
          -0.46590127089055766,
          0.20217738254294637,
          -1.669518712654215,
          -0.5111871906175561,
          -0.6298861572186296,
          0.8089227351774407,
          -0.017502244639379758,
          0.5470549245950116,
          1.205281769483588,
          1.037057423581387,
          0.09557849773090253,
          0.57333584353472,
          -0.6736607481399736,
          0.02354881168542178,
          0.16149816470751635,
          -0.18720501878333623,
          -1.0368909880884163,
          0.06346118185626269,
          1.8593973699740949,
          1.4227284353103165,
          -0.03745067461314494,
          0.7018509417552491,
          0.37484070339401815,
          0.4490068546525637,
          0.05210196611094483,
          -0.1701316667373229,
          0.9975858765520681,
          0.5679231522183869,
          0.7333534143683618,
          -0.4881841277696792,
          -0.7735029325895608,
          0.01891691584424374,
          -1.2359148304241079,
          -0.8896197467687542,
          -0.10908281293793401,
          1.688463700552174,
          -0.23667063256752122,
          -0.0006127191057447444,
          -1.3901015766075688,
          -0.07471253156201306,
          -0.17391167365707075,
          0.18494588958463734,
          -0.8072660199829106,
          0.5042274950958247,
          1.430319628227963,
          -1.0432237869179202,
          0.6069703153867475,
          -0.9659360808606309,
          1.6956317931889817,
          0.1934229329498793,
          -0.3234302239208796,
          -0.5653941531404442,
          1.4294978718028493,
          -0.4667825162224206,
          0.8159024534431725,
          -0.27577624975932374,
          0.05785711289876522,
          1.4902936128030226,
          0.9452236842836307,
          1.34821155748868,
          -0.9335093588384209,
          0.7629837548409932,
          -0.9040802654809437,
          -0.8912568923745329,
          -0.7504395625157962,
          0.5435144524350202,
          1.47191507660395,
          -1.9599202433457479,
          -0.09907887392997437,
          1.4770671005625244,
          0.40572998591662657,
          0.09857348353580996,
          0.23264132362483203,
          0.9966223626862929,
          -0.23378918797685888,
          -0.8122495069200328,
          0.7783050772190407,
          -0.9721164857966254,
          0.4139167840603344,
          0.6505919351452365,
          -1.4765433004431558,
          -0.2272361110201322
         ]
        }
       ],
       "layout": {
        "legend": {
         "bgcolor": "#F5F6F9",
         "font": {
          "color": "#4D5663"
         }
        },
        "paper_bgcolor": "#F5F6F9",
        "plot_bgcolor": "#F5F6F9",
        "template": {
         "data": {
          "bar": [
           {
            "error_x": {
             "color": "#2a3f5f"
            },
            "error_y": {
             "color": "#2a3f5f"
            },
            "marker": {
             "line": {
              "color": "#E5ECF6",
              "width": 0.5
             }
            },
            "type": "bar"
           }
          ],
          "barpolar": [
           {
            "marker": {
             "line": {
              "color": "#E5ECF6",
              "width": 0.5
             }
            },
            "type": "barpolar"
           }
          ],
          "carpet": [
           {
            "aaxis": {
             "endlinecolor": "#2a3f5f",
             "gridcolor": "white",
             "linecolor": "white",
             "minorgridcolor": "white",
             "startlinecolor": "#2a3f5f"
            },
            "baxis": {
             "endlinecolor": "#2a3f5f",
             "gridcolor": "white",
             "linecolor": "white",
             "minorgridcolor": "white",
             "startlinecolor": "#2a3f5f"
            },
            "type": "carpet"
           }
          ],
          "choropleth": [
           {
            "colorbar": {
             "outlinewidth": 0,
             "ticks": ""
            },
            "type": "choropleth"
           }
          ],
          "contour": [
           {
            "colorbar": {
             "outlinewidth": 0,
             "ticks": ""
            },
            "colorscale": [
             [
              0,
              "#0d0887"
             ],
             [
              0.1111111111111111,
              "#46039f"
             ],
             [
              0.2222222222222222,
              "#7201a8"
             ],
             [
              0.3333333333333333,
              "#9c179e"
             ],
             [
              0.4444444444444444,
              "#bd3786"
             ],
             [
              0.5555555555555556,
              "#d8576b"
             ],
             [
              0.6666666666666666,
              "#ed7953"
             ],
             [
              0.7777777777777778,
              "#fb9f3a"
             ],
             [
              0.8888888888888888,
              "#fdca26"
             ],
             [
              1,
              "#f0f921"
             ]
            ],
            "type": "contour"
           }
          ],
          "contourcarpet": [
           {
            "colorbar": {
             "outlinewidth": 0,
             "ticks": ""
            },
            "type": "contourcarpet"
           }
          ],
          "heatmap": [
           {
            "colorbar": {
             "outlinewidth": 0,
             "ticks": ""
            },
            "colorscale": [
             [
              0,
              "#0d0887"
             ],
             [
              0.1111111111111111,
              "#46039f"
             ],
             [
              0.2222222222222222,
              "#7201a8"
             ],
             [
              0.3333333333333333,
              "#9c179e"
             ],
             [
              0.4444444444444444,
              "#bd3786"
             ],
             [
              0.5555555555555556,
              "#d8576b"
             ],
             [
              0.6666666666666666,
              "#ed7953"
             ],
             [
              0.7777777777777778,
              "#fb9f3a"
             ],
             [
              0.8888888888888888,
              "#fdca26"
             ],
             [
              1,
              "#f0f921"
             ]
            ],
            "type": "heatmap"
           }
          ],
          "heatmapgl": [
           {
            "colorbar": {
             "outlinewidth": 0,
             "ticks": ""
            },
            "colorscale": [
             [
              0,
              "#0d0887"
             ],
             [
              0.1111111111111111,
              "#46039f"
             ],
             [
              0.2222222222222222,
              "#7201a8"
             ],
             [
              0.3333333333333333,
              "#9c179e"
             ],
             [
              0.4444444444444444,
              "#bd3786"
             ],
             [
              0.5555555555555556,
              "#d8576b"
             ],
             [
              0.6666666666666666,
              "#ed7953"
             ],
             [
              0.7777777777777778,
              "#fb9f3a"
             ],
             [
              0.8888888888888888,
              "#fdca26"
             ],
             [
              1,
              "#f0f921"
             ]
            ],
            "type": "heatmapgl"
           }
          ],
          "histogram": [
           {
            "marker": {
             "colorbar": {
              "outlinewidth": 0,
              "ticks": ""
             }
            },
            "type": "histogram"
           }
          ],
          "histogram2d": [
           {
            "colorbar": {
             "outlinewidth": 0,
             "ticks": ""
            },
            "colorscale": [
             [
              0,
              "#0d0887"
             ],
             [
              0.1111111111111111,
              "#46039f"
             ],
             [
              0.2222222222222222,
              "#7201a8"
             ],
             [
              0.3333333333333333,
              "#9c179e"
             ],
             [
              0.4444444444444444,
              "#bd3786"
             ],
             [
              0.5555555555555556,
              "#d8576b"
             ],
             [
              0.6666666666666666,
              "#ed7953"
             ],
             [
              0.7777777777777778,
              "#fb9f3a"
             ],
             [
              0.8888888888888888,
              "#fdca26"
             ],
             [
              1,
              "#f0f921"
             ]
            ],
            "type": "histogram2d"
           }
          ],
          "histogram2dcontour": [
           {
            "colorbar": {
             "outlinewidth": 0,
             "ticks": ""
            },
            "colorscale": [
             [
              0,
              "#0d0887"
             ],
             [
              0.1111111111111111,
              "#46039f"
             ],
             [
              0.2222222222222222,
              "#7201a8"
             ],
             [
              0.3333333333333333,
              "#9c179e"
             ],
             [
              0.4444444444444444,
              "#bd3786"
             ],
             [
              0.5555555555555556,
              "#d8576b"
             ],
             [
              0.6666666666666666,
              "#ed7953"
             ],
             [
              0.7777777777777778,
              "#fb9f3a"
             ],
             [
              0.8888888888888888,
              "#fdca26"
             ],
             [
              1,
              "#f0f921"
             ]
            ],
            "type": "histogram2dcontour"
           }
          ],
          "mesh3d": [
           {
            "colorbar": {
             "outlinewidth": 0,
             "ticks": ""
            },
            "type": "mesh3d"
           }
          ],
          "parcoords": [
           {
            "line": {
             "colorbar": {
              "outlinewidth": 0,
              "ticks": ""
             }
            },
            "type": "parcoords"
           }
          ],
          "pie": [
           {
            "automargin": true,
            "type": "pie"
           }
          ],
          "scatter": [
           {
            "marker": {
             "colorbar": {
              "outlinewidth": 0,
              "ticks": ""
             }
            },
            "type": "scatter"
           }
          ],
          "scatter3d": [
           {
            "line": {
             "colorbar": {
              "outlinewidth": 0,
              "ticks": ""
             }
            },
            "marker": {
             "colorbar": {
              "outlinewidth": 0,
              "ticks": ""
             }
            },
            "type": "scatter3d"
           }
          ],
          "scattercarpet": [
           {
            "marker": {
             "colorbar": {
              "outlinewidth": 0,
              "ticks": ""
             }
            },
            "type": "scattercarpet"
           }
          ],
          "scattergeo": [
           {
            "marker": {
             "colorbar": {
              "outlinewidth": 0,
              "ticks": ""
             }
            },
            "type": "scattergeo"
           }
          ],
          "scattergl": [
           {
            "marker": {
             "colorbar": {
              "outlinewidth": 0,
              "ticks": ""
             }
            },
            "type": "scattergl"
           }
          ],
          "scattermapbox": [
           {
            "marker": {
             "colorbar": {
              "outlinewidth": 0,
              "ticks": ""
             }
            },
            "type": "scattermapbox"
           }
          ],
          "scatterpolar": [
           {
            "marker": {
             "colorbar": {
              "outlinewidth": 0,
              "ticks": ""
             }
            },
            "type": "scatterpolar"
           }
          ],
          "scatterpolargl": [
           {
            "marker": {
             "colorbar": {
              "outlinewidth": 0,
              "ticks": ""
             }
            },
            "type": "scatterpolargl"
           }
          ],
          "scatterternary": [
           {
            "marker": {
             "colorbar": {
              "outlinewidth": 0,
              "ticks": ""
             }
            },
            "type": "scatterternary"
           }
          ],
          "surface": [
           {
            "colorbar": {
             "outlinewidth": 0,
             "ticks": ""
            },
            "colorscale": [
             [
              0,
              "#0d0887"
             ],
             [
              0.1111111111111111,
              "#46039f"
             ],
             [
              0.2222222222222222,
              "#7201a8"
             ],
             [
              0.3333333333333333,
              "#9c179e"
             ],
             [
              0.4444444444444444,
              "#bd3786"
             ],
             [
              0.5555555555555556,
              "#d8576b"
             ],
             [
              0.6666666666666666,
              "#ed7953"
             ],
             [
              0.7777777777777778,
              "#fb9f3a"
             ],
             [
              0.8888888888888888,
              "#fdca26"
             ],
             [
              1,
              "#f0f921"
             ]
            ],
            "type": "surface"
           }
          ],
          "table": [
           {
            "cells": {
             "fill": {
              "color": "#EBF0F8"
             },
             "line": {
              "color": "white"
             }
            },
            "header": {
             "fill": {
              "color": "#C8D4E3"
             },
             "line": {
              "color": "white"
             }
            },
            "type": "table"
           }
          ]
         },
         "layout": {
          "annotationdefaults": {
           "arrowcolor": "#2a3f5f",
           "arrowhead": 0,
           "arrowwidth": 1
          },
          "coloraxis": {
           "colorbar": {
            "outlinewidth": 0,
            "ticks": ""
           }
          },
          "colorscale": {
           "diverging": [
            [
             0,
             "#8e0152"
            ],
            [
             0.1,
             "#c51b7d"
            ],
            [
             0.2,
             "#de77ae"
            ],
            [
             0.3,
             "#f1b6da"
            ],
            [
             0.4,
             "#fde0ef"
            ],
            [
             0.5,
             "#f7f7f7"
            ],
            [
             0.6,
             "#e6f5d0"
            ],
            [
             0.7,
             "#b8e186"
            ],
            [
             0.8,
             "#7fbc41"
            ],
            [
             0.9,
             "#4d9221"
            ],
            [
             1,
             "#276419"
            ]
           ],
           "sequential": [
            [
             0,
             "#0d0887"
            ],
            [
             0.1111111111111111,
             "#46039f"
            ],
            [
             0.2222222222222222,
             "#7201a8"
            ],
            [
             0.3333333333333333,
             "#9c179e"
            ],
            [
             0.4444444444444444,
             "#bd3786"
            ],
            [
             0.5555555555555556,
             "#d8576b"
            ],
            [
             0.6666666666666666,
             "#ed7953"
            ],
            [
             0.7777777777777778,
             "#fb9f3a"
            ],
            [
             0.8888888888888888,
             "#fdca26"
            ],
            [
             1,
             "#f0f921"
            ]
           ],
           "sequentialminus": [
            [
             0,
             "#0d0887"
            ],
            [
             0.1111111111111111,
             "#46039f"
            ],
            [
             0.2222222222222222,
             "#7201a8"
            ],
            [
             0.3333333333333333,
             "#9c179e"
            ],
            [
             0.4444444444444444,
             "#bd3786"
            ],
            [
             0.5555555555555556,
             "#d8576b"
            ],
            [
             0.6666666666666666,
             "#ed7953"
            ],
            [
             0.7777777777777778,
             "#fb9f3a"
            ],
            [
             0.8888888888888888,
             "#fdca26"
            ],
            [
             1,
             "#f0f921"
            ]
           ]
          },
          "colorway": [
           "#636efa",
           "#EF553B",
           "#00cc96",
           "#ab63fa",
           "#FFA15A",
           "#19d3f3",
           "#FF6692",
           "#B6E880",
           "#FF97FF",
           "#FECB52"
          ],
          "font": {
           "color": "#2a3f5f"
          },
          "geo": {
           "bgcolor": "white",
           "lakecolor": "white",
           "landcolor": "#E5ECF6",
           "showlakes": true,
           "showland": true,
           "subunitcolor": "white"
          },
          "hoverlabel": {
           "align": "left"
          },
          "hovermode": "closest",
          "mapbox": {
           "style": "light"
          },
          "paper_bgcolor": "white",
          "plot_bgcolor": "#E5ECF6",
          "polar": {
           "angularaxis": {
            "gridcolor": "white",
            "linecolor": "white",
            "ticks": ""
           },
           "bgcolor": "#E5ECF6",
           "radialaxis": {
            "gridcolor": "white",
            "linecolor": "white",
            "ticks": ""
           }
          },
          "scene": {
           "xaxis": {
            "backgroundcolor": "#E5ECF6",
            "gridcolor": "white",
            "gridwidth": 2,
            "linecolor": "white",
            "showbackground": true,
            "ticks": "",
            "zerolinecolor": "white"
           },
           "yaxis": {
            "backgroundcolor": "#E5ECF6",
            "gridcolor": "white",
            "gridwidth": 2,
            "linecolor": "white",
            "showbackground": true,
            "ticks": "",
            "zerolinecolor": "white"
           },
           "zaxis": {
            "backgroundcolor": "#E5ECF6",
            "gridcolor": "white",
            "gridwidth": 2,
            "linecolor": "white",
            "showbackground": true,
            "ticks": "",
            "zerolinecolor": "white"
           }
          },
          "shapedefaults": {
           "line": {
            "color": "#2a3f5f"
           }
          },
          "ternary": {
           "aaxis": {
            "gridcolor": "white",
            "linecolor": "white",
            "ticks": ""
           },
           "baxis": {
            "gridcolor": "white",
            "linecolor": "white",
            "ticks": ""
           },
           "bgcolor": "#E5ECF6",
           "caxis": {
            "gridcolor": "white",
            "linecolor": "white",
            "ticks": ""
           }
          },
          "title": {
           "x": 0.05
          },
          "xaxis": {
           "automargin": true,
           "gridcolor": "white",
           "linecolor": "white",
           "ticks": "",
           "title": {
            "standoff": 15
           },
           "zerolinecolor": "white",
           "zerolinewidth": 2
          },
          "yaxis": {
           "automargin": true,
           "gridcolor": "white",
           "linecolor": "white",
           "ticks": "",
           "title": {
            "standoff": 15
           },
           "zerolinecolor": "white",
           "zerolinewidth": 2
          }
         }
        },
        "title": {
         "font": {
          "color": "#4D5663"
         }
        },
        "xaxis": {
         "gridcolor": "#E1E5ED",
         "showgrid": true,
         "tickfont": {
          "color": "#4D5663"
         },
         "title": {
          "font": {
           "color": "#4D5663"
          },
          "text": ""
         },
         "zerolinecolor": "#E1E5ED"
        },
        "yaxis": {
         "gridcolor": "#E1E5ED",
         "showgrid": true,
         "tickfont": {
          "color": "#4D5663"
         },
         "title": {
          "font": {
           "color": "#4D5663"
          },
          "text": ""
         },
         "zerolinecolor": "#E1E5ED"
        }
       }
      },
      "text/html": [
       "<div>\n",
       "        \n",
       "        \n",
       "            <div id=\"e058dd66-315b-4f04-9930-221fbedfc2cc\" class=\"plotly-graph-div\" style=\"height:525px; width:100%;\"></div>\n",
       "            <script type=\"text/javascript\">\n",
       "                require([\"plotly\"], function(Plotly) {\n",
       "                    window.PLOTLYENV=window.PLOTLYENV || {};\n",
       "                    window.PLOTLYENV.BASE_URL='https://plot.ly';\n",
       "                    \n",
       "                if (document.getElementById(\"e058dd66-315b-4f04-9930-221fbedfc2cc\")) {\n",
       "                    Plotly.newPlot(\n",
       "                        'e058dd66-315b-4f04-9930-221fbedfc2cc',\n",
       "                        [{\"line\": {\"color\": \"rgba(255, 153, 51, 1.0)\", \"dash\": \"solid\", \"shape\": \"linear\", \"width\": 1.3}, \"mode\": \"lines\", \"name\": \"A\", \"text\": \"\", \"type\": \"scatter\", \"x\": [0, 1, 2, 3, 4, 5, 6, 7, 8, 9, 10, 11, 12, 13, 14, 15, 16, 17, 18, 19, 20, 21, 22, 23, 24, 25, 26, 27, 28, 29, 30, 31, 32, 33, 34, 35, 36, 37, 38, 39, 40, 41, 42, 43, 44, 45, 46, 47, 48, 49, 50, 51, 52, 53, 54, 55, 56, 57, 58, 59, 60, 61, 62, 63, 64, 65, 66, 67, 68, 69, 70, 71, 72, 73, 74, 75, 76, 77, 78, 79, 80, 81, 82, 83, 84, 85, 86, 87, 88, 89, 90, 91, 92, 93, 94, 95, 96, 97, 98, 99], \"y\": [1.3306309417176265, -1.0385908792182337, 0.1874988544332731, -1.280273142495005, 1.049058077764222, 1.0611683123235378, 1.9071191693896197, 2.7352170168230985, -0.6397746814172409, 0.8463438925366744, 0.6654798489053015, 0.5898888031987908, -0.24578070323181664, 0.8969285206540074, -0.5662410084123332, 1.0938500603836203, -0.12239543313528743, 0.22232875620726475, -2.100252650446614, 0.07236905792648542, 1.4025076400931227, -0.5884562982794522, -0.9889691929554822, 1.254073734692926, -0.46372972298110055, -0.48538707079930976, 1.3291500350558658, -0.5959406223584038, 0.8264347369014085, 0.03382006102493553, -1.7403756156373102, -0.10120422308479786, -2.0763793530629675, 0.32975298291286204, -0.2513970373300905, 1.0686811177498006, -1.287088310176192, 1.7189073509803223, -2.1812920330972028, -1.653046828768346, -0.6299599276446443, -0.6603974395461192, 1.9616869789233804, 0.8559600837851427, 0.6831248737350233, -0.28491484930330135, 2.273199289527967, -0.6001597532078587, -1.0362480369487086, 1.277052361551702, 0.716203215161114, -0.07102696522231514, -2.033535045783543, -0.7538182027296547, 0.0013298173934843229, 2.012898833923275, 1.2880410548949353, 0.4014209245850137, -0.7741539809820434, 0.7252590743472118, -0.8483347797463456, -0.49958477134736623, 0.14473176345929775, -0.8034821874756903, -1.351101132144767, 0.6170023030683952, -1.891397712945495, -0.9383709684301289, -0.41277249311839675, -1.591460336585324, -0.8097421575333087, 2.2616634455467683, -0.11339795454097942, -0.14794045700105715, -0.2163222303007041, 0.47811209099295643, -1.0224603818250957, 1.7108857580680352, 1.1466963877389036, 0.4356283563208712, 0.01784311691288129, 0.11980539540514351, 0.3947055397125486, 0.7596655979349227, -0.21600082570836415, -0.023137565460243193, 0.017163582231720136, 0.21032173566674786, -0.389023597520661, -0.19793727668987773, -0.29492035190757415, -1.2411400701237552, 0.39606779670549547, -0.9150253620940234, -0.5257507006499514, 1.8243832582774786, -0.1125237963450426, -2.7739318359255813, -0.0898090875362181, 0.8328315823372676]}, {\"line\": {\"color\": \"rgba(55, 128, 191, 1.0)\", \"dash\": \"solid\", \"shape\": \"linear\", \"width\": 1.3}, \"mode\": \"lines\", \"name\": \"B\", \"text\": \"\", \"type\": \"scatter\", \"x\": [0, 1, 2, 3, 4, 5, 6, 7, 8, 9, 10, 11, 12, 13, 14, 15, 16, 17, 18, 19, 20, 21, 22, 23, 24, 25, 26, 27, 28, 29, 30, 31, 32, 33, 34, 35, 36, 37, 38, 39, 40, 41, 42, 43, 44, 45, 46, 47, 48, 49, 50, 51, 52, 53, 54, 55, 56, 57, 58, 59, 60, 61, 62, 63, 64, 65, 66, 67, 68, 69, 70, 71, 72, 73, 74, 75, 76, 77, 78, 79, 80, 81, 82, 83, 84, 85, 86, 87, 88, 89, 90, 91, 92, 93, 94, 95, 96, 97, 98, 99], \"y\": [-0.8077541023962002, 0.7565634938517336, 1.1237573596606032, -0.39565919347789863, 0.0549785621201317, 1.366502617290853, -1.3230694814486699, 0.7387889439830942, -1.199480435930739, -2.282949284120805, -0.11425954367285318, 0.8220010850043288, -1.1018014057796768, 0.2503149600873541, 1.1736158070252711, 0.6947821804303227, 0.5283230210516395, 0.02697684131203542, 1.2281054446817783, 0.30732376074071527, -1.8252020255670138, 2.6418773394416872, 0.4006178825484417, 0.5288086239368401, 0.42863236503672264, 0.30564260765961393, 1.2778053713476605, 1.472255914104073, 0.05872832874232765, 0.7251880601234464, -0.2138418181358444, -2.0005260137365877, 1.534647810447825, 2.084477685137188, 2.7052715499038764, 0.6695822248372039, -0.06518920375824615, -1.9049080959097124, 1.2169413778613276, -2.03197874321166, 1.4546371527133481, 0.1989084957309017, -1.7818535501801909, 2.0004508452916028, 1.6296031993340103, 0.24500116269463681, 0.5640050900164671, 0.5904149850770735, 0.3823351716117955, 1.7376514275808248, -0.8979434180678454, 0.5914107965134787, 0.4234285284764335, -0.6922168342136781, -0.6970659041760846, -1.4925661057491024, 0.4165199828435986, -0.17973830756700138, -0.1899146526268394, 0.5206315273626101, -0.06918200176339967, -0.7240010125943824, 1.2793270686278744, 0.3365658155828963, -2.0232355137365383, -1.955386468277755, 1.0471304394836258, -0.3234898040130142, 0.7452124347332417, 0.9305259702811042, -0.7515431305554422, 1.9675896545741405, 0.28748431790382417, -0.19642992033258458, -0.49064884204819204, 0.18816479377724749, 0.07676733695429527, 0.49804273677106, 0.34102017267473134, 0.7200324639469576, 0.0606644111172542, -0.6137673524489353, 0.6592257674514602, -1.367796620444945, 1.3767073670816232, -0.6286369092359241, -2.659475702790765, 0.06032259735863327, 1.0736657620512429, -0.8494551963668133, 0.7416402492100004, 1.2144400487378093, 0.41762560003557575, -0.40527781652274925, -0.31652693291467393, 0.3028904622839831, -0.20221592711223793, 0.14151449129352375, -0.08920104667800999, 0.45969093794151544]}, {\"line\": {\"color\": \"rgba(50, 171, 96, 1.0)\", \"dash\": \"solid\", \"shape\": \"linear\", \"width\": 1.3}, \"mode\": \"lines\", \"name\": \"C\", \"text\": \"\", \"type\": \"scatter\", \"x\": [0, 1, 2, 3, 4, 5, 6, 7, 8, 9, 10, 11, 12, 13, 14, 15, 16, 17, 18, 19, 20, 21, 22, 23, 24, 25, 26, 27, 28, 29, 30, 31, 32, 33, 34, 35, 36, 37, 38, 39, 40, 41, 42, 43, 44, 45, 46, 47, 48, 49, 50, 51, 52, 53, 54, 55, 56, 57, 58, 59, 60, 61, 62, 63, 64, 65, 66, 67, 68, 69, 70, 71, 72, 73, 74, 75, 76, 77, 78, 79, 80, 81, 82, 83, 84, 85, 86, 87, 88, 89, 90, 91, 92, 93, 94, 95, 96, 97, 98, 99], \"y\": [0.3656651539700398, -2.024621508933484, -0.17595214258639766, 0.38752123388547627, -0.40098108684220674, 0.7047994399031737, 0.6111222021594415, 0.2984057022335293, -0.5054188984967285, 0.12024912953358627, 0.03658450937199128, -0.28327791808777447, -1.3967097446357228, 1.1161579807451723, -0.02769518065720461, 0.3824321539746692, 0.5477711577384979, 0.08142385667673246, 1.3064477629658349, -0.16079346035363284, 1.3087896864926647, 0.3062345125176454, 0.09288871560599347, 0.1293533941503134, 0.5788875746115371, 0.01434073846552713, -1.8944062485400481, 1.8888049406514158, -0.4776845884066758, 1.2764291854498908, -0.5042490922031749, -0.7801119239008675, 1.3421330442051493, 0.672714533915635, 0.9893919285907951, 0.8494961107716652, 0.5838121382918745, 1.250930509255457, 1.09968861421728, -0.04163656113428267, 0.05322861552611884, -0.6125501183133603, -1.2206193313774207, 0.144642554577054, -1.319235756758065, 0.19491832305045914, -0.775115685297024, 1.0167592539070043, 0.983563546849777, -0.39039835223133834, -0.8284730578893609, -0.3936660846606071, 0.6232568363690445, -0.6333224212073132, 1.0650741192534734, -2.1686623348824674, -1.228154969602673, -0.9977266640263869, 0.9726160769808196, 0.2930229304519651, -0.4821496574965753, -0.5846169212147282, -0.9316895418709534, -1.2179313081717043, -2.074013254064868, 0.09682363701248563, -0.38151715167604977, 0.49188500666415497, -0.725306836736184, -0.8246979833109914, -1.3562429729164502, 0.2673330090054745, 1.2924557312605747, 0.24010807839265333, -0.1525097779159531, 0.013773240989478044, 0.801672870583813, 2.6129068949654126, -0.004835514247692923, 0.00038433475050008765, 0.3768613102888822, 1.5852792940187583, -1.2303409245158452, 0.10101802359198322, 0.8844781483544862, -0.8811133498746999, 0.373372580639977, -0.40411158698473626, 1.3672213632922996, 0.30692054933826124, 0.2980331198680305, -1.6977885063533618, 0.9342253811855618, 0.6893014976844566, -0.7823612487342642, -0.9297453414885516, 0.8523734371748879, -0.23312884194180006, 0.4116455392105631, -0.2530425260066888]}, {\"line\": {\"color\": \"rgba(128, 0, 128, 1.0)\", \"dash\": \"solid\", \"shape\": \"linear\", \"width\": 1.3}, \"mode\": \"lines\", \"name\": \"D\", \"text\": \"\", \"type\": \"scatter\", \"x\": [0, 1, 2, 3, 4, 5, 6, 7, 8, 9, 10, 11, 12, 13, 14, 15, 16, 17, 18, 19, 20, 21, 22, 23, 24, 25, 26, 27, 28, 29, 30, 31, 32, 33, 34, 35, 36, 37, 38, 39, 40, 41, 42, 43, 44, 45, 46, 47, 48, 49, 50, 51, 52, 53, 54, 55, 56, 57, 58, 59, 60, 61, 62, 63, 64, 65, 66, 67, 68, 69, 70, 71, 72, 73, 74, 75, 76, 77, 78, 79, 80, 81, 82, 83, 84, 85, 86, 87, 88, 89, 90, 91, 92, 93, 94, 95, 96, 97, 98, 99], \"y\": [0.7975416162339963, -0.21940657560340165, -0.6495223186326463, -1.1045817227401677, -0.7193189821090035, -0.8349004696712116, -1.1270940359263222, 0.045792655428507856, -0.916793147440208, 0.9213674139500968, -0.5886707980598632, -0.09356438719274726, 1.1920978378959821, -0.8317211629636166, -0.38109088723742296, 0.5766422340104451, 0.43763503347873917, -0.41169971859837184, -0.46590127089055766, 0.20217738254294637, -1.669518712654215, -0.5111871906175561, -0.6298861572186296, 0.8089227351774407, -0.017502244639379758, 0.5470549245950116, 1.205281769483588, 1.037057423581387, 0.09557849773090253, 0.57333584353472, -0.6736607481399736, 0.02354881168542178, 0.16149816470751635, -0.18720501878333623, -1.0368909880884163, 0.06346118185626269, 1.8593973699740949, 1.4227284353103165, -0.03745067461314494, 0.7018509417552491, 0.37484070339401815, 0.4490068546525637, 0.05210196611094483, -0.1701316667373229, 0.9975858765520681, 0.5679231522183869, 0.7333534143683618, -0.4881841277696792, -0.7735029325895608, 0.01891691584424374, -1.2359148304241079, -0.8896197467687542, -0.10908281293793401, 1.688463700552174, -0.23667063256752122, -0.0006127191057447444, -1.3901015766075688, -0.07471253156201306, -0.17391167365707075, 0.18494588958463734, -0.8072660199829106, 0.5042274950958247, 1.430319628227963, -1.0432237869179202, 0.6069703153867475, -0.9659360808606309, 1.6956317931889817, 0.1934229329498793, -0.3234302239208796, -0.5653941531404442, 1.4294978718028493, -0.4667825162224206, 0.8159024534431725, -0.27577624975932374, 0.05785711289876522, 1.4902936128030226, 0.9452236842836307, 1.34821155748868, -0.9335093588384209, 0.7629837548409932, -0.9040802654809437, -0.8912568923745329, -0.7504395625157962, 0.5435144524350202, 1.47191507660395, -1.9599202433457479, -0.09907887392997437, 1.4770671005625244, 0.40572998591662657, 0.09857348353580996, 0.23264132362483203, 0.9966223626862929, -0.23378918797685888, -0.8122495069200328, 0.7783050772190407, -0.9721164857966254, 0.4139167840603344, 0.6505919351452365, -1.4765433004431558, -0.2272361110201322]}],\n",
       "                        {\"legend\": {\"bgcolor\": \"#F5F6F9\", \"font\": {\"color\": \"#4D5663\"}}, \"paper_bgcolor\": \"#F5F6F9\", \"plot_bgcolor\": \"#F5F6F9\", \"template\": {\"data\": {\"bar\": [{\"error_x\": {\"color\": \"#2a3f5f\"}, \"error_y\": {\"color\": \"#2a3f5f\"}, \"marker\": {\"line\": {\"color\": \"#E5ECF6\", \"width\": 0.5}}, \"type\": \"bar\"}], \"barpolar\": [{\"marker\": {\"line\": {\"color\": \"#E5ECF6\", \"width\": 0.5}}, \"type\": \"barpolar\"}], \"carpet\": [{\"aaxis\": {\"endlinecolor\": \"#2a3f5f\", \"gridcolor\": \"white\", \"linecolor\": \"white\", \"minorgridcolor\": \"white\", \"startlinecolor\": \"#2a3f5f\"}, \"baxis\": {\"endlinecolor\": \"#2a3f5f\", \"gridcolor\": \"white\", \"linecolor\": \"white\", \"minorgridcolor\": \"white\", \"startlinecolor\": \"#2a3f5f\"}, \"type\": \"carpet\"}], \"choropleth\": [{\"colorbar\": {\"outlinewidth\": 0, \"ticks\": \"\"}, \"type\": \"choropleth\"}], \"contour\": [{\"colorbar\": {\"outlinewidth\": 0, \"ticks\": \"\"}, \"colorscale\": [[0.0, \"#0d0887\"], [0.1111111111111111, \"#46039f\"], [0.2222222222222222, \"#7201a8\"], [0.3333333333333333, \"#9c179e\"], [0.4444444444444444, \"#bd3786\"], [0.5555555555555556, \"#d8576b\"], [0.6666666666666666, \"#ed7953\"], [0.7777777777777778, \"#fb9f3a\"], [0.8888888888888888, \"#fdca26\"], [1.0, \"#f0f921\"]], \"type\": \"contour\"}], \"contourcarpet\": [{\"colorbar\": {\"outlinewidth\": 0, \"ticks\": \"\"}, \"type\": \"contourcarpet\"}], \"heatmap\": [{\"colorbar\": {\"outlinewidth\": 0, \"ticks\": \"\"}, \"colorscale\": [[0.0, \"#0d0887\"], [0.1111111111111111, \"#46039f\"], [0.2222222222222222, \"#7201a8\"], [0.3333333333333333, \"#9c179e\"], [0.4444444444444444, \"#bd3786\"], [0.5555555555555556, \"#d8576b\"], [0.6666666666666666, \"#ed7953\"], [0.7777777777777778, \"#fb9f3a\"], [0.8888888888888888, \"#fdca26\"], [1.0, \"#f0f921\"]], \"type\": \"heatmap\"}], \"heatmapgl\": [{\"colorbar\": {\"outlinewidth\": 0, \"ticks\": \"\"}, \"colorscale\": [[0.0, \"#0d0887\"], [0.1111111111111111, \"#46039f\"], [0.2222222222222222, \"#7201a8\"], [0.3333333333333333, \"#9c179e\"], [0.4444444444444444, \"#bd3786\"], [0.5555555555555556, \"#d8576b\"], [0.6666666666666666, \"#ed7953\"], [0.7777777777777778, \"#fb9f3a\"], [0.8888888888888888, \"#fdca26\"], [1.0, \"#f0f921\"]], \"type\": \"heatmapgl\"}], \"histogram\": [{\"marker\": {\"colorbar\": {\"outlinewidth\": 0, \"ticks\": \"\"}}, \"type\": \"histogram\"}], \"histogram2d\": [{\"colorbar\": {\"outlinewidth\": 0, \"ticks\": \"\"}, \"colorscale\": [[0.0, \"#0d0887\"], [0.1111111111111111, \"#46039f\"], [0.2222222222222222, \"#7201a8\"], [0.3333333333333333, \"#9c179e\"], [0.4444444444444444, \"#bd3786\"], [0.5555555555555556, \"#d8576b\"], [0.6666666666666666, \"#ed7953\"], [0.7777777777777778, \"#fb9f3a\"], [0.8888888888888888, \"#fdca26\"], [1.0, \"#f0f921\"]], \"type\": \"histogram2d\"}], \"histogram2dcontour\": [{\"colorbar\": {\"outlinewidth\": 0, \"ticks\": \"\"}, \"colorscale\": [[0.0, \"#0d0887\"], [0.1111111111111111, \"#46039f\"], [0.2222222222222222, \"#7201a8\"], [0.3333333333333333, \"#9c179e\"], [0.4444444444444444, \"#bd3786\"], [0.5555555555555556, \"#d8576b\"], [0.6666666666666666, \"#ed7953\"], [0.7777777777777778, \"#fb9f3a\"], [0.8888888888888888, \"#fdca26\"], [1.0, \"#f0f921\"]], \"type\": \"histogram2dcontour\"}], \"mesh3d\": [{\"colorbar\": {\"outlinewidth\": 0, \"ticks\": \"\"}, \"type\": \"mesh3d\"}], \"parcoords\": [{\"line\": {\"colorbar\": {\"outlinewidth\": 0, \"ticks\": \"\"}}, \"type\": \"parcoords\"}], \"pie\": [{\"automargin\": true, \"type\": \"pie\"}], \"scatter\": [{\"marker\": {\"colorbar\": {\"outlinewidth\": 0, \"ticks\": \"\"}}, \"type\": \"scatter\"}], \"scatter3d\": [{\"line\": {\"colorbar\": {\"outlinewidth\": 0, \"ticks\": \"\"}}, \"marker\": {\"colorbar\": {\"outlinewidth\": 0, \"ticks\": \"\"}}, \"type\": \"scatter3d\"}], \"scattercarpet\": [{\"marker\": {\"colorbar\": {\"outlinewidth\": 0, \"ticks\": \"\"}}, \"type\": \"scattercarpet\"}], \"scattergeo\": [{\"marker\": {\"colorbar\": {\"outlinewidth\": 0, \"ticks\": \"\"}}, \"type\": \"scattergeo\"}], \"scattergl\": [{\"marker\": {\"colorbar\": {\"outlinewidth\": 0, \"ticks\": \"\"}}, \"type\": \"scattergl\"}], \"scattermapbox\": [{\"marker\": {\"colorbar\": {\"outlinewidth\": 0, \"ticks\": \"\"}}, \"type\": \"scattermapbox\"}], \"scatterpolar\": [{\"marker\": {\"colorbar\": {\"outlinewidth\": 0, \"ticks\": \"\"}}, \"type\": \"scatterpolar\"}], \"scatterpolargl\": [{\"marker\": {\"colorbar\": {\"outlinewidth\": 0, \"ticks\": \"\"}}, \"type\": \"scatterpolargl\"}], \"scatterternary\": [{\"marker\": {\"colorbar\": {\"outlinewidth\": 0, \"ticks\": \"\"}}, \"type\": \"scatterternary\"}], \"surface\": [{\"colorbar\": {\"outlinewidth\": 0, \"ticks\": \"\"}, \"colorscale\": [[0.0, \"#0d0887\"], [0.1111111111111111, \"#46039f\"], [0.2222222222222222, \"#7201a8\"], [0.3333333333333333, \"#9c179e\"], [0.4444444444444444, \"#bd3786\"], [0.5555555555555556, \"#d8576b\"], [0.6666666666666666, \"#ed7953\"], [0.7777777777777778, \"#fb9f3a\"], [0.8888888888888888, \"#fdca26\"], [1.0, \"#f0f921\"]], \"type\": \"surface\"}], \"table\": [{\"cells\": {\"fill\": {\"color\": \"#EBF0F8\"}, \"line\": {\"color\": \"white\"}}, \"header\": {\"fill\": {\"color\": \"#C8D4E3\"}, \"line\": {\"color\": \"white\"}}, \"type\": \"table\"}]}, \"layout\": {\"annotationdefaults\": {\"arrowcolor\": \"#2a3f5f\", \"arrowhead\": 0, \"arrowwidth\": 1}, \"coloraxis\": {\"colorbar\": {\"outlinewidth\": 0, \"ticks\": \"\"}}, \"colorscale\": {\"diverging\": [[0, \"#8e0152\"], [0.1, \"#c51b7d\"], [0.2, \"#de77ae\"], [0.3, \"#f1b6da\"], [0.4, \"#fde0ef\"], [0.5, \"#f7f7f7\"], [0.6, \"#e6f5d0\"], [0.7, \"#b8e186\"], [0.8, \"#7fbc41\"], [0.9, \"#4d9221\"], [1, \"#276419\"]], \"sequential\": [[0.0, \"#0d0887\"], [0.1111111111111111, \"#46039f\"], [0.2222222222222222, \"#7201a8\"], [0.3333333333333333, \"#9c179e\"], [0.4444444444444444, \"#bd3786\"], [0.5555555555555556, \"#d8576b\"], [0.6666666666666666, \"#ed7953\"], [0.7777777777777778, \"#fb9f3a\"], [0.8888888888888888, \"#fdca26\"], [1.0, \"#f0f921\"]], \"sequentialminus\": [[0.0, \"#0d0887\"], [0.1111111111111111, \"#46039f\"], [0.2222222222222222, \"#7201a8\"], [0.3333333333333333, \"#9c179e\"], [0.4444444444444444, \"#bd3786\"], [0.5555555555555556, \"#d8576b\"], [0.6666666666666666, \"#ed7953\"], [0.7777777777777778, \"#fb9f3a\"], [0.8888888888888888, \"#fdca26\"], [1.0, \"#f0f921\"]]}, \"colorway\": [\"#636efa\", \"#EF553B\", \"#00cc96\", \"#ab63fa\", \"#FFA15A\", \"#19d3f3\", \"#FF6692\", \"#B6E880\", \"#FF97FF\", \"#FECB52\"], \"font\": {\"color\": \"#2a3f5f\"}, \"geo\": {\"bgcolor\": \"white\", \"lakecolor\": \"white\", \"landcolor\": \"#E5ECF6\", \"showlakes\": true, \"showland\": true, \"subunitcolor\": \"white\"}, \"hoverlabel\": {\"align\": \"left\"}, \"hovermode\": \"closest\", \"mapbox\": {\"style\": \"light\"}, \"paper_bgcolor\": \"white\", \"plot_bgcolor\": \"#E5ECF6\", \"polar\": {\"angularaxis\": {\"gridcolor\": \"white\", \"linecolor\": \"white\", \"ticks\": \"\"}, \"bgcolor\": \"#E5ECF6\", \"radialaxis\": {\"gridcolor\": \"white\", \"linecolor\": \"white\", \"ticks\": \"\"}}, \"scene\": {\"xaxis\": {\"backgroundcolor\": \"#E5ECF6\", \"gridcolor\": \"white\", \"gridwidth\": 2, \"linecolor\": \"white\", \"showbackground\": true, \"ticks\": \"\", \"zerolinecolor\": \"white\"}, \"yaxis\": {\"backgroundcolor\": \"#E5ECF6\", \"gridcolor\": \"white\", \"gridwidth\": 2, \"linecolor\": \"white\", \"showbackground\": true, \"ticks\": \"\", \"zerolinecolor\": \"white\"}, \"zaxis\": {\"backgroundcolor\": \"#E5ECF6\", \"gridcolor\": \"white\", \"gridwidth\": 2, \"linecolor\": \"white\", \"showbackground\": true, \"ticks\": \"\", \"zerolinecolor\": \"white\"}}, \"shapedefaults\": {\"line\": {\"color\": \"#2a3f5f\"}}, \"ternary\": {\"aaxis\": {\"gridcolor\": \"white\", \"linecolor\": \"white\", \"ticks\": \"\"}, \"baxis\": {\"gridcolor\": \"white\", \"linecolor\": \"white\", \"ticks\": \"\"}, \"bgcolor\": \"#E5ECF6\", \"caxis\": {\"gridcolor\": \"white\", \"linecolor\": \"white\", \"ticks\": \"\"}}, \"title\": {\"x\": 0.05}, \"xaxis\": {\"automargin\": true, \"gridcolor\": \"white\", \"linecolor\": \"white\", \"ticks\": \"\", \"title\": {\"standoff\": 15}, \"zerolinecolor\": \"white\", \"zerolinewidth\": 2}, \"yaxis\": {\"automargin\": true, \"gridcolor\": \"white\", \"linecolor\": \"white\", \"ticks\": \"\", \"title\": {\"standoff\": 15}, \"zerolinecolor\": \"white\", \"zerolinewidth\": 2}}}, \"title\": {\"font\": {\"color\": \"#4D5663\"}}, \"xaxis\": {\"gridcolor\": \"#E1E5ED\", \"showgrid\": true, \"tickfont\": {\"color\": \"#4D5663\"}, \"title\": {\"font\": {\"color\": \"#4D5663\"}, \"text\": \"\"}, \"zerolinecolor\": \"#E1E5ED\"}, \"yaxis\": {\"gridcolor\": \"#E1E5ED\", \"showgrid\": true, \"tickfont\": {\"color\": \"#4D5663\"}, \"title\": {\"font\": {\"color\": \"#4D5663\"}, \"text\": \"\"}, \"zerolinecolor\": \"#E1E5ED\"}},\n",
       "                        {\"showLink\": true, \"linkText\": \"Export to plot.ly\", \"plotlyServerURL\": \"https://plot.ly\", \"responsive\": true}\n",
       "                    ).then(function(){\n",
       "                            \n",
       "var gd = document.getElementById('e058dd66-315b-4f04-9930-221fbedfc2cc');\n",
       "var x = new MutationObserver(function (mutations, observer) {{\n",
       "        var display = window.getComputedStyle(gd).display;\n",
       "        if (!display || display === 'none') {{\n",
       "            console.log([gd, 'removed!']);\n",
       "            Plotly.purge(gd);\n",
       "            observer.disconnect();\n",
       "        }}\n",
       "}});\n",
       "\n",
       "// Listen for the removal of the full notebook cells\n",
       "var notebookContainer = gd.closest('#notebook-container');\n",
       "if (notebookContainer) {{\n",
       "    x.observe(notebookContainer, {childList: true});\n",
       "}}\n",
       "\n",
       "// Listen for the clearing of the current output cell\n",
       "var outputEl = gd.closest('.output');\n",
       "if (outputEl) {{\n",
       "    x.observe(outputEl, {childList: true});\n",
       "}}\n",
       "\n",
       "                        })\n",
       "                };\n",
       "                });\n",
       "            </script>\n",
       "        </div>"
      ]
     },
     "metadata": {},
     "output_type": "display_data"
    }
   ],
   "source": [
    "df.iplot()"
   ]
  },
  {
   "cell_type": "code",
   "execution_count": 20,
   "metadata": {},
   "outputs": [
    {
     "data": {
      "application/vnd.plotly.v1+json": {
       "config": {
        "linkText": "Export to plot.ly",
        "plotlyServerURL": "https://plot.ly",
        "showLink": true
       },
       "data": [
        {
         "line": {
          "color": "rgba(255, 153, 51, 1.0)",
          "dash": "solid",
          "shape": "linear",
          "width": 1.3
         },
         "marker": {
          "size": 12,
          "symbol": "circle"
         },
         "mode": "markers",
         "name": "B",
         "text": "",
         "type": "scatter",
         "x": [
          1.3306309417176265,
          -1.0385908792182337,
          0.1874988544332731,
          -1.280273142495005,
          1.049058077764222,
          1.0611683123235378,
          1.9071191693896197,
          2.7352170168230985,
          -0.6397746814172409,
          0.8463438925366744,
          0.6654798489053015,
          0.5898888031987908,
          -0.24578070323181664,
          0.8969285206540074,
          -0.5662410084123332,
          1.0938500603836203,
          -0.12239543313528743,
          0.22232875620726475,
          -2.100252650446614,
          0.07236905792648542,
          1.4025076400931227,
          -0.5884562982794522,
          -0.9889691929554822,
          1.254073734692926,
          -0.46372972298110055,
          -0.48538707079930976,
          1.3291500350558658,
          -0.5959406223584038,
          0.8264347369014085,
          0.03382006102493553,
          -1.7403756156373102,
          -0.10120422308479786,
          -2.0763793530629675,
          0.32975298291286204,
          -0.2513970373300905,
          1.0686811177498006,
          -1.287088310176192,
          1.7189073509803223,
          -2.1812920330972028,
          -1.653046828768346,
          -0.6299599276446443,
          -0.6603974395461192,
          1.9616869789233804,
          0.8559600837851427,
          0.6831248737350233,
          -0.28491484930330135,
          2.273199289527967,
          -0.6001597532078587,
          -1.0362480369487086,
          1.277052361551702,
          0.716203215161114,
          -0.07102696522231514,
          -2.033535045783543,
          -0.7538182027296547,
          0.0013298173934843229,
          2.012898833923275,
          1.2880410548949353,
          0.4014209245850137,
          -0.7741539809820434,
          0.7252590743472118,
          -0.8483347797463456,
          -0.49958477134736623,
          0.14473176345929775,
          -0.8034821874756903,
          -1.351101132144767,
          0.6170023030683952,
          -1.891397712945495,
          -0.9383709684301289,
          -0.41277249311839675,
          -1.591460336585324,
          -0.8097421575333087,
          2.2616634455467683,
          -0.11339795454097942,
          -0.14794045700105715,
          -0.2163222303007041,
          0.47811209099295643,
          -1.0224603818250957,
          1.7108857580680352,
          1.1466963877389036,
          0.4356283563208712,
          0.01784311691288129,
          0.11980539540514351,
          0.3947055397125486,
          0.7596655979349227,
          -0.21600082570836415,
          -0.023137565460243193,
          0.017163582231720136,
          0.21032173566674786,
          -0.389023597520661,
          -0.19793727668987773,
          -0.29492035190757415,
          -1.2411400701237552,
          0.39606779670549547,
          -0.9150253620940234,
          -0.5257507006499514,
          1.8243832582774786,
          -0.1125237963450426,
          -2.7739318359255813,
          -0.0898090875362181,
          0.8328315823372676
         ],
         "y": [
          -0.8077541023962002,
          0.7565634938517336,
          1.1237573596606032,
          -0.39565919347789863,
          0.0549785621201317,
          1.366502617290853,
          -1.3230694814486699,
          0.7387889439830942,
          -1.199480435930739,
          -2.282949284120805,
          -0.11425954367285318,
          0.8220010850043288,
          -1.1018014057796768,
          0.2503149600873541,
          1.1736158070252711,
          0.6947821804303227,
          0.5283230210516395,
          0.02697684131203542,
          1.2281054446817783,
          0.30732376074071527,
          -1.8252020255670138,
          2.6418773394416872,
          0.4006178825484417,
          0.5288086239368401,
          0.42863236503672264,
          0.30564260765961393,
          1.2778053713476605,
          1.472255914104073,
          0.05872832874232765,
          0.7251880601234464,
          -0.2138418181358444,
          -2.0005260137365877,
          1.534647810447825,
          2.084477685137188,
          2.7052715499038764,
          0.6695822248372039,
          -0.06518920375824615,
          -1.9049080959097124,
          1.2169413778613276,
          -2.03197874321166,
          1.4546371527133481,
          0.1989084957309017,
          -1.7818535501801909,
          2.0004508452916028,
          1.6296031993340103,
          0.24500116269463681,
          0.5640050900164671,
          0.5904149850770735,
          0.3823351716117955,
          1.7376514275808248,
          -0.8979434180678454,
          0.5914107965134787,
          0.4234285284764335,
          -0.6922168342136781,
          -0.6970659041760846,
          -1.4925661057491024,
          0.4165199828435986,
          -0.17973830756700138,
          -0.1899146526268394,
          0.5206315273626101,
          -0.06918200176339967,
          -0.7240010125943824,
          1.2793270686278744,
          0.3365658155828963,
          -2.0232355137365383,
          -1.955386468277755,
          1.0471304394836258,
          -0.3234898040130142,
          0.7452124347332417,
          0.9305259702811042,
          -0.7515431305554422,
          1.9675896545741405,
          0.28748431790382417,
          -0.19642992033258458,
          -0.49064884204819204,
          0.18816479377724749,
          0.07676733695429527,
          0.49804273677106,
          0.34102017267473134,
          0.7200324639469576,
          0.0606644111172542,
          -0.6137673524489353,
          0.6592257674514602,
          -1.367796620444945,
          1.3767073670816232,
          -0.6286369092359241,
          -2.659475702790765,
          0.06032259735863327,
          1.0736657620512429,
          -0.8494551963668133,
          0.7416402492100004,
          1.2144400487378093,
          0.41762560003557575,
          -0.40527781652274925,
          -0.31652693291467393,
          0.3028904622839831,
          -0.20221592711223793,
          0.14151449129352375,
          -0.08920104667800999,
          0.45969093794151544
         ]
        }
       ],
       "layout": {
        "legend": {
         "bgcolor": "#F5F6F9",
         "font": {
          "color": "#4D5663"
         }
        },
        "paper_bgcolor": "#F5F6F9",
        "plot_bgcolor": "#F5F6F9",
        "template": {
         "data": {
          "bar": [
           {
            "error_x": {
             "color": "#2a3f5f"
            },
            "error_y": {
             "color": "#2a3f5f"
            },
            "marker": {
             "line": {
              "color": "#E5ECF6",
              "width": 0.5
             }
            },
            "type": "bar"
           }
          ],
          "barpolar": [
           {
            "marker": {
             "line": {
              "color": "#E5ECF6",
              "width": 0.5
             }
            },
            "type": "barpolar"
           }
          ],
          "carpet": [
           {
            "aaxis": {
             "endlinecolor": "#2a3f5f",
             "gridcolor": "white",
             "linecolor": "white",
             "minorgridcolor": "white",
             "startlinecolor": "#2a3f5f"
            },
            "baxis": {
             "endlinecolor": "#2a3f5f",
             "gridcolor": "white",
             "linecolor": "white",
             "minorgridcolor": "white",
             "startlinecolor": "#2a3f5f"
            },
            "type": "carpet"
           }
          ],
          "choropleth": [
           {
            "colorbar": {
             "outlinewidth": 0,
             "ticks": ""
            },
            "type": "choropleth"
           }
          ],
          "contour": [
           {
            "colorbar": {
             "outlinewidth": 0,
             "ticks": ""
            },
            "colorscale": [
             [
              0,
              "#0d0887"
             ],
             [
              0.1111111111111111,
              "#46039f"
             ],
             [
              0.2222222222222222,
              "#7201a8"
             ],
             [
              0.3333333333333333,
              "#9c179e"
             ],
             [
              0.4444444444444444,
              "#bd3786"
             ],
             [
              0.5555555555555556,
              "#d8576b"
             ],
             [
              0.6666666666666666,
              "#ed7953"
             ],
             [
              0.7777777777777778,
              "#fb9f3a"
             ],
             [
              0.8888888888888888,
              "#fdca26"
             ],
             [
              1,
              "#f0f921"
             ]
            ],
            "type": "contour"
           }
          ],
          "contourcarpet": [
           {
            "colorbar": {
             "outlinewidth": 0,
             "ticks": ""
            },
            "type": "contourcarpet"
           }
          ],
          "heatmap": [
           {
            "colorbar": {
             "outlinewidth": 0,
             "ticks": ""
            },
            "colorscale": [
             [
              0,
              "#0d0887"
             ],
             [
              0.1111111111111111,
              "#46039f"
             ],
             [
              0.2222222222222222,
              "#7201a8"
             ],
             [
              0.3333333333333333,
              "#9c179e"
             ],
             [
              0.4444444444444444,
              "#bd3786"
             ],
             [
              0.5555555555555556,
              "#d8576b"
             ],
             [
              0.6666666666666666,
              "#ed7953"
             ],
             [
              0.7777777777777778,
              "#fb9f3a"
             ],
             [
              0.8888888888888888,
              "#fdca26"
             ],
             [
              1,
              "#f0f921"
             ]
            ],
            "type": "heatmap"
           }
          ],
          "heatmapgl": [
           {
            "colorbar": {
             "outlinewidth": 0,
             "ticks": ""
            },
            "colorscale": [
             [
              0,
              "#0d0887"
             ],
             [
              0.1111111111111111,
              "#46039f"
             ],
             [
              0.2222222222222222,
              "#7201a8"
             ],
             [
              0.3333333333333333,
              "#9c179e"
             ],
             [
              0.4444444444444444,
              "#bd3786"
             ],
             [
              0.5555555555555556,
              "#d8576b"
             ],
             [
              0.6666666666666666,
              "#ed7953"
             ],
             [
              0.7777777777777778,
              "#fb9f3a"
             ],
             [
              0.8888888888888888,
              "#fdca26"
             ],
             [
              1,
              "#f0f921"
             ]
            ],
            "type": "heatmapgl"
           }
          ],
          "histogram": [
           {
            "marker": {
             "colorbar": {
              "outlinewidth": 0,
              "ticks": ""
             }
            },
            "type": "histogram"
           }
          ],
          "histogram2d": [
           {
            "colorbar": {
             "outlinewidth": 0,
             "ticks": ""
            },
            "colorscale": [
             [
              0,
              "#0d0887"
             ],
             [
              0.1111111111111111,
              "#46039f"
             ],
             [
              0.2222222222222222,
              "#7201a8"
             ],
             [
              0.3333333333333333,
              "#9c179e"
             ],
             [
              0.4444444444444444,
              "#bd3786"
             ],
             [
              0.5555555555555556,
              "#d8576b"
             ],
             [
              0.6666666666666666,
              "#ed7953"
             ],
             [
              0.7777777777777778,
              "#fb9f3a"
             ],
             [
              0.8888888888888888,
              "#fdca26"
             ],
             [
              1,
              "#f0f921"
             ]
            ],
            "type": "histogram2d"
           }
          ],
          "histogram2dcontour": [
           {
            "colorbar": {
             "outlinewidth": 0,
             "ticks": ""
            },
            "colorscale": [
             [
              0,
              "#0d0887"
             ],
             [
              0.1111111111111111,
              "#46039f"
             ],
             [
              0.2222222222222222,
              "#7201a8"
             ],
             [
              0.3333333333333333,
              "#9c179e"
             ],
             [
              0.4444444444444444,
              "#bd3786"
             ],
             [
              0.5555555555555556,
              "#d8576b"
             ],
             [
              0.6666666666666666,
              "#ed7953"
             ],
             [
              0.7777777777777778,
              "#fb9f3a"
             ],
             [
              0.8888888888888888,
              "#fdca26"
             ],
             [
              1,
              "#f0f921"
             ]
            ],
            "type": "histogram2dcontour"
           }
          ],
          "mesh3d": [
           {
            "colorbar": {
             "outlinewidth": 0,
             "ticks": ""
            },
            "type": "mesh3d"
           }
          ],
          "parcoords": [
           {
            "line": {
             "colorbar": {
              "outlinewidth": 0,
              "ticks": ""
             }
            },
            "type": "parcoords"
           }
          ],
          "pie": [
           {
            "automargin": true,
            "type": "pie"
           }
          ],
          "scatter": [
           {
            "marker": {
             "colorbar": {
              "outlinewidth": 0,
              "ticks": ""
             }
            },
            "type": "scatter"
           }
          ],
          "scatter3d": [
           {
            "line": {
             "colorbar": {
              "outlinewidth": 0,
              "ticks": ""
             }
            },
            "marker": {
             "colorbar": {
              "outlinewidth": 0,
              "ticks": ""
             }
            },
            "type": "scatter3d"
           }
          ],
          "scattercarpet": [
           {
            "marker": {
             "colorbar": {
              "outlinewidth": 0,
              "ticks": ""
             }
            },
            "type": "scattercarpet"
           }
          ],
          "scattergeo": [
           {
            "marker": {
             "colorbar": {
              "outlinewidth": 0,
              "ticks": ""
             }
            },
            "type": "scattergeo"
           }
          ],
          "scattergl": [
           {
            "marker": {
             "colorbar": {
              "outlinewidth": 0,
              "ticks": ""
             }
            },
            "type": "scattergl"
           }
          ],
          "scattermapbox": [
           {
            "marker": {
             "colorbar": {
              "outlinewidth": 0,
              "ticks": ""
             }
            },
            "type": "scattermapbox"
           }
          ],
          "scatterpolar": [
           {
            "marker": {
             "colorbar": {
              "outlinewidth": 0,
              "ticks": ""
             }
            },
            "type": "scatterpolar"
           }
          ],
          "scatterpolargl": [
           {
            "marker": {
             "colorbar": {
              "outlinewidth": 0,
              "ticks": ""
             }
            },
            "type": "scatterpolargl"
           }
          ],
          "scatterternary": [
           {
            "marker": {
             "colorbar": {
              "outlinewidth": 0,
              "ticks": ""
             }
            },
            "type": "scatterternary"
           }
          ],
          "surface": [
           {
            "colorbar": {
             "outlinewidth": 0,
             "ticks": ""
            },
            "colorscale": [
             [
              0,
              "#0d0887"
             ],
             [
              0.1111111111111111,
              "#46039f"
             ],
             [
              0.2222222222222222,
              "#7201a8"
             ],
             [
              0.3333333333333333,
              "#9c179e"
             ],
             [
              0.4444444444444444,
              "#bd3786"
             ],
             [
              0.5555555555555556,
              "#d8576b"
             ],
             [
              0.6666666666666666,
              "#ed7953"
             ],
             [
              0.7777777777777778,
              "#fb9f3a"
             ],
             [
              0.8888888888888888,
              "#fdca26"
             ],
             [
              1,
              "#f0f921"
             ]
            ],
            "type": "surface"
           }
          ],
          "table": [
           {
            "cells": {
             "fill": {
              "color": "#EBF0F8"
             },
             "line": {
              "color": "white"
             }
            },
            "header": {
             "fill": {
              "color": "#C8D4E3"
             },
             "line": {
              "color": "white"
             }
            },
            "type": "table"
           }
          ]
         },
         "layout": {
          "annotationdefaults": {
           "arrowcolor": "#2a3f5f",
           "arrowhead": 0,
           "arrowwidth": 1
          },
          "coloraxis": {
           "colorbar": {
            "outlinewidth": 0,
            "ticks": ""
           }
          },
          "colorscale": {
           "diverging": [
            [
             0,
             "#8e0152"
            ],
            [
             0.1,
             "#c51b7d"
            ],
            [
             0.2,
             "#de77ae"
            ],
            [
             0.3,
             "#f1b6da"
            ],
            [
             0.4,
             "#fde0ef"
            ],
            [
             0.5,
             "#f7f7f7"
            ],
            [
             0.6,
             "#e6f5d0"
            ],
            [
             0.7,
             "#b8e186"
            ],
            [
             0.8,
             "#7fbc41"
            ],
            [
             0.9,
             "#4d9221"
            ],
            [
             1,
             "#276419"
            ]
           ],
           "sequential": [
            [
             0,
             "#0d0887"
            ],
            [
             0.1111111111111111,
             "#46039f"
            ],
            [
             0.2222222222222222,
             "#7201a8"
            ],
            [
             0.3333333333333333,
             "#9c179e"
            ],
            [
             0.4444444444444444,
             "#bd3786"
            ],
            [
             0.5555555555555556,
             "#d8576b"
            ],
            [
             0.6666666666666666,
             "#ed7953"
            ],
            [
             0.7777777777777778,
             "#fb9f3a"
            ],
            [
             0.8888888888888888,
             "#fdca26"
            ],
            [
             1,
             "#f0f921"
            ]
           ],
           "sequentialminus": [
            [
             0,
             "#0d0887"
            ],
            [
             0.1111111111111111,
             "#46039f"
            ],
            [
             0.2222222222222222,
             "#7201a8"
            ],
            [
             0.3333333333333333,
             "#9c179e"
            ],
            [
             0.4444444444444444,
             "#bd3786"
            ],
            [
             0.5555555555555556,
             "#d8576b"
            ],
            [
             0.6666666666666666,
             "#ed7953"
            ],
            [
             0.7777777777777778,
             "#fb9f3a"
            ],
            [
             0.8888888888888888,
             "#fdca26"
            ],
            [
             1,
             "#f0f921"
            ]
           ]
          },
          "colorway": [
           "#636efa",
           "#EF553B",
           "#00cc96",
           "#ab63fa",
           "#FFA15A",
           "#19d3f3",
           "#FF6692",
           "#B6E880",
           "#FF97FF",
           "#FECB52"
          ],
          "font": {
           "color": "#2a3f5f"
          },
          "geo": {
           "bgcolor": "white",
           "lakecolor": "white",
           "landcolor": "#E5ECF6",
           "showlakes": true,
           "showland": true,
           "subunitcolor": "white"
          },
          "hoverlabel": {
           "align": "left"
          },
          "hovermode": "closest",
          "mapbox": {
           "style": "light"
          },
          "paper_bgcolor": "white",
          "plot_bgcolor": "#E5ECF6",
          "polar": {
           "angularaxis": {
            "gridcolor": "white",
            "linecolor": "white",
            "ticks": ""
           },
           "bgcolor": "#E5ECF6",
           "radialaxis": {
            "gridcolor": "white",
            "linecolor": "white",
            "ticks": ""
           }
          },
          "scene": {
           "xaxis": {
            "backgroundcolor": "#E5ECF6",
            "gridcolor": "white",
            "gridwidth": 2,
            "linecolor": "white",
            "showbackground": true,
            "ticks": "",
            "zerolinecolor": "white"
           },
           "yaxis": {
            "backgroundcolor": "#E5ECF6",
            "gridcolor": "white",
            "gridwidth": 2,
            "linecolor": "white",
            "showbackground": true,
            "ticks": "",
            "zerolinecolor": "white"
           },
           "zaxis": {
            "backgroundcolor": "#E5ECF6",
            "gridcolor": "white",
            "gridwidth": 2,
            "linecolor": "white",
            "showbackground": true,
            "ticks": "",
            "zerolinecolor": "white"
           }
          },
          "shapedefaults": {
           "line": {
            "color": "#2a3f5f"
           }
          },
          "ternary": {
           "aaxis": {
            "gridcolor": "white",
            "linecolor": "white",
            "ticks": ""
           },
           "baxis": {
            "gridcolor": "white",
            "linecolor": "white",
            "ticks": ""
           },
           "bgcolor": "#E5ECF6",
           "caxis": {
            "gridcolor": "white",
            "linecolor": "white",
            "ticks": ""
           }
          },
          "title": {
           "x": 0.05
          },
          "xaxis": {
           "automargin": true,
           "gridcolor": "white",
           "linecolor": "white",
           "ticks": "",
           "title": {
            "standoff": 15
           },
           "zerolinecolor": "white",
           "zerolinewidth": 2
          },
          "yaxis": {
           "automargin": true,
           "gridcolor": "white",
           "linecolor": "white",
           "ticks": "",
           "title": {
            "standoff": 15
           },
           "zerolinecolor": "white",
           "zerolinewidth": 2
          }
         }
        },
        "title": {
         "font": {
          "color": "#4D5663"
         }
        },
        "xaxis": {
         "gridcolor": "#E1E5ED",
         "showgrid": true,
         "tickfont": {
          "color": "#4D5663"
         },
         "title": {
          "font": {
           "color": "#4D5663"
          },
          "text": ""
         },
         "zerolinecolor": "#E1E5ED"
        },
        "yaxis": {
         "gridcolor": "#E1E5ED",
         "showgrid": true,
         "tickfont": {
          "color": "#4D5663"
         },
         "title": {
          "font": {
           "color": "#4D5663"
          },
          "text": ""
         },
         "zerolinecolor": "#E1E5ED"
        }
       }
      },
      "text/html": [
       "<div>\n",
       "        \n",
       "        \n",
       "            <div id=\"2cf160f8-1fb2-4287-b3f0-f7039e0ea924\" class=\"plotly-graph-div\" style=\"height:525px; width:100%;\"></div>\n",
       "            <script type=\"text/javascript\">\n",
       "                require([\"plotly\"], function(Plotly) {\n",
       "                    window.PLOTLYENV=window.PLOTLYENV || {};\n",
       "                    window.PLOTLYENV.BASE_URL='https://plot.ly';\n",
       "                    \n",
       "                if (document.getElementById(\"2cf160f8-1fb2-4287-b3f0-f7039e0ea924\")) {\n",
       "                    Plotly.newPlot(\n",
       "                        '2cf160f8-1fb2-4287-b3f0-f7039e0ea924',\n",
       "                        [{\"line\": {\"color\": \"rgba(255, 153, 51, 1.0)\", \"dash\": \"solid\", \"shape\": \"linear\", \"width\": 1.3}, \"marker\": {\"size\": 12, \"symbol\": \"circle\"}, \"mode\": \"markers\", \"name\": \"B\", \"text\": \"\", \"type\": \"scatter\", \"x\": [1.3306309417176265, -1.0385908792182337, 0.1874988544332731, -1.280273142495005, 1.049058077764222, 1.0611683123235378, 1.9071191693896197, 2.7352170168230985, -0.6397746814172409, 0.8463438925366744, 0.6654798489053015, 0.5898888031987908, -0.24578070323181664, 0.8969285206540074, -0.5662410084123332, 1.0938500603836203, -0.12239543313528743, 0.22232875620726475, -2.100252650446614, 0.07236905792648542, 1.4025076400931227, -0.5884562982794522, -0.9889691929554822, 1.254073734692926, -0.46372972298110055, -0.48538707079930976, 1.3291500350558658, -0.5959406223584038, 0.8264347369014085, 0.03382006102493553, -1.7403756156373102, -0.10120422308479786, -2.0763793530629675, 0.32975298291286204, -0.2513970373300905, 1.0686811177498006, -1.287088310176192, 1.7189073509803223, -2.1812920330972028, -1.653046828768346, -0.6299599276446443, -0.6603974395461192, 1.9616869789233804, 0.8559600837851427, 0.6831248737350233, -0.28491484930330135, 2.273199289527967, -0.6001597532078587, -1.0362480369487086, 1.277052361551702, 0.716203215161114, -0.07102696522231514, -2.033535045783543, -0.7538182027296547, 0.0013298173934843229, 2.012898833923275, 1.2880410548949353, 0.4014209245850137, -0.7741539809820434, 0.7252590743472118, -0.8483347797463456, -0.49958477134736623, 0.14473176345929775, -0.8034821874756903, -1.351101132144767, 0.6170023030683952, -1.891397712945495, -0.9383709684301289, -0.41277249311839675, -1.591460336585324, -0.8097421575333087, 2.2616634455467683, -0.11339795454097942, -0.14794045700105715, -0.2163222303007041, 0.47811209099295643, -1.0224603818250957, 1.7108857580680352, 1.1466963877389036, 0.4356283563208712, 0.01784311691288129, 0.11980539540514351, 0.3947055397125486, 0.7596655979349227, -0.21600082570836415, -0.023137565460243193, 0.017163582231720136, 0.21032173566674786, -0.389023597520661, -0.19793727668987773, -0.29492035190757415, -1.2411400701237552, 0.39606779670549547, -0.9150253620940234, -0.5257507006499514, 1.8243832582774786, -0.1125237963450426, -2.7739318359255813, -0.0898090875362181, 0.8328315823372676], \"y\": [-0.8077541023962002, 0.7565634938517336, 1.1237573596606032, -0.39565919347789863, 0.0549785621201317, 1.366502617290853, -1.3230694814486699, 0.7387889439830942, -1.199480435930739, -2.282949284120805, -0.11425954367285318, 0.8220010850043288, -1.1018014057796768, 0.2503149600873541, 1.1736158070252711, 0.6947821804303227, 0.5283230210516395, 0.02697684131203542, 1.2281054446817783, 0.30732376074071527, -1.8252020255670138, 2.6418773394416872, 0.4006178825484417, 0.5288086239368401, 0.42863236503672264, 0.30564260765961393, 1.2778053713476605, 1.472255914104073, 0.05872832874232765, 0.7251880601234464, -0.2138418181358444, -2.0005260137365877, 1.534647810447825, 2.084477685137188, 2.7052715499038764, 0.6695822248372039, -0.06518920375824615, -1.9049080959097124, 1.2169413778613276, -2.03197874321166, 1.4546371527133481, 0.1989084957309017, -1.7818535501801909, 2.0004508452916028, 1.6296031993340103, 0.24500116269463681, 0.5640050900164671, 0.5904149850770735, 0.3823351716117955, 1.7376514275808248, -0.8979434180678454, 0.5914107965134787, 0.4234285284764335, -0.6922168342136781, -0.6970659041760846, -1.4925661057491024, 0.4165199828435986, -0.17973830756700138, -0.1899146526268394, 0.5206315273626101, -0.06918200176339967, -0.7240010125943824, 1.2793270686278744, 0.3365658155828963, -2.0232355137365383, -1.955386468277755, 1.0471304394836258, -0.3234898040130142, 0.7452124347332417, 0.9305259702811042, -0.7515431305554422, 1.9675896545741405, 0.28748431790382417, -0.19642992033258458, -0.49064884204819204, 0.18816479377724749, 0.07676733695429527, 0.49804273677106, 0.34102017267473134, 0.7200324639469576, 0.0606644111172542, -0.6137673524489353, 0.6592257674514602, -1.367796620444945, 1.3767073670816232, -0.6286369092359241, -2.659475702790765, 0.06032259735863327, 1.0736657620512429, -0.8494551963668133, 0.7416402492100004, 1.2144400487378093, 0.41762560003557575, -0.40527781652274925, -0.31652693291467393, 0.3028904622839831, -0.20221592711223793, 0.14151449129352375, -0.08920104667800999, 0.45969093794151544]}],\n",
       "                        {\"legend\": {\"bgcolor\": \"#F5F6F9\", \"font\": {\"color\": \"#4D5663\"}}, \"paper_bgcolor\": \"#F5F6F9\", \"plot_bgcolor\": \"#F5F6F9\", \"template\": {\"data\": {\"bar\": [{\"error_x\": {\"color\": \"#2a3f5f\"}, \"error_y\": {\"color\": \"#2a3f5f\"}, \"marker\": {\"line\": {\"color\": \"#E5ECF6\", \"width\": 0.5}}, \"type\": \"bar\"}], \"barpolar\": [{\"marker\": {\"line\": {\"color\": \"#E5ECF6\", \"width\": 0.5}}, \"type\": \"barpolar\"}], \"carpet\": [{\"aaxis\": {\"endlinecolor\": \"#2a3f5f\", \"gridcolor\": \"white\", \"linecolor\": \"white\", \"minorgridcolor\": \"white\", \"startlinecolor\": \"#2a3f5f\"}, \"baxis\": {\"endlinecolor\": \"#2a3f5f\", \"gridcolor\": \"white\", \"linecolor\": \"white\", \"minorgridcolor\": \"white\", \"startlinecolor\": \"#2a3f5f\"}, \"type\": \"carpet\"}], \"choropleth\": [{\"colorbar\": {\"outlinewidth\": 0, \"ticks\": \"\"}, \"type\": \"choropleth\"}], \"contour\": [{\"colorbar\": {\"outlinewidth\": 0, \"ticks\": \"\"}, \"colorscale\": [[0.0, \"#0d0887\"], [0.1111111111111111, \"#46039f\"], [0.2222222222222222, \"#7201a8\"], [0.3333333333333333, \"#9c179e\"], [0.4444444444444444, \"#bd3786\"], [0.5555555555555556, \"#d8576b\"], [0.6666666666666666, \"#ed7953\"], [0.7777777777777778, \"#fb9f3a\"], [0.8888888888888888, \"#fdca26\"], [1.0, \"#f0f921\"]], \"type\": \"contour\"}], \"contourcarpet\": [{\"colorbar\": {\"outlinewidth\": 0, \"ticks\": \"\"}, \"type\": \"contourcarpet\"}], \"heatmap\": [{\"colorbar\": {\"outlinewidth\": 0, \"ticks\": \"\"}, \"colorscale\": [[0.0, \"#0d0887\"], [0.1111111111111111, \"#46039f\"], [0.2222222222222222, \"#7201a8\"], [0.3333333333333333, \"#9c179e\"], [0.4444444444444444, \"#bd3786\"], [0.5555555555555556, \"#d8576b\"], [0.6666666666666666, \"#ed7953\"], [0.7777777777777778, \"#fb9f3a\"], [0.8888888888888888, \"#fdca26\"], [1.0, \"#f0f921\"]], \"type\": \"heatmap\"}], \"heatmapgl\": [{\"colorbar\": {\"outlinewidth\": 0, \"ticks\": \"\"}, \"colorscale\": [[0.0, \"#0d0887\"], [0.1111111111111111, \"#46039f\"], [0.2222222222222222, \"#7201a8\"], [0.3333333333333333, \"#9c179e\"], [0.4444444444444444, \"#bd3786\"], [0.5555555555555556, \"#d8576b\"], [0.6666666666666666, \"#ed7953\"], [0.7777777777777778, \"#fb9f3a\"], [0.8888888888888888, \"#fdca26\"], [1.0, \"#f0f921\"]], \"type\": \"heatmapgl\"}], \"histogram\": [{\"marker\": {\"colorbar\": {\"outlinewidth\": 0, \"ticks\": \"\"}}, \"type\": \"histogram\"}], \"histogram2d\": [{\"colorbar\": {\"outlinewidth\": 0, \"ticks\": \"\"}, \"colorscale\": [[0.0, \"#0d0887\"], [0.1111111111111111, \"#46039f\"], [0.2222222222222222, \"#7201a8\"], [0.3333333333333333, \"#9c179e\"], [0.4444444444444444, \"#bd3786\"], [0.5555555555555556, \"#d8576b\"], [0.6666666666666666, \"#ed7953\"], [0.7777777777777778, \"#fb9f3a\"], [0.8888888888888888, \"#fdca26\"], [1.0, \"#f0f921\"]], \"type\": \"histogram2d\"}], \"histogram2dcontour\": [{\"colorbar\": {\"outlinewidth\": 0, \"ticks\": \"\"}, \"colorscale\": [[0.0, \"#0d0887\"], [0.1111111111111111, \"#46039f\"], [0.2222222222222222, \"#7201a8\"], [0.3333333333333333, \"#9c179e\"], [0.4444444444444444, \"#bd3786\"], [0.5555555555555556, \"#d8576b\"], [0.6666666666666666, \"#ed7953\"], [0.7777777777777778, \"#fb9f3a\"], [0.8888888888888888, \"#fdca26\"], [1.0, \"#f0f921\"]], \"type\": \"histogram2dcontour\"}], \"mesh3d\": [{\"colorbar\": {\"outlinewidth\": 0, \"ticks\": \"\"}, \"type\": \"mesh3d\"}], \"parcoords\": [{\"line\": {\"colorbar\": {\"outlinewidth\": 0, \"ticks\": \"\"}}, \"type\": \"parcoords\"}], \"pie\": [{\"automargin\": true, \"type\": \"pie\"}], \"scatter\": [{\"marker\": {\"colorbar\": {\"outlinewidth\": 0, \"ticks\": \"\"}}, \"type\": \"scatter\"}], \"scatter3d\": [{\"line\": {\"colorbar\": {\"outlinewidth\": 0, \"ticks\": \"\"}}, \"marker\": {\"colorbar\": {\"outlinewidth\": 0, \"ticks\": \"\"}}, \"type\": \"scatter3d\"}], \"scattercarpet\": [{\"marker\": {\"colorbar\": {\"outlinewidth\": 0, \"ticks\": \"\"}}, \"type\": \"scattercarpet\"}], \"scattergeo\": [{\"marker\": {\"colorbar\": {\"outlinewidth\": 0, \"ticks\": \"\"}}, \"type\": \"scattergeo\"}], \"scattergl\": [{\"marker\": {\"colorbar\": {\"outlinewidth\": 0, \"ticks\": \"\"}}, \"type\": \"scattergl\"}], \"scattermapbox\": [{\"marker\": {\"colorbar\": {\"outlinewidth\": 0, \"ticks\": \"\"}}, \"type\": \"scattermapbox\"}], \"scatterpolar\": [{\"marker\": {\"colorbar\": {\"outlinewidth\": 0, \"ticks\": \"\"}}, \"type\": \"scatterpolar\"}], \"scatterpolargl\": [{\"marker\": {\"colorbar\": {\"outlinewidth\": 0, \"ticks\": \"\"}}, \"type\": \"scatterpolargl\"}], \"scatterternary\": [{\"marker\": {\"colorbar\": {\"outlinewidth\": 0, \"ticks\": \"\"}}, \"type\": \"scatterternary\"}], \"surface\": [{\"colorbar\": {\"outlinewidth\": 0, \"ticks\": \"\"}, \"colorscale\": [[0.0, \"#0d0887\"], [0.1111111111111111, \"#46039f\"], [0.2222222222222222, \"#7201a8\"], [0.3333333333333333, \"#9c179e\"], [0.4444444444444444, \"#bd3786\"], [0.5555555555555556, \"#d8576b\"], [0.6666666666666666, \"#ed7953\"], [0.7777777777777778, \"#fb9f3a\"], [0.8888888888888888, \"#fdca26\"], [1.0, \"#f0f921\"]], \"type\": \"surface\"}], \"table\": [{\"cells\": {\"fill\": {\"color\": \"#EBF0F8\"}, \"line\": {\"color\": \"white\"}}, \"header\": {\"fill\": {\"color\": \"#C8D4E3\"}, \"line\": {\"color\": \"white\"}}, \"type\": \"table\"}]}, \"layout\": {\"annotationdefaults\": {\"arrowcolor\": \"#2a3f5f\", \"arrowhead\": 0, \"arrowwidth\": 1}, \"coloraxis\": {\"colorbar\": {\"outlinewidth\": 0, \"ticks\": \"\"}}, \"colorscale\": {\"diverging\": [[0, \"#8e0152\"], [0.1, \"#c51b7d\"], [0.2, \"#de77ae\"], [0.3, \"#f1b6da\"], [0.4, \"#fde0ef\"], [0.5, \"#f7f7f7\"], [0.6, \"#e6f5d0\"], [0.7, \"#b8e186\"], [0.8, \"#7fbc41\"], [0.9, \"#4d9221\"], [1, \"#276419\"]], \"sequential\": [[0.0, \"#0d0887\"], [0.1111111111111111, \"#46039f\"], [0.2222222222222222, \"#7201a8\"], [0.3333333333333333, \"#9c179e\"], [0.4444444444444444, \"#bd3786\"], [0.5555555555555556, \"#d8576b\"], [0.6666666666666666, \"#ed7953\"], [0.7777777777777778, \"#fb9f3a\"], [0.8888888888888888, \"#fdca26\"], [1.0, \"#f0f921\"]], \"sequentialminus\": [[0.0, \"#0d0887\"], [0.1111111111111111, \"#46039f\"], [0.2222222222222222, \"#7201a8\"], [0.3333333333333333, \"#9c179e\"], [0.4444444444444444, \"#bd3786\"], [0.5555555555555556, \"#d8576b\"], [0.6666666666666666, \"#ed7953\"], [0.7777777777777778, \"#fb9f3a\"], [0.8888888888888888, \"#fdca26\"], [1.0, \"#f0f921\"]]}, \"colorway\": [\"#636efa\", \"#EF553B\", \"#00cc96\", \"#ab63fa\", \"#FFA15A\", \"#19d3f3\", \"#FF6692\", \"#B6E880\", \"#FF97FF\", \"#FECB52\"], \"font\": {\"color\": \"#2a3f5f\"}, \"geo\": {\"bgcolor\": \"white\", \"lakecolor\": \"white\", \"landcolor\": \"#E5ECF6\", \"showlakes\": true, \"showland\": true, \"subunitcolor\": \"white\"}, \"hoverlabel\": {\"align\": \"left\"}, \"hovermode\": \"closest\", \"mapbox\": {\"style\": \"light\"}, \"paper_bgcolor\": \"white\", \"plot_bgcolor\": \"#E5ECF6\", \"polar\": {\"angularaxis\": {\"gridcolor\": \"white\", \"linecolor\": \"white\", \"ticks\": \"\"}, \"bgcolor\": \"#E5ECF6\", \"radialaxis\": {\"gridcolor\": \"white\", \"linecolor\": \"white\", \"ticks\": \"\"}}, \"scene\": {\"xaxis\": {\"backgroundcolor\": \"#E5ECF6\", \"gridcolor\": \"white\", \"gridwidth\": 2, \"linecolor\": \"white\", \"showbackground\": true, \"ticks\": \"\", \"zerolinecolor\": \"white\"}, \"yaxis\": {\"backgroundcolor\": \"#E5ECF6\", \"gridcolor\": \"white\", \"gridwidth\": 2, \"linecolor\": \"white\", \"showbackground\": true, \"ticks\": \"\", \"zerolinecolor\": \"white\"}, \"zaxis\": {\"backgroundcolor\": \"#E5ECF6\", \"gridcolor\": \"white\", \"gridwidth\": 2, \"linecolor\": \"white\", \"showbackground\": true, \"ticks\": \"\", \"zerolinecolor\": \"white\"}}, \"shapedefaults\": {\"line\": {\"color\": \"#2a3f5f\"}}, \"ternary\": {\"aaxis\": {\"gridcolor\": \"white\", \"linecolor\": \"white\", \"ticks\": \"\"}, \"baxis\": {\"gridcolor\": \"white\", \"linecolor\": \"white\", \"ticks\": \"\"}, \"bgcolor\": \"#E5ECF6\", \"caxis\": {\"gridcolor\": \"white\", \"linecolor\": \"white\", \"ticks\": \"\"}}, \"title\": {\"x\": 0.05}, \"xaxis\": {\"automargin\": true, \"gridcolor\": \"white\", \"linecolor\": \"white\", \"ticks\": \"\", \"title\": {\"standoff\": 15}, \"zerolinecolor\": \"white\", \"zerolinewidth\": 2}, \"yaxis\": {\"automargin\": true, \"gridcolor\": \"white\", \"linecolor\": \"white\", \"ticks\": \"\", \"title\": {\"standoff\": 15}, \"zerolinecolor\": \"white\", \"zerolinewidth\": 2}}}, \"title\": {\"font\": {\"color\": \"#4D5663\"}}, \"xaxis\": {\"gridcolor\": \"#E1E5ED\", \"showgrid\": true, \"tickfont\": {\"color\": \"#4D5663\"}, \"title\": {\"font\": {\"color\": \"#4D5663\"}, \"text\": \"\"}, \"zerolinecolor\": \"#E1E5ED\"}, \"yaxis\": {\"gridcolor\": \"#E1E5ED\", \"showgrid\": true, \"tickfont\": {\"color\": \"#4D5663\"}, \"title\": {\"font\": {\"color\": \"#4D5663\"}, \"text\": \"\"}, \"zerolinecolor\": \"#E1E5ED\"}},\n",
       "                        {\"showLink\": true, \"linkText\": \"Export to plot.ly\", \"plotlyServerURL\": \"https://plot.ly\", \"responsive\": true}\n",
       "                    ).then(function(){\n",
       "                            \n",
       "var gd = document.getElementById('2cf160f8-1fb2-4287-b3f0-f7039e0ea924');\n",
       "var x = new MutationObserver(function (mutations, observer) {{\n",
       "        var display = window.getComputedStyle(gd).display;\n",
       "        if (!display || display === 'none') {{\n",
       "            console.log([gd, 'removed!']);\n",
       "            Plotly.purge(gd);\n",
       "            observer.disconnect();\n",
       "        }}\n",
       "}});\n",
       "\n",
       "// Listen for the removal of the full notebook cells\n",
       "var notebookContainer = gd.closest('#notebook-container');\n",
       "if (notebookContainer) {{\n",
       "    x.observe(notebookContainer, {childList: true});\n",
       "}}\n",
       "\n",
       "// Listen for the clearing of the current output cell\n",
       "var outputEl = gd.closest('.output');\n",
       "if (outputEl) {{\n",
       "    x.observe(outputEl, {childList: true});\n",
       "}}\n",
       "\n",
       "                        })\n",
       "                };\n",
       "                });\n",
       "            </script>\n",
       "        </div>"
      ]
     },
     "metadata": {},
     "output_type": "display_data"
    }
   ],
   "source": [
    "df.iplot(kind = 'scatter', x = 'A',y = 'B',mode = 'markers')"
   ]
  },
  {
   "cell_type": "code",
   "execution_count": 23,
   "metadata": {},
   "outputs": [
    {
     "data": {
      "application/vnd.plotly.v1+json": {
       "config": {
        "linkText": "Export to plot.ly",
        "plotlyServerURL": "https://plot.ly",
        "showLink": true
       },
       "data": [
        {
         "marker": {
          "color": "rgba(255, 153, 51, 0.6)",
          "line": {
           "color": "rgba(255, 153, 51, 1.0)",
           "width": 1
          }
         },
         "name": "Value",
         "orientation": "v",
         "text": "",
         "type": "bar",
         "x": [
          "A",
          "B",
          "C"
         ],
         "y": [
          32,
          43,
          50
         ]
        }
       ],
       "layout": {
        "legend": {
         "bgcolor": "#F5F6F9",
         "font": {
          "color": "#4D5663"
         }
        },
        "paper_bgcolor": "#F5F6F9",
        "plot_bgcolor": "#F5F6F9",
        "template": {
         "data": {
          "bar": [
           {
            "error_x": {
             "color": "#2a3f5f"
            },
            "error_y": {
             "color": "#2a3f5f"
            },
            "marker": {
             "line": {
              "color": "#E5ECF6",
              "width": 0.5
             }
            },
            "type": "bar"
           }
          ],
          "barpolar": [
           {
            "marker": {
             "line": {
              "color": "#E5ECF6",
              "width": 0.5
             }
            },
            "type": "barpolar"
           }
          ],
          "carpet": [
           {
            "aaxis": {
             "endlinecolor": "#2a3f5f",
             "gridcolor": "white",
             "linecolor": "white",
             "minorgridcolor": "white",
             "startlinecolor": "#2a3f5f"
            },
            "baxis": {
             "endlinecolor": "#2a3f5f",
             "gridcolor": "white",
             "linecolor": "white",
             "minorgridcolor": "white",
             "startlinecolor": "#2a3f5f"
            },
            "type": "carpet"
           }
          ],
          "choropleth": [
           {
            "colorbar": {
             "outlinewidth": 0,
             "ticks": ""
            },
            "type": "choropleth"
           }
          ],
          "contour": [
           {
            "colorbar": {
             "outlinewidth": 0,
             "ticks": ""
            },
            "colorscale": [
             [
              0,
              "#0d0887"
             ],
             [
              0.1111111111111111,
              "#46039f"
             ],
             [
              0.2222222222222222,
              "#7201a8"
             ],
             [
              0.3333333333333333,
              "#9c179e"
             ],
             [
              0.4444444444444444,
              "#bd3786"
             ],
             [
              0.5555555555555556,
              "#d8576b"
             ],
             [
              0.6666666666666666,
              "#ed7953"
             ],
             [
              0.7777777777777778,
              "#fb9f3a"
             ],
             [
              0.8888888888888888,
              "#fdca26"
             ],
             [
              1,
              "#f0f921"
             ]
            ],
            "type": "contour"
           }
          ],
          "contourcarpet": [
           {
            "colorbar": {
             "outlinewidth": 0,
             "ticks": ""
            },
            "type": "contourcarpet"
           }
          ],
          "heatmap": [
           {
            "colorbar": {
             "outlinewidth": 0,
             "ticks": ""
            },
            "colorscale": [
             [
              0,
              "#0d0887"
             ],
             [
              0.1111111111111111,
              "#46039f"
             ],
             [
              0.2222222222222222,
              "#7201a8"
             ],
             [
              0.3333333333333333,
              "#9c179e"
             ],
             [
              0.4444444444444444,
              "#bd3786"
             ],
             [
              0.5555555555555556,
              "#d8576b"
             ],
             [
              0.6666666666666666,
              "#ed7953"
             ],
             [
              0.7777777777777778,
              "#fb9f3a"
             ],
             [
              0.8888888888888888,
              "#fdca26"
             ],
             [
              1,
              "#f0f921"
             ]
            ],
            "type": "heatmap"
           }
          ],
          "heatmapgl": [
           {
            "colorbar": {
             "outlinewidth": 0,
             "ticks": ""
            },
            "colorscale": [
             [
              0,
              "#0d0887"
             ],
             [
              0.1111111111111111,
              "#46039f"
             ],
             [
              0.2222222222222222,
              "#7201a8"
             ],
             [
              0.3333333333333333,
              "#9c179e"
             ],
             [
              0.4444444444444444,
              "#bd3786"
             ],
             [
              0.5555555555555556,
              "#d8576b"
             ],
             [
              0.6666666666666666,
              "#ed7953"
             ],
             [
              0.7777777777777778,
              "#fb9f3a"
             ],
             [
              0.8888888888888888,
              "#fdca26"
             ],
             [
              1,
              "#f0f921"
             ]
            ],
            "type": "heatmapgl"
           }
          ],
          "histogram": [
           {
            "marker": {
             "colorbar": {
              "outlinewidth": 0,
              "ticks": ""
             }
            },
            "type": "histogram"
           }
          ],
          "histogram2d": [
           {
            "colorbar": {
             "outlinewidth": 0,
             "ticks": ""
            },
            "colorscale": [
             [
              0,
              "#0d0887"
             ],
             [
              0.1111111111111111,
              "#46039f"
             ],
             [
              0.2222222222222222,
              "#7201a8"
             ],
             [
              0.3333333333333333,
              "#9c179e"
             ],
             [
              0.4444444444444444,
              "#bd3786"
             ],
             [
              0.5555555555555556,
              "#d8576b"
             ],
             [
              0.6666666666666666,
              "#ed7953"
             ],
             [
              0.7777777777777778,
              "#fb9f3a"
             ],
             [
              0.8888888888888888,
              "#fdca26"
             ],
             [
              1,
              "#f0f921"
             ]
            ],
            "type": "histogram2d"
           }
          ],
          "histogram2dcontour": [
           {
            "colorbar": {
             "outlinewidth": 0,
             "ticks": ""
            },
            "colorscale": [
             [
              0,
              "#0d0887"
             ],
             [
              0.1111111111111111,
              "#46039f"
             ],
             [
              0.2222222222222222,
              "#7201a8"
             ],
             [
              0.3333333333333333,
              "#9c179e"
             ],
             [
              0.4444444444444444,
              "#bd3786"
             ],
             [
              0.5555555555555556,
              "#d8576b"
             ],
             [
              0.6666666666666666,
              "#ed7953"
             ],
             [
              0.7777777777777778,
              "#fb9f3a"
             ],
             [
              0.8888888888888888,
              "#fdca26"
             ],
             [
              1,
              "#f0f921"
             ]
            ],
            "type": "histogram2dcontour"
           }
          ],
          "mesh3d": [
           {
            "colorbar": {
             "outlinewidth": 0,
             "ticks": ""
            },
            "type": "mesh3d"
           }
          ],
          "parcoords": [
           {
            "line": {
             "colorbar": {
              "outlinewidth": 0,
              "ticks": ""
             }
            },
            "type": "parcoords"
           }
          ],
          "pie": [
           {
            "automargin": true,
            "type": "pie"
           }
          ],
          "scatter": [
           {
            "marker": {
             "colorbar": {
              "outlinewidth": 0,
              "ticks": ""
             }
            },
            "type": "scatter"
           }
          ],
          "scatter3d": [
           {
            "line": {
             "colorbar": {
              "outlinewidth": 0,
              "ticks": ""
             }
            },
            "marker": {
             "colorbar": {
              "outlinewidth": 0,
              "ticks": ""
             }
            },
            "type": "scatter3d"
           }
          ],
          "scattercarpet": [
           {
            "marker": {
             "colorbar": {
              "outlinewidth": 0,
              "ticks": ""
             }
            },
            "type": "scattercarpet"
           }
          ],
          "scattergeo": [
           {
            "marker": {
             "colorbar": {
              "outlinewidth": 0,
              "ticks": ""
             }
            },
            "type": "scattergeo"
           }
          ],
          "scattergl": [
           {
            "marker": {
             "colorbar": {
              "outlinewidth": 0,
              "ticks": ""
             }
            },
            "type": "scattergl"
           }
          ],
          "scattermapbox": [
           {
            "marker": {
             "colorbar": {
              "outlinewidth": 0,
              "ticks": ""
             }
            },
            "type": "scattermapbox"
           }
          ],
          "scatterpolar": [
           {
            "marker": {
             "colorbar": {
              "outlinewidth": 0,
              "ticks": ""
             }
            },
            "type": "scatterpolar"
           }
          ],
          "scatterpolargl": [
           {
            "marker": {
             "colorbar": {
              "outlinewidth": 0,
              "ticks": ""
             }
            },
            "type": "scatterpolargl"
           }
          ],
          "scatterternary": [
           {
            "marker": {
             "colorbar": {
              "outlinewidth": 0,
              "ticks": ""
             }
            },
            "type": "scatterternary"
           }
          ],
          "surface": [
           {
            "colorbar": {
             "outlinewidth": 0,
             "ticks": ""
            },
            "colorscale": [
             [
              0,
              "#0d0887"
             ],
             [
              0.1111111111111111,
              "#46039f"
             ],
             [
              0.2222222222222222,
              "#7201a8"
             ],
             [
              0.3333333333333333,
              "#9c179e"
             ],
             [
              0.4444444444444444,
              "#bd3786"
             ],
             [
              0.5555555555555556,
              "#d8576b"
             ],
             [
              0.6666666666666666,
              "#ed7953"
             ],
             [
              0.7777777777777778,
              "#fb9f3a"
             ],
             [
              0.8888888888888888,
              "#fdca26"
             ],
             [
              1,
              "#f0f921"
             ]
            ],
            "type": "surface"
           }
          ],
          "table": [
           {
            "cells": {
             "fill": {
              "color": "#EBF0F8"
             },
             "line": {
              "color": "white"
             }
            },
            "header": {
             "fill": {
              "color": "#C8D4E3"
             },
             "line": {
              "color": "white"
             }
            },
            "type": "table"
           }
          ]
         },
         "layout": {
          "annotationdefaults": {
           "arrowcolor": "#2a3f5f",
           "arrowhead": 0,
           "arrowwidth": 1
          },
          "coloraxis": {
           "colorbar": {
            "outlinewidth": 0,
            "ticks": ""
           }
          },
          "colorscale": {
           "diverging": [
            [
             0,
             "#8e0152"
            ],
            [
             0.1,
             "#c51b7d"
            ],
            [
             0.2,
             "#de77ae"
            ],
            [
             0.3,
             "#f1b6da"
            ],
            [
             0.4,
             "#fde0ef"
            ],
            [
             0.5,
             "#f7f7f7"
            ],
            [
             0.6,
             "#e6f5d0"
            ],
            [
             0.7,
             "#b8e186"
            ],
            [
             0.8,
             "#7fbc41"
            ],
            [
             0.9,
             "#4d9221"
            ],
            [
             1,
             "#276419"
            ]
           ],
           "sequential": [
            [
             0,
             "#0d0887"
            ],
            [
             0.1111111111111111,
             "#46039f"
            ],
            [
             0.2222222222222222,
             "#7201a8"
            ],
            [
             0.3333333333333333,
             "#9c179e"
            ],
            [
             0.4444444444444444,
             "#bd3786"
            ],
            [
             0.5555555555555556,
             "#d8576b"
            ],
            [
             0.6666666666666666,
             "#ed7953"
            ],
            [
             0.7777777777777778,
             "#fb9f3a"
            ],
            [
             0.8888888888888888,
             "#fdca26"
            ],
            [
             1,
             "#f0f921"
            ]
           ],
           "sequentialminus": [
            [
             0,
             "#0d0887"
            ],
            [
             0.1111111111111111,
             "#46039f"
            ],
            [
             0.2222222222222222,
             "#7201a8"
            ],
            [
             0.3333333333333333,
             "#9c179e"
            ],
            [
             0.4444444444444444,
             "#bd3786"
            ],
            [
             0.5555555555555556,
             "#d8576b"
            ],
            [
             0.6666666666666666,
             "#ed7953"
            ],
            [
             0.7777777777777778,
             "#fb9f3a"
            ],
            [
             0.8888888888888888,
             "#fdca26"
            ],
            [
             1,
             "#f0f921"
            ]
           ]
          },
          "colorway": [
           "#636efa",
           "#EF553B",
           "#00cc96",
           "#ab63fa",
           "#FFA15A",
           "#19d3f3",
           "#FF6692",
           "#B6E880",
           "#FF97FF",
           "#FECB52"
          ],
          "font": {
           "color": "#2a3f5f"
          },
          "geo": {
           "bgcolor": "white",
           "lakecolor": "white",
           "landcolor": "#E5ECF6",
           "showlakes": true,
           "showland": true,
           "subunitcolor": "white"
          },
          "hoverlabel": {
           "align": "left"
          },
          "hovermode": "closest",
          "mapbox": {
           "style": "light"
          },
          "paper_bgcolor": "white",
          "plot_bgcolor": "#E5ECF6",
          "polar": {
           "angularaxis": {
            "gridcolor": "white",
            "linecolor": "white",
            "ticks": ""
           },
           "bgcolor": "#E5ECF6",
           "radialaxis": {
            "gridcolor": "white",
            "linecolor": "white",
            "ticks": ""
           }
          },
          "scene": {
           "xaxis": {
            "backgroundcolor": "#E5ECF6",
            "gridcolor": "white",
            "gridwidth": 2,
            "linecolor": "white",
            "showbackground": true,
            "ticks": "",
            "zerolinecolor": "white"
           },
           "yaxis": {
            "backgroundcolor": "#E5ECF6",
            "gridcolor": "white",
            "gridwidth": 2,
            "linecolor": "white",
            "showbackground": true,
            "ticks": "",
            "zerolinecolor": "white"
           },
           "zaxis": {
            "backgroundcolor": "#E5ECF6",
            "gridcolor": "white",
            "gridwidth": 2,
            "linecolor": "white",
            "showbackground": true,
            "ticks": "",
            "zerolinecolor": "white"
           }
          },
          "shapedefaults": {
           "line": {
            "color": "#2a3f5f"
           }
          },
          "ternary": {
           "aaxis": {
            "gridcolor": "white",
            "linecolor": "white",
            "ticks": ""
           },
           "baxis": {
            "gridcolor": "white",
            "linecolor": "white",
            "ticks": ""
           },
           "bgcolor": "#E5ECF6",
           "caxis": {
            "gridcolor": "white",
            "linecolor": "white",
            "ticks": ""
           }
          },
          "title": {
           "x": 0.05
          },
          "xaxis": {
           "automargin": true,
           "gridcolor": "white",
           "linecolor": "white",
           "ticks": "",
           "title": {
            "standoff": 15
           },
           "zerolinecolor": "white",
           "zerolinewidth": 2
          },
          "yaxis": {
           "automargin": true,
           "gridcolor": "white",
           "linecolor": "white",
           "ticks": "",
           "title": {
            "standoff": 15
           },
           "zerolinecolor": "white",
           "zerolinewidth": 2
          }
         }
        },
        "title": {
         "font": {
          "color": "#4D5663"
         }
        },
        "xaxis": {
         "gridcolor": "#E1E5ED",
         "showgrid": true,
         "tickfont": {
          "color": "#4D5663"
         },
         "title": {
          "font": {
           "color": "#4D5663"
          },
          "text": ""
         },
         "zerolinecolor": "#E1E5ED"
        },
        "yaxis": {
         "gridcolor": "#E1E5ED",
         "showgrid": true,
         "tickfont": {
          "color": "#4D5663"
         },
         "title": {
          "font": {
           "color": "#4D5663"
          },
          "text": ""
         },
         "zerolinecolor": "#E1E5ED"
        }
       }
      },
      "text/html": [
       "<div>\n",
       "        \n",
       "        \n",
       "            <div id=\"7c3779d4-5361-47dd-b398-06889303d342\" class=\"plotly-graph-div\" style=\"height:525px; width:100%;\"></div>\n",
       "            <script type=\"text/javascript\">\n",
       "                require([\"plotly\"], function(Plotly) {\n",
       "                    window.PLOTLYENV=window.PLOTLYENV || {};\n",
       "                    window.PLOTLYENV.BASE_URL='https://plot.ly';\n",
       "                    \n",
       "                if (document.getElementById(\"7c3779d4-5361-47dd-b398-06889303d342\")) {\n",
       "                    Plotly.newPlot(\n",
       "                        '7c3779d4-5361-47dd-b398-06889303d342',\n",
       "                        [{\"marker\": {\"color\": \"rgba(255, 153, 51, 0.6)\", \"line\": {\"color\": \"rgba(255, 153, 51, 1.0)\", \"width\": 1}}, \"name\": \"Value\", \"orientation\": \"v\", \"text\": \"\", \"type\": \"bar\", \"x\": [\"A\", \"B\", \"C\"], \"y\": [32, 43, 50]}],\n",
       "                        {\"legend\": {\"bgcolor\": \"#F5F6F9\", \"font\": {\"color\": \"#4D5663\"}}, \"paper_bgcolor\": \"#F5F6F9\", \"plot_bgcolor\": \"#F5F6F9\", \"template\": {\"data\": {\"bar\": [{\"error_x\": {\"color\": \"#2a3f5f\"}, \"error_y\": {\"color\": \"#2a3f5f\"}, \"marker\": {\"line\": {\"color\": \"#E5ECF6\", \"width\": 0.5}}, \"type\": \"bar\"}], \"barpolar\": [{\"marker\": {\"line\": {\"color\": \"#E5ECF6\", \"width\": 0.5}}, \"type\": \"barpolar\"}], \"carpet\": [{\"aaxis\": {\"endlinecolor\": \"#2a3f5f\", \"gridcolor\": \"white\", \"linecolor\": \"white\", \"minorgridcolor\": \"white\", \"startlinecolor\": \"#2a3f5f\"}, \"baxis\": {\"endlinecolor\": \"#2a3f5f\", \"gridcolor\": \"white\", \"linecolor\": \"white\", \"minorgridcolor\": \"white\", \"startlinecolor\": \"#2a3f5f\"}, \"type\": \"carpet\"}], \"choropleth\": [{\"colorbar\": {\"outlinewidth\": 0, \"ticks\": \"\"}, \"type\": \"choropleth\"}], \"contour\": [{\"colorbar\": {\"outlinewidth\": 0, \"ticks\": \"\"}, \"colorscale\": [[0.0, \"#0d0887\"], [0.1111111111111111, \"#46039f\"], [0.2222222222222222, \"#7201a8\"], [0.3333333333333333, \"#9c179e\"], [0.4444444444444444, \"#bd3786\"], [0.5555555555555556, \"#d8576b\"], [0.6666666666666666, \"#ed7953\"], [0.7777777777777778, \"#fb9f3a\"], [0.8888888888888888, \"#fdca26\"], [1.0, \"#f0f921\"]], \"type\": \"contour\"}], \"contourcarpet\": [{\"colorbar\": {\"outlinewidth\": 0, \"ticks\": \"\"}, \"type\": \"contourcarpet\"}], \"heatmap\": [{\"colorbar\": {\"outlinewidth\": 0, \"ticks\": \"\"}, \"colorscale\": [[0.0, \"#0d0887\"], [0.1111111111111111, \"#46039f\"], [0.2222222222222222, \"#7201a8\"], [0.3333333333333333, \"#9c179e\"], [0.4444444444444444, \"#bd3786\"], [0.5555555555555556, \"#d8576b\"], [0.6666666666666666, \"#ed7953\"], [0.7777777777777778, \"#fb9f3a\"], [0.8888888888888888, \"#fdca26\"], [1.0, \"#f0f921\"]], \"type\": \"heatmap\"}], \"heatmapgl\": [{\"colorbar\": {\"outlinewidth\": 0, \"ticks\": \"\"}, \"colorscale\": [[0.0, \"#0d0887\"], [0.1111111111111111, \"#46039f\"], [0.2222222222222222, \"#7201a8\"], [0.3333333333333333, \"#9c179e\"], [0.4444444444444444, \"#bd3786\"], [0.5555555555555556, \"#d8576b\"], [0.6666666666666666, \"#ed7953\"], [0.7777777777777778, \"#fb9f3a\"], [0.8888888888888888, \"#fdca26\"], [1.0, \"#f0f921\"]], \"type\": \"heatmapgl\"}], \"histogram\": [{\"marker\": {\"colorbar\": {\"outlinewidth\": 0, \"ticks\": \"\"}}, \"type\": \"histogram\"}], \"histogram2d\": [{\"colorbar\": {\"outlinewidth\": 0, \"ticks\": \"\"}, \"colorscale\": [[0.0, \"#0d0887\"], [0.1111111111111111, \"#46039f\"], [0.2222222222222222, \"#7201a8\"], [0.3333333333333333, \"#9c179e\"], [0.4444444444444444, \"#bd3786\"], [0.5555555555555556, \"#d8576b\"], [0.6666666666666666, \"#ed7953\"], [0.7777777777777778, \"#fb9f3a\"], [0.8888888888888888, \"#fdca26\"], [1.0, \"#f0f921\"]], \"type\": \"histogram2d\"}], \"histogram2dcontour\": [{\"colorbar\": {\"outlinewidth\": 0, \"ticks\": \"\"}, \"colorscale\": [[0.0, \"#0d0887\"], [0.1111111111111111, \"#46039f\"], [0.2222222222222222, \"#7201a8\"], [0.3333333333333333, \"#9c179e\"], [0.4444444444444444, \"#bd3786\"], [0.5555555555555556, \"#d8576b\"], [0.6666666666666666, \"#ed7953\"], [0.7777777777777778, \"#fb9f3a\"], [0.8888888888888888, \"#fdca26\"], [1.0, \"#f0f921\"]], \"type\": \"histogram2dcontour\"}], \"mesh3d\": [{\"colorbar\": {\"outlinewidth\": 0, \"ticks\": \"\"}, \"type\": \"mesh3d\"}], \"parcoords\": [{\"line\": {\"colorbar\": {\"outlinewidth\": 0, \"ticks\": \"\"}}, \"type\": \"parcoords\"}], \"pie\": [{\"automargin\": true, \"type\": \"pie\"}], \"scatter\": [{\"marker\": {\"colorbar\": {\"outlinewidth\": 0, \"ticks\": \"\"}}, \"type\": \"scatter\"}], \"scatter3d\": [{\"line\": {\"colorbar\": {\"outlinewidth\": 0, \"ticks\": \"\"}}, \"marker\": {\"colorbar\": {\"outlinewidth\": 0, \"ticks\": \"\"}}, \"type\": \"scatter3d\"}], \"scattercarpet\": [{\"marker\": {\"colorbar\": {\"outlinewidth\": 0, \"ticks\": \"\"}}, \"type\": \"scattercarpet\"}], \"scattergeo\": [{\"marker\": {\"colorbar\": {\"outlinewidth\": 0, \"ticks\": \"\"}}, \"type\": \"scattergeo\"}], \"scattergl\": [{\"marker\": {\"colorbar\": {\"outlinewidth\": 0, \"ticks\": \"\"}}, \"type\": \"scattergl\"}], \"scattermapbox\": [{\"marker\": {\"colorbar\": {\"outlinewidth\": 0, \"ticks\": \"\"}}, \"type\": \"scattermapbox\"}], \"scatterpolar\": [{\"marker\": {\"colorbar\": {\"outlinewidth\": 0, \"ticks\": \"\"}}, \"type\": \"scatterpolar\"}], \"scatterpolargl\": [{\"marker\": {\"colorbar\": {\"outlinewidth\": 0, \"ticks\": \"\"}}, \"type\": \"scatterpolargl\"}], \"scatterternary\": [{\"marker\": {\"colorbar\": {\"outlinewidth\": 0, \"ticks\": \"\"}}, \"type\": \"scatterternary\"}], \"surface\": [{\"colorbar\": {\"outlinewidth\": 0, \"ticks\": \"\"}, \"colorscale\": [[0.0, \"#0d0887\"], [0.1111111111111111, \"#46039f\"], [0.2222222222222222, \"#7201a8\"], [0.3333333333333333, \"#9c179e\"], [0.4444444444444444, \"#bd3786\"], [0.5555555555555556, \"#d8576b\"], [0.6666666666666666, \"#ed7953\"], [0.7777777777777778, \"#fb9f3a\"], [0.8888888888888888, \"#fdca26\"], [1.0, \"#f0f921\"]], \"type\": \"surface\"}], \"table\": [{\"cells\": {\"fill\": {\"color\": \"#EBF0F8\"}, \"line\": {\"color\": \"white\"}}, \"header\": {\"fill\": {\"color\": \"#C8D4E3\"}, \"line\": {\"color\": \"white\"}}, \"type\": \"table\"}]}, \"layout\": {\"annotationdefaults\": {\"arrowcolor\": \"#2a3f5f\", \"arrowhead\": 0, \"arrowwidth\": 1}, \"coloraxis\": {\"colorbar\": {\"outlinewidth\": 0, \"ticks\": \"\"}}, \"colorscale\": {\"diverging\": [[0, \"#8e0152\"], [0.1, \"#c51b7d\"], [0.2, \"#de77ae\"], [0.3, \"#f1b6da\"], [0.4, \"#fde0ef\"], [0.5, \"#f7f7f7\"], [0.6, \"#e6f5d0\"], [0.7, \"#b8e186\"], [0.8, \"#7fbc41\"], [0.9, \"#4d9221\"], [1, \"#276419\"]], \"sequential\": [[0.0, \"#0d0887\"], [0.1111111111111111, \"#46039f\"], [0.2222222222222222, \"#7201a8\"], [0.3333333333333333, \"#9c179e\"], [0.4444444444444444, \"#bd3786\"], [0.5555555555555556, \"#d8576b\"], [0.6666666666666666, \"#ed7953\"], [0.7777777777777778, \"#fb9f3a\"], [0.8888888888888888, \"#fdca26\"], [1.0, \"#f0f921\"]], \"sequentialminus\": [[0.0, \"#0d0887\"], [0.1111111111111111, \"#46039f\"], [0.2222222222222222, \"#7201a8\"], [0.3333333333333333, \"#9c179e\"], [0.4444444444444444, \"#bd3786\"], [0.5555555555555556, \"#d8576b\"], [0.6666666666666666, \"#ed7953\"], [0.7777777777777778, \"#fb9f3a\"], [0.8888888888888888, \"#fdca26\"], [1.0, \"#f0f921\"]]}, \"colorway\": [\"#636efa\", \"#EF553B\", \"#00cc96\", \"#ab63fa\", \"#FFA15A\", \"#19d3f3\", \"#FF6692\", \"#B6E880\", \"#FF97FF\", \"#FECB52\"], \"font\": {\"color\": \"#2a3f5f\"}, \"geo\": {\"bgcolor\": \"white\", \"lakecolor\": \"white\", \"landcolor\": \"#E5ECF6\", \"showlakes\": true, \"showland\": true, \"subunitcolor\": \"white\"}, \"hoverlabel\": {\"align\": \"left\"}, \"hovermode\": \"closest\", \"mapbox\": {\"style\": \"light\"}, \"paper_bgcolor\": \"white\", \"plot_bgcolor\": \"#E5ECF6\", \"polar\": {\"angularaxis\": {\"gridcolor\": \"white\", \"linecolor\": \"white\", \"ticks\": \"\"}, \"bgcolor\": \"#E5ECF6\", \"radialaxis\": {\"gridcolor\": \"white\", \"linecolor\": \"white\", \"ticks\": \"\"}}, \"scene\": {\"xaxis\": {\"backgroundcolor\": \"#E5ECF6\", \"gridcolor\": \"white\", \"gridwidth\": 2, \"linecolor\": \"white\", \"showbackground\": true, \"ticks\": \"\", \"zerolinecolor\": \"white\"}, \"yaxis\": {\"backgroundcolor\": \"#E5ECF6\", \"gridcolor\": \"white\", \"gridwidth\": 2, \"linecolor\": \"white\", \"showbackground\": true, \"ticks\": \"\", \"zerolinecolor\": \"white\"}, \"zaxis\": {\"backgroundcolor\": \"#E5ECF6\", \"gridcolor\": \"white\", \"gridwidth\": 2, \"linecolor\": \"white\", \"showbackground\": true, \"ticks\": \"\", \"zerolinecolor\": \"white\"}}, \"shapedefaults\": {\"line\": {\"color\": \"#2a3f5f\"}}, \"ternary\": {\"aaxis\": {\"gridcolor\": \"white\", \"linecolor\": \"white\", \"ticks\": \"\"}, \"baxis\": {\"gridcolor\": \"white\", \"linecolor\": \"white\", \"ticks\": \"\"}, \"bgcolor\": \"#E5ECF6\", \"caxis\": {\"gridcolor\": \"white\", \"linecolor\": \"white\", \"ticks\": \"\"}}, \"title\": {\"x\": 0.05}, \"xaxis\": {\"automargin\": true, \"gridcolor\": \"white\", \"linecolor\": \"white\", \"ticks\": \"\", \"title\": {\"standoff\": 15}, \"zerolinecolor\": \"white\", \"zerolinewidth\": 2}, \"yaxis\": {\"automargin\": true, \"gridcolor\": \"white\", \"linecolor\": \"white\", \"ticks\": \"\", \"title\": {\"standoff\": 15}, \"zerolinecolor\": \"white\", \"zerolinewidth\": 2}}}, \"title\": {\"font\": {\"color\": \"#4D5663\"}}, \"xaxis\": {\"gridcolor\": \"#E1E5ED\", \"showgrid\": true, \"tickfont\": {\"color\": \"#4D5663\"}, \"title\": {\"font\": {\"color\": \"#4D5663\"}, \"text\": \"\"}, \"zerolinecolor\": \"#E1E5ED\"}, \"yaxis\": {\"gridcolor\": \"#E1E5ED\", \"showgrid\": true, \"tickfont\": {\"color\": \"#4D5663\"}, \"title\": {\"font\": {\"color\": \"#4D5663\"}, \"text\": \"\"}, \"zerolinecolor\": \"#E1E5ED\"}},\n",
       "                        {\"showLink\": true, \"linkText\": \"Export to plot.ly\", \"plotlyServerURL\": \"https://plot.ly\", \"responsive\": true}\n",
       "                    ).then(function(){\n",
       "                            \n",
       "var gd = document.getElementById('7c3779d4-5361-47dd-b398-06889303d342');\n",
       "var x = new MutationObserver(function (mutations, observer) {{\n",
       "        var display = window.getComputedStyle(gd).display;\n",
       "        if (!display || display === 'none') {{\n",
       "            console.log([gd, 'removed!']);\n",
       "            Plotly.purge(gd);\n",
       "            observer.disconnect();\n",
       "        }}\n",
       "}});\n",
       "\n",
       "// Listen for the removal of the full notebook cells\n",
       "var notebookContainer = gd.closest('#notebook-container');\n",
       "if (notebookContainer) {{\n",
       "    x.observe(notebookContainer, {childList: true});\n",
       "}}\n",
       "\n",
       "// Listen for the clearing of the current output cell\n",
       "var outputEl = gd.closest('.output');\n",
       "if (outputEl) {{\n",
       "    x.observe(outputEl, {childList: true});\n",
       "}}\n",
       "\n",
       "                        })\n",
       "                };\n",
       "                });\n",
       "            </script>\n",
       "        </div>"
      ]
     },
     "metadata": {},
     "output_type": "display_data"
    }
   ],
   "source": [
    "df2.iplot(kind = 'bar',x = 'Category',y = 'Value')"
   ]
  },
  {
   "cell_type": "code",
   "execution_count": 24,
   "metadata": {},
   "outputs": [
    {
     "data": {
      "application/vnd.plotly.v1+json": {
       "config": {
        "linkText": "Export to plot.ly",
        "plotlyServerURL": "https://plot.ly",
        "showLink": true
       },
       "data": [
        {
         "marker": {
          "color": "rgba(255, 153, 51, 0.6)",
          "line": {
           "color": "rgba(255, 153, 51, 1.0)",
           "width": 1
          }
         },
         "name": "A",
         "orientation": "v",
         "text": "",
         "type": "bar",
         "x": [
          0,
          1,
          2,
          3,
          4,
          5,
          6,
          7,
          8,
          9,
          10,
          11,
          12,
          13,
          14,
          15,
          16,
          17,
          18,
          19,
          20,
          21,
          22,
          23,
          24,
          25,
          26,
          27,
          28,
          29,
          30,
          31,
          32,
          33,
          34,
          35,
          36,
          37,
          38,
          39,
          40,
          41,
          42,
          43,
          44,
          45,
          46,
          47,
          48,
          49,
          50,
          51,
          52,
          53,
          54,
          55,
          56,
          57,
          58,
          59,
          60,
          61,
          62,
          63,
          64,
          65,
          66,
          67,
          68,
          69,
          70,
          71,
          72,
          73,
          74,
          75,
          76,
          77,
          78,
          79,
          80,
          81,
          82,
          83,
          84,
          85,
          86,
          87,
          88,
          89,
          90,
          91,
          92,
          93,
          94,
          95,
          96,
          97,
          98,
          99
         ],
         "y": [
          1.3306309417176265,
          -1.0385908792182337,
          0.1874988544332731,
          -1.280273142495005,
          1.049058077764222,
          1.0611683123235378,
          1.9071191693896197,
          2.7352170168230985,
          -0.6397746814172409,
          0.8463438925366744,
          0.6654798489053015,
          0.5898888031987908,
          -0.24578070323181664,
          0.8969285206540074,
          -0.5662410084123332,
          1.0938500603836203,
          -0.12239543313528743,
          0.22232875620726475,
          -2.100252650446614,
          0.07236905792648542,
          1.4025076400931227,
          -0.5884562982794522,
          -0.9889691929554822,
          1.254073734692926,
          -0.46372972298110055,
          -0.48538707079930976,
          1.3291500350558658,
          -0.5959406223584038,
          0.8264347369014085,
          0.03382006102493553,
          -1.7403756156373102,
          -0.10120422308479786,
          -2.0763793530629675,
          0.32975298291286204,
          -0.2513970373300905,
          1.0686811177498006,
          -1.287088310176192,
          1.7189073509803223,
          -2.1812920330972028,
          -1.653046828768346,
          -0.6299599276446443,
          -0.6603974395461192,
          1.9616869789233804,
          0.8559600837851427,
          0.6831248737350233,
          -0.28491484930330135,
          2.273199289527967,
          -0.6001597532078587,
          -1.0362480369487086,
          1.277052361551702,
          0.716203215161114,
          -0.07102696522231514,
          -2.033535045783543,
          -0.7538182027296547,
          0.0013298173934843229,
          2.012898833923275,
          1.2880410548949353,
          0.4014209245850137,
          -0.7741539809820434,
          0.7252590743472118,
          -0.8483347797463456,
          -0.49958477134736623,
          0.14473176345929775,
          -0.8034821874756903,
          -1.351101132144767,
          0.6170023030683952,
          -1.891397712945495,
          -0.9383709684301289,
          -0.41277249311839675,
          -1.591460336585324,
          -0.8097421575333087,
          2.2616634455467683,
          -0.11339795454097942,
          -0.14794045700105715,
          -0.2163222303007041,
          0.47811209099295643,
          -1.0224603818250957,
          1.7108857580680352,
          1.1466963877389036,
          0.4356283563208712,
          0.01784311691288129,
          0.11980539540514351,
          0.3947055397125486,
          0.7596655979349227,
          -0.21600082570836415,
          -0.023137565460243193,
          0.017163582231720136,
          0.21032173566674786,
          -0.389023597520661,
          -0.19793727668987773,
          -0.29492035190757415,
          -1.2411400701237552,
          0.39606779670549547,
          -0.9150253620940234,
          -0.5257507006499514,
          1.8243832582774786,
          -0.1125237963450426,
          -2.7739318359255813,
          -0.0898090875362181,
          0.8328315823372676
         ]
        },
        {
         "marker": {
          "color": "rgba(55, 128, 191, 0.6)",
          "line": {
           "color": "rgba(55, 128, 191, 1.0)",
           "width": 1
          }
         },
         "name": "B",
         "orientation": "v",
         "text": "",
         "type": "bar",
         "x": [
          0,
          1,
          2,
          3,
          4,
          5,
          6,
          7,
          8,
          9,
          10,
          11,
          12,
          13,
          14,
          15,
          16,
          17,
          18,
          19,
          20,
          21,
          22,
          23,
          24,
          25,
          26,
          27,
          28,
          29,
          30,
          31,
          32,
          33,
          34,
          35,
          36,
          37,
          38,
          39,
          40,
          41,
          42,
          43,
          44,
          45,
          46,
          47,
          48,
          49,
          50,
          51,
          52,
          53,
          54,
          55,
          56,
          57,
          58,
          59,
          60,
          61,
          62,
          63,
          64,
          65,
          66,
          67,
          68,
          69,
          70,
          71,
          72,
          73,
          74,
          75,
          76,
          77,
          78,
          79,
          80,
          81,
          82,
          83,
          84,
          85,
          86,
          87,
          88,
          89,
          90,
          91,
          92,
          93,
          94,
          95,
          96,
          97,
          98,
          99
         ],
         "y": [
          -0.8077541023962002,
          0.7565634938517336,
          1.1237573596606032,
          -0.39565919347789863,
          0.0549785621201317,
          1.366502617290853,
          -1.3230694814486699,
          0.7387889439830942,
          -1.199480435930739,
          -2.282949284120805,
          -0.11425954367285318,
          0.8220010850043288,
          -1.1018014057796768,
          0.2503149600873541,
          1.1736158070252711,
          0.6947821804303227,
          0.5283230210516395,
          0.02697684131203542,
          1.2281054446817783,
          0.30732376074071527,
          -1.8252020255670138,
          2.6418773394416872,
          0.4006178825484417,
          0.5288086239368401,
          0.42863236503672264,
          0.30564260765961393,
          1.2778053713476605,
          1.472255914104073,
          0.05872832874232765,
          0.7251880601234464,
          -0.2138418181358444,
          -2.0005260137365877,
          1.534647810447825,
          2.084477685137188,
          2.7052715499038764,
          0.6695822248372039,
          -0.06518920375824615,
          -1.9049080959097124,
          1.2169413778613276,
          -2.03197874321166,
          1.4546371527133481,
          0.1989084957309017,
          -1.7818535501801909,
          2.0004508452916028,
          1.6296031993340103,
          0.24500116269463681,
          0.5640050900164671,
          0.5904149850770735,
          0.3823351716117955,
          1.7376514275808248,
          -0.8979434180678454,
          0.5914107965134787,
          0.4234285284764335,
          -0.6922168342136781,
          -0.6970659041760846,
          -1.4925661057491024,
          0.4165199828435986,
          -0.17973830756700138,
          -0.1899146526268394,
          0.5206315273626101,
          -0.06918200176339967,
          -0.7240010125943824,
          1.2793270686278744,
          0.3365658155828963,
          -2.0232355137365383,
          -1.955386468277755,
          1.0471304394836258,
          -0.3234898040130142,
          0.7452124347332417,
          0.9305259702811042,
          -0.7515431305554422,
          1.9675896545741405,
          0.28748431790382417,
          -0.19642992033258458,
          -0.49064884204819204,
          0.18816479377724749,
          0.07676733695429527,
          0.49804273677106,
          0.34102017267473134,
          0.7200324639469576,
          0.0606644111172542,
          -0.6137673524489353,
          0.6592257674514602,
          -1.367796620444945,
          1.3767073670816232,
          -0.6286369092359241,
          -2.659475702790765,
          0.06032259735863327,
          1.0736657620512429,
          -0.8494551963668133,
          0.7416402492100004,
          1.2144400487378093,
          0.41762560003557575,
          -0.40527781652274925,
          -0.31652693291467393,
          0.3028904622839831,
          -0.20221592711223793,
          0.14151449129352375,
          -0.08920104667800999,
          0.45969093794151544
         ]
        },
        {
         "marker": {
          "color": "rgba(50, 171, 96, 0.6)",
          "line": {
           "color": "rgba(50, 171, 96, 1.0)",
           "width": 1
          }
         },
         "name": "C",
         "orientation": "v",
         "text": "",
         "type": "bar",
         "x": [
          0,
          1,
          2,
          3,
          4,
          5,
          6,
          7,
          8,
          9,
          10,
          11,
          12,
          13,
          14,
          15,
          16,
          17,
          18,
          19,
          20,
          21,
          22,
          23,
          24,
          25,
          26,
          27,
          28,
          29,
          30,
          31,
          32,
          33,
          34,
          35,
          36,
          37,
          38,
          39,
          40,
          41,
          42,
          43,
          44,
          45,
          46,
          47,
          48,
          49,
          50,
          51,
          52,
          53,
          54,
          55,
          56,
          57,
          58,
          59,
          60,
          61,
          62,
          63,
          64,
          65,
          66,
          67,
          68,
          69,
          70,
          71,
          72,
          73,
          74,
          75,
          76,
          77,
          78,
          79,
          80,
          81,
          82,
          83,
          84,
          85,
          86,
          87,
          88,
          89,
          90,
          91,
          92,
          93,
          94,
          95,
          96,
          97,
          98,
          99
         ],
         "y": [
          0.3656651539700398,
          -2.024621508933484,
          -0.17595214258639766,
          0.38752123388547627,
          -0.40098108684220674,
          0.7047994399031737,
          0.6111222021594415,
          0.2984057022335293,
          -0.5054188984967285,
          0.12024912953358627,
          0.03658450937199128,
          -0.28327791808777447,
          -1.3967097446357228,
          1.1161579807451723,
          -0.02769518065720461,
          0.3824321539746692,
          0.5477711577384979,
          0.08142385667673246,
          1.3064477629658349,
          -0.16079346035363284,
          1.3087896864926647,
          0.3062345125176454,
          0.09288871560599347,
          0.1293533941503134,
          0.5788875746115371,
          0.01434073846552713,
          -1.8944062485400481,
          1.8888049406514158,
          -0.4776845884066758,
          1.2764291854498908,
          -0.5042490922031749,
          -0.7801119239008675,
          1.3421330442051493,
          0.672714533915635,
          0.9893919285907951,
          0.8494961107716652,
          0.5838121382918745,
          1.250930509255457,
          1.09968861421728,
          -0.04163656113428267,
          0.05322861552611884,
          -0.6125501183133603,
          -1.2206193313774207,
          0.144642554577054,
          -1.319235756758065,
          0.19491832305045914,
          -0.775115685297024,
          1.0167592539070043,
          0.983563546849777,
          -0.39039835223133834,
          -0.8284730578893609,
          -0.3936660846606071,
          0.6232568363690445,
          -0.6333224212073132,
          1.0650741192534734,
          -2.1686623348824674,
          -1.228154969602673,
          -0.9977266640263869,
          0.9726160769808196,
          0.2930229304519651,
          -0.4821496574965753,
          -0.5846169212147282,
          -0.9316895418709534,
          -1.2179313081717043,
          -2.074013254064868,
          0.09682363701248563,
          -0.38151715167604977,
          0.49188500666415497,
          -0.725306836736184,
          -0.8246979833109914,
          -1.3562429729164502,
          0.2673330090054745,
          1.2924557312605747,
          0.24010807839265333,
          -0.1525097779159531,
          0.013773240989478044,
          0.801672870583813,
          2.6129068949654126,
          -0.004835514247692923,
          0.00038433475050008765,
          0.3768613102888822,
          1.5852792940187583,
          -1.2303409245158452,
          0.10101802359198322,
          0.8844781483544862,
          -0.8811133498746999,
          0.373372580639977,
          -0.40411158698473626,
          1.3672213632922996,
          0.30692054933826124,
          0.2980331198680305,
          -1.6977885063533618,
          0.9342253811855618,
          0.6893014976844566,
          -0.7823612487342642,
          -0.9297453414885516,
          0.8523734371748879,
          -0.23312884194180006,
          0.4116455392105631,
          -0.2530425260066888
         ]
        },
        {
         "marker": {
          "color": "rgba(128, 0, 128, 0.6)",
          "line": {
           "color": "rgba(128, 0, 128, 1.0)",
           "width": 1
          }
         },
         "name": "D",
         "orientation": "v",
         "text": "",
         "type": "bar",
         "x": [
          0,
          1,
          2,
          3,
          4,
          5,
          6,
          7,
          8,
          9,
          10,
          11,
          12,
          13,
          14,
          15,
          16,
          17,
          18,
          19,
          20,
          21,
          22,
          23,
          24,
          25,
          26,
          27,
          28,
          29,
          30,
          31,
          32,
          33,
          34,
          35,
          36,
          37,
          38,
          39,
          40,
          41,
          42,
          43,
          44,
          45,
          46,
          47,
          48,
          49,
          50,
          51,
          52,
          53,
          54,
          55,
          56,
          57,
          58,
          59,
          60,
          61,
          62,
          63,
          64,
          65,
          66,
          67,
          68,
          69,
          70,
          71,
          72,
          73,
          74,
          75,
          76,
          77,
          78,
          79,
          80,
          81,
          82,
          83,
          84,
          85,
          86,
          87,
          88,
          89,
          90,
          91,
          92,
          93,
          94,
          95,
          96,
          97,
          98,
          99
         ],
         "y": [
          0.7975416162339963,
          -0.21940657560340165,
          -0.6495223186326463,
          -1.1045817227401677,
          -0.7193189821090035,
          -0.8349004696712116,
          -1.1270940359263222,
          0.045792655428507856,
          -0.916793147440208,
          0.9213674139500968,
          -0.5886707980598632,
          -0.09356438719274726,
          1.1920978378959821,
          -0.8317211629636166,
          -0.38109088723742296,
          0.5766422340104451,
          0.43763503347873917,
          -0.41169971859837184,
          -0.46590127089055766,
          0.20217738254294637,
          -1.669518712654215,
          -0.5111871906175561,
          -0.6298861572186296,
          0.8089227351774407,
          -0.017502244639379758,
          0.5470549245950116,
          1.205281769483588,
          1.037057423581387,
          0.09557849773090253,
          0.57333584353472,
          -0.6736607481399736,
          0.02354881168542178,
          0.16149816470751635,
          -0.18720501878333623,
          -1.0368909880884163,
          0.06346118185626269,
          1.8593973699740949,
          1.4227284353103165,
          -0.03745067461314494,
          0.7018509417552491,
          0.37484070339401815,
          0.4490068546525637,
          0.05210196611094483,
          -0.1701316667373229,
          0.9975858765520681,
          0.5679231522183869,
          0.7333534143683618,
          -0.4881841277696792,
          -0.7735029325895608,
          0.01891691584424374,
          -1.2359148304241079,
          -0.8896197467687542,
          -0.10908281293793401,
          1.688463700552174,
          -0.23667063256752122,
          -0.0006127191057447444,
          -1.3901015766075688,
          -0.07471253156201306,
          -0.17391167365707075,
          0.18494588958463734,
          -0.8072660199829106,
          0.5042274950958247,
          1.430319628227963,
          -1.0432237869179202,
          0.6069703153867475,
          -0.9659360808606309,
          1.6956317931889817,
          0.1934229329498793,
          -0.3234302239208796,
          -0.5653941531404442,
          1.4294978718028493,
          -0.4667825162224206,
          0.8159024534431725,
          -0.27577624975932374,
          0.05785711289876522,
          1.4902936128030226,
          0.9452236842836307,
          1.34821155748868,
          -0.9335093588384209,
          0.7629837548409932,
          -0.9040802654809437,
          -0.8912568923745329,
          -0.7504395625157962,
          0.5435144524350202,
          1.47191507660395,
          -1.9599202433457479,
          -0.09907887392997437,
          1.4770671005625244,
          0.40572998591662657,
          0.09857348353580996,
          0.23264132362483203,
          0.9966223626862929,
          -0.23378918797685888,
          -0.8122495069200328,
          0.7783050772190407,
          -0.9721164857966254,
          0.4139167840603344,
          0.6505919351452365,
          -1.4765433004431558,
          -0.2272361110201322
         ]
        }
       ],
       "layout": {
        "legend": {
         "bgcolor": "#F5F6F9",
         "font": {
          "color": "#4D5663"
         }
        },
        "paper_bgcolor": "#F5F6F9",
        "plot_bgcolor": "#F5F6F9",
        "template": {
         "data": {
          "bar": [
           {
            "error_x": {
             "color": "#2a3f5f"
            },
            "error_y": {
             "color": "#2a3f5f"
            },
            "marker": {
             "line": {
              "color": "#E5ECF6",
              "width": 0.5
             }
            },
            "type": "bar"
           }
          ],
          "barpolar": [
           {
            "marker": {
             "line": {
              "color": "#E5ECF6",
              "width": 0.5
             }
            },
            "type": "barpolar"
           }
          ],
          "carpet": [
           {
            "aaxis": {
             "endlinecolor": "#2a3f5f",
             "gridcolor": "white",
             "linecolor": "white",
             "minorgridcolor": "white",
             "startlinecolor": "#2a3f5f"
            },
            "baxis": {
             "endlinecolor": "#2a3f5f",
             "gridcolor": "white",
             "linecolor": "white",
             "minorgridcolor": "white",
             "startlinecolor": "#2a3f5f"
            },
            "type": "carpet"
           }
          ],
          "choropleth": [
           {
            "colorbar": {
             "outlinewidth": 0,
             "ticks": ""
            },
            "type": "choropleth"
           }
          ],
          "contour": [
           {
            "colorbar": {
             "outlinewidth": 0,
             "ticks": ""
            },
            "colorscale": [
             [
              0,
              "#0d0887"
             ],
             [
              0.1111111111111111,
              "#46039f"
             ],
             [
              0.2222222222222222,
              "#7201a8"
             ],
             [
              0.3333333333333333,
              "#9c179e"
             ],
             [
              0.4444444444444444,
              "#bd3786"
             ],
             [
              0.5555555555555556,
              "#d8576b"
             ],
             [
              0.6666666666666666,
              "#ed7953"
             ],
             [
              0.7777777777777778,
              "#fb9f3a"
             ],
             [
              0.8888888888888888,
              "#fdca26"
             ],
             [
              1,
              "#f0f921"
             ]
            ],
            "type": "contour"
           }
          ],
          "contourcarpet": [
           {
            "colorbar": {
             "outlinewidth": 0,
             "ticks": ""
            },
            "type": "contourcarpet"
           }
          ],
          "heatmap": [
           {
            "colorbar": {
             "outlinewidth": 0,
             "ticks": ""
            },
            "colorscale": [
             [
              0,
              "#0d0887"
             ],
             [
              0.1111111111111111,
              "#46039f"
             ],
             [
              0.2222222222222222,
              "#7201a8"
             ],
             [
              0.3333333333333333,
              "#9c179e"
             ],
             [
              0.4444444444444444,
              "#bd3786"
             ],
             [
              0.5555555555555556,
              "#d8576b"
             ],
             [
              0.6666666666666666,
              "#ed7953"
             ],
             [
              0.7777777777777778,
              "#fb9f3a"
             ],
             [
              0.8888888888888888,
              "#fdca26"
             ],
             [
              1,
              "#f0f921"
             ]
            ],
            "type": "heatmap"
           }
          ],
          "heatmapgl": [
           {
            "colorbar": {
             "outlinewidth": 0,
             "ticks": ""
            },
            "colorscale": [
             [
              0,
              "#0d0887"
             ],
             [
              0.1111111111111111,
              "#46039f"
             ],
             [
              0.2222222222222222,
              "#7201a8"
             ],
             [
              0.3333333333333333,
              "#9c179e"
             ],
             [
              0.4444444444444444,
              "#bd3786"
             ],
             [
              0.5555555555555556,
              "#d8576b"
             ],
             [
              0.6666666666666666,
              "#ed7953"
             ],
             [
              0.7777777777777778,
              "#fb9f3a"
             ],
             [
              0.8888888888888888,
              "#fdca26"
             ],
             [
              1,
              "#f0f921"
             ]
            ],
            "type": "heatmapgl"
           }
          ],
          "histogram": [
           {
            "marker": {
             "colorbar": {
              "outlinewidth": 0,
              "ticks": ""
             }
            },
            "type": "histogram"
           }
          ],
          "histogram2d": [
           {
            "colorbar": {
             "outlinewidth": 0,
             "ticks": ""
            },
            "colorscale": [
             [
              0,
              "#0d0887"
             ],
             [
              0.1111111111111111,
              "#46039f"
             ],
             [
              0.2222222222222222,
              "#7201a8"
             ],
             [
              0.3333333333333333,
              "#9c179e"
             ],
             [
              0.4444444444444444,
              "#bd3786"
             ],
             [
              0.5555555555555556,
              "#d8576b"
             ],
             [
              0.6666666666666666,
              "#ed7953"
             ],
             [
              0.7777777777777778,
              "#fb9f3a"
             ],
             [
              0.8888888888888888,
              "#fdca26"
             ],
             [
              1,
              "#f0f921"
             ]
            ],
            "type": "histogram2d"
           }
          ],
          "histogram2dcontour": [
           {
            "colorbar": {
             "outlinewidth": 0,
             "ticks": ""
            },
            "colorscale": [
             [
              0,
              "#0d0887"
             ],
             [
              0.1111111111111111,
              "#46039f"
             ],
             [
              0.2222222222222222,
              "#7201a8"
             ],
             [
              0.3333333333333333,
              "#9c179e"
             ],
             [
              0.4444444444444444,
              "#bd3786"
             ],
             [
              0.5555555555555556,
              "#d8576b"
             ],
             [
              0.6666666666666666,
              "#ed7953"
             ],
             [
              0.7777777777777778,
              "#fb9f3a"
             ],
             [
              0.8888888888888888,
              "#fdca26"
             ],
             [
              1,
              "#f0f921"
             ]
            ],
            "type": "histogram2dcontour"
           }
          ],
          "mesh3d": [
           {
            "colorbar": {
             "outlinewidth": 0,
             "ticks": ""
            },
            "type": "mesh3d"
           }
          ],
          "parcoords": [
           {
            "line": {
             "colorbar": {
              "outlinewidth": 0,
              "ticks": ""
             }
            },
            "type": "parcoords"
           }
          ],
          "pie": [
           {
            "automargin": true,
            "type": "pie"
           }
          ],
          "scatter": [
           {
            "marker": {
             "colorbar": {
              "outlinewidth": 0,
              "ticks": ""
             }
            },
            "type": "scatter"
           }
          ],
          "scatter3d": [
           {
            "line": {
             "colorbar": {
              "outlinewidth": 0,
              "ticks": ""
             }
            },
            "marker": {
             "colorbar": {
              "outlinewidth": 0,
              "ticks": ""
             }
            },
            "type": "scatter3d"
           }
          ],
          "scattercarpet": [
           {
            "marker": {
             "colorbar": {
              "outlinewidth": 0,
              "ticks": ""
             }
            },
            "type": "scattercarpet"
           }
          ],
          "scattergeo": [
           {
            "marker": {
             "colorbar": {
              "outlinewidth": 0,
              "ticks": ""
             }
            },
            "type": "scattergeo"
           }
          ],
          "scattergl": [
           {
            "marker": {
             "colorbar": {
              "outlinewidth": 0,
              "ticks": ""
             }
            },
            "type": "scattergl"
           }
          ],
          "scattermapbox": [
           {
            "marker": {
             "colorbar": {
              "outlinewidth": 0,
              "ticks": ""
             }
            },
            "type": "scattermapbox"
           }
          ],
          "scatterpolar": [
           {
            "marker": {
             "colorbar": {
              "outlinewidth": 0,
              "ticks": ""
             }
            },
            "type": "scatterpolar"
           }
          ],
          "scatterpolargl": [
           {
            "marker": {
             "colorbar": {
              "outlinewidth": 0,
              "ticks": ""
             }
            },
            "type": "scatterpolargl"
           }
          ],
          "scatterternary": [
           {
            "marker": {
             "colorbar": {
              "outlinewidth": 0,
              "ticks": ""
             }
            },
            "type": "scatterternary"
           }
          ],
          "surface": [
           {
            "colorbar": {
             "outlinewidth": 0,
             "ticks": ""
            },
            "colorscale": [
             [
              0,
              "#0d0887"
             ],
             [
              0.1111111111111111,
              "#46039f"
             ],
             [
              0.2222222222222222,
              "#7201a8"
             ],
             [
              0.3333333333333333,
              "#9c179e"
             ],
             [
              0.4444444444444444,
              "#bd3786"
             ],
             [
              0.5555555555555556,
              "#d8576b"
             ],
             [
              0.6666666666666666,
              "#ed7953"
             ],
             [
              0.7777777777777778,
              "#fb9f3a"
             ],
             [
              0.8888888888888888,
              "#fdca26"
             ],
             [
              1,
              "#f0f921"
             ]
            ],
            "type": "surface"
           }
          ],
          "table": [
           {
            "cells": {
             "fill": {
              "color": "#EBF0F8"
             },
             "line": {
              "color": "white"
             }
            },
            "header": {
             "fill": {
              "color": "#C8D4E3"
             },
             "line": {
              "color": "white"
             }
            },
            "type": "table"
           }
          ]
         },
         "layout": {
          "annotationdefaults": {
           "arrowcolor": "#2a3f5f",
           "arrowhead": 0,
           "arrowwidth": 1
          },
          "coloraxis": {
           "colorbar": {
            "outlinewidth": 0,
            "ticks": ""
           }
          },
          "colorscale": {
           "diverging": [
            [
             0,
             "#8e0152"
            ],
            [
             0.1,
             "#c51b7d"
            ],
            [
             0.2,
             "#de77ae"
            ],
            [
             0.3,
             "#f1b6da"
            ],
            [
             0.4,
             "#fde0ef"
            ],
            [
             0.5,
             "#f7f7f7"
            ],
            [
             0.6,
             "#e6f5d0"
            ],
            [
             0.7,
             "#b8e186"
            ],
            [
             0.8,
             "#7fbc41"
            ],
            [
             0.9,
             "#4d9221"
            ],
            [
             1,
             "#276419"
            ]
           ],
           "sequential": [
            [
             0,
             "#0d0887"
            ],
            [
             0.1111111111111111,
             "#46039f"
            ],
            [
             0.2222222222222222,
             "#7201a8"
            ],
            [
             0.3333333333333333,
             "#9c179e"
            ],
            [
             0.4444444444444444,
             "#bd3786"
            ],
            [
             0.5555555555555556,
             "#d8576b"
            ],
            [
             0.6666666666666666,
             "#ed7953"
            ],
            [
             0.7777777777777778,
             "#fb9f3a"
            ],
            [
             0.8888888888888888,
             "#fdca26"
            ],
            [
             1,
             "#f0f921"
            ]
           ],
           "sequentialminus": [
            [
             0,
             "#0d0887"
            ],
            [
             0.1111111111111111,
             "#46039f"
            ],
            [
             0.2222222222222222,
             "#7201a8"
            ],
            [
             0.3333333333333333,
             "#9c179e"
            ],
            [
             0.4444444444444444,
             "#bd3786"
            ],
            [
             0.5555555555555556,
             "#d8576b"
            ],
            [
             0.6666666666666666,
             "#ed7953"
            ],
            [
             0.7777777777777778,
             "#fb9f3a"
            ],
            [
             0.8888888888888888,
             "#fdca26"
            ],
            [
             1,
             "#f0f921"
            ]
           ]
          },
          "colorway": [
           "#636efa",
           "#EF553B",
           "#00cc96",
           "#ab63fa",
           "#FFA15A",
           "#19d3f3",
           "#FF6692",
           "#B6E880",
           "#FF97FF",
           "#FECB52"
          ],
          "font": {
           "color": "#2a3f5f"
          },
          "geo": {
           "bgcolor": "white",
           "lakecolor": "white",
           "landcolor": "#E5ECF6",
           "showlakes": true,
           "showland": true,
           "subunitcolor": "white"
          },
          "hoverlabel": {
           "align": "left"
          },
          "hovermode": "closest",
          "mapbox": {
           "style": "light"
          },
          "paper_bgcolor": "white",
          "plot_bgcolor": "#E5ECF6",
          "polar": {
           "angularaxis": {
            "gridcolor": "white",
            "linecolor": "white",
            "ticks": ""
           },
           "bgcolor": "#E5ECF6",
           "radialaxis": {
            "gridcolor": "white",
            "linecolor": "white",
            "ticks": ""
           }
          },
          "scene": {
           "xaxis": {
            "backgroundcolor": "#E5ECF6",
            "gridcolor": "white",
            "gridwidth": 2,
            "linecolor": "white",
            "showbackground": true,
            "ticks": "",
            "zerolinecolor": "white"
           },
           "yaxis": {
            "backgroundcolor": "#E5ECF6",
            "gridcolor": "white",
            "gridwidth": 2,
            "linecolor": "white",
            "showbackground": true,
            "ticks": "",
            "zerolinecolor": "white"
           },
           "zaxis": {
            "backgroundcolor": "#E5ECF6",
            "gridcolor": "white",
            "gridwidth": 2,
            "linecolor": "white",
            "showbackground": true,
            "ticks": "",
            "zerolinecolor": "white"
           }
          },
          "shapedefaults": {
           "line": {
            "color": "#2a3f5f"
           }
          },
          "ternary": {
           "aaxis": {
            "gridcolor": "white",
            "linecolor": "white",
            "ticks": ""
           },
           "baxis": {
            "gridcolor": "white",
            "linecolor": "white",
            "ticks": ""
           },
           "bgcolor": "#E5ECF6",
           "caxis": {
            "gridcolor": "white",
            "linecolor": "white",
            "ticks": ""
           }
          },
          "title": {
           "x": 0.05
          },
          "xaxis": {
           "automargin": true,
           "gridcolor": "white",
           "linecolor": "white",
           "ticks": "",
           "title": {
            "standoff": 15
           },
           "zerolinecolor": "white",
           "zerolinewidth": 2
          },
          "yaxis": {
           "automargin": true,
           "gridcolor": "white",
           "linecolor": "white",
           "ticks": "",
           "title": {
            "standoff": 15
           },
           "zerolinecolor": "white",
           "zerolinewidth": 2
          }
         }
        },
        "title": {
         "font": {
          "color": "#4D5663"
         }
        },
        "xaxis": {
         "gridcolor": "#E1E5ED",
         "showgrid": true,
         "tickfont": {
          "color": "#4D5663"
         },
         "title": {
          "font": {
           "color": "#4D5663"
          },
          "text": ""
         },
         "zerolinecolor": "#E1E5ED"
        },
        "yaxis": {
         "gridcolor": "#E1E5ED",
         "showgrid": true,
         "tickfont": {
          "color": "#4D5663"
         },
         "title": {
          "font": {
           "color": "#4D5663"
          },
          "text": ""
         },
         "zerolinecolor": "#E1E5ED"
        }
       }
      },
      "text/html": [
       "<div>\n",
       "        \n",
       "        \n",
       "            <div id=\"9dbd0f21-5b17-4dd0-94a5-e42a743a35e9\" class=\"plotly-graph-div\" style=\"height:525px; width:100%;\"></div>\n",
       "            <script type=\"text/javascript\">\n",
       "                require([\"plotly\"], function(Plotly) {\n",
       "                    window.PLOTLYENV=window.PLOTLYENV || {};\n",
       "                    window.PLOTLYENV.BASE_URL='https://plot.ly';\n",
       "                    \n",
       "                if (document.getElementById(\"9dbd0f21-5b17-4dd0-94a5-e42a743a35e9\")) {\n",
       "                    Plotly.newPlot(\n",
       "                        '9dbd0f21-5b17-4dd0-94a5-e42a743a35e9',\n",
       "                        [{\"marker\": {\"color\": \"rgba(255, 153, 51, 0.6)\", \"line\": {\"color\": \"rgba(255, 153, 51, 1.0)\", \"width\": 1}}, \"name\": \"A\", \"orientation\": \"v\", \"text\": \"\", \"type\": \"bar\", \"x\": [0, 1, 2, 3, 4, 5, 6, 7, 8, 9, 10, 11, 12, 13, 14, 15, 16, 17, 18, 19, 20, 21, 22, 23, 24, 25, 26, 27, 28, 29, 30, 31, 32, 33, 34, 35, 36, 37, 38, 39, 40, 41, 42, 43, 44, 45, 46, 47, 48, 49, 50, 51, 52, 53, 54, 55, 56, 57, 58, 59, 60, 61, 62, 63, 64, 65, 66, 67, 68, 69, 70, 71, 72, 73, 74, 75, 76, 77, 78, 79, 80, 81, 82, 83, 84, 85, 86, 87, 88, 89, 90, 91, 92, 93, 94, 95, 96, 97, 98, 99], \"y\": [1.3306309417176265, -1.0385908792182337, 0.1874988544332731, -1.280273142495005, 1.049058077764222, 1.0611683123235378, 1.9071191693896197, 2.7352170168230985, -0.6397746814172409, 0.8463438925366744, 0.6654798489053015, 0.5898888031987908, -0.24578070323181664, 0.8969285206540074, -0.5662410084123332, 1.0938500603836203, -0.12239543313528743, 0.22232875620726475, -2.100252650446614, 0.07236905792648542, 1.4025076400931227, -0.5884562982794522, -0.9889691929554822, 1.254073734692926, -0.46372972298110055, -0.48538707079930976, 1.3291500350558658, -0.5959406223584038, 0.8264347369014085, 0.03382006102493553, -1.7403756156373102, -0.10120422308479786, -2.0763793530629675, 0.32975298291286204, -0.2513970373300905, 1.0686811177498006, -1.287088310176192, 1.7189073509803223, -2.1812920330972028, -1.653046828768346, -0.6299599276446443, -0.6603974395461192, 1.9616869789233804, 0.8559600837851427, 0.6831248737350233, -0.28491484930330135, 2.273199289527967, -0.6001597532078587, -1.0362480369487086, 1.277052361551702, 0.716203215161114, -0.07102696522231514, -2.033535045783543, -0.7538182027296547, 0.0013298173934843229, 2.012898833923275, 1.2880410548949353, 0.4014209245850137, -0.7741539809820434, 0.7252590743472118, -0.8483347797463456, -0.49958477134736623, 0.14473176345929775, -0.8034821874756903, -1.351101132144767, 0.6170023030683952, -1.891397712945495, -0.9383709684301289, -0.41277249311839675, -1.591460336585324, -0.8097421575333087, 2.2616634455467683, -0.11339795454097942, -0.14794045700105715, -0.2163222303007041, 0.47811209099295643, -1.0224603818250957, 1.7108857580680352, 1.1466963877389036, 0.4356283563208712, 0.01784311691288129, 0.11980539540514351, 0.3947055397125486, 0.7596655979349227, -0.21600082570836415, -0.023137565460243193, 0.017163582231720136, 0.21032173566674786, -0.389023597520661, -0.19793727668987773, -0.29492035190757415, -1.2411400701237552, 0.39606779670549547, -0.9150253620940234, -0.5257507006499514, 1.8243832582774786, -0.1125237963450426, -2.7739318359255813, -0.0898090875362181, 0.8328315823372676]}, {\"marker\": {\"color\": \"rgba(55, 128, 191, 0.6)\", \"line\": {\"color\": \"rgba(55, 128, 191, 1.0)\", \"width\": 1}}, \"name\": \"B\", \"orientation\": \"v\", \"text\": \"\", \"type\": \"bar\", \"x\": [0, 1, 2, 3, 4, 5, 6, 7, 8, 9, 10, 11, 12, 13, 14, 15, 16, 17, 18, 19, 20, 21, 22, 23, 24, 25, 26, 27, 28, 29, 30, 31, 32, 33, 34, 35, 36, 37, 38, 39, 40, 41, 42, 43, 44, 45, 46, 47, 48, 49, 50, 51, 52, 53, 54, 55, 56, 57, 58, 59, 60, 61, 62, 63, 64, 65, 66, 67, 68, 69, 70, 71, 72, 73, 74, 75, 76, 77, 78, 79, 80, 81, 82, 83, 84, 85, 86, 87, 88, 89, 90, 91, 92, 93, 94, 95, 96, 97, 98, 99], \"y\": [-0.8077541023962002, 0.7565634938517336, 1.1237573596606032, -0.39565919347789863, 0.0549785621201317, 1.366502617290853, -1.3230694814486699, 0.7387889439830942, -1.199480435930739, -2.282949284120805, -0.11425954367285318, 0.8220010850043288, -1.1018014057796768, 0.2503149600873541, 1.1736158070252711, 0.6947821804303227, 0.5283230210516395, 0.02697684131203542, 1.2281054446817783, 0.30732376074071527, -1.8252020255670138, 2.6418773394416872, 0.4006178825484417, 0.5288086239368401, 0.42863236503672264, 0.30564260765961393, 1.2778053713476605, 1.472255914104073, 0.05872832874232765, 0.7251880601234464, -0.2138418181358444, -2.0005260137365877, 1.534647810447825, 2.084477685137188, 2.7052715499038764, 0.6695822248372039, -0.06518920375824615, -1.9049080959097124, 1.2169413778613276, -2.03197874321166, 1.4546371527133481, 0.1989084957309017, -1.7818535501801909, 2.0004508452916028, 1.6296031993340103, 0.24500116269463681, 0.5640050900164671, 0.5904149850770735, 0.3823351716117955, 1.7376514275808248, -0.8979434180678454, 0.5914107965134787, 0.4234285284764335, -0.6922168342136781, -0.6970659041760846, -1.4925661057491024, 0.4165199828435986, -0.17973830756700138, -0.1899146526268394, 0.5206315273626101, -0.06918200176339967, -0.7240010125943824, 1.2793270686278744, 0.3365658155828963, -2.0232355137365383, -1.955386468277755, 1.0471304394836258, -0.3234898040130142, 0.7452124347332417, 0.9305259702811042, -0.7515431305554422, 1.9675896545741405, 0.28748431790382417, -0.19642992033258458, -0.49064884204819204, 0.18816479377724749, 0.07676733695429527, 0.49804273677106, 0.34102017267473134, 0.7200324639469576, 0.0606644111172542, -0.6137673524489353, 0.6592257674514602, -1.367796620444945, 1.3767073670816232, -0.6286369092359241, -2.659475702790765, 0.06032259735863327, 1.0736657620512429, -0.8494551963668133, 0.7416402492100004, 1.2144400487378093, 0.41762560003557575, -0.40527781652274925, -0.31652693291467393, 0.3028904622839831, -0.20221592711223793, 0.14151449129352375, -0.08920104667800999, 0.45969093794151544]}, {\"marker\": {\"color\": \"rgba(50, 171, 96, 0.6)\", \"line\": {\"color\": \"rgba(50, 171, 96, 1.0)\", \"width\": 1}}, \"name\": \"C\", \"orientation\": \"v\", \"text\": \"\", \"type\": \"bar\", \"x\": [0, 1, 2, 3, 4, 5, 6, 7, 8, 9, 10, 11, 12, 13, 14, 15, 16, 17, 18, 19, 20, 21, 22, 23, 24, 25, 26, 27, 28, 29, 30, 31, 32, 33, 34, 35, 36, 37, 38, 39, 40, 41, 42, 43, 44, 45, 46, 47, 48, 49, 50, 51, 52, 53, 54, 55, 56, 57, 58, 59, 60, 61, 62, 63, 64, 65, 66, 67, 68, 69, 70, 71, 72, 73, 74, 75, 76, 77, 78, 79, 80, 81, 82, 83, 84, 85, 86, 87, 88, 89, 90, 91, 92, 93, 94, 95, 96, 97, 98, 99], \"y\": [0.3656651539700398, -2.024621508933484, -0.17595214258639766, 0.38752123388547627, -0.40098108684220674, 0.7047994399031737, 0.6111222021594415, 0.2984057022335293, -0.5054188984967285, 0.12024912953358627, 0.03658450937199128, -0.28327791808777447, -1.3967097446357228, 1.1161579807451723, -0.02769518065720461, 0.3824321539746692, 0.5477711577384979, 0.08142385667673246, 1.3064477629658349, -0.16079346035363284, 1.3087896864926647, 0.3062345125176454, 0.09288871560599347, 0.1293533941503134, 0.5788875746115371, 0.01434073846552713, -1.8944062485400481, 1.8888049406514158, -0.4776845884066758, 1.2764291854498908, -0.5042490922031749, -0.7801119239008675, 1.3421330442051493, 0.672714533915635, 0.9893919285907951, 0.8494961107716652, 0.5838121382918745, 1.250930509255457, 1.09968861421728, -0.04163656113428267, 0.05322861552611884, -0.6125501183133603, -1.2206193313774207, 0.144642554577054, -1.319235756758065, 0.19491832305045914, -0.775115685297024, 1.0167592539070043, 0.983563546849777, -0.39039835223133834, -0.8284730578893609, -0.3936660846606071, 0.6232568363690445, -0.6333224212073132, 1.0650741192534734, -2.1686623348824674, -1.228154969602673, -0.9977266640263869, 0.9726160769808196, 0.2930229304519651, -0.4821496574965753, -0.5846169212147282, -0.9316895418709534, -1.2179313081717043, -2.074013254064868, 0.09682363701248563, -0.38151715167604977, 0.49188500666415497, -0.725306836736184, -0.8246979833109914, -1.3562429729164502, 0.2673330090054745, 1.2924557312605747, 0.24010807839265333, -0.1525097779159531, 0.013773240989478044, 0.801672870583813, 2.6129068949654126, -0.004835514247692923, 0.00038433475050008765, 0.3768613102888822, 1.5852792940187583, -1.2303409245158452, 0.10101802359198322, 0.8844781483544862, -0.8811133498746999, 0.373372580639977, -0.40411158698473626, 1.3672213632922996, 0.30692054933826124, 0.2980331198680305, -1.6977885063533618, 0.9342253811855618, 0.6893014976844566, -0.7823612487342642, -0.9297453414885516, 0.8523734371748879, -0.23312884194180006, 0.4116455392105631, -0.2530425260066888]}, {\"marker\": {\"color\": \"rgba(128, 0, 128, 0.6)\", \"line\": {\"color\": \"rgba(128, 0, 128, 1.0)\", \"width\": 1}}, \"name\": \"D\", \"orientation\": \"v\", \"text\": \"\", \"type\": \"bar\", \"x\": [0, 1, 2, 3, 4, 5, 6, 7, 8, 9, 10, 11, 12, 13, 14, 15, 16, 17, 18, 19, 20, 21, 22, 23, 24, 25, 26, 27, 28, 29, 30, 31, 32, 33, 34, 35, 36, 37, 38, 39, 40, 41, 42, 43, 44, 45, 46, 47, 48, 49, 50, 51, 52, 53, 54, 55, 56, 57, 58, 59, 60, 61, 62, 63, 64, 65, 66, 67, 68, 69, 70, 71, 72, 73, 74, 75, 76, 77, 78, 79, 80, 81, 82, 83, 84, 85, 86, 87, 88, 89, 90, 91, 92, 93, 94, 95, 96, 97, 98, 99], \"y\": [0.7975416162339963, -0.21940657560340165, -0.6495223186326463, -1.1045817227401677, -0.7193189821090035, -0.8349004696712116, -1.1270940359263222, 0.045792655428507856, -0.916793147440208, 0.9213674139500968, -0.5886707980598632, -0.09356438719274726, 1.1920978378959821, -0.8317211629636166, -0.38109088723742296, 0.5766422340104451, 0.43763503347873917, -0.41169971859837184, -0.46590127089055766, 0.20217738254294637, -1.669518712654215, -0.5111871906175561, -0.6298861572186296, 0.8089227351774407, -0.017502244639379758, 0.5470549245950116, 1.205281769483588, 1.037057423581387, 0.09557849773090253, 0.57333584353472, -0.6736607481399736, 0.02354881168542178, 0.16149816470751635, -0.18720501878333623, -1.0368909880884163, 0.06346118185626269, 1.8593973699740949, 1.4227284353103165, -0.03745067461314494, 0.7018509417552491, 0.37484070339401815, 0.4490068546525637, 0.05210196611094483, -0.1701316667373229, 0.9975858765520681, 0.5679231522183869, 0.7333534143683618, -0.4881841277696792, -0.7735029325895608, 0.01891691584424374, -1.2359148304241079, -0.8896197467687542, -0.10908281293793401, 1.688463700552174, -0.23667063256752122, -0.0006127191057447444, -1.3901015766075688, -0.07471253156201306, -0.17391167365707075, 0.18494588958463734, -0.8072660199829106, 0.5042274950958247, 1.430319628227963, -1.0432237869179202, 0.6069703153867475, -0.9659360808606309, 1.6956317931889817, 0.1934229329498793, -0.3234302239208796, -0.5653941531404442, 1.4294978718028493, -0.4667825162224206, 0.8159024534431725, -0.27577624975932374, 0.05785711289876522, 1.4902936128030226, 0.9452236842836307, 1.34821155748868, -0.9335093588384209, 0.7629837548409932, -0.9040802654809437, -0.8912568923745329, -0.7504395625157962, 0.5435144524350202, 1.47191507660395, -1.9599202433457479, -0.09907887392997437, 1.4770671005625244, 0.40572998591662657, 0.09857348353580996, 0.23264132362483203, 0.9966223626862929, -0.23378918797685888, -0.8122495069200328, 0.7783050772190407, -0.9721164857966254, 0.4139167840603344, 0.6505919351452365, -1.4765433004431558, -0.2272361110201322]}],\n",
       "                        {\"legend\": {\"bgcolor\": \"#F5F6F9\", \"font\": {\"color\": \"#4D5663\"}}, \"paper_bgcolor\": \"#F5F6F9\", \"plot_bgcolor\": \"#F5F6F9\", \"template\": {\"data\": {\"bar\": [{\"error_x\": {\"color\": \"#2a3f5f\"}, \"error_y\": {\"color\": \"#2a3f5f\"}, \"marker\": {\"line\": {\"color\": \"#E5ECF6\", \"width\": 0.5}}, \"type\": \"bar\"}], \"barpolar\": [{\"marker\": {\"line\": {\"color\": \"#E5ECF6\", \"width\": 0.5}}, \"type\": \"barpolar\"}], \"carpet\": [{\"aaxis\": {\"endlinecolor\": \"#2a3f5f\", \"gridcolor\": \"white\", \"linecolor\": \"white\", \"minorgridcolor\": \"white\", \"startlinecolor\": \"#2a3f5f\"}, \"baxis\": {\"endlinecolor\": \"#2a3f5f\", \"gridcolor\": \"white\", \"linecolor\": \"white\", \"minorgridcolor\": \"white\", \"startlinecolor\": \"#2a3f5f\"}, \"type\": \"carpet\"}], \"choropleth\": [{\"colorbar\": {\"outlinewidth\": 0, \"ticks\": \"\"}, \"type\": \"choropleth\"}], \"contour\": [{\"colorbar\": {\"outlinewidth\": 0, \"ticks\": \"\"}, \"colorscale\": [[0.0, \"#0d0887\"], [0.1111111111111111, \"#46039f\"], [0.2222222222222222, \"#7201a8\"], [0.3333333333333333, \"#9c179e\"], [0.4444444444444444, \"#bd3786\"], [0.5555555555555556, \"#d8576b\"], [0.6666666666666666, \"#ed7953\"], [0.7777777777777778, \"#fb9f3a\"], [0.8888888888888888, \"#fdca26\"], [1.0, \"#f0f921\"]], \"type\": \"contour\"}], \"contourcarpet\": [{\"colorbar\": {\"outlinewidth\": 0, \"ticks\": \"\"}, \"type\": \"contourcarpet\"}], \"heatmap\": [{\"colorbar\": {\"outlinewidth\": 0, \"ticks\": \"\"}, \"colorscale\": [[0.0, \"#0d0887\"], [0.1111111111111111, \"#46039f\"], [0.2222222222222222, \"#7201a8\"], [0.3333333333333333, \"#9c179e\"], [0.4444444444444444, \"#bd3786\"], [0.5555555555555556, \"#d8576b\"], [0.6666666666666666, \"#ed7953\"], [0.7777777777777778, \"#fb9f3a\"], [0.8888888888888888, \"#fdca26\"], [1.0, \"#f0f921\"]], \"type\": \"heatmap\"}], \"heatmapgl\": [{\"colorbar\": {\"outlinewidth\": 0, \"ticks\": \"\"}, \"colorscale\": [[0.0, \"#0d0887\"], [0.1111111111111111, \"#46039f\"], [0.2222222222222222, \"#7201a8\"], [0.3333333333333333, \"#9c179e\"], [0.4444444444444444, \"#bd3786\"], [0.5555555555555556, \"#d8576b\"], [0.6666666666666666, \"#ed7953\"], [0.7777777777777778, \"#fb9f3a\"], [0.8888888888888888, \"#fdca26\"], [1.0, \"#f0f921\"]], \"type\": \"heatmapgl\"}], \"histogram\": [{\"marker\": {\"colorbar\": {\"outlinewidth\": 0, \"ticks\": \"\"}}, \"type\": \"histogram\"}], \"histogram2d\": [{\"colorbar\": {\"outlinewidth\": 0, \"ticks\": \"\"}, \"colorscale\": [[0.0, \"#0d0887\"], [0.1111111111111111, \"#46039f\"], [0.2222222222222222, \"#7201a8\"], [0.3333333333333333, \"#9c179e\"], [0.4444444444444444, \"#bd3786\"], [0.5555555555555556, \"#d8576b\"], [0.6666666666666666, \"#ed7953\"], [0.7777777777777778, \"#fb9f3a\"], [0.8888888888888888, \"#fdca26\"], [1.0, \"#f0f921\"]], \"type\": \"histogram2d\"}], \"histogram2dcontour\": [{\"colorbar\": {\"outlinewidth\": 0, \"ticks\": \"\"}, \"colorscale\": [[0.0, \"#0d0887\"], [0.1111111111111111, \"#46039f\"], [0.2222222222222222, \"#7201a8\"], [0.3333333333333333, \"#9c179e\"], [0.4444444444444444, \"#bd3786\"], [0.5555555555555556, \"#d8576b\"], [0.6666666666666666, \"#ed7953\"], [0.7777777777777778, \"#fb9f3a\"], [0.8888888888888888, \"#fdca26\"], [1.0, \"#f0f921\"]], \"type\": \"histogram2dcontour\"}], \"mesh3d\": [{\"colorbar\": {\"outlinewidth\": 0, \"ticks\": \"\"}, \"type\": \"mesh3d\"}], \"parcoords\": [{\"line\": {\"colorbar\": {\"outlinewidth\": 0, \"ticks\": \"\"}}, \"type\": \"parcoords\"}], \"pie\": [{\"automargin\": true, \"type\": \"pie\"}], \"scatter\": [{\"marker\": {\"colorbar\": {\"outlinewidth\": 0, \"ticks\": \"\"}}, \"type\": \"scatter\"}], \"scatter3d\": [{\"line\": {\"colorbar\": {\"outlinewidth\": 0, \"ticks\": \"\"}}, \"marker\": {\"colorbar\": {\"outlinewidth\": 0, \"ticks\": \"\"}}, \"type\": \"scatter3d\"}], \"scattercarpet\": [{\"marker\": {\"colorbar\": {\"outlinewidth\": 0, \"ticks\": \"\"}}, \"type\": \"scattercarpet\"}], \"scattergeo\": [{\"marker\": {\"colorbar\": {\"outlinewidth\": 0, \"ticks\": \"\"}}, \"type\": \"scattergeo\"}], \"scattergl\": [{\"marker\": {\"colorbar\": {\"outlinewidth\": 0, \"ticks\": \"\"}}, \"type\": \"scattergl\"}], \"scattermapbox\": [{\"marker\": {\"colorbar\": {\"outlinewidth\": 0, \"ticks\": \"\"}}, \"type\": \"scattermapbox\"}], \"scatterpolar\": [{\"marker\": {\"colorbar\": {\"outlinewidth\": 0, \"ticks\": \"\"}}, \"type\": \"scatterpolar\"}], \"scatterpolargl\": [{\"marker\": {\"colorbar\": {\"outlinewidth\": 0, \"ticks\": \"\"}}, \"type\": \"scatterpolargl\"}], \"scatterternary\": [{\"marker\": {\"colorbar\": {\"outlinewidth\": 0, \"ticks\": \"\"}}, \"type\": \"scatterternary\"}], \"surface\": [{\"colorbar\": {\"outlinewidth\": 0, \"ticks\": \"\"}, \"colorscale\": [[0.0, \"#0d0887\"], [0.1111111111111111, \"#46039f\"], [0.2222222222222222, \"#7201a8\"], [0.3333333333333333, \"#9c179e\"], [0.4444444444444444, \"#bd3786\"], [0.5555555555555556, \"#d8576b\"], [0.6666666666666666, \"#ed7953\"], [0.7777777777777778, \"#fb9f3a\"], [0.8888888888888888, \"#fdca26\"], [1.0, \"#f0f921\"]], \"type\": \"surface\"}], \"table\": [{\"cells\": {\"fill\": {\"color\": \"#EBF0F8\"}, \"line\": {\"color\": \"white\"}}, \"header\": {\"fill\": {\"color\": \"#C8D4E3\"}, \"line\": {\"color\": \"white\"}}, \"type\": \"table\"}]}, \"layout\": {\"annotationdefaults\": {\"arrowcolor\": \"#2a3f5f\", \"arrowhead\": 0, \"arrowwidth\": 1}, \"coloraxis\": {\"colorbar\": {\"outlinewidth\": 0, \"ticks\": \"\"}}, \"colorscale\": {\"diverging\": [[0, \"#8e0152\"], [0.1, \"#c51b7d\"], [0.2, \"#de77ae\"], [0.3, \"#f1b6da\"], [0.4, \"#fde0ef\"], [0.5, \"#f7f7f7\"], [0.6, \"#e6f5d0\"], [0.7, \"#b8e186\"], [0.8, \"#7fbc41\"], [0.9, \"#4d9221\"], [1, \"#276419\"]], \"sequential\": [[0.0, \"#0d0887\"], [0.1111111111111111, \"#46039f\"], [0.2222222222222222, \"#7201a8\"], [0.3333333333333333, \"#9c179e\"], [0.4444444444444444, \"#bd3786\"], [0.5555555555555556, \"#d8576b\"], [0.6666666666666666, \"#ed7953\"], [0.7777777777777778, \"#fb9f3a\"], [0.8888888888888888, \"#fdca26\"], [1.0, \"#f0f921\"]], \"sequentialminus\": [[0.0, \"#0d0887\"], [0.1111111111111111, \"#46039f\"], [0.2222222222222222, \"#7201a8\"], [0.3333333333333333, \"#9c179e\"], [0.4444444444444444, \"#bd3786\"], [0.5555555555555556, \"#d8576b\"], [0.6666666666666666, \"#ed7953\"], [0.7777777777777778, \"#fb9f3a\"], [0.8888888888888888, \"#fdca26\"], [1.0, \"#f0f921\"]]}, \"colorway\": [\"#636efa\", \"#EF553B\", \"#00cc96\", \"#ab63fa\", \"#FFA15A\", \"#19d3f3\", \"#FF6692\", \"#B6E880\", \"#FF97FF\", \"#FECB52\"], \"font\": {\"color\": \"#2a3f5f\"}, \"geo\": {\"bgcolor\": \"white\", \"lakecolor\": \"white\", \"landcolor\": \"#E5ECF6\", \"showlakes\": true, \"showland\": true, \"subunitcolor\": \"white\"}, \"hoverlabel\": {\"align\": \"left\"}, \"hovermode\": \"closest\", \"mapbox\": {\"style\": \"light\"}, \"paper_bgcolor\": \"white\", \"plot_bgcolor\": \"#E5ECF6\", \"polar\": {\"angularaxis\": {\"gridcolor\": \"white\", \"linecolor\": \"white\", \"ticks\": \"\"}, \"bgcolor\": \"#E5ECF6\", \"radialaxis\": {\"gridcolor\": \"white\", \"linecolor\": \"white\", \"ticks\": \"\"}}, \"scene\": {\"xaxis\": {\"backgroundcolor\": \"#E5ECF6\", \"gridcolor\": \"white\", \"gridwidth\": 2, \"linecolor\": \"white\", \"showbackground\": true, \"ticks\": \"\", \"zerolinecolor\": \"white\"}, \"yaxis\": {\"backgroundcolor\": \"#E5ECF6\", \"gridcolor\": \"white\", \"gridwidth\": 2, \"linecolor\": \"white\", \"showbackground\": true, \"ticks\": \"\", \"zerolinecolor\": \"white\"}, \"zaxis\": {\"backgroundcolor\": \"#E5ECF6\", \"gridcolor\": \"white\", \"gridwidth\": 2, \"linecolor\": \"white\", \"showbackground\": true, \"ticks\": \"\", \"zerolinecolor\": \"white\"}}, \"shapedefaults\": {\"line\": {\"color\": \"#2a3f5f\"}}, \"ternary\": {\"aaxis\": {\"gridcolor\": \"white\", \"linecolor\": \"white\", \"ticks\": \"\"}, \"baxis\": {\"gridcolor\": \"white\", \"linecolor\": \"white\", \"ticks\": \"\"}, \"bgcolor\": \"#E5ECF6\", \"caxis\": {\"gridcolor\": \"white\", \"linecolor\": \"white\", \"ticks\": \"\"}}, \"title\": {\"x\": 0.05}, \"xaxis\": {\"automargin\": true, \"gridcolor\": \"white\", \"linecolor\": \"white\", \"ticks\": \"\", \"title\": {\"standoff\": 15}, \"zerolinecolor\": \"white\", \"zerolinewidth\": 2}, \"yaxis\": {\"automargin\": true, \"gridcolor\": \"white\", \"linecolor\": \"white\", \"ticks\": \"\", \"title\": {\"standoff\": 15}, \"zerolinecolor\": \"white\", \"zerolinewidth\": 2}}}, \"title\": {\"font\": {\"color\": \"#4D5663\"}}, \"xaxis\": {\"gridcolor\": \"#E1E5ED\", \"showgrid\": true, \"tickfont\": {\"color\": \"#4D5663\"}, \"title\": {\"font\": {\"color\": \"#4D5663\"}, \"text\": \"\"}, \"zerolinecolor\": \"#E1E5ED\"}, \"yaxis\": {\"gridcolor\": \"#E1E5ED\", \"showgrid\": true, \"tickfont\": {\"color\": \"#4D5663\"}, \"title\": {\"font\": {\"color\": \"#4D5663\"}, \"text\": \"\"}, \"zerolinecolor\": \"#E1E5ED\"}},\n",
       "                        {\"showLink\": true, \"linkText\": \"Export to plot.ly\", \"plotlyServerURL\": \"https://plot.ly\", \"responsive\": true}\n",
       "                    ).then(function(){\n",
       "                            \n",
       "var gd = document.getElementById('9dbd0f21-5b17-4dd0-94a5-e42a743a35e9');\n",
       "var x = new MutationObserver(function (mutations, observer) {{\n",
       "        var display = window.getComputedStyle(gd).display;\n",
       "        if (!display || display === 'none') {{\n",
       "            console.log([gd, 'removed!']);\n",
       "            Plotly.purge(gd);\n",
       "            observer.disconnect();\n",
       "        }}\n",
       "}});\n",
       "\n",
       "// Listen for the removal of the full notebook cells\n",
       "var notebookContainer = gd.closest('#notebook-container');\n",
       "if (notebookContainer) {{\n",
       "    x.observe(notebookContainer, {childList: true});\n",
       "}}\n",
       "\n",
       "// Listen for the clearing of the current output cell\n",
       "var outputEl = gd.closest('.output');\n",
       "if (outputEl) {{\n",
       "    x.observe(outputEl, {childList: true});\n",
       "}}\n",
       "\n",
       "                        })\n",
       "                };\n",
       "                });\n",
       "            </script>\n",
       "        </div>"
      ]
     },
     "metadata": {},
     "output_type": "display_data"
    }
   ],
   "source": [
    "df.iplot(kind = 'bar')"
   ]
  },
  {
   "cell_type": "code",
   "execution_count": 26,
   "metadata": {},
   "outputs": [
    {
     "data": {
      "application/vnd.plotly.v1+json": {
       "config": {
        "linkText": "Export to plot.ly",
        "plotlyServerURL": "https://plot.ly",
        "showLink": true
       },
       "data": [
        {
         "boxpoints": false,
         "line": {
          "width": 1.3
         },
         "marker": {
          "color": "rgba(255, 153, 51, 1.0)"
         },
         "name": "A",
         "orientation": "v",
         "type": "box",
         "y": [
          1.3306309417176265,
          -1.0385908792182337,
          0.1874988544332731,
          -1.280273142495005,
          1.049058077764222,
          1.0611683123235378,
          1.9071191693896197,
          2.7352170168230985,
          -0.6397746814172409,
          0.8463438925366744,
          0.6654798489053015,
          0.5898888031987908,
          -0.24578070323181664,
          0.8969285206540074,
          -0.5662410084123332,
          1.0938500603836203,
          -0.12239543313528743,
          0.22232875620726475,
          -2.100252650446614,
          0.07236905792648542,
          1.4025076400931227,
          -0.5884562982794522,
          -0.9889691929554822,
          1.254073734692926,
          -0.46372972298110055,
          -0.48538707079930976,
          1.3291500350558658,
          -0.5959406223584038,
          0.8264347369014085,
          0.03382006102493553,
          -1.7403756156373102,
          -0.10120422308479786,
          -2.0763793530629675,
          0.32975298291286204,
          -0.2513970373300905,
          1.0686811177498006,
          -1.287088310176192,
          1.7189073509803223,
          -2.1812920330972028,
          -1.653046828768346,
          -0.6299599276446443,
          -0.6603974395461192,
          1.9616869789233804,
          0.8559600837851427,
          0.6831248737350233,
          -0.28491484930330135,
          2.273199289527967,
          -0.6001597532078587,
          -1.0362480369487086,
          1.277052361551702,
          0.716203215161114,
          -0.07102696522231514,
          -2.033535045783543,
          -0.7538182027296547,
          0.0013298173934843229,
          2.012898833923275,
          1.2880410548949353,
          0.4014209245850137,
          -0.7741539809820434,
          0.7252590743472118,
          -0.8483347797463456,
          -0.49958477134736623,
          0.14473176345929775,
          -0.8034821874756903,
          -1.351101132144767,
          0.6170023030683952,
          -1.891397712945495,
          -0.9383709684301289,
          -0.41277249311839675,
          -1.591460336585324,
          -0.8097421575333087,
          2.2616634455467683,
          -0.11339795454097942,
          -0.14794045700105715,
          -0.2163222303007041,
          0.47811209099295643,
          -1.0224603818250957,
          1.7108857580680352,
          1.1466963877389036,
          0.4356283563208712,
          0.01784311691288129,
          0.11980539540514351,
          0.3947055397125486,
          0.7596655979349227,
          -0.21600082570836415,
          -0.023137565460243193,
          0.017163582231720136,
          0.21032173566674786,
          -0.389023597520661,
          -0.19793727668987773,
          -0.29492035190757415,
          -1.2411400701237552,
          0.39606779670549547,
          -0.9150253620940234,
          -0.5257507006499514,
          1.8243832582774786,
          -0.1125237963450426,
          -2.7739318359255813,
          -0.0898090875362181,
          0.8328315823372676
         ]
        },
        {
         "boxpoints": false,
         "line": {
          "width": 1.3
         },
         "marker": {
          "color": "rgba(55, 128, 191, 1.0)"
         },
         "name": "B",
         "orientation": "v",
         "type": "box",
         "y": [
          -0.8077541023962002,
          0.7565634938517336,
          1.1237573596606032,
          -0.39565919347789863,
          0.0549785621201317,
          1.366502617290853,
          -1.3230694814486699,
          0.7387889439830942,
          -1.199480435930739,
          -2.282949284120805,
          -0.11425954367285318,
          0.8220010850043288,
          -1.1018014057796768,
          0.2503149600873541,
          1.1736158070252711,
          0.6947821804303227,
          0.5283230210516395,
          0.02697684131203542,
          1.2281054446817783,
          0.30732376074071527,
          -1.8252020255670138,
          2.6418773394416872,
          0.4006178825484417,
          0.5288086239368401,
          0.42863236503672264,
          0.30564260765961393,
          1.2778053713476605,
          1.472255914104073,
          0.05872832874232765,
          0.7251880601234464,
          -0.2138418181358444,
          -2.0005260137365877,
          1.534647810447825,
          2.084477685137188,
          2.7052715499038764,
          0.6695822248372039,
          -0.06518920375824615,
          -1.9049080959097124,
          1.2169413778613276,
          -2.03197874321166,
          1.4546371527133481,
          0.1989084957309017,
          -1.7818535501801909,
          2.0004508452916028,
          1.6296031993340103,
          0.24500116269463681,
          0.5640050900164671,
          0.5904149850770735,
          0.3823351716117955,
          1.7376514275808248,
          -0.8979434180678454,
          0.5914107965134787,
          0.4234285284764335,
          -0.6922168342136781,
          -0.6970659041760846,
          -1.4925661057491024,
          0.4165199828435986,
          -0.17973830756700138,
          -0.1899146526268394,
          0.5206315273626101,
          -0.06918200176339967,
          -0.7240010125943824,
          1.2793270686278744,
          0.3365658155828963,
          -2.0232355137365383,
          -1.955386468277755,
          1.0471304394836258,
          -0.3234898040130142,
          0.7452124347332417,
          0.9305259702811042,
          -0.7515431305554422,
          1.9675896545741405,
          0.28748431790382417,
          -0.19642992033258458,
          -0.49064884204819204,
          0.18816479377724749,
          0.07676733695429527,
          0.49804273677106,
          0.34102017267473134,
          0.7200324639469576,
          0.0606644111172542,
          -0.6137673524489353,
          0.6592257674514602,
          -1.367796620444945,
          1.3767073670816232,
          -0.6286369092359241,
          -2.659475702790765,
          0.06032259735863327,
          1.0736657620512429,
          -0.8494551963668133,
          0.7416402492100004,
          1.2144400487378093,
          0.41762560003557575,
          -0.40527781652274925,
          -0.31652693291467393,
          0.3028904622839831,
          -0.20221592711223793,
          0.14151449129352375,
          -0.08920104667800999,
          0.45969093794151544
         ]
        },
        {
         "boxpoints": false,
         "line": {
          "width": 1.3
         },
         "marker": {
          "color": "rgba(50, 171, 96, 1.0)"
         },
         "name": "C",
         "orientation": "v",
         "type": "box",
         "y": [
          0.3656651539700398,
          -2.024621508933484,
          -0.17595214258639766,
          0.38752123388547627,
          -0.40098108684220674,
          0.7047994399031737,
          0.6111222021594415,
          0.2984057022335293,
          -0.5054188984967285,
          0.12024912953358627,
          0.03658450937199128,
          -0.28327791808777447,
          -1.3967097446357228,
          1.1161579807451723,
          -0.02769518065720461,
          0.3824321539746692,
          0.5477711577384979,
          0.08142385667673246,
          1.3064477629658349,
          -0.16079346035363284,
          1.3087896864926647,
          0.3062345125176454,
          0.09288871560599347,
          0.1293533941503134,
          0.5788875746115371,
          0.01434073846552713,
          -1.8944062485400481,
          1.8888049406514158,
          -0.4776845884066758,
          1.2764291854498908,
          -0.5042490922031749,
          -0.7801119239008675,
          1.3421330442051493,
          0.672714533915635,
          0.9893919285907951,
          0.8494961107716652,
          0.5838121382918745,
          1.250930509255457,
          1.09968861421728,
          -0.04163656113428267,
          0.05322861552611884,
          -0.6125501183133603,
          -1.2206193313774207,
          0.144642554577054,
          -1.319235756758065,
          0.19491832305045914,
          -0.775115685297024,
          1.0167592539070043,
          0.983563546849777,
          -0.39039835223133834,
          -0.8284730578893609,
          -0.3936660846606071,
          0.6232568363690445,
          -0.6333224212073132,
          1.0650741192534734,
          -2.1686623348824674,
          -1.228154969602673,
          -0.9977266640263869,
          0.9726160769808196,
          0.2930229304519651,
          -0.4821496574965753,
          -0.5846169212147282,
          -0.9316895418709534,
          -1.2179313081717043,
          -2.074013254064868,
          0.09682363701248563,
          -0.38151715167604977,
          0.49188500666415497,
          -0.725306836736184,
          -0.8246979833109914,
          -1.3562429729164502,
          0.2673330090054745,
          1.2924557312605747,
          0.24010807839265333,
          -0.1525097779159531,
          0.013773240989478044,
          0.801672870583813,
          2.6129068949654126,
          -0.004835514247692923,
          0.00038433475050008765,
          0.3768613102888822,
          1.5852792940187583,
          -1.2303409245158452,
          0.10101802359198322,
          0.8844781483544862,
          -0.8811133498746999,
          0.373372580639977,
          -0.40411158698473626,
          1.3672213632922996,
          0.30692054933826124,
          0.2980331198680305,
          -1.6977885063533618,
          0.9342253811855618,
          0.6893014976844566,
          -0.7823612487342642,
          -0.9297453414885516,
          0.8523734371748879,
          -0.23312884194180006,
          0.4116455392105631,
          -0.2530425260066888
         ]
        },
        {
         "boxpoints": false,
         "line": {
          "width": 1.3
         },
         "marker": {
          "color": "rgba(128, 0, 128, 1.0)"
         },
         "name": "D",
         "orientation": "v",
         "type": "box",
         "y": [
          0.7975416162339963,
          -0.21940657560340165,
          -0.6495223186326463,
          -1.1045817227401677,
          -0.7193189821090035,
          -0.8349004696712116,
          -1.1270940359263222,
          0.045792655428507856,
          -0.916793147440208,
          0.9213674139500968,
          -0.5886707980598632,
          -0.09356438719274726,
          1.1920978378959821,
          -0.8317211629636166,
          -0.38109088723742296,
          0.5766422340104451,
          0.43763503347873917,
          -0.41169971859837184,
          -0.46590127089055766,
          0.20217738254294637,
          -1.669518712654215,
          -0.5111871906175561,
          -0.6298861572186296,
          0.8089227351774407,
          -0.017502244639379758,
          0.5470549245950116,
          1.205281769483588,
          1.037057423581387,
          0.09557849773090253,
          0.57333584353472,
          -0.6736607481399736,
          0.02354881168542178,
          0.16149816470751635,
          -0.18720501878333623,
          -1.0368909880884163,
          0.06346118185626269,
          1.8593973699740949,
          1.4227284353103165,
          -0.03745067461314494,
          0.7018509417552491,
          0.37484070339401815,
          0.4490068546525637,
          0.05210196611094483,
          -0.1701316667373229,
          0.9975858765520681,
          0.5679231522183869,
          0.7333534143683618,
          -0.4881841277696792,
          -0.7735029325895608,
          0.01891691584424374,
          -1.2359148304241079,
          -0.8896197467687542,
          -0.10908281293793401,
          1.688463700552174,
          -0.23667063256752122,
          -0.0006127191057447444,
          -1.3901015766075688,
          -0.07471253156201306,
          -0.17391167365707075,
          0.18494588958463734,
          -0.8072660199829106,
          0.5042274950958247,
          1.430319628227963,
          -1.0432237869179202,
          0.6069703153867475,
          -0.9659360808606309,
          1.6956317931889817,
          0.1934229329498793,
          -0.3234302239208796,
          -0.5653941531404442,
          1.4294978718028493,
          -0.4667825162224206,
          0.8159024534431725,
          -0.27577624975932374,
          0.05785711289876522,
          1.4902936128030226,
          0.9452236842836307,
          1.34821155748868,
          -0.9335093588384209,
          0.7629837548409932,
          -0.9040802654809437,
          -0.8912568923745329,
          -0.7504395625157962,
          0.5435144524350202,
          1.47191507660395,
          -1.9599202433457479,
          -0.09907887392997437,
          1.4770671005625244,
          0.40572998591662657,
          0.09857348353580996,
          0.23264132362483203,
          0.9966223626862929,
          -0.23378918797685888,
          -0.8122495069200328,
          0.7783050772190407,
          -0.9721164857966254,
          0.4139167840603344,
          0.6505919351452365,
          -1.4765433004431558,
          -0.2272361110201322
         ]
        }
       ],
       "layout": {
        "legend": {
         "bgcolor": "#F5F6F9",
         "font": {
          "color": "#4D5663"
         }
        },
        "paper_bgcolor": "#F5F6F9",
        "plot_bgcolor": "#F5F6F9",
        "template": {
         "data": {
          "bar": [
           {
            "error_x": {
             "color": "#2a3f5f"
            },
            "error_y": {
             "color": "#2a3f5f"
            },
            "marker": {
             "line": {
              "color": "#E5ECF6",
              "width": 0.5
             }
            },
            "type": "bar"
           }
          ],
          "barpolar": [
           {
            "marker": {
             "line": {
              "color": "#E5ECF6",
              "width": 0.5
             }
            },
            "type": "barpolar"
           }
          ],
          "carpet": [
           {
            "aaxis": {
             "endlinecolor": "#2a3f5f",
             "gridcolor": "white",
             "linecolor": "white",
             "minorgridcolor": "white",
             "startlinecolor": "#2a3f5f"
            },
            "baxis": {
             "endlinecolor": "#2a3f5f",
             "gridcolor": "white",
             "linecolor": "white",
             "minorgridcolor": "white",
             "startlinecolor": "#2a3f5f"
            },
            "type": "carpet"
           }
          ],
          "choropleth": [
           {
            "colorbar": {
             "outlinewidth": 0,
             "ticks": ""
            },
            "type": "choropleth"
           }
          ],
          "contour": [
           {
            "colorbar": {
             "outlinewidth": 0,
             "ticks": ""
            },
            "colorscale": [
             [
              0,
              "#0d0887"
             ],
             [
              0.1111111111111111,
              "#46039f"
             ],
             [
              0.2222222222222222,
              "#7201a8"
             ],
             [
              0.3333333333333333,
              "#9c179e"
             ],
             [
              0.4444444444444444,
              "#bd3786"
             ],
             [
              0.5555555555555556,
              "#d8576b"
             ],
             [
              0.6666666666666666,
              "#ed7953"
             ],
             [
              0.7777777777777778,
              "#fb9f3a"
             ],
             [
              0.8888888888888888,
              "#fdca26"
             ],
             [
              1,
              "#f0f921"
             ]
            ],
            "type": "contour"
           }
          ],
          "contourcarpet": [
           {
            "colorbar": {
             "outlinewidth": 0,
             "ticks": ""
            },
            "type": "contourcarpet"
           }
          ],
          "heatmap": [
           {
            "colorbar": {
             "outlinewidth": 0,
             "ticks": ""
            },
            "colorscale": [
             [
              0,
              "#0d0887"
             ],
             [
              0.1111111111111111,
              "#46039f"
             ],
             [
              0.2222222222222222,
              "#7201a8"
             ],
             [
              0.3333333333333333,
              "#9c179e"
             ],
             [
              0.4444444444444444,
              "#bd3786"
             ],
             [
              0.5555555555555556,
              "#d8576b"
             ],
             [
              0.6666666666666666,
              "#ed7953"
             ],
             [
              0.7777777777777778,
              "#fb9f3a"
             ],
             [
              0.8888888888888888,
              "#fdca26"
             ],
             [
              1,
              "#f0f921"
             ]
            ],
            "type": "heatmap"
           }
          ],
          "heatmapgl": [
           {
            "colorbar": {
             "outlinewidth": 0,
             "ticks": ""
            },
            "colorscale": [
             [
              0,
              "#0d0887"
             ],
             [
              0.1111111111111111,
              "#46039f"
             ],
             [
              0.2222222222222222,
              "#7201a8"
             ],
             [
              0.3333333333333333,
              "#9c179e"
             ],
             [
              0.4444444444444444,
              "#bd3786"
             ],
             [
              0.5555555555555556,
              "#d8576b"
             ],
             [
              0.6666666666666666,
              "#ed7953"
             ],
             [
              0.7777777777777778,
              "#fb9f3a"
             ],
             [
              0.8888888888888888,
              "#fdca26"
             ],
             [
              1,
              "#f0f921"
             ]
            ],
            "type": "heatmapgl"
           }
          ],
          "histogram": [
           {
            "marker": {
             "colorbar": {
              "outlinewidth": 0,
              "ticks": ""
             }
            },
            "type": "histogram"
           }
          ],
          "histogram2d": [
           {
            "colorbar": {
             "outlinewidth": 0,
             "ticks": ""
            },
            "colorscale": [
             [
              0,
              "#0d0887"
             ],
             [
              0.1111111111111111,
              "#46039f"
             ],
             [
              0.2222222222222222,
              "#7201a8"
             ],
             [
              0.3333333333333333,
              "#9c179e"
             ],
             [
              0.4444444444444444,
              "#bd3786"
             ],
             [
              0.5555555555555556,
              "#d8576b"
             ],
             [
              0.6666666666666666,
              "#ed7953"
             ],
             [
              0.7777777777777778,
              "#fb9f3a"
             ],
             [
              0.8888888888888888,
              "#fdca26"
             ],
             [
              1,
              "#f0f921"
             ]
            ],
            "type": "histogram2d"
           }
          ],
          "histogram2dcontour": [
           {
            "colorbar": {
             "outlinewidth": 0,
             "ticks": ""
            },
            "colorscale": [
             [
              0,
              "#0d0887"
             ],
             [
              0.1111111111111111,
              "#46039f"
             ],
             [
              0.2222222222222222,
              "#7201a8"
             ],
             [
              0.3333333333333333,
              "#9c179e"
             ],
             [
              0.4444444444444444,
              "#bd3786"
             ],
             [
              0.5555555555555556,
              "#d8576b"
             ],
             [
              0.6666666666666666,
              "#ed7953"
             ],
             [
              0.7777777777777778,
              "#fb9f3a"
             ],
             [
              0.8888888888888888,
              "#fdca26"
             ],
             [
              1,
              "#f0f921"
             ]
            ],
            "type": "histogram2dcontour"
           }
          ],
          "mesh3d": [
           {
            "colorbar": {
             "outlinewidth": 0,
             "ticks": ""
            },
            "type": "mesh3d"
           }
          ],
          "parcoords": [
           {
            "line": {
             "colorbar": {
              "outlinewidth": 0,
              "ticks": ""
             }
            },
            "type": "parcoords"
           }
          ],
          "pie": [
           {
            "automargin": true,
            "type": "pie"
           }
          ],
          "scatter": [
           {
            "marker": {
             "colorbar": {
              "outlinewidth": 0,
              "ticks": ""
             }
            },
            "type": "scatter"
           }
          ],
          "scatter3d": [
           {
            "line": {
             "colorbar": {
              "outlinewidth": 0,
              "ticks": ""
             }
            },
            "marker": {
             "colorbar": {
              "outlinewidth": 0,
              "ticks": ""
             }
            },
            "type": "scatter3d"
           }
          ],
          "scattercarpet": [
           {
            "marker": {
             "colorbar": {
              "outlinewidth": 0,
              "ticks": ""
             }
            },
            "type": "scattercarpet"
           }
          ],
          "scattergeo": [
           {
            "marker": {
             "colorbar": {
              "outlinewidth": 0,
              "ticks": ""
             }
            },
            "type": "scattergeo"
           }
          ],
          "scattergl": [
           {
            "marker": {
             "colorbar": {
              "outlinewidth": 0,
              "ticks": ""
             }
            },
            "type": "scattergl"
           }
          ],
          "scattermapbox": [
           {
            "marker": {
             "colorbar": {
              "outlinewidth": 0,
              "ticks": ""
             }
            },
            "type": "scattermapbox"
           }
          ],
          "scatterpolar": [
           {
            "marker": {
             "colorbar": {
              "outlinewidth": 0,
              "ticks": ""
             }
            },
            "type": "scatterpolar"
           }
          ],
          "scatterpolargl": [
           {
            "marker": {
             "colorbar": {
              "outlinewidth": 0,
              "ticks": ""
             }
            },
            "type": "scatterpolargl"
           }
          ],
          "scatterternary": [
           {
            "marker": {
             "colorbar": {
              "outlinewidth": 0,
              "ticks": ""
             }
            },
            "type": "scatterternary"
           }
          ],
          "surface": [
           {
            "colorbar": {
             "outlinewidth": 0,
             "ticks": ""
            },
            "colorscale": [
             [
              0,
              "#0d0887"
             ],
             [
              0.1111111111111111,
              "#46039f"
             ],
             [
              0.2222222222222222,
              "#7201a8"
             ],
             [
              0.3333333333333333,
              "#9c179e"
             ],
             [
              0.4444444444444444,
              "#bd3786"
             ],
             [
              0.5555555555555556,
              "#d8576b"
             ],
             [
              0.6666666666666666,
              "#ed7953"
             ],
             [
              0.7777777777777778,
              "#fb9f3a"
             ],
             [
              0.8888888888888888,
              "#fdca26"
             ],
             [
              1,
              "#f0f921"
             ]
            ],
            "type": "surface"
           }
          ],
          "table": [
           {
            "cells": {
             "fill": {
              "color": "#EBF0F8"
             },
             "line": {
              "color": "white"
             }
            },
            "header": {
             "fill": {
              "color": "#C8D4E3"
             },
             "line": {
              "color": "white"
             }
            },
            "type": "table"
           }
          ]
         },
         "layout": {
          "annotationdefaults": {
           "arrowcolor": "#2a3f5f",
           "arrowhead": 0,
           "arrowwidth": 1
          },
          "coloraxis": {
           "colorbar": {
            "outlinewidth": 0,
            "ticks": ""
           }
          },
          "colorscale": {
           "diverging": [
            [
             0,
             "#8e0152"
            ],
            [
             0.1,
             "#c51b7d"
            ],
            [
             0.2,
             "#de77ae"
            ],
            [
             0.3,
             "#f1b6da"
            ],
            [
             0.4,
             "#fde0ef"
            ],
            [
             0.5,
             "#f7f7f7"
            ],
            [
             0.6,
             "#e6f5d0"
            ],
            [
             0.7,
             "#b8e186"
            ],
            [
             0.8,
             "#7fbc41"
            ],
            [
             0.9,
             "#4d9221"
            ],
            [
             1,
             "#276419"
            ]
           ],
           "sequential": [
            [
             0,
             "#0d0887"
            ],
            [
             0.1111111111111111,
             "#46039f"
            ],
            [
             0.2222222222222222,
             "#7201a8"
            ],
            [
             0.3333333333333333,
             "#9c179e"
            ],
            [
             0.4444444444444444,
             "#bd3786"
            ],
            [
             0.5555555555555556,
             "#d8576b"
            ],
            [
             0.6666666666666666,
             "#ed7953"
            ],
            [
             0.7777777777777778,
             "#fb9f3a"
            ],
            [
             0.8888888888888888,
             "#fdca26"
            ],
            [
             1,
             "#f0f921"
            ]
           ],
           "sequentialminus": [
            [
             0,
             "#0d0887"
            ],
            [
             0.1111111111111111,
             "#46039f"
            ],
            [
             0.2222222222222222,
             "#7201a8"
            ],
            [
             0.3333333333333333,
             "#9c179e"
            ],
            [
             0.4444444444444444,
             "#bd3786"
            ],
            [
             0.5555555555555556,
             "#d8576b"
            ],
            [
             0.6666666666666666,
             "#ed7953"
            ],
            [
             0.7777777777777778,
             "#fb9f3a"
            ],
            [
             0.8888888888888888,
             "#fdca26"
            ],
            [
             1,
             "#f0f921"
            ]
           ]
          },
          "colorway": [
           "#636efa",
           "#EF553B",
           "#00cc96",
           "#ab63fa",
           "#FFA15A",
           "#19d3f3",
           "#FF6692",
           "#B6E880",
           "#FF97FF",
           "#FECB52"
          ],
          "font": {
           "color": "#2a3f5f"
          },
          "geo": {
           "bgcolor": "white",
           "lakecolor": "white",
           "landcolor": "#E5ECF6",
           "showlakes": true,
           "showland": true,
           "subunitcolor": "white"
          },
          "hoverlabel": {
           "align": "left"
          },
          "hovermode": "closest",
          "mapbox": {
           "style": "light"
          },
          "paper_bgcolor": "white",
          "plot_bgcolor": "#E5ECF6",
          "polar": {
           "angularaxis": {
            "gridcolor": "white",
            "linecolor": "white",
            "ticks": ""
           },
           "bgcolor": "#E5ECF6",
           "radialaxis": {
            "gridcolor": "white",
            "linecolor": "white",
            "ticks": ""
           }
          },
          "scene": {
           "xaxis": {
            "backgroundcolor": "#E5ECF6",
            "gridcolor": "white",
            "gridwidth": 2,
            "linecolor": "white",
            "showbackground": true,
            "ticks": "",
            "zerolinecolor": "white"
           },
           "yaxis": {
            "backgroundcolor": "#E5ECF6",
            "gridcolor": "white",
            "gridwidth": 2,
            "linecolor": "white",
            "showbackground": true,
            "ticks": "",
            "zerolinecolor": "white"
           },
           "zaxis": {
            "backgroundcolor": "#E5ECF6",
            "gridcolor": "white",
            "gridwidth": 2,
            "linecolor": "white",
            "showbackground": true,
            "ticks": "",
            "zerolinecolor": "white"
           }
          },
          "shapedefaults": {
           "line": {
            "color": "#2a3f5f"
           }
          },
          "ternary": {
           "aaxis": {
            "gridcolor": "white",
            "linecolor": "white",
            "ticks": ""
           },
           "baxis": {
            "gridcolor": "white",
            "linecolor": "white",
            "ticks": ""
           },
           "bgcolor": "#E5ECF6",
           "caxis": {
            "gridcolor": "white",
            "linecolor": "white",
            "ticks": ""
           }
          },
          "title": {
           "x": 0.05
          },
          "xaxis": {
           "automargin": true,
           "gridcolor": "white",
           "linecolor": "white",
           "ticks": "",
           "title": {
            "standoff": 15
           },
           "zerolinecolor": "white",
           "zerolinewidth": 2
          },
          "yaxis": {
           "automargin": true,
           "gridcolor": "white",
           "linecolor": "white",
           "ticks": "",
           "title": {
            "standoff": 15
           },
           "zerolinecolor": "white",
           "zerolinewidth": 2
          }
         }
        },
        "title": {
         "font": {
          "color": "#4D5663"
         }
        },
        "xaxis": {
         "gridcolor": "#E1E5ED",
         "showgrid": true,
         "tickfont": {
          "color": "#4D5663"
         },
         "title": {
          "font": {
           "color": "#4D5663"
          },
          "text": ""
         },
         "zerolinecolor": "#E1E5ED"
        },
        "yaxis": {
         "gridcolor": "#E1E5ED",
         "showgrid": true,
         "tickfont": {
          "color": "#4D5663"
         },
         "title": {
          "font": {
           "color": "#4D5663"
          },
          "text": ""
         },
         "zerolinecolor": "#E1E5ED"
        }
       }
      },
      "text/html": [
       "<div>\n",
       "        \n",
       "        \n",
       "            <div id=\"a064dd65-2264-417e-aeb0-fe25ad3e61bf\" class=\"plotly-graph-div\" style=\"height:525px; width:100%;\"></div>\n",
       "            <script type=\"text/javascript\">\n",
       "                require([\"plotly\"], function(Plotly) {\n",
       "                    window.PLOTLYENV=window.PLOTLYENV || {};\n",
       "                    window.PLOTLYENV.BASE_URL='https://plot.ly';\n",
       "                    \n",
       "                if (document.getElementById(\"a064dd65-2264-417e-aeb0-fe25ad3e61bf\")) {\n",
       "                    Plotly.newPlot(\n",
       "                        'a064dd65-2264-417e-aeb0-fe25ad3e61bf',\n",
       "                        [{\"boxpoints\": false, \"line\": {\"width\": 1.3}, \"marker\": {\"color\": \"rgba(255, 153, 51, 1.0)\"}, \"name\": \"A\", \"orientation\": \"v\", \"type\": \"box\", \"y\": [1.3306309417176265, -1.0385908792182337, 0.1874988544332731, -1.280273142495005, 1.049058077764222, 1.0611683123235378, 1.9071191693896197, 2.7352170168230985, -0.6397746814172409, 0.8463438925366744, 0.6654798489053015, 0.5898888031987908, -0.24578070323181664, 0.8969285206540074, -0.5662410084123332, 1.0938500603836203, -0.12239543313528743, 0.22232875620726475, -2.100252650446614, 0.07236905792648542, 1.4025076400931227, -0.5884562982794522, -0.9889691929554822, 1.254073734692926, -0.46372972298110055, -0.48538707079930976, 1.3291500350558658, -0.5959406223584038, 0.8264347369014085, 0.03382006102493553, -1.7403756156373102, -0.10120422308479786, -2.0763793530629675, 0.32975298291286204, -0.2513970373300905, 1.0686811177498006, -1.287088310176192, 1.7189073509803223, -2.1812920330972028, -1.653046828768346, -0.6299599276446443, -0.6603974395461192, 1.9616869789233804, 0.8559600837851427, 0.6831248737350233, -0.28491484930330135, 2.273199289527967, -0.6001597532078587, -1.0362480369487086, 1.277052361551702, 0.716203215161114, -0.07102696522231514, -2.033535045783543, -0.7538182027296547, 0.0013298173934843229, 2.012898833923275, 1.2880410548949353, 0.4014209245850137, -0.7741539809820434, 0.7252590743472118, -0.8483347797463456, -0.49958477134736623, 0.14473176345929775, -0.8034821874756903, -1.351101132144767, 0.6170023030683952, -1.891397712945495, -0.9383709684301289, -0.41277249311839675, -1.591460336585324, -0.8097421575333087, 2.2616634455467683, -0.11339795454097942, -0.14794045700105715, -0.2163222303007041, 0.47811209099295643, -1.0224603818250957, 1.7108857580680352, 1.1466963877389036, 0.4356283563208712, 0.01784311691288129, 0.11980539540514351, 0.3947055397125486, 0.7596655979349227, -0.21600082570836415, -0.023137565460243193, 0.017163582231720136, 0.21032173566674786, -0.389023597520661, -0.19793727668987773, -0.29492035190757415, -1.2411400701237552, 0.39606779670549547, -0.9150253620940234, -0.5257507006499514, 1.8243832582774786, -0.1125237963450426, -2.7739318359255813, -0.0898090875362181, 0.8328315823372676]}, {\"boxpoints\": false, \"line\": {\"width\": 1.3}, \"marker\": {\"color\": \"rgba(55, 128, 191, 1.0)\"}, \"name\": \"B\", \"orientation\": \"v\", \"type\": \"box\", \"y\": [-0.8077541023962002, 0.7565634938517336, 1.1237573596606032, -0.39565919347789863, 0.0549785621201317, 1.366502617290853, -1.3230694814486699, 0.7387889439830942, -1.199480435930739, -2.282949284120805, -0.11425954367285318, 0.8220010850043288, -1.1018014057796768, 0.2503149600873541, 1.1736158070252711, 0.6947821804303227, 0.5283230210516395, 0.02697684131203542, 1.2281054446817783, 0.30732376074071527, -1.8252020255670138, 2.6418773394416872, 0.4006178825484417, 0.5288086239368401, 0.42863236503672264, 0.30564260765961393, 1.2778053713476605, 1.472255914104073, 0.05872832874232765, 0.7251880601234464, -0.2138418181358444, -2.0005260137365877, 1.534647810447825, 2.084477685137188, 2.7052715499038764, 0.6695822248372039, -0.06518920375824615, -1.9049080959097124, 1.2169413778613276, -2.03197874321166, 1.4546371527133481, 0.1989084957309017, -1.7818535501801909, 2.0004508452916028, 1.6296031993340103, 0.24500116269463681, 0.5640050900164671, 0.5904149850770735, 0.3823351716117955, 1.7376514275808248, -0.8979434180678454, 0.5914107965134787, 0.4234285284764335, -0.6922168342136781, -0.6970659041760846, -1.4925661057491024, 0.4165199828435986, -0.17973830756700138, -0.1899146526268394, 0.5206315273626101, -0.06918200176339967, -0.7240010125943824, 1.2793270686278744, 0.3365658155828963, -2.0232355137365383, -1.955386468277755, 1.0471304394836258, -0.3234898040130142, 0.7452124347332417, 0.9305259702811042, -0.7515431305554422, 1.9675896545741405, 0.28748431790382417, -0.19642992033258458, -0.49064884204819204, 0.18816479377724749, 0.07676733695429527, 0.49804273677106, 0.34102017267473134, 0.7200324639469576, 0.0606644111172542, -0.6137673524489353, 0.6592257674514602, -1.367796620444945, 1.3767073670816232, -0.6286369092359241, -2.659475702790765, 0.06032259735863327, 1.0736657620512429, -0.8494551963668133, 0.7416402492100004, 1.2144400487378093, 0.41762560003557575, -0.40527781652274925, -0.31652693291467393, 0.3028904622839831, -0.20221592711223793, 0.14151449129352375, -0.08920104667800999, 0.45969093794151544]}, {\"boxpoints\": false, \"line\": {\"width\": 1.3}, \"marker\": {\"color\": \"rgba(50, 171, 96, 1.0)\"}, \"name\": \"C\", \"orientation\": \"v\", \"type\": \"box\", \"y\": [0.3656651539700398, -2.024621508933484, -0.17595214258639766, 0.38752123388547627, -0.40098108684220674, 0.7047994399031737, 0.6111222021594415, 0.2984057022335293, -0.5054188984967285, 0.12024912953358627, 0.03658450937199128, -0.28327791808777447, -1.3967097446357228, 1.1161579807451723, -0.02769518065720461, 0.3824321539746692, 0.5477711577384979, 0.08142385667673246, 1.3064477629658349, -0.16079346035363284, 1.3087896864926647, 0.3062345125176454, 0.09288871560599347, 0.1293533941503134, 0.5788875746115371, 0.01434073846552713, -1.8944062485400481, 1.8888049406514158, -0.4776845884066758, 1.2764291854498908, -0.5042490922031749, -0.7801119239008675, 1.3421330442051493, 0.672714533915635, 0.9893919285907951, 0.8494961107716652, 0.5838121382918745, 1.250930509255457, 1.09968861421728, -0.04163656113428267, 0.05322861552611884, -0.6125501183133603, -1.2206193313774207, 0.144642554577054, -1.319235756758065, 0.19491832305045914, -0.775115685297024, 1.0167592539070043, 0.983563546849777, -0.39039835223133834, -0.8284730578893609, -0.3936660846606071, 0.6232568363690445, -0.6333224212073132, 1.0650741192534734, -2.1686623348824674, -1.228154969602673, -0.9977266640263869, 0.9726160769808196, 0.2930229304519651, -0.4821496574965753, -0.5846169212147282, -0.9316895418709534, -1.2179313081717043, -2.074013254064868, 0.09682363701248563, -0.38151715167604977, 0.49188500666415497, -0.725306836736184, -0.8246979833109914, -1.3562429729164502, 0.2673330090054745, 1.2924557312605747, 0.24010807839265333, -0.1525097779159531, 0.013773240989478044, 0.801672870583813, 2.6129068949654126, -0.004835514247692923, 0.00038433475050008765, 0.3768613102888822, 1.5852792940187583, -1.2303409245158452, 0.10101802359198322, 0.8844781483544862, -0.8811133498746999, 0.373372580639977, -0.40411158698473626, 1.3672213632922996, 0.30692054933826124, 0.2980331198680305, -1.6977885063533618, 0.9342253811855618, 0.6893014976844566, -0.7823612487342642, -0.9297453414885516, 0.8523734371748879, -0.23312884194180006, 0.4116455392105631, -0.2530425260066888]}, {\"boxpoints\": false, \"line\": {\"width\": 1.3}, \"marker\": {\"color\": \"rgba(128, 0, 128, 1.0)\"}, \"name\": \"D\", \"orientation\": \"v\", \"type\": \"box\", \"y\": [0.7975416162339963, -0.21940657560340165, -0.6495223186326463, -1.1045817227401677, -0.7193189821090035, -0.8349004696712116, -1.1270940359263222, 0.045792655428507856, -0.916793147440208, 0.9213674139500968, -0.5886707980598632, -0.09356438719274726, 1.1920978378959821, -0.8317211629636166, -0.38109088723742296, 0.5766422340104451, 0.43763503347873917, -0.41169971859837184, -0.46590127089055766, 0.20217738254294637, -1.669518712654215, -0.5111871906175561, -0.6298861572186296, 0.8089227351774407, -0.017502244639379758, 0.5470549245950116, 1.205281769483588, 1.037057423581387, 0.09557849773090253, 0.57333584353472, -0.6736607481399736, 0.02354881168542178, 0.16149816470751635, -0.18720501878333623, -1.0368909880884163, 0.06346118185626269, 1.8593973699740949, 1.4227284353103165, -0.03745067461314494, 0.7018509417552491, 0.37484070339401815, 0.4490068546525637, 0.05210196611094483, -0.1701316667373229, 0.9975858765520681, 0.5679231522183869, 0.7333534143683618, -0.4881841277696792, -0.7735029325895608, 0.01891691584424374, -1.2359148304241079, -0.8896197467687542, -0.10908281293793401, 1.688463700552174, -0.23667063256752122, -0.0006127191057447444, -1.3901015766075688, -0.07471253156201306, -0.17391167365707075, 0.18494588958463734, -0.8072660199829106, 0.5042274950958247, 1.430319628227963, -1.0432237869179202, 0.6069703153867475, -0.9659360808606309, 1.6956317931889817, 0.1934229329498793, -0.3234302239208796, -0.5653941531404442, 1.4294978718028493, -0.4667825162224206, 0.8159024534431725, -0.27577624975932374, 0.05785711289876522, 1.4902936128030226, 0.9452236842836307, 1.34821155748868, -0.9335093588384209, 0.7629837548409932, -0.9040802654809437, -0.8912568923745329, -0.7504395625157962, 0.5435144524350202, 1.47191507660395, -1.9599202433457479, -0.09907887392997437, 1.4770671005625244, 0.40572998591662657, 0.09857348353580996, 0.23264132362483203, 0.9966223626862929, -0.23378918797685888, -0.8122495069200328, 0.7783050772190407, -0.9721164857966254, 0.4139167840603344, 0.6505919351452365, -1.4765433004431558, -0.2272361110201322]}],\n",
       "                        {\"legend\": {\"bgcolor\": \"#F5F6F9\", \"font\": {\"color\": \"#4D5663\"}}, \"paper_bgcolor\": \"#F5F6F9\", \"plot_bgcolor\": \"#F5F6F9\", \"template\": {\"data\": {\"bar\": [{\"error_x\": {\"color\": \"#2a3f5f\"}, \"error_y\": {\"color\": \"#2a3f5f\"}, \"marker\": {\"line\": {\"color\": \"#E5ECF6\", \"width\": 0.5}}, \"type\": \"bar\"}], \"barpolar\": [{\"marker\": {\"line\": {\"color\": \"#E5ECF6\", \"width\": 0.5}}, \"type\": \"barpolar\"}], \"carpet\": [{\"aaxis\": {\"endlinecolor\": \"#2a3f5f\", \"gridcolor\": \"white\", \"linecolor\": \"white\", \"minorgridcolor\": \"white\", \"startlinecolor\": \"#2a3f5f\"}, \"baxis\": {\"endlinecolor\": \"#2a3f5f\", \"gridcolor\": \"white\", \"linecolor\": \"white\", \"minorgridcolor\": \"white\", \"startlinecolor\": \"#2a3f5f\"}, \"type\": \"carpet\"}], \"choropleth\": [{\"colorbar\": {\"outlinewidth\": 0, \"ticks\": \"\"}, \"type\": \"choropleth\"}], \"contour\": [{\"colorbar\": {\"outlinewidth\": 0, \"ticks\": \"\"}, \"colorscale\": [[0.0, \"#0d0887\"], [0.1111111111111111, \"#46039f\"], [0.2222222222222222, \"#7201a8\"], [0.3333333333333333, \"#9c179e\"], [0.4444444444444444, \"#bd3786\"], [0.5555555555555556, \"#d8576b\"], [0.6666666666666666, \"#ed7953\"], [0.7777777777777778, \"#fb9f3a\"], [0.8888888888888888, \"#fdca26\"], [1.0, \"#f0f921\"]], \"type\": \"contour\"}], \"contourcarpet\": [{\"colorbar\": {\"outlinewidth\": 0, \"ticks\": \"\"}, \"type\": \"contourcarpet\"}], \"heatmap\": [{\"colorbar\": {\"outlinewidth\": 0, \"ticks\": \"\"}, \"colorscale\": [[0.0, \"#0d0887\"], [0.1111111111111111, \"#46039f\"], [0.2222222222222222, \"#7201a8\"], [0.3333333333333333, \"#9c179e\"], [0.4444444444444444, \"#bd3786\"], [0.5555555555555556, \"#d8576b\"], [0.6666666666666666, \"#ed7953\"], [0.7777777777777778, \"#fb9f3a\"], [0.8888888888888888, \"#fdca26\"], [1.0, \"#f0f921\"]], \"type\": \"heatmap\"}], \"heatmapgl\": [{\"colorbar\": {\"outlinewidth\": 0, \"ticks\": \"\"}, \"colorscale\": [[0.0, \"#0d0887\"], [0.1111111111111111, \"#46039f\"], [0.2222222222222222, \"#7201a8\"], [0.3333333333333333, \"#9c179e\"], [0.4444444444444444, \"#bd3786\"], [0.5555555555555556, \"#d8576b\"], [0.6666666666666666, \"#ed7953\"], [0.7777777777777778, \"#fb9f3a\"], [0.8888888888888888, \"#fdca26\"], [1.0, \"#f0f921\"]], \"type\": \"heatmapgl\"}], \"histogram\": [{\"marker\": {\"colorbar\": {\"outlinewidth\": 0, \"ticks\": \"\"}}, \"type\": \"histogram\"}], \"histogram2d\": [{\"colorbar\": {\"outlinewidth\": 0, \"ticks\": \"\"}, \"colorscale\": [[0.0, \"#0d0887\"], [0.1111111111111111, \"#46039f\"], [0.2222222222222222, \"#7201a8\"], [0.3333333333333333, \"#9c179e\"], [0.4444444444444444, \"#bd3786\"], [0.5555555555555556, \"#d8576b\"], [0.6666666666666666, \"#ed7953\"], [0.7777777777777778, \"#fb9f3a\"], [0.8888888888888888, \"#fdca26\"], [1.0, \"#f0f921\"]], \"type\": \"histogram2d\"}], \"histogram2dcontour\": [{\"colorbar\": {\"outlinewidth\": 0, \"ticks\": \"\"}, \"colorscale\": [[0.0, \"#0d0887\"], [0.1111111111111111, \"#46039f\"], [0.2222222222222222, \"#7201a8\"], [0.3333333333333333, \"#9c179e\"], [0.4444444444444444, \"#bd3786\"], [0.5555555555555556, \"#d8576b\"], [0.6666666666666666, \"#ed7953\"], [0.7777777777777778, \"#fb9f3a\"], [0.8888888888888888, \"#fdca26\"], [1.0, \"#f0f921\"]], \"type\": \"histogram2dcontour\"}], \"mesh3d\": [{\"colorbar\": {\"outlinewidth\": 0, \"ticks\": \"\"}, \"type\": \"mesh3d\"}], \"parcoords\": [{\"line\": {\"colorbar\": {\"outlinewidth\": 0, \"ticks\": \"\"}}, \"type\": \"parcoords\"}], \"pie\": [{\"automargin\": true, \"type\": \"pie\"}], \"scatter\": [{\"marker\": {\"colorbar\": {\"outlinewidth\": 0, \"ticks\": \"\"}}, \"type\": \"scatter\"}], \"scatter3d\": [{\"line\": {\"colorbar\": {\"outlinewidth\": 0, \"ticks\": \"\"}}, \"marker\": {\"colorbar\": {\"outlinewidth\": 0, \"ticks\": \"\"}}, \"type\": \"scatter3d\"}], \"scattercarpet\": [{\"marker\": {\"colorbar\": {\"outlinewidth\": 0, \"ticks\": \"\"}}, \"type\": \"scattercarpet\"}], \"scattergeo\": [{\"marker\": {\"colorbar\": {\"outlinewidth\": 0, \"ticks\": \"\"}}, \"type\": \"scattergeo\"}], \"scattergl\": [{\"marker\": {\"colorbar\": {\"outlinewidth\": 0, \"ticks\": \"\"}}, \"type\": \"scattergl\"}], \"scattermapbox\": [{\"marker\": {\"colorbar\": {\"outlinewidth\": 0, \"ticks\": \"\"}}, \"type\": \"scattermapbox\"}], \"scatterpolar\": [{\"marker\": {\"colorbar\": {\"outlinewidth\": 0, \"ticks\": \"\"}}, \"type\": \"scatterpolar\"}], \"scatterpolargl\": [{\"marker\": {\"colorbar\": {\"outlinewidth\": 0, \"ticks\": \"\"}}, \"type\": \"scatterpolargl\"}], \"scatterternary\": [{\"marker\": {\"colorbar\": {\"outlinewidth\": 0, \"ticks\": \"\"}}, \"type\": \"scatterternary\"}], \"surface\": [{\"colorbar\": {\"outlinewidth\": 0, \"ticks\": \"\"}, \"colorscale\": [[0.0, \"#0d0887\"], [0.1111111111111111, \"#46039f\"], [0.2222222222222222, \"#7201a8\"], [0.3333333333333333, \"#9c179e\"], [0.4444444444444444, \"#bd3786\"], [0.5555555555555556, \"#d8576b\"], [0.6666666666666666, \"#ed7953\"], [0.7777777777777778, \"#fb9f3a\"], [0.8888888888888888, \"#fdca26\"], [1.0, \"#f0f921\"]], \"type\": \"surface\"}], \"table\": [{\"cells\": {\"fill\": {\"color\": \"#EBF0F8\"}, \"line\": {\"color\": \"white\"}}, \"header\": {\"fill\": {\"color\": \"#C8D4E3\"}, \"line\": {\"color\": \"white\"}}, \"type\": \"table\"}]}, \"layout\": {\"annotationdefaults\": {\"arrowcolor\": \"#2a3f5f\", \"arrowhead\": 0, \"arrowwidth\": 1}, \"coloraxis\": {\"colorbar\": {\"outlinewidth\": 0, \"ticks\": \"\"}}, \"colorscale\": {\"diverging\": [[0, \"#8e0152\"], [0.1, \"#c51b7d\"], [0.2, \"#de77ae\"], [0.3, \"#f1b6da\"], [0.4, \"#fde0ef\"], [0.5, \"#f7f7f7\"], [0.6, \"#e6f5d0\"], [0.7, \"#b8e186\"], [0.8, \"#7fbc41\"], [0.9, \"#4d9221\"], [1, \"#276419\"]], \"sequential\": [[0.0, \"#0d0887\"], [0.1111111111111111, \"#46039f\"], [0.2222222222222222, \"#7201a8\"], [0.3333333333333333, \"#9c179e\"], [0.4444444444444444, \"#bd3786\"], [0.5555555555555556, \"#d8576b\"], [0.6666666666666666, \"#ed7953\"], [0.7777777777777778, \"#fb9f3a\"], [0.8888888888888888, \"#fdca26\"], [1.0, \"#f0f921\"]], \"sequentialminus\": [[0.0, \"#0d0887\"], [0.1111111111111111, \"#46039f\"], [0.2222222222222222, \"#7201a8\"], [0.3333333333333333, \"#9c179e\"], [0.4444444444444444, \"#bd3786\"], [0.5555555555555556, \"#d8576b\"], [0.6666666666666666, \"#ed7953\"], [0.7777777777777778, \"#fb9f3a\"], [0.8888888888888888, \"#fdca26\"], [1.0, \"#f0f921\"]]}, \"colorway\": [\"#636efa\", \"#EF553B\", \"#00cc96\", \"#ab63fa\", \"#FFA15A\", \"#19d3f3\", \"#FF6692\", \"#B6E880\", \"#FF97FF\", \"#FECB52\"], \"font\": {\"color\": \"#2a3f5f\"}, \"geo\": {\"bgcolor\": \"white\", \"lakecolor\": \"white\", \"landcolor\": \"#E5ECF6\", \"showlakes\": true, \"showland\": true, \"subunitcolor\": \"white\"}, \"hoverlabel\": {\"align\": \"left\"}, \"hovermode\": \"closest\", \"mapbox\": {\"style\": \"light\"}, \"paper_bgcolor\": \"white\", \"plot_bgcolor\": \"#E5ECF6\", \"polar\": {\"angularaxis\": {\"gridcolor\": \"white\", \"linecolor\": \"white\", \"ticks\": \"\"}, \"bgcolor\": \"#E5ECF6\", \"radialaxis\": {\"gridcolor\": \"white\", \"linecolor\": \"white\", \"ticks\": \"\"}}, \"scene\": {\"xaxis\": {\"backgroundcolor\": \"#E5ECF6\", \"gridcolor\": \"white\", \"gridwidth\": 2, \"linecolor\": \"white\", \"showbackground\": true, \"ticks\": \"\", \"zerolinecolor\": \"white\"}, \"yaxis\": {\"backgroundcolor\": \"#E5ECF6\", \"gridcolor\": \"white\", \"gridwidth\": 2, \"linecolor\": \"white\", \"showbackground\": true, \"ticks\": \"\", \"zerolinecolor\": \"white\"}, \"zaxis\": {\"backgroundcolor\": \"#E5ECF6\", \"gridcolor\": \"white\", \"gridwidth\": 2, \"linecolor\": \"white\", \"showbackground\": true, \"ticks\": \"\", \"zerolinecolor\": \"white\"}}, \"shapedefaults\": {\"line\": {\"color\": \"#2a3f5f\"}}, \"ternary\": {\"aaxis\": {\"gridcolor\": \"white\", \"linecolor\": \"white\", \"ticks\": \"\"}, \"baxis\": {\"gridcolor\": \"white\", \"linecolor\": \"white\", \"ticks\": \"\"}, \"bgcolor\": \"#E5ECF6\", \"caxis\": {\"gridcolor\": \"white\", \"linecolor\": \"white\", \"ticks\": \"\"}}, \"title\": {\"x\": 0.05}, \"xaxis\": {\"automargin\": true, \"gridcolor\": \"white\", \"linecolor\": \"white\", \"ticks\": \"\", \"title\": {\"standoff\": 15}, \"zerolinecolor\": \"white\", \"zerolinewidth\": 2}, \"yaxis\": {\"automargin\": true, \"gridcolor\": \"white\", \"linecolor\": \"white\", \"ticks\": \"\", \"title\": {\"standoff\": 15}, \"zerolinecolor\": \"white\", \"zerolinewidth\": 2}}}, \"title\": {\"font\": {\"color\": \"#4D5663\"}}, \"xaxis\": {\"gridcolor\": \"#E1E5ED\", \"showgrid\": true, \"tickfont\": {\"color\": \"#4D5663\"}, \"title\": {\"font\": {\"color\": \"#4D5663\"}, \"text\": \"\"}, \"zerolinecolor\": \"#E1E5ED\"}, \"yaxis\": {\"gridcolor\": \"#E1E5ED\", \"showgrid\": true, \"tickfont\": {\"color\": \"#4D5663\"}, \"title\": {\"font\": {\"color\": \"#4D5663\"}, \"text\": \"\"}, \"zerolinecolor\": \"#E1E5ED\"}},\n",
       "                        {\"showLink\": true, \"linkText\": \"Export to plot.ly\", \"plotlyServerURL\": \"https://plot.ly\", \"responsive\": true}\n",
       "                    ).then(function(){\n",
       "                            \n",
       "var gd = document.getElementById('a064dd65-2264-417e-aeb0-fe25ad3e61bf');\n",
       "var x = new MutationObserver(function (mutations, observer) {{\n",
       "        var display = window.getComputedStyle(gd).display;\n",
       "        if (!display || display === 'none') {{\n",
       "            console.log([gd, 'removed!']);\n",
       "            Plotly.purge(gd);\n",
       "            observer.disconnect();\n",
       "        }}\n",
       "}});\n",
       "\n",
       "// Listen for the removal of the full notebook cells\n",
       "var notebookContainer = gd.closest('#notebook-container');\n",
       "if (notebookContainer) {{\n",
       "    x.observe(notebookContainer, {childList: true});\n",
       "}}\n",
       "\n",
       "// Listen for the clearing of the current output cell\n",
       "var outputEl = gd.closest('.output');\n",
       "if (outputEl) {{\n",
       "    x.observe(outputEl, {childList: true});\n",
       "}}\n",
       "\n",
       "                        })\n",
       "                };\n",
       "                });\n",
       "            </script>\n",
       "        </div>"
      ]
     },
     "metadata": {},
     "output_type": "display_data"
    }
   ],
   "source": [
    "kind = df.iplot(kind = 'box')"
   ]
  },
  {
   "cell_type": "code",
   "execution_count": 27,
   "metadata": {},
   "outputs": [],
   "source": [
    "df3 = pd.DataFrame({\n",
    "    'x': [1,2,3,4,5],\n",
    "    'y': [10,20,30,40,50],\n",
    "    'z': [500,400,300,200,100]\n",
    "})"
   ]
  },
  {
   "cell_type": "code",
   "execution_count": 28,
   "metadata": {},
   "outputs": [
    {
     "data": {
      "text/html": [
       "<div>\n",
       "<style scoped>\n",
       "    .dataframe tbody tr th:only-of-type {\n",
       "        vertical-align: middle;\n",
       "    }\n",
       "\n",
       "    .dataframe tbody tr th {\n",
       "        vertical-align: top;\n",
       "    }\n",
       "\n",
       "    .dataframe thead th {\n",
       "        text-align: right;\n",
       "    }\n",
       "</style>\n",
       "<table border=\"1\" class=\"dataframe\">\n",
       "  <thead>\n",
       "    <tr style=\"text-align: right;\">\n",
       "      <th></th>\n",
       "      <th>x</th>\n",
       "      <th>y</th>\n",
       "      <th>z</th>\n",
       "    </tr>\n",
       "  </thead>\n",
       "  <tbody>\n",
       "    <tr>\n",
       "      <th>0</th>\n",
       "      <td>1</td>\n",
       "      <td>10</td>\n",
       "      <td>500</td>\n",
       "    </tr>\n",
       "    <tr>\n",
       "      <th>1</th>\n",
       "      <td>2</td>\n",
       "      <td>20</td>\n",
       "      <td>400</td>\n",
       "    </tr>\n",
       "    <tr>\n",
       "      <th>2</th>\n",
       "      <td>3</td>\n",
       "      <td>30</td>\n",
       "      <td>300</td>\n",
       "    </tr>\n",
       "    <tr>\n",
       "      <th>3</th>\n",
       "      <td>4</td>\n",
       "      <td>40</td>\n",
       "      <td>200</td>\n",
       "    </tr>\n",
       "    <tr>\n",
       "      <th>4</th>\n",
       "      <td>5</td>\n",
       "      <td>50</td>\n",
       "      <td>100</td>\n",
       "    </tr>\n",
       "  </tbody>\n",
       "</table>\n",
       "</div>"
      ],
      "text/plain": [
       "   x   y    z\n",
       "0  1  10  500\n",
       "1  2  20  400\n",
       "2  3  30  300\n",
       "3  4  40  200\n",
       "4  5  50  100"
      ]
     },
     "execution_count": 28,
     "metadata": {},
     "output_type": "execute_result"
    }
   ],
   "source": [
    "df3.head()"
   ]
  },
  {
   "cell_type": "code",
   "execution_count": 30,
   "metadata": {},
   "outputs": [
    {
     "data": {
      "application/vnd.plotly.v1+json": {
       "config": {
        "linkText": "Export to plot.ly",
        "plotlyServerURL": "https://plot.ly",
        "showLink": true
       },
       "data": [
        {
         "colorscale": [
          [
           0,
           "rgb(165,0,38)"
          ],
          [
           0.1,
           "rgb(215,48,39)"
          ],
          [
           0.2,
           "rgb(244,109,67)"
          ],
          [
           0.3,
           "rgb(253,174,97)"
          ],
          [
           0.4,
           "rgb(254,224,144)"
          ],
          [
           0.5,
           "rgb(255,255,191)"
          ],
          [
           0.6,
           "rgb(224,243,248)"
          ],
          [
           0.7,
           "rgb(171,217,233)"
          ],
          [
           0.8,
           "rgb(116,173,209)"
          ],
          [
           0.9,
           "rgb(69,117,180)"
          ],
          [
           1,
           "rgb(49,54,149)"
          ]
         ],
         "type": "surface",
         "x": [
          0,
          1,
          2,
          3,
          4
         ],
         "y": [
          "x",
          "y",
          "z"
         ],
         "z": [
          [
           1,
           2,
           3,
           4,
           5
          ],
          [
           10,
           20,
           30,
           40,
           50
          ],
          [
           500,
           400,
           300,
           200,
           100
          ]
         ]
        }
       ],
       "layout": {
        "legend": {
         "bgcolor": "#F5F6F9",
         "font": {
          "color": "#4D5663"
         }
        },
        "paper_bgcolor": "#F5F6F9",
        "plot_bgcolor": "#F5F6F9",
        "template": {
         "data": {
          "bar": [
           {
            "error_x": {
             "color": "#2a3f5f"
            },
            "error_y": {
             "color": "#2a3f5f"
            },
            "marker": {
             "line": {
              "color": "#E5ECF6",
              "width": 0.5
             }
            },
            "type": "bar"
           }
          ],
          "barpolar": [
           {
            "marker": {
             "line": {
              "color": "#E5ECF6",
              "width": 0.5
             }
            },
            "type": "barpolar"
           }
          ],
          "carpet": [
           {
            "aaxis": {
             "endlinecolor": "#2a3f5f",
             "gridcolor": "white",
             "linecolor": "white",
             "minorgridcolor": "white",
             "startlinecolor": "#2a3f5f"
            },
            "baxis": {
             "endlinecolor": "#2a3f5f",
             "gridcolor": "white",
             "linecolor": "white",
             "minorgridcolor": "white",
             "startlinecolor": "#2a3f5f"
            },
            "type": "carpet"
           }
          ],
          "choropleth": [
           {
            "colorbar": {
             "outlinewidth": 0,
             "ticks": ""
            },
            "type": "choropleth"
           }
          ],
          "contour": [
           {
            "colorbar": {
             "outlinewidth": 0,
             "ticks": ""
            },
            "colorscale": [
             [
              0,
              "#0d0887"
             ],
             [
              0.1111111111111111,
              "#46039f"
             ],
             [
              0.2222222222222222,
              "#7201a8"
             ],
             [
              0.3333333333333333,
              "#9c179e"
             ],
             [
              0.4444444444444444,
              "#bd3786"
             ],
             [
              0.5555555555555556,
              "#d8576b"
             ],
             [
              0.6666666666666666,
              "#ed7953"
             ],
             [
              0.7777777777777778,
              "#fb9f3a"
             ],
             [
              0.8888888888888888,
              "#fdca26"
             ],
             [
              1,
              "#f0f921"
             ]
            ],
            "type": "contour"
           }
          ],
          "contourcarpet": [
           {
            "colorbar": {
             "outlinewidth": 0,
             "ticks": ""
            },
            "type": "contourcarpet"
           }
          ],
          "heatmap": [
           {
            "colorbar": {
             "outlinewidth": 0,
             "ticks": ""
            },
            "colorscale": [
             [
              0,
              "#0d0887"
             ],
             [
              0.1111111111111111,
              "#46039f"
             ],
             [
              0.2222222222222222,
              "#7201a8"
             ],
             [
              0.3333333333333333,
              "#9c179e"
             ],
             [
              0.4444444444444444,
              "#bd3786"
             ],
             [
              0.5555555555555556,
              "#d8576b"
             ],
             [
              0.6666666666666666,
              "#ed7953"
             ],
             [
              0.7777777777777778,
              "#fb9f3a"
             ],
             [
              0.8888888888888888,
              "#fdca26"
             ],
             [
              1,
              "#f0f921"
             ]
            ],
            "type": "heatmap"
           }
          ],
          "heatmapgl": [
           {
            "colorbar": {
             "outlinewidth": 0,
             "ticks": ""
            },
            "colorscale": [
             [
              0,
              "#0d0887"
             ],
             [
              0.1111111111111111,
              "#46039f"
             ],
             [
              0.2222222222222222,
              "#7201a8"
             ],
             [
              0.3333333333333333,
              "#9c179e"
             ],
             [
              0.4444444444444444,
              "#bd3786"
             ],
             [
              0.5555555555555556,
              "#d8576b"
             ],
             [
              0.6666666666666666,
              "#ed7953"
             ],
             [
              0.7777777777777778,
              "#fb9f3a"
             ],
             [
              0.8888888888888888,
              "#fdca26"
             ],
             [
              1,
              "#f0f921"
             ]
            ],
            "type": "heatmapgl"
           }
          ],
          "histogram": [
           {
            "marker": {
             "colorbar": {
              "outlinewidth": 0,
              "ticks": ""
             }
            },
            "type": "histogram"
           }
          ],
          "histogram2d": [
           {
            "colorbar": {
             "outlinewidth": 0,
             "ticks": ""
            },
            "colorscale": [
             [
              0,
              "#0d0887"
             ],
             [
              0.1111111111111111,
              "#46039f"
             ],
             [
              0.2222222222222222,
              "#7201a8"
             ],
             [
              0.3333333333333333,
              "#9c179e"
             ],
             [
              0.4444444444444444,
              "#bd3786"
             ],
             [
              0.5555555555555556,
              "#d8576b"
             ],
             [
              0.6666666666666666,
              "#ed7953"
             ],
             [
              0.7777777777777778,
              "#fb9f3a"
             ],
             [
              0.8888888888888888,
              "#fdca26"
             ],
             [
              1,
              "#f0f921"
             ]
            ],
            "type": "histogram2d"
           }
          ],
          "histogram2dcontour": [
           {
            "colorbar": {
             "outlinewidth": 0,
             "ticks": ""
            },
            "colorscale": [
             [
              0,
              "#0d0887"
             ],
             [
              0.1111111111111111,
              "#46039f"
             ],
             [
              0.2222222222222222,
              "#7201a8"
             ],
             [
              0.3333333333333333,
              "#9c179e"
             ],
             [
              0.4444444444444444,
              "#bd3786"
             ],
             [
              0.5555555555555556,
              "#d8576b"
             ],
             [
              0.6666666666666666,
              "#ed7953"
             ],
             [
              0.7777777777777778,
              "#fb9f3a"
             ],
             [
              0.8888888888888888,
              "#fdca26"
             ],
             [
              1,
              "#f0f921"
             ]
            ],
            "type": "histogram2dcontour"
           }
          ],
          "mesh3d": [
           {
            "colorbar": {
             "outlinewidth": 0,
             "ticks": ""
            },
            "type": "mesh3d"
           }
          ],
          "parcoords": [
           {
            "line": {
             "colorbar": {
              "outlinewidth": 0,
              "ticks": ""
             }
            },
            "type": "parcoords"
           }
          ],
          "pie": [
           {
            "automargin": true,
            "type": "pie"
           }
          ],
          "scatter": [
           {
            "marker": {
             "colorbar": {
              "outlinewidth": 0,
              "ticks": ""
             }
            },
            "type": "scatter"
           }
          ],
          "scatter3d": [
           {
            "line": {
             "colorbar": {
              "outlinewidth": 0,
              "ticks": ""
             }
            },
            "marker": {
             "colorbar": {
              "outlinewidth": 0,
              "ticks": ""
             }
            },
            "type": "scatter3d"
           }
          ],
          "scattercarpet": [
           {
            "marker": {
             "colorbar": {
              "outlinewidth": 0,
              "ticks": ""
             }
            },
            "type": "scattercarpet"
           }
          ],
          "scattergeo": [
           {
            "marker": {
             "colorbar": {
              "outlinewidth": 0,
              "ticks": ""
             }
            },
            "type": "scattergeo"
           }
          ],
          "scattergl": [
           {
            "marker": {
             "colorbar": {
              "outlinewidth": 0,
              "ticks": ""
             }
            },
            "type": "scattergl"
           }
          ],
          "scattermapbox": [
           {
            "marker": {
             "colorbar": {
              "outlinewidth": 0,
              "ticks": ""
             }
            },
            "type": "scattermapbox"
           }
          ],
          "scatterpolar": [
           {
            "marker": {
             "colorbar": {
              "outlinewidth": 0,
              "ticks": ""
             }
            },
            "type": "scatterpolar"
           }
          ],
          "scatterpolargl": [
           {
            "marker": {
             "colorbar": {
              "outlinewidth": 0,
              "ticks": ""
             }
            },
            "type": "scatterpolargl"
           }
          ],
          "scatterternary": [
           {
            "marker": {
             "colorbar": {
              "outlinewidth": 0,
              "ticks": ""
             }
            },
            "type": "scatterternary"
           }
          ],
          "surface": [
           {
            "colorbar": {
             "outlinewidth": 0,
             "ticks": ""
            },
            "colorscale": [
             [
              0,
              "#0d0887"
             ],
             [
              0.1111111111111111,
              "#46039f"
             ],
             [
              0.2222222222222222,
              "#7201a8"
             ],
             [
              0.3333333333333333,
              "#9c179e"
             ],
             [
              0.4444444444444444,
              "#bd3786"
             ],
             [
              0.5555555555555556,
              "#d8576b"
             ],
             [
              0.6666666666666666,
              "#ed7953"
             ],
             [
              0.7777777777777778,
              "#fb9f3a"
             ],
             [
              0.8888888888888888,
              "#fdca26"
             ],
             [
              1,
              "#f0f921"
             ]
            ],
            "type": "surface"
           }
          ],
          "table": [
           {
            "cells": {
             "fill": {
              "color": "#EBF0F8"
             },
             "line": {
              "color": "white"
             }
            },
            "header": {
             "fill": {
              "color": "#C8D4E3"
             },
             "line": {
              "color": "white"
             }
            },
            "type": "table"
           }
          ]
         },
         "layout": {
          "annotationdefaults": {
           "arrowcolor": "#2a3f5f",
           "arrowhead": 0,
           "arrowwidth": 1
          },
          "coloraxis": {
           "colorbar": {
            "outlinewidth": 0,
            "ticks": ""
           }
          },
          "colorscale": {
           "diverging": [
            [
             0,
             "#8e0152"
            ],
            [
             0.1,
             "#c51b7d"
            ],
            [
             0.2,
             "#de77ae"
            ],
            [
             0.3,
             "#f1b6da"
            ],
            [
             0.4,
             "#fde0ef"
            ],
            [
             0.5,
             "#f7f7f7"
            ],
            [
             0.6,
             "#e6f5d0"
            ],
            [
             0.7,
             "#b8e186"
            ],
            [
             0.8,
             "#7fbc41"
            ],
            [
             0.9,
             "#4d9221"
            ],
            [
             1,
             "#276419"
            ]
           ],
           "sequential": [
            [
             0,
             "#0d0887"
            ],
            [
             0.1111111111111111,
             "#46039f"
            ],
            [
             0.2222222222222222,
             "#7201a8"
            ],
            [
             0.3333333333333333,
             "#9c179e"
            ],
            [
             0.4444444444444444,
             "#bd3786"
            ],
            [
             0.5555555555555556,
             "#d8576b"
            ],
            [
             0.6666666666666666,
             "#ed7953"
            ],
            [
             0.7777777777777778,
             "#fb9f3a"
            ],
            [
             0.8888888888888888,
             "#fdca26"
            ],
            [
             1,
             "#f0f921"
            ]
           ],
           "sequentialminus": [
            [
             0,
             "#0d0887"
            ],
            [
             0.1111111111111111,
             "#46039f"
            ],
            [
             0.2222222222222222,
             "#7201a8"
            ],
            [
             0.3333333333333333,
             "#9c179e"
            ],
            [
             0.4444444444444444,
             "#bd3786"
            ],
            [
             0.5555555555555556,
             "#d8576b"
            ],
            [
             0.6666666666666666,
             "#ed7953"
            ],
            [
             0.7777777777777778,
             "#fb9f3a"
            ],
            [
             0.8888888888888888,
             "#fdca26"
            ],
            [
             1,
             "#f0f921"
            ]
           ]
          },
          "colorway": [
           "#636efa",
           "#EF553B",
           "#00cc96",
           "#ab63fa",
           "#FFA15A",
           "#19d3f3",
           "#FF6692",
           "#B6E880",
           "#FF97FF",
           "#FECB52"
          ],
          "font": {
           "color": "#2a3f5f"
          },
          "geo": {
           "bgcolor": "white",
           "lakecolor": "white",
           "landcolor": "#E5ECF6",
           "showlakes": true,
           "showland": true,
           "subunitcolor": "white"
          },
          "hoverlabel": {
           "align": "left"
          },
          "hovermode": "closest",
          "mapbox": {
           "style": "light"
          },
          "paper_bgcolor": "white",
          "plot_bgcolor": "#E5ECF6",
          "polar": {
           "angularaxis": {
            "gridcolor": "white",
            "linecolor": "white",
            "ticks": ""
           },
           "bgcolor": "#E5ECF6",
           "radialaxis": {
            "gridcolor": "white",
            "linecolor": "white",
            "ticks": ""
           }
          },
          "scene": {
           "xaxis": {
            "backgroundcolor": "#E5ECF6",
            "gridcolor": "white",
            "gridwidth": 2,
            "linecolor": "white",
            "showbackground": true,
            "ticks": "",
            "zerolinecolor": "white"
           },
           "yaxis": {
            "backgroundcolor": "#E5ECF6",
            "gridcolor": "white",
            "gridwidth": 2,
            "linecolor": "white",
            "showbackground": true,
            "ticks": "",
            "zerolinecolor": "white"
           },
           "zaxis": {
            "backgroundcolor": "#E5ECF6",
            "gridcolor": "white",
            "gridwidth": 2,
            "linecolor": "white",
            "showbackground": true,
            "ticks": "",
            "zerolinecolor": "white"
           }
          },
          "shapedefaults": {
           "line": {
            "color": "#2a3f5f"
           }
          },
          "ternary": {
           "aaxis": {
            "gridcolor": "white",
            "linecolor": "white",
            "ticks": ""
           },
           "baxis": {
            "gridcolor": "white",
            "linecolor": "white",
            "ticks": ""
           },
           "bgcolor": "#E5ECF6",
           "caxis": {
            "gridcolor": "white",
            "linecolor": "white",
            "ticks": ""
           }
          },
          "title": {
           "x": 0.05
          },
          "xaxis": {
           "automargin": true,
           "gridcolor": "white",
           "linecolor": "white",
           "ticks": "",
           "title": {
            "standoff": 15
           },
           "zerolinecolor": "white",
           "zerolinewidth": 2
          },
          "yaxis": {
           "automargin": true,
           "gridcolor": "white",
           "linecolor": "white",
           "ticks": "",
           "title": {
            "standoff": 15
           },
           "zerolinecolor": "white",
           "zerolinewidth": 2
          }
         }
        },
        "title": {
         "font": {
          "color": "#4D5663"
         }
        },
        "xaxis": {
         "gridcolor": "#E1E5ED",
         "showgrid": true,
         "tickfont": {
          "color": "#4D5663"
         },
         "title": {
          "font": {
           "color": "#4D5663"
          },
          "text": ""
         },
         "zerolinecolor": "#E1E5ED"
        },
        "yaxis": {
         "gridcolor": "#E1E5ED",
         "showgrid": true,
         "tickfont": {
          "color": "#4D5663"
         },
         "title": {
          "font": {
           "color": "#4D5663"
          },
          "text": ""
         },
         "zerolinecolor": "#E1E5ED"
        }
       }
      },
      "text/html": [
       "<div>\n",
       "        \n",
       "        \n",
       "            <div id=\"2377d6a0-d1a6-4ed4-ba6f-73e6995a3db9\" class=\"plotly-graph-div\" style=\"height:525px; width:100%;\"></div>\n",
       "            <script type=\"text/javascript\">\n",
       "                require([\"plotly\"], function(Plotly) {\n",
       "                    window.PLOTLYENV=window.PLOTLYENV || {};\n",
       "                    window.PLOTLYENV.BASE_URL='https://plot.ly';\n",
       "                    \n",
       "                if (document.getElementById(\"2377d6a0-d1a6-4ed4-ba6f-73e6995a3db9\")) {\n",
       "                    Plotly.newPlot(\n",
       "                        '2377d6a0-d1a6-4ed4-ba6f-73e6995a3db9',\n",
       "                        [{\"colorscale\": [[0.0, \"rgb(165,0,38)\"], [0.1, \"rgb(215,48,39)\"], [0.2, \"rgb(244,109,67)\"], [0.3, \"rgb(253,174,97)\"], [0.4, \"rgb(254,224,144)\"], [0.5, \"rgb(255,255,191)\"], [0.6, \"rgb(224,243,248)\"], [0.7, \"rgb(171,217,233)\"], [0.8, \"rgb(116,173,209)\"], [0.9, \"rgb(69,117,180)\"], [1.0, \"rgb(49,54,149)\"]], \"type\": \"surface\", \"x\": [0, 1, 2, 3, 4], \"y\": [\"x\", \"y\", \"z\"], \"z\": [[1, 2, 3, 4, 5], [10, 20, 30, 40, 50], [500, 400, 300, 200, 100]]}],\n",
       "                        {\"legend\": {\"bgcolor\": \"#F5F6F9\", \"font\": {\"color\": \"#4D5663\"}}, \"paper_bgcolor\": \"#F5F6F9\", \"plot_bgcolor\": \"#F5F6F9\", \"template\": {\"data\": {\"bar\": [{\"error_x\": {\"color\": \"#2a3f5f\"}, \"error_y\": {\"color\": \"#2a3f5f\"}, \"marker\": {\"line\": {\"color\": \"#E5ECF6\", \"width\": 0.5}}, \"type\": \"bar\"}], \"barpolar\": [{\"marker\": {\"line\": {\"color\": \"#E5ECF6\", \"width\": 0.5}}, \"type\": \"barpolar\"}], \"carpet\": [{\"aaxis\": {\"endlinecolor\": \"#2a3f5f\", \"gridcolor\": \"white\", \"linecolor\": \"white\", \"minorgridcolor\": \"white\", \"startlinecolor\": \"#2a3f5f\"}, \"baxis\": {\"endlinecolor\": \"#2a3f5f\", \"gridcolor\": \"white\", \"linecolor\": \"white\", \"minorgridcolor\": \"white\", \"startlinecolor\": \"#2a3f5f\"}, \"type\": \"carpet\"}], \"choropleth\": [{\"colorbar\": {\"outlinewidth\": 0, \"ticks\": \"\"}, \"type\": \"choropleth\"}], \"contour\": [{\"colorbar\": {\"outlinewidth\": 0, \"ticks\": \"\"}, \"colorscale\": [[0.0, \"#0d0887\"], [0.1111111111111111, \"#46039f\"], [0.2222222222222222, \"#7201a8\"], [0.3333333333333333, \"#9c179e\"], [0.4444444444444444, \"#bd3786\"], [0.5555555555555556, \"#d8576b\"], [0.6666666666666666, \"#ed7953\"], [0.7777777777777778, \"#fb9f3a\"], [0.8888888888888888, \"#fdca26\"], [1.0, \"#f0f921\"]], \"type\": \"contour\"}], \"contourcarpet\": [{\"colorbar\": {\"outlinewidth\": 0, \"ticks\": \"\"}, \"type\": \"contourcarpet\"}], \"heatmap\": [{\"colorbar\": {\"outlinewidth\": 0, \"ticks\": \"\"}, \"colorscale\": [[0.0, \"#0d0887\"], [0.1111111111111111, \"#46039f\"], [0.2222222222222222, \"#7201a8\"], [0.3333333333333333, \"#9c179e\"], [0.4444444444444444, \"#bd3786\"], [0.5555555555555556, \"#d8576b\"], [0.6666666666666666, \"#ed7953\"], [0.7777777777777778, \"#fb9f3a\"], [0.8888888888888888, \"#fdca26\"], [1.0, \"#f0f921\"]], \"type\": \"heatmap\"}], \"heatmapgl\": [{\"colorbar\": {\"outlinewidth\": 0, \"ticks\": \"\"}, \"colorscale\": [[0.0, \"#0d0887\"], [0.1111111111111111, \"#46039f\"], [0.2222222222222222, \"#7201a8\"], [0.3333333333333333, \"#9c179e\"], [0.4444444444444444, \"#bd3786\"], [0.5555555555555556, \"#d8576b\"], [0.6666666666666666, \"#ed7953\"], [0.7777777777777778, \"#fb9f3a\"], [0.8888888888888888, \"#fdca26\"], [1.0, \"#f0f921\"]], \"type\": \"heatmapgl\"}], \"histogram\": [{\"marker\": {\"colorbar\": {\"outlinewidth\": 0, \"ticks\": \"\"}}, \"type\": \"histogram\"}], \"histogram2d\": [{\"colorbar\": {\"outlinewidth\": 0, \"ticks\": \"\"}, \"colorscale\": [[0.0, \"#0d0887\"], [0.1111111111111111, \"#46039f\"], [0.2222222222222222, \"#7201a8\"], [0.3333333333333333, \"#9c179e\"], [0.4444444444444444, \"#bd3786\"], [0.5555555555555556, \"#d8576b\"], [0.6666666666666666, \"#ed7953\"], [0.7777777777777778, \"#fb9f3a\"], [0.8888888888888888, \"#fdca26\"], [1.0, \"#f0f921\"]], \"type\": \"histogram2d\"}], \"histogram2dcontour\": [{\"colorbar\": {\"outlinewidth\": 0, \"ticks\": \"\"}, \"colorscale\": [[0.0, \"#0d0887\"], [0.1111111111111111, \"#46039f\"], [0.2222222222222222, \"#7201a8\"], [0.3333333333333333, \"#9c179e\"], [0.4444444444444444, \"#bd3786\"], [0.5555555555555556, \"#d8576b\"], [0.6666666666666666, \"#ed7953\"], [0.7777777777777778, \"#fb9f3a\"], [0.8888888888888888, \"#fdca26\"], [1.0, \"#f0f921\"]], \"type\": \"histogram2dcontour\"}], \"mesh3d\": [{\"colorbar\": {\"outlinewidth\": 0, \"ticks\": \"\"}, \"type\": \"mesh3d\"}], \"parcoords\": [{\"line\": {\"colorbar\": {\"outlinewidth\": 0, \"ticks\": \"\"}}, \"type\": \"parcoords\"}], \"pie\": [{\"automargin\": true, \"type\": \"pie\"}], \"scatter\": [{\"marker\": {\"colorbar\": {\"outlinewidth\": 0, \"ticks\": \"\"}}, \"type\": \"scatter\"}], \"scatter3d\": [{\"line\": {\"colorbar\": {\"outlinewidth\": 0, \"ticks\": \"\"}}, \"marker\": {\"colorbar\": {\"outlinewidth\": 0, \"ticks\": \"\"}}, \"type\": \"scatter3d\"}], \"scattercarpet\": [{\"marker\": {\"colorbar\": {\"outlinewidth\": 0, \"ticks\": \"\"}}, \"type\": \"scattercarpet\"}], \"scattergeo\": [{\"marker\": {\"colorbar\": {\"outlinewidth\": 0, \"ticks\": \"\"}}, \"type\": \"scattergeo\"}], \"scattergl\": [{\"marker\": {\"colorbar\": {\"outlinewidth\": 0, \"ticks\": \"\"}}, \"type\": \"scattergl\"}], \"scattermapbox\": [{\"marker\": {\"colorbar\": {\"outlinewidth\": 0, \"ticks\": \"\"}}, \"type\": \"scattermapbox\"}], \"scatterpolar\": [{\"marker\": {\"colorbar\": {\"outlinewidth\": 0, \"ticks\": \"\"}}, \"type\": \"scatterpolar\"}], \"scatterpolargl\": [{\"marker\": {\"colorbar\": {\"outlinewidth\": 0, \"ticks\": \"\"}}, \"type\": \"scatterpolargl\"}], \"scatterternary\": [{\"marker\": {\"colorbar\": {\"outlinewidth\": 0, \"ticks\": \"\"}}, \"type\": \"scatterternary\"}], \"surface\": [{\"colorbar\": {\"outlinewidth\": 0, \"ticks\": \"\"}, \"colorscale\": [[0.0, \"#0d0887\"], [0.1111111111111111, \"#46039f\"], [0.2222222222222222, \"#7201a8\"], [0.3333333333333333, \"#9c179e\"], [0.4444444444444444, \"#bd3786\"], [0.5555555555555556, \"#d8576b\"], [0.6666666666666666, \"#ed7953\"], [0.7777777777777778, \"#fb9f3a\"], [0.8888888888888888, \"#fdca26\"], [1.0, \"#f0f921\"]], \"type\": \"surface\"}], \"table\": [{\"cells\": {\"fill\": {\"color\": \"#EBF0F8\"}, \"line\": {\"color\": \"white\"}}, \"header\": {\"fill\": {\"color\": \"#C8D4E3\"}, \"line\": {\"color\": \"white\"}}, \"type\": \"table\"}]}, \"layout\": {\"annotationdefaults\": {\"arrowcolor\": \"#2a3f5f\", \"arrowhead\": 0, \"arrowwidth\": 1}, \"coloraxis\": {\"colorbar\": {\"outlinewidth\": 0, \"ticks\": \"\"}}, \"colorscale\": {\"diverging\": [[0, \"#8e0152\"], [0.1, \"#c51b7d\"], [0.2, \"#de77ae\"], [0.3, \"#f1b6da\"], [0.4, \"#fde0ef\"], [0.5, \"#f7f7f7\"], [0.6, \"#e6f5d0\"], [0.7, \"#b8e186\"], [0.8, \"#7fbc41\"], [0.9, \"#4d9221\"], [1, \"#276419\"]], \"sequential\": [[0.0, \"#0d0887\"], [0.1111111111111111, \"#46039f\"], [0.2222222222222222, \"#7201a8\"], [0.3333333333333333, \"#9c179e\"], [0.4444444444444444, \"#bd3786\"], [0.5555555555555556, \"#d8576b\"], [0.6666666666666666, \"#ed7953\"], [0.7777777777777778, \"#fb9f3a\"], [0.8888888888888888, \"#fdca26\"], [1.0, \"#f0f921\"]], \"sequentialminus\": [[0.0, \"#0d0887\"], [0.1111111111111111, \"#46039f\"], [0.2222222222222222, \"#7201a8\"], [0.3333333333333333, \"#9c179e\"], [0.4444444444444444, \"#bd3786\"], [0.5555555555555556, \"#d8576b\"], [0.6666666666666666, \"#ed7953\"], [0.7777777777777778, \"#fb9f3a\"], [0.8888888888888888, \"#fdca26\"], [1.0, \"#f0f921\"]]}, \"colorway\": [\"#636efa\", \"#EF553B\", \"#00cc96\", \"#ab63fa\", \"#FFA15A\", \"#19d3f3\", \"#FF6692\", \"#B6E880\", \"#FF97FF\", \"#FECB52\"], \"font\": {\"color\": \"#2a3f5f\"}, \"geo\": {\"bgcolor\": \"white\", \"lakecolor\": \"white\", \"landcolor\": \"#E5ECF6\", \"showlakes\": true, \"showland\": true, \"subunitcolor\": \"white\"}, \"hoverlabel\": {\"align\": \"left\"}, \"hovermode\": \"closest\", \"mapbox\": {\"style\": \"light\"}, \"paper_bgcolor\": \"white\", \"plot_bgcolor\": \"#E5ECF6\", \"polar\": {\"angularaxis\": {\"gridcolor\": \"white\", \"linecolor\": \"white\", \"ticks\": \"\"}, \"bgcolor\": \"#E5ECF6\", \"radialaxis\": {\"gridcolor\": \"white\", \"linecolor\": \"white\", \"ticks\": \"\"}}, \"scene\": {\"xaxis\": {\"backgroundcolor\": \"#E5ECF6\", \"gridcolor\": \"white\", \"gridwidth\": 2, \"linecolor\": \"white\", \"showbackground\": true, \"ticks\": \"\", \"zerolinecolor\": \"white\"}, \"yaxis\": {\"backgroundcolor\": \"#E5ECF6\", \"gridcolor\": \"white\", \"gridwidth\": 2, \"linecolor\": \"white\", \"showbackground\": true, \"ticks\": \"\", \"zerolinecolor\": \"white\"}, \"zaxis\": {\"backgroundcolor\": \"#E5ECF6\", \"gridcolor\": \"white\", \"gridwidth\": 2, \"linecolor\": \"white\", \"showbackground\": true, \"ticks\": \"\", \"zerolinecolor\": \"white\"}}, \"shapedefaults\": {\"line\": {\"color\": \"#2a3f5f\"}}, \"ternary\": {\"aaxis\": {\"gridcolor\": \"white\", \"linecolor\": \"white\", \"ticks\": \"\"}, \"baxis\": {\"gridcolor\": \"white\", \"linecolor\": \"white\", \"ticks\": \"\"}, \"bgcolor\": \"#E5ECF6\", \"caxis\": {\"gridcolor\": \"white\", \"linecolor\": \"white\", \"ticks\": \"\"}}, \"title\": {\"x\": 0.05}, \"xaxis\": {\"automargin\": true, \"gridcolor\": \"white\", \"linecolor\": \"white\", \"ticks\": \"\", \"title\": {\"standoff\": 15}, \"zerolinecolor\": \"white\", \"zerolinewidth\": 2}, \"yaxis\": {\"automargin\": true, \"gridcolor\": \"white\", \"linecolor\": \"white\", \"ticks\": \"\", \"title\": {\"standoff\": 15}, \"zerolinecolor\": \"white\", \"zerolinewidth\": 2}}}, \"title\": {\"font\": {\"color\": \"#4D5663\"}}, \"xaxis\": {\"gridcolor\": \"#E1E5ED\", \"showgrid\": true, \"tickfont\": {\"color\": \"#4D5663\"}, \"title\": {\"font\": {\"color\": \"#4D5663\"}, \"text\": \"\"}, \"zerolinecolor\": \"#E1E5ED\"}, \"yaxis\": {\"gridcolor\": \"#E1E5ED\", \"showgrid\": true, \"tickfont\": {\"color\": \"#4D5663\"}, \"title\": {\"font\": {\"color\": \"#4D5663\"}, \"text\": \"\"}, \"zerolinecolor\": \"#E1E5ED\"}},\n",
       "                        {\"showLink\": true, \"linkText\": \"Export to plot.ly\", \"plotlyServerURL\": \"https://plot.ly\", \"responsive\": true}\n",
       "                    ).then(function(){\n",
       "                            \n",
       "var gd = document.getElementById('2377d6a0-d1a6-4ed4-ba6f-73e6995a3db9');\n",
       "var x = new MutationObserver(function (mutations, observer) {{\n",
       "        var display = window.getComputedStyle(gd).display;\n",
       "        if (!display || display === 'none') {{\n",
       "            console.log([gd, 'removed!']);\n",
       "            Plotly.purge(gd);\n",
       "            observer.disconnect();\n",
       "        }}\n",
       "}});\n",
       "\n",
       "// Listen for the removal of the full notebook cells\n",
       "var notebookContainer = gd.closest('#notebook-container');\n",
       "if (notebookContainer) {{\n",
       "    x.observe(notebookContainer, {childList: true});\n",
       "}}\n",
       "\n",
       "// Listen for the clearing of the current output cell\n",
       "var outputEl = gd.closest('.output');\n",
       "if (outputEl) {{\n",
       "    x.observe(outputEl, {childList: true});\n",
       "}}\n",
       "\n",
       "                        })\n",
       "                };\n",
       "                });\n",
       "            </script>\n",
       "        </div>"
      ]
     },
     "metadata": {},
     "output_type": "display_data"
    }
   ],
   "source": [
    "df3.iplot(kind = 'surface',colorscale = 'rdylbu')"
   ]
  },
  {
   "cell_type": "code",
   "execution_count": 32,
   "metadata": {},
   "outputs": [
    {
     "data": {
      "application/vnd.plotly.v1+json": {
       "config": {
        "linkText": "Export to plot.ly",
        "plotlyServerURL": "https://plot.ly",
        "showLink": true
       },
       "data": [
        {
         "histfunc": "count",
         "histnorm": "",
         "marker": {
          "color": "rgba(255, 153, 51, 1.0)",
          "line": {
           "color": "#4D5663",
           "width": 1.3
          }
         },
         "name": "A",
         "nbinsx": 50,
         "opacity": 0.8,
         "orientation": "v",
         "type": "histogram",
         "x": [
          1.3306309417176265,
          -1.0385908792182337,
          0.1874988544332731,
          -1.280273142495005,
          1.049058077764222,
          1.0611683123235378,
          1.9071191693896197,
          2.7352170168230985,
          -0.6397746814172409,
          0.8463438925366744,
          0.6654798489053015,
          0.5898888031987908,
          -0.24578070323181664,
          0.8969285206540074,
          -0.5662410084123332,
          1.0938500603836203,
          -0.12239543313528743,
          0.22232875620726475,
          -2.100252650446614,
          0.07236905792648542,
          1.4025076400931227,
          -0.5884562982794522,
          -0.9889691929554822,
          1.254073734692926,
          -0.46372972298110055,
          -0.48538707079930976,
          1.3291500350558658,
          -0.5959406223584038,
          0.8264347369014085,
          0.03382006102493553,
          -1.7403756156373102,
          -0.10120422308479786,
          -2.0763793530629675,
          0.32975298291286204,
          -0.2513970373300905,
          1.0686811177498006,
          -1.287088310176192,
          1.7189073509803223,
          -2.1812920330972028,
          -1.653046828768346,
          -0.6299599276446443,
          -0.6603974395461192,
          1.9616869789233804,
          0.8559600837851427,
          0.6831248737350233,
          -0.28491484930330135,
          2.273199289527967,
          -0.6001597532078587,
          -1.0362480369487086,
          1.277052361551702,
          0.716203215161114,
          -0.07102696522231514,
          -2.033535045783543,
          -0.7538182027296547,
          0.0013298173934843229,
          2.012898833923275,
          1.2880410548949353,
          0.4014209245850137,
          -0.7741539809820434,
          0.7252590743472118,
          -0.8483347797463456,
          -0.49958477134736623,
          0.14473176345929775,
          -0.8034821874756903,
          -1.351101132144767,
          0.6170023030683952,
          -1.891397712945495,
          -0.9383709684301289,
          -0.41277249311839675,
          -1.591460336585324,
          -0.8097421575333087,
          2.2616634455467683,
          -0.11339795454097942,
          -0.14794045700105715,
          -0.2163222303007041,
          0.47811209099295643,
          -1.0224603818250957,
          1.7108857580680352,
          1.1466963877389036,
          0.4356283563208712,
          0.01784311691288129,
          0.11980539540514351,
          0.3947055397125486,
          0.7596655979349227,
          -0.21600082570836415,
          -0.023137565460243193,
          0.017163582231720136,
          0.21032173566674786,
          -0.389023597520661,
          -0.19793727668987773,
          -0.29492035190757415,
          -1.2411400701237552,
          0.39606779670549547,
          -0.9150253620940234,
          -0.5257507006499514,
          1.8243832582774786,
          -0.1125237963450426,
          -2.7739318359255813,
          -0.0898090875362181,
          0.8328315823372676
         ]
        }
       ],
       "layout": {
        "barmode": "overlay",
        "legend": {
         "bgcolor": "#F5F6F9",
         "font": {
          "color": "#4D5663"
         }
        },
        "paper_bgcolor": "#F5F6F9",
        "plot_bgcolor": "#F5F6F9",
        "template": {
         "data": {
          "bar": [
           {
            "error_x": {
             "color": "#2a3f5f"
            },
            "error_y": {
             "color": "#2a3f5f"
            },
            "marker": {
             "line": {
              "color": "#E5ECF6",
              "width": 0.5
             }
            },
            "type": "bar"
           }
          ],
          "barpolar": [
           {
            "marker": {
             "line": {
              "color": "#E5ECF6",
              "width": 0.5
             }
            },
            "type": "barpolar"
           }
          ],
          "carpet": [
           {
            "aaxis": {
             "endlinecolor": "#2a3f5f",
             "gridcolor": "white",
             "linecolor": "white",
             "minorgridcolor": "white",
             "startlinecolor": "#2a3f5f"
            },
            "baxis": {
             "endlinecolor": "#2a3f5f",
             "gridcolor": "white",
             "linecolor": "white",
             "minorgridcolor": "white",
             "startlinecolor": "#2a3f5f"
            },
            "type": "carpet"
           }
          ],
          "choropleth": [
           {
            "colorbar": {
             "outlinewidth": 0,
             "ticks": ""
            },
            "type": "choropleth"
           }
          ],
          "contour": [
           {
            "colorbar": {
             "outlinewidth": 0,
             "ticks": ""
            },
            "colorscale": [
             [
              0,
              "#0d0887"
             ],
             [
              0.1111111111111111,
              "#46039f"
             ],
             [
              0.2222222222222222,
              "#7201a8"
             ],
             [
              0.3333333333333333,
              "#9c179e"
             ],
             [
              0.4444444444444444,
              "#bd3786"
             ],
             [
              0.5555555555555556,
              "#d8576b"
             ],
             [
              0.6666666666666666,
              "#ed7953"
             ],
             [
              0.7777777777777778,
              "#fb9f3a"
             ],
             [
              0.8888888888888888,
              "#fdca26"
             ],
             [
              1,
              "#f0f921"
             ]
            ],
            "type": "contour"
           }
          ],
          "contourcarpet": [
           {
            "colorbar": {
             "outlinewidth": 0,
             "ticks": ""
            },
            "type": "contourcarpet"
           }
          ],
          "heatmap": [
           {
            "colorbar": {
             "outlinewidth": 0,
             "ticks": ""
            },
            "colorscale": [
             [
              0,
              "#0d0887"
             ],
             [
              0.1111111111111111,
              "#46039f"
             ],
             [
              0.2222222222222222,
              "#7201a8"
             ],
             [
              0.3333333333333333,
              "#9c179e"
             ],
             [
              0.4444444444444444,
              "#bd3786"
             ],
             [
              0.5555555555555556,
              "#d8576b"
             ],
             [
              0.6666666666666666,
              "#ed7953"
             ],
             [
              0.7777777777777778,
              "#fb9f3a"
             ],
             [
              0.8888888888888888,
              "#fdca26"
             ],
             [
              1,
              "#f0f921"
             ]
            ],
            "type": "heatmap"
           }
          ],
          "heatmapgl": [
           {
            "colorbar": {
             "outlinewidth": 0,
             "ticks": ""
            },
            "colorscale": [
             [
              0,
              "#0d0887"
             ],
             [
              0.1111111111111111,
              "#46039f"
             ],
             [
              0.2222222222222222,
              "#7201a8"
             ],
             [
              0.3333333333333333,
              "#9c179e"
             ],
             [
              0.4444444444444444,
              "#bd3786"
             ],
             [
              0.5555555555555556,
              "#d8576b"
             ],
             [
              0.6666666666666666,
              "#ed7953"
             ],
             [
              0.7777777777777778,
              "#fb9f3a"
             ],
             [
              0.8888888888888888,
              "#fdca26"
             ],
             [
              1,
              "#f0f921"
             ]
            ],
            "type": "heatmapgl"
           }
          ],
          "histogram": [
           {
            "marker": {
             "colorbar": {
              "outlinewidth": 0,
              "ticks": ""
             }
            },
            "type": "histogram"
           }
          ],
          "histogram2d": [
           {
            "colorbar": {
             "outlinewidth": 0,
             "ticks": ""
            },
            "colorscale": [
             [
              0,
              "#0d0887"
             ],
             [
              0.1111111111111111,
              "#46039f"
             ],
             [
              0.2222222222222222,
              "#7201a8"
             ],
             [
              0.3333333333333333,
              "#9c179e"
             ],
             [
              0.4444444444444444,
              "#bd3786"
             ],
             [
              0.5555555555555556,
              "#d8576b"
             ],
             [
              0.6666666666666666,
              "#ed7953"
             ],
             [
              0.7777777777777778,
              "#fb9f3a"
             ],
             [
              0.8888888888888888,
              "#fdca26"
             ],
             [
              1,
              "#f0f921"
             ]
            ],
            "type": "histogram2d"
           }
          ],
          "histogram2dcontour": [
           {
            "colorbar": {
             "outlinewidth": 0,
             "ticks": ""
            },
            "colorscale": [
             [
              0,
              "#0d0887"
             ],
             [
              0.1111111111111111,
              "#46039f"
             ],
             [
              0.2222222222222222,
              "#7201a8"
             ],
             [
              0.3333333333333333,
              "#9c179e"
             ],
             [
              0.4444444444444444,
              "#bd3786"
             ],
             [
              0.5555555555555556,
              "#d8576b"
             ],
             [
              0.6666666666666666,
              "#ed7953"
             ],
             [
              0.7777777777777778,
              "#fb9f3a"
             ],
             [
              0.8888888888888888,
              "#fdca26"
             ],
             [
              1,
              "#f0f921"
             ]
            ],
            "type": "histogram2dcontour"
           }
          ],
          "mesh3d": [
           {
            "colorbar": {
             "outlinewidth": 0,
             "ticks": ""
            },
            "type": "mesh3d"
           }
          ],
          "parcoords": [
           {
            "line": {
             "colorbar": {
              "outlinewidth": 0,
              "ticks": ""
             }
            },
            "type": "parcoords"
           }
          ],
          "pie": [
           {
            "automargin": true,
            "type": "pie"
           }
          ],
          "scatter": [
           {
            "marker": {
             "colorbar": {
              "outlinewidth": 0,
              "ticks": ""
             }
            },
            "type": "scatter"
           }
          ],
          "scatter3d": [
           {
            "line": {
             "colorbar": {
              "outlinewidth": 0,
              "ticks": ""
             }
            },
            "marker": {
             "colorbar": {
              "outlinewidth": 0,
              "ticks": ""
             }
            },
            "type": "scatter3d"
           }
          ],
          "scattercarpet": [
           {
            "marker": {
             "colorbar": {
              "outlinewidth": 0,
              "ticks": ""
             }
            },
            "type": "scattercarpet"
           }
          ],
          "scattergeo": [
           {
            "marker": {
             "colorbar": {
              "outlinewidth": 0,
              "ticks": ""
             }
            },
            "type": "scattergeo"
           }
          ],
          "scattergl": [
           {
            "marker": {
             "colorbar": {
              "outlinewidth": 0,
              "ticks": ""
             }
            },
            "type": "scattergl"
           }
          ],
          "scattermapbox": [
           {
            "marker": {
             "colorbar": {
              "outlinewidth": 0,
              "ticks": ""
             }
            },
            "type": "scattermapbox"
           }
          ],
          "scatterpolar": [
           {
            "marker": {
             "colorbar": {
              "outlinewidth": 0,
              "ticks": ""
             }
            },
            "type": "scatterpolar"
           }
          ],
          "scatterpolargl": [
           {
            "marker": {
             "colorbar": {
              "outlinewidth": 0,
              "ticks": ""
             }
            },
            "type": "scatterpolargl"
           }
          ],
          "scatterternary": [
           {
            "marker": {
             "colorbar": {
              "outlinewidth": 0,
              "ticks": ""
             }
            },
            "type": "scatterternary"
           }
          ],
          "surface": [
           {
            "colorbar": {
             "outlinewidth": 0,
             "ticks": ""
            },
            "colorscale": [
             [
              0,
              "#0d0887"
             ],
             [
              0.1111111111111111,
              "#46039f"
             ],
             [
              0.2222222222222222,
              "#7201a8"
             ],
             [
              0.3333333333333333,
              "#9c179e"
             ],
             [
              0.4444444444444444,
              "#bd3786"
             ],
             [
              0.5555555555555556,
              "#d8576b"
             ],
             [
              0.6666666666666666,
              "#ed7953"
             ],
             [
              0.7777777777777778,
              "#fb9f3a"
             ],
             [
              0.8888888888888888,
              "#fdca26"
             ],
             [
              1,
              "#f0f921"
             ]
            ],
            "type": "surface"
           }
          ],
          "table": [
           {
            "cells": {
             "fill": {
              "color": "#EBF0F8"
             },
             "line": {
              "color": "white"
             }
            },
            "header": {
             "fill": {
              "color": "#C8D4E3"
             },
             "line": {
              "color": "white"
             }
            },
            "type": "table"
           }
          ]
         },
         "layout": {
          "annotationdefaults": {
           "arrowcolor": "#2a3f5f",
           "arrowhead": 0,
           "arrowwidth": 1
          },
          "coloraxis": {
           "colorbar": {
            "outlinewidth": 0,
            "ticks": ""
           }
          },
          "colorscale": {
           "diverging": [
            [
             0,
             "#8e0152"
            ],
            [
             0.1,
             "#c51b7d"
            ],
            [
             0.2,
             "#de77ae"
            ],
            [
             0.3,
             "#f1b6da"
            ],
            [
             0.4,
             "#fde0ef"
            ],
            [
             0.5,
             "#f7f7f7"
            ],
            [
             0.6,
             "#e6f5d0"
            ],
            [
             0.7,
             "#b8e186"
            ],
            [
             0.8,
             "#7fbc41"
            ],
            [
             0.9,
             "#4d9221"
            ],
            [
             1,
             "#276419"
            ]
           ],
           "sequential": [
            [
             0,
             "#0d0887"
            ],
            [
             0.1111111111111111,
             "#46039f"
            ],
            [
             0.2222222222222222,
             "#7201a8"
            ],
            [
             0.3333333333333333,
             "#9c179e"
            ],
            [
             0.4444444444444444,
             "#bd3786"
            ],
            [
             0.5555555555555556,
             "#d8576b"
            ],
            [
             0.6666666666666666,
             "#ed7953"
            ],
            [
             0.7777777777777778,
             "#fb9f3a"
            ],
            [
             0.8888888888888888,
             "#fdca26"
            ],
            [
             1,
             "#f0f921"
            ]
           ],
           "sequentialminus": [
            [
             0,
             "#0d0887"
            ],
            [
             0.1111111111111111,
             "#46039f"
            ],
            [
             0.2222222222222222,
             "#7201a8"
            ],
            [
             0.3333333333333333,
             "#9c179e"
            ],
            [
             0.4444444444444444,
             "#bd3786"
            ],
            [
             0.5555555555555556,
             "#d8576b"
            ],
            [
             0.6666666666666666,
             "#ed7953"
            ],
            [
             0.7777777777777778,
             "#fb9f3a"
            ],
            [
             0.8888888888888888,
             "#fdca26"
            ],
            [
             1,
             "#f0f921"
            ]
           ]
          },
          "colorway": [
           "#636efa",
           "#EF553B",
           "#00cc96",
           "#ab63fa",
           "#FFA15A",
           "#19d3f3",
           "#FF6692",
           "#B6E880",
           "#FF97FF",
           "#FECB52"
          ],
          "font": {
           "color": "#2a3f5f"
          },
          "geo": {
           "bgcolor": "white",
           "lakecolor": "white",
           "landcolor": "#E5ECF6",
           "showlakes": true,
           "showland": true,
           "subunitcolor": "white"
          },
          "hoverlabel": {
           "align": "left"
          },
          "hovermode": "closest",
          "mapbox": {
           "style": "light"
          },
          "paper_bgcolor": "white",
          "plot_bgcolor": "#E5ECF6",
          "polar": {
           "angularaxis": {
            "gridcolor": "white",
            "linecolor": "white",
            "ticks": ""
           },
           "bgcolor": "#E5ECF6",
           "radialaxis": {
            "gridcolor": "white",
            "linecolor": "white",
            "ticks": ""
           }
          },
          "scene": {
           "xaxis": {
            "backgroundcolor": "#E5ECF6",
            "gridcolor": "white",
            "gridwidth": 2,
            "linecolor": "white",
            "showbackground": true,
            "ticks": "",
            "zerolinecolor": "white"
           },
           "yaxis": {
            "backgroundcolor": "#E5ECF6",
            "gridcolor": "white",
            "gridwidth": 2,
            "linecolor": "white",
            "showbackground": true,
            "ticks": "",
            "zerolinecolor": "white"
           },
           "zaxis": {
            "backgroundcolor": "#E5ECF6",
            "gridcolor": "white",
            "gridwidth": 2,
            "linecolor": "white",
            "showbackground": true,
            "ticks": "",
            "zerolinecolor": "white"
           }
          },
          "shapedefaults": {
           "line": {
            "color": "#2a3f5f"
           }
          },
          "ternary": {
           "aaxis": {
            "gridcolor": "white",
            "linecolor": "white",
            "ticks": ""
           },
           "baxis": {
            "gridcolor": "white",
            "linecolor": "white",
            "ticks": ""
           },
           "bgcolor": "#E5ECF6",
           "caxis": {
            "gridcolor": "white",
            "linecolor": "white",
            "ticks": ""
           }
          },
          "title": {
           "x": 0.05
          },
          "xaxis": {
           "automargin": true,
           "gridcolor": "white",
           "linecolor": "white",
           "ticks": "",
           "title": {
            "standoff": 15
           },
           "zerolinecolor": "white",
           "zerolinewidth": 2
          },
          "yaxis": {
           "automargin": true,
           "gridcolor": "white",
           "linecolor": "white",
           "ticks": "",
           "title": {
            "standoff": 15
           },
           "zerolinecolor": "white",
           "zerolinewidth": 2
          }
         }
        },
        "title": {
         "font": {
          "color": "#4D5663"
         }
        },
        "xaxis": {
         "gridcolor": "#E1E5ED",
         "showgrid": true,
         "tickfont": {
          "color": "#4D5663"
         },
         "title": {
          "font": {
           "color": "#4D5663"
          },
          "text": ""
         },
         "zerolinecolor": "#E1E5ED"
        },
        "yaxis": {
         "gridcolor": "#E1E5ED",
         "showgrid": true,
         "tickfont": {
          "color": "#4D5663"
         },
         "title": {
          "font": {
           "color": "#4D5663"
          },
          "text": ""
         },
         "zerolinecolor": "#E1E5ED"
        }
       }
      },
      "text/html": [
       "<div>\n",
       "        \n",
       "        \n",
       "            <div id=\"763e3398-fa9b-4bec-899c-26829c4b0459\" class=\"plotly-graph-div\" style=\"height:525px; width:100%;\"></div>\n",
       "            <script type=\"text/javascript\">\n",
       "                require([\"plotly\"], function(Plotly) {\n",
       "                    window.PLOTLYENV=window.PLOTLYENV || {};\n",
       "                    window.PLOTLYENV.BASE_URL='https://plot.ly';\n",
       "                    \n",
       "                if (document.getElementById(\"763e3398-fa9b-4bec-899c-26829c4b0459\")) {\n",
       "                    Plotly.newPlot(\n",
       "                        '763e3398-fa9b-4bec-899c-26829c4b0459',\n",
       "                        [{\"histfunc\": \"count\", \"histnorm\": \"\", \"marker\": {\"color\": \"rgba(255, 153, 51, 1.0)\", \"line\": {\"color\": \"#4D5663\", \"width\": 1.3}}, \"name\": \"A\", \"nbinsx\": 50, \"opacity\": 0.8, \"orientation\": \"v\", \"type\": \"histogram\", \"x\": [1.3306309417176265, -1.0385908792182337, 0.1874988544332731, -1.280273142495005, 1.049058077764222, 1.0611683123235378, 1.9071191693896197, 2.7352170168230985, -0.6397746814172409, 0.8463438925366744, 0.6654798489053015, 0.5898888031987908, -0.24578070323181664, 0.8969285206540074, -0.5662410084123332, 1.0938500603836203, -0.12239543313528743, 0.22232875620726475, -2.100252650446614, 0.07236905792648542, 1.4025076400931227, -0.5884562982794522, -0.9889691929554822, 1.254073734692926, -0.46372972298110055, -0.48538707079930976, 1.3291500350558658, -0.5959406223584038, 0.8264347369014085, 0.03382006102493553, -1.7403756156373102, -0.10120422308479786, -2.0763793530629675, 0.32975298291286204, -0.2513970373300905, 1.0686811177498006, -1.287088310176192, 1.7189073509803223, -2.1812920330972028, -1.653046828768346, -0.6299599276446443, -0.6603974395461192, 1.9616869789233804, 0.8559600837851427, 0.6831248737350233, -0.28491484930330135, 2.273199289527967, -0.6001597532078587, -1.0362480369487086, 1.277052361551702, 0.716203215161114, -0.07102696522231514, -2.033535045783543, -0.7538182027296547, 0.0013298173934843229, 2.012898833923275, 1.2880410548949353, 0.4014209245850137, -0.7741539809820434, 0.7252590743472118, -0.8483347797463456, -0.49958477134736623, 0.14473176345929775, -0.8034821874756903, -1.351101132144767, 0.6170023030683952, -1.891397712945495, -0.9383709684301289, -0.41277249311839675, -1.591460336585324, -0.8097421575333087, 2.2616634455467683, -0.11339795454097942, -0.14794045700105715, -0.2163222303007041, 0.47811209099295643, -1.0224603818250957, 1.7108857580680352, 1.1466963877389036, 0.4356283563208712, 0.01784311691288129, 0.11980539540514351, 0.3947055397125486, 0.7596655979349227, -0.21600082570836415, -0.023137565460243193, 0.017163582231720136, 0.21032173566674786, -0.389023597520661, -0.19793727668987773, -0.29492035190757415, -1.2411400701237552, 0.39606779670549547, -0.9150253620940234, -0.5257507006499514, 1.8243832582774786, -0.1125237963450426, -2.7739318359255813, -0.0898090875362181, 0.8328315823372676]}],\n",
       "                        {\"barmode\": \"overlay\", \"legend\": {\"bgcolor\": \"#F5F6F9\", \"font\": {\"color\": \"#4D5663\"}}, \"paper_bgcolor\": \"#F5F6F9\", \"plot_bgcolor\": \"#F5F6F9\", \"template\": {\"data\": {\"bar\": [{\"error_x\": {\"color\": \"#2a3f5f\"}, \"error_y\": {\"color\": \"#2a3f5f\"}, \"marker\": {\"line\": {\"color\": \"#E5ECF6\", \"width\": 0.5}}, \"type\": \"bar\"}], \"barpolar\": [{\"marker\": {\"line\": {\"color\": \"#E5ECF6\", \"width\": 0.5}}, \"type\": \"barpolar\"}], \"carpet\": [{\"aaxis\": {\"endlinecolor\": \"#2a3f5f\", \"gridcolor\": \"white\", \"linecolor\": \"white\", \"minorgridcolor\": \"white\", \"startlinecolor\": \"#2a3f5f\"}, \"baxis\": {\"endlinecolor\": \"#2a3f5f\", \"gridcolor\": \"white\", \"linecolor\": \"white\", \"minorgridcolor\": \"white\", \"startlinecolor\": \"#2a3f5f\"}, \"type\": \"carpet\"}], \"choropleth\": [{\"colorbar\": {\"outlinewidth\": 0, \"ticks\": \"\"}, \"type\": \"choropleth\"}], \"contour\": [{\"colorbar\": {\"outlinewidth\": 0, \"ticks\": \"\"}, \"colorscale\": [[0.0, \"#0d0887\"], [0.1111111111111111, \"#46039f\"], [0.2222222222222222, \"#7201a8\"], [0.3333333333333333, \"#9c179e\"], [0.4444444444444444, \"#bd3786\"], [0.5555555555555556, \"#d8576b\"], [0.6666666666666666, \"#ed7953\"], [0.7777777777777778, \"#fb9f3a\"], [0.8888888888888888, \"#fdca26\"], [1.0, \"#f0f921\"]], \"type\": \"contour\"}], \"contourcarpet\": [{\"colorbar\": {\"outlinewidth\": 0, \"ticks\": \"\"}, \"type\": \"contourcarpet\"}], \"heatmap\": [{\"colorbar\": {\"outlinewidth\": 0, \"ticks\": \"\"}, \"colorscale\": [[0.0, \"#0d0887\"], [0.1111111111111111, \"#46039f\"], [0.2222222222222222, \"#7201a8\"], [0.3333333333333333, \"#9c179e\"], [0.4444444444444444, \"#bd3786\"], [0.5555555555555556, \"#d8576b\"], [0.6666666666666666, \"#ed7953\"], [0.7777777777777778, \"#fb9f3a\"], [0.8888888888888888, \"#fdca26\"], [1.0, \"#f0f921\"]], \"type\": \"heatmap\"}], \"heatmapgl\": [{\"colorbar\": {\"outlinewidth\": 0, \"ticks\": \"\"}, \"colorscale\": [[0.0, \"#0d0887\"], [0.1111111111111111, \"#46039f\"], [0.2222222222222222, \"#7201a8\"], [0.3333333333333333, \"#9c179e\"], [0.4444444444444444, \"#bd3786\"], [0.5555555555555556, \"#d8576b\"], [0.6666666666666666, \"#ed7953\"], [0.7777777777777778, \"#fb9f3a\"], [0.8888888888888888, \"#fdca26\"], [1.0, \"#f0f921\"]], \"type\": \"heatmapgl\"}], \"histogram\": [{\"marker\": {\"colorbar\": {\"outlinewidth\": 0, \"ticks\": \"\"}}, \"type\": \"histogram\"}], \"histogram2d\": [{\"colorbar\": {\"outlinewidth\": 0, \"ticks\": \"\"}, \"colorscale\": [[0.0, \"#0d0887\"], [0.1111111111111111, \"#46039f\"], [0.2222222222222222, \"#7201a8\"], [0.3333333333333333, \"#9c179e\"], [0.4444444444444444, \"#bd3786\"], [0.5555555555555556, \"#d8576b\"], [0.6666666666666666, \"#ed7953\"], [0.7777777777777778, \"#fb9f3a\"], [0.8888888888888888, \"#fdca26\"], [1.0, \"#f0f921\"]], \"type\": \"histogram2d\"}], \"histogram2dcontour\": [{\"colorbar\": {\"outlinewidth\": 0, \"ticks\": \"\"}, \"colorscale\": [[0.0, \"#0d0887\"], [0.1111111111111111, \"#46039f\"], [0.2222222222222222, \"#7201a8\"], [0.3333333333333333, \"#9c179e\"], [0.4444444444444444, \"#bd3786\"], [0.5555555555555556, \"#d8576b\"], [0.6666666666666666, \"#ed7953\"], [0.7777777777777778, \"#fb9f3a\"], [0.8888888888888888, \"#fdca26\"], [1.0, \"#f0f921\"]], \"type\": \"histogram2dcontour\"}], \"mesh3d\": [{\"colorbar\": {\"outlinewidth\": 0, \"ticks\": \"\"}, \"type\": \"mesh3d\"}], \"parcoords\": [{\"line\": {\"colorbar\": {\"outlinewidth\": 0, \"ticks\": \"\"}}, \"type\": \"parcoords\"}], \"pie\": [{\"automargin\": true, \"type\": \"pie\"}], \"scatter\": [{\"marker\": {\"colorbar\": {\"outlinewidth\": 0, \"ticks\": \"\"}}, \"type\": \"scatter\"}], \"scatter3d\": [{\"line\": {\"colorbar\": {\"outlinewidth\": 0, \"ticks\": \"\"}}, \"marker\": {\"colorbar\": {\"outlinewidth\": 0, \"ticks\": \"\"}}, \"type\": \"scatter3d\"}], \"scattercarpet\": [{\"marker\": {\"colorbar\": {\"outlinewidth\": 0, \"ticks\": \"\"}}, \"type\": \"scattercarpet\"}], \"scattergeo\": [{\"marker\": {\"colorbar\": {\"outlinewidth\": 0, \"ticks\": \"\"}}, \"type\": \"scattergeo\"}], \"scattergl\": [{\"marker\": {\"colorbar\": {\"outlinewidth\": 0, \"ticks\": \"\"}}, \"type\": \"scattergl\"}], \"scattermapbox\": [{\"marker\": {\"colorbar\": {\"outlinewidth\": 0, \"ticks\": \"\"}}, \"type\": \"scattermapbox\"}], \"scatterpolar\": [{\"marker\": {\"colorbar\": {\"outlinewidth\": 0, \"ticks\": \"\"}}, \"type\": \"scatterpolar\"}], \"scatterpolargl\": [{\"marker\": {\"colorbar\": {\"outlinewidth\": 0, \"ticks\": \"\"}}, \"type\": \"scatterpolargl\"}], \"scatterternary\": [{\"marker\": {\"colorbar\": {\"outlinewidth\": 0, \"ticks\": \"\"}}, \"type\": \"scatterternary\"}], \"surface\": [{\"colorbar\": {\"outlinewidth\": 0, \"ticks\": \"\"}, \"colorscale\": [[0.0, \"#0d0887\"], [0.1111111111111111, \"#46039f\"], [0.2222222222222222, \"#7201a8\"], [0.3333333333333333, \"#9c179e\"], [0.4444444444444444, \"#bd3786\"], [0.5555555555555556, \"#d8576b\"], [0.6666666666666666, \"#ed7953\"], [0.7777777777777778, \"#fb9f3a\"], [0.8888888888888888, \"#fdca26\"], [1.0, \"#f0f921\"]], \"type\": \"surface\"}], \"table\": [{\"cells\": {\"fill\": {\"color\": \"#EBF0F8\"}, \"line\": {\"color\": \"white\"}}, \"header\": {\"fill\": {\"color\": \"#C8D4E3\"}, \"line\": {\"color\": \"white\"}}, \"type\": \"table\"}]}, \"layout\": {\"annotationdefaults\": {\"arrowcolor\": \"#2a3f5f\", \"arrowhead\": 0, \"arrowwidth\": 1}, \"coloraxis\": {\"colorbar\": {\"outlinewidth\": 0, \"ticks\": \"\"}}, \"colorscale\": {\"diverging\": [[0, \"#8e0152\"], [0.1, \"#c51b7d\"], [0.2, \"#de77ae\"], [0.3, \"#f1b6da\"], [0.4, \"#fde0ef\"], [0.5, \"#f7f7f7\"], [0.6, \"#e6f5d0\"], [0.7, \"#b8e186\"], [0.8, \"#7fbc41\"], [0.9, \"#4d9221\"], [1, \"#276419\"]], \"sequential\": [[0.0, \"#0d0887\"], [0.1111111111111111, \"#46039f\"], [0.2222222222222222, \"#7201a8\"], [0.3333333333333333, \"#9c179e\"], [0.4444444444444444, \"#bd3786\"], [0.5555555555555556, \"#d8576b\"], [0.6666666666666666, \"#ed7953\"], [0.7777777777777778, \"#fb9f3a\"], [0.8888888888888888, \"#fdca26\"], [1.0, \"#f0f921\"]], \"sequentialminus\": [[0.0, \"#0d0887\"], [0.1111111111111111, \"#46039f\"], [0.2222222222222222, \"#7201a8\"], [0.3333333333333333, \"#9c179e\"], [0.4444444444444444, \"#bd3786\"], [0.5555555555555556, \"#d8576b\"], [0.6666666666666666, \"#ed7953\"], [0.7777777777777778, \"#fb9f3a\"], [0.8888888888888888, \"#fdca26\"], [1.0, \"#f0f921\"]]}, \"colorway\": [\"#636efa\", \"#EF553B\", \"#00cc96\", \"#ab63fa\", \"#FFA15A\", \"#19d3f3\", \"#FF6692\", \"#B6E880\", \"#FF97FF\", \"#FECB52\"], \"font\": {\"color\": \"#2a3f5f\"}, \"geo\": {\"bgcolor\": \"white\", \"lakecolor\": \"white\", \"landcolor\": \"#E5ECF6\", \"showlakes\": true, \"showland\": true, \"subunitcolor\": \"white\"}, \"hoverlabel\": {\"align\": \"left\"}, \"hovermode\": \"closest\", \"mapbox\": {\"style\": \"light\"}, \"paper_bgcolor\": \"white\", \"plot_bgcolor\": \"#E5ECF6\", \"polar\": {\"angularaxis\": {\"gridcolor\": \"white\", \"linecolor\": \"white\", \"ticks\": \"\"}, \"bgcolor\": \"#E5ECF6\", \"radialaxis\": {\"gridcolor\": \"white\", \"linecolor\": \"white\", \"ticks\": \"\"}}, \"scene\": {\"xaxis\": {\"backgroundcolor\": \"#E5ECF6\", \"gridcolor\": \"white\", \"gridwidth\": 2, \"linecolor\": \"white\", \"showbackground\": true, \"ticks\": \"\", \"zerolinecolor\": \"white\"}, \"yaxis\": {\"backgroundcolor\": \"#E5ECF6\", \"gridcolor\": \"white\", \"gridwidth\": 2, \"linecolor\": \"white\", \"showbackground\": true, \"ticks\": \"\", \"zerolinecolor\": \"white\"}, \"zaxis\": {\"backgroundcolor\": \"#E5ECF6\", \"gridcolor\": \"white\", \"gridwidth\": 2, \"linecolor\": \"white\", \"showbackground\": true, \"ticks\": \"\", \"zerolinecolor\": \"white\"}}, \"shapedefaults\": {\"line\": {\"color\": \"#2a3f5f\"}}, \"ternary\": {\"aaxis\": {\"gridcolor\": \"white\", \"linecolor\": \"white\", \"ticks\": \"\"}, \"baxis\": {\"gridcolor\": \"white\", \"linecolor\": \"white\", \"ticks\": \"\"}, \"bgcolor\": \"#E5ECF6\", \"caxis\": {\"gridcolor\": \"white\", \"linecolor\": \"white\", \"ticks\": \"\"}}, \"title\": {\"x\": 0.05}, \"xaxis\": {\"automargin\": true, \"gridcolor\": \"white\", \"linecolor\": \"white\", \"ticks\": \"\", \"title\": {\"standoff\": 15}, \"zerolinecolor\": \"white\", \"zerolinewidth\": 2}, \"yaxis\": {\"automargin\": true, \"gridcolor\": \"white\", \"linecolor\": \"white\", \"ticks\": \"\", \"title\": {\"standoff\": 15}, \"zerolinecolor\": \"white\", \"zerolinewidth\": 2}}}, \"title\": {\"font\": {\"color\": \"#4D5663\"}}, \"xaxis\": {\"gridcolor\": \"#E1E5ED\", \"showgrid\": true, \"tickfont\": {\"color\": \"#4D5663\"}, \"title\": {\"font\": {\"color\": \"#4D5663\"}, \"text\": \"\"}, \"zerolinecolor\": \"#E1E5ED\"}, \"yaxis\": {\"gridcolor\": \"#E1E5ED\", \"showgrid\": true, \"tickfont\": {\"color\": \"#4D5663\"}, \"title\": {\"font\": {\"color\": \"#4D5663\"}, \"text\": \"\"}, \"zerolinecolor\": \"#E1E5ED\"}},\n",
       "                        {\"showLink\": true, \"linkText\": \"Export to plot.ly\", \"plotlyServerURL\": \"https://plot.ly\", \"responsive\": true}\n",
       "                    ).then(function(){\n",
       "                            \n",
       "var gd = document.getElementById('763e3398-fa9b-4bec-899c-26829c4b0459');\n",
       "var x = new MutationObserver(function (mutations, observer) {{\n",
       "        var display = window.getComputedStyle(gd).display;\n",
       "        if (!display || display === 'none') {{\n",
       "            console.log([gd, 'removed!']);\n",
       "            Plotly.purge(gd);\n",
       "            observer.disconnect();\n",
       "        }}\n",
       "}});\n",
       "\n",
       "// Listen for the removal of the full notebook cells\n",
       "var notebookContainer = gd.closest('#notebook-container');\n",
       "if (notebookContainer) {{\n",
       "    x.observe(notebookContainer, {childList: true});\n",
       "}}\n",
       "\n",
       "// Listen for the clearing of the current output cell\n",
       "var outputEl = gd.closest('.output');\n",
       "if (outputEl) {{\n",
       "    x.observe(outputEl, {childList: true});\n",
       "}}\n",
       "\n",
       "                        })\n",
       "                };\n",
       "                });\n",
       "            </script>\n",
       "        </div>"
      ]
     },
     "metadata": {},
     "output_type": "display_data"
    }
   ],
   "source": [
    "df['A'].iplot(kind = 'hist',bins = 50)"
   ]
  },
  {
   "cell_type": "code",
   "execution_count": 33,
   "metadata": {},
   "outputs": [
    {
     "name": "stderr",
     "output_type": "stream",
     "text": [
      "C:\\Users\\bhrug\\anaconda3\\lib\\site-packages\\cufflinks\\plotlytools.py:849: FutureWarning:\n",
      "\n",
      "The pandas.np module is deprecated and will be removed from pandas in a future version. Import numpy directly instead\n",
      "\n",
      "C:\\Users\\bhrug\\anaconda3\\lib\\site-packages\\cufflinks\\plotlytools.py:850: FutureWarning:\n",
      "\n",
      "The pandas.np module is deprecated and will be removed from pandas in a future version. Import numpy directly instead\n",
      "\n"
     ]
    },
    {
     "data": {
      "application/vnd.plotly.v1+json": {
       "config": {
        "linkText": "Export to plot.ly",
        "plotlyServerURL": "https://plot.ly",
        "showLink": true
       },
       "data": [
        {
         "line": {
          "color": "rgba(255, 153, 51, 1.0)",
          "dash": "solid",
          "shape": "linear",
          "width": 1.3
         },
         "mode": "lines",
         "name": "A",
         "text": "",
         "type": "scatter",
         "x": [
          0,
          1,
          2,
          3,
          4,
          5,
          6,
          7,
          8,
          9,
          10,
          11,
          12,
          13,
          14,
          15,
          16,
          17,
          18,
          19,
          20,
          21,
          22,
          23,
          24,
          25,
          26,
          27,
          28,
          29,
          30,
          31,
          32,
          33,
          34,
          35,
          36,
          37,
          38,
          39,
          40,
          41,
          42,
          43,
          44,
          45,
          46,
          47,
          48,
          49,
          50,
          51,
          52,
          53,
          54,
          55,
          56,
          57,
          58,
          59,
          60,
          61,
          62,
          63,
          64,
          65,
          66,
          67,
          68,
          69,
          70,
          71,
          72,
          73,
          74,
          75,
          76,
          77,
          78,
          79,
          80,
          81,
          82,
          83,
          84,
          85,
          86,
          87,
          88,
          89,
          90,
          91,
          92,
          93,
          94,
          95,
          96,
          97,
          98,
          99
         ],
         "y": [
          1.3306309417176265,
          -1.0385908792182337,
          0.1874988544332731,
          -1.280273142495005,
          1.049058077764222,
          1.0611683123235378,
          1.9071191693896197,
          2.7352170168230985,
          -0.6397746814172409,
          0.8463438925366744,
          0.6654798489053015,
          0.5898888031987908,
          -0.24578070323181664,
          0.8969285206540074,
          -0.5662410084123332,
          1.0938500603836203,
          -0.12239543313528743,
          0.22232875620726475,
          -2.100252650446614,
          0.07236905792648542,
          1.4025076400931227,
          -0.5884562982794522,
          -0.9889691929554822,
          1.254073734692926,
          -0.46372972298110055,
          -0.48538707079930976,
          1.3291500350558658,
          -0.5959406223584038,
          0.8264347369014085,
          0.03382006102493553,
          -1.7403756156373102,
          -0.10120422308479786,
          -2.0763793530629675,
          0.32975298291286204,
          -0.2513970373300905,
          1.0686811177498006,
          -1.287088310176192,
          1.7189073509803223,
          -2.1812920330972028,
          -1.653046828768346,
          -0.6299599276446443,
          -0.6603974395461192,
          1.9616869789233804,
          0.8559600837851427,
          0.6831248737350233,
          -0.28491484930330135,
          2.273199289527967,
          -0.6001597532078587,
          -1.0362480369487086,
          1.277052361551702,
          0.716203215161114,
          -0.07102696522231514,
          -2.033535045783543,
          -0.7538182027296547,
          0.0013298173934843229,
          2.012898833923275,
          1.2880410548949353,
          0.4014209245850137,
          -0.7741539809820434,
          0.7252590743472118,
          -0.8483347797463456,
          -0.49958477134736623,
          0.14473176345929775,
          -0.8034821874756903,
          -1.351101132144767,
          0.6170023030683952,
          -1.891397712945495,
          -0.9383709684301289,
          -0.41277249311839675,
          -1.591460336585324,
          -0.8097421575333087,
          2.2616634455467683,
          -0.11339795454097942,
          -0.14794045700105715,
          -0.2163222303007041,
          0.47811209099295643,
          -1.0224603818250957,
          1.7108857580680352,
          1.1466963877389036,
          0.4356283563208712,
          0.01784311691288129,
          0.11980539540514351,
          0.3947055397125486,
          0.7596655979349227,
          -0.21600082570836415,
          -0.023137565460243193,
          0.017163582231720136,
          0.21032173566674786,
          -0.389023597520661,
          -0.19793727668987773,
          -0.29492035190757415,
          -1.2411400701237552,
          0.39606779670549547,
          -0.9150253620940234,
          -0.5257507006499514,
          1.8243832582774786,
          -0.1125237963450426,
          -2.7739318359255813,
          -0.0898090875362181,
          0.8328315823372676
         ]
        },
        {
         "line": {
          "color": "rgba(55, 128, 191, 1.0)",
          "dash": "solid",
          "shape": "linear",
          "width": 1.3
         },
         "mode": "lines",
         "name": "B",
         "text": "",
         "type": "scatter",
         "x": [
          0,
          1,
          2,
          3,
          4,
          5,
          6,
          7,
          8,
          9,
          10,
          11,
          12,
          13,
          14,
          15,
          16,
          17,
          18,
          19,
          20,
          21,
          22,
          23,
          24,
          25,
          26,
          27,
          28,
          29,
          30,
          31,
          32,
          33,
          34,
          35,
          36,
          37,
          38,
          39,
          40,
          41,
          42,
          43,
          44,
          45,
          46,
          47,
          48,
          49,
          50,
          51,
          52,
          53,
          54,
          55,
          56,
          57,
          58,
          59,
          60,
          61,
          62,
          63,
          64,
          65,
          66,
          67,
          68,
          69,
          70,
          71,
          72,
          73,
          74,
          75,
          76,
          77,
          78,
          79,
          80,
          81,
          82,
          83,
          84,
          85,
          86,
          87,
          88,
          89,
          90,
          91,
          92,
          93,
          94,
          95,
          96,
          97,
          98,
          99
         ],
         "y": [
          -0.8077541023962002,
          0.7565634938517336,
          1.1237573596606032,
          -0.39565919347789863,
          0.0549785621201317,
          1.366502617290853,
          -1.3230694814486699,
          0.7387889439830942,
          -1.199480435930739,
          -2.282949284120805,
          -0.11425954367285318,
          0.8220010850043288,
          -1.1018014057796768,
          0.2503149600873541,
          1.1736158070252711,
          0.6947821804303227,
          0.5283230210516395,
          0.02697684131203542,
          1.2281054446817783,
          0.30732376074071527,
          -1.8252020255670138,
          2.6418773394416872,
          0.4006178825484417,
          0.5288086239368401,
          0.42863236503672264,
          0.30564260765961393,
          1.2778053713476605,
          1.472255914104073,
          0.05872832874232765,
          0.7251880601234464,
          -0.2138418181358444,
          -2.0005260137365877,
          1.534647810447825,
          2.084477685137188,
          2.7052715499038764,
          0.6695822248372039,
          -0.06518920375824615,
          -1.9049080959097124,
          1.2169413778613276,
          -2.03197874321166,
          1.4546371527133481,
          0.1989084957309017,
          -1.7818535501801909,
          2.0004508452916028,
          1.6296031993340103,
          0.24500116269463681,
          0.5640050900164671,
          0.5904149850770735,
          0.3823351716117955,
          1.7376514275808248,
          -0.8979434180678454,
          0.5914107965134787,
          0.4234285284764335,
          -0.6922168342136781,
          -0.6970659041760846,
          -1.4925661057491024,
          0.4165199828435986,
          -0.17973830756700138,
          -0.1899146526268394,
          0.5206315273626101,
          -0.06918200176339967,
          -0.7240010125943824,
          1.2793270686278744,
          0.3365658155828963,
          -2.0232355137365383,
          -1.955386468277755,
          1.0471304394836258,
          -0.3234898040130142,
          0.7452124347332417,
          0.9305259702811042,
          -0.7515431305554422,
          1.9675896545741405,
          0.28748431790382417,
          -0.19642992033258458,
          -0.49064884204819204,
          0.18816479377724749,
          0.07676733695429527,
          0.49804273677106,
          0.34102017267473134,
          0.7200324639469576,
          0.0606644111172542,
          -0.6137673524489353,
          0.6592257674514602,
          -1.367796620444945,
          1.3767073670816232,
          -0.6286369092359241,
          -2.659475702790765,
          0.06032259735863327,
          1.0736657620512429,
          -0.8494551963668133,
          0.7416402492100004,
          1.2144400487378093,
          0.41762560003557575,
          -0.40527781652274925,
          -0.31652693291467393,
          0.3028904622839831,
          -0.20221592711223793,
          0.14151449129352375,
          -0.08920104667800999,
          0.45969093794151544
         ]
        },
        {
         "connectgaps": false,
         "fill": "tozeroy",
         "line": {
          "color": "green",
          "dash": "solid",
          "shape": "linear",
          "width": 0.5
         },
         "mode": "lines",
         "name": "Spread",
         "showlegend": false,
         "type": "scatter",
         "x": [
          0,
          1,
          2,
          3,
          4,
          5,
          6,
          7,
          8,
          9,
          10,
          11,
          12,
          13,
          14,
          15,
          16,
          17,
          18,
          19,
          20,
          21,
          22,
          23,
          24,
          25,
          26,
          27,
          28,
          29,
          30,
          31,
          32,
          33,
          34,
          35,
          36,
          37,
          38,
          39,
          40,
          41,
          42,
          43,
          44,
          45,
          46,
          47,
          48,
          49,
          50,
          51,
          52,
          53,
          54,
          55,
          56,
          57,
          58,
          59,
          60,
          61,
          62,
          63,
          64,
          65,
          66,
          67,
          68,
          69,
          70,
          71,
          72,
          73,
          74,
          75,
          76,
          77,
          78,
          79,
          80,
          81,
          82,
          83,
          84,
          85,
          86,
          87,
          88,
          89,
          90,
          91,
          92,
          93,
          94,
          95,
          96,
          97,
          98,
          99
         ],
         "xaxis": "x2",
         "y": [
          2.138385044113827,
          "",
          "",
          "",
          0.9940795156440903,
          "",
          3.2301886508382895,
          1.9964280728400041,
          0.559705754513498,
          3.1292931766574794,
          0.7797393925781547,
          "",
          0.8560207025478601,
          0.6466135605666533,
          "",
          0.3990678799532976,
          "",
          0.19535191489522932,
          "",
          "",
          3.2277096656601367,
          "",
          "",
          0.7252651107560859,
          "",
          "",
          0.05134466370820534,
          "",
          0.7677064081590808,
          "",
          "",
          1.8993217906517899,
          "",
          "",
          "",
          0.3990988929125967,
          "",
          3.6238154468900348,
          "",
          0.37893191444331387,
          "",
          "",
          3.743540529103571,
          "",
          "",
          "",
          1.7091941995114999,
          "",
          "",
          "",
          1.6141466332289593,
          "",
          "",
          "",
          0.698395721569569,
          3.5054649396723776,
          0.8715210720513367,
          0.5811592321520151,
          "",
          0.20462754698460173,
          "",
          0.2244162412470162,
          "",
          "",
          0.6721343815917713,
          2.57238877134615,
          "",
          "",
          "",
          "",
          "",
          0.29407379097262787,
          "",
          0.04848946333152743,
          0.27432661174748796,
          0.28994729721570894,
          "",
          1.2128430212969752,
          0.8056762150641723,
          "",
          "",
          0.7335727478540788,
          "",
          2.1274622183798675,
          "",
          0.6054993437756809,
          2.6766392850224854,
          0.1499991383081146,
          "",
          0.6515179196769356,
          "",
          "",
          "",
          "",
          "",
          1.5214927959934954,
          0.08969213076719533,
          "",
          "",
          0.3731406443957522
         ],
         "yaxis": "y2"
        },
        {
         "connectgaps": false,
         "fill": "tozeroy",
         "line": {
          "color": "red",
          "dash": "solid",
          "shape": "linear",
          "width": 0.5
         },
         "mode": "lines",
         "name": "Spread",
         "showlegend": false,
         "type": "scatter",
         "x": [
          0,
          1,
          2,
          3,
          4,
          5,
          6,
          7,
          8,
          9,
          10,
          11,
          12,
          13,
          14,
          15,
          16,
          17,
          18,
          19,
          20,
          21,
          22,
          23,
          24,
          25,
          26,
          27,
          28,
          29,
          30,
          31,
          32,
          33,
          34,
          35,
          36,
          37,
          38,
          39,
          40,
          41,
          42,
          43,
          44,
          45,
          46,
          47,
          48,
          49,
          50,
          51,
          52,
          53,
          54,
          55,
          56,
          57,
          58,
          59,
          60,
          61,
          62,
          63,
          64,
          65,
          66,
          67,
          68,
          69,
          70,
          71,
          72,
          73,
          74,
          75,
          76,
          77,
          78,
          79,
          80,
          81,
          82,
          83,
          84,
          85,
          86,
          87,
          88,
          89,
          90,
          91,
          92,
          93,
          94,
          95,
          96,
          97,
          98,
          99
         ],
         "xaxis": "x2",
         "y": [
          "",
          -1.7951543730699673,
          -0.9362585052273301,
          -0.8846139490171063,
          "",
          -0.3053343049673152,
          "",
          "",
          "",
          "",
          "",
          -0.232112281805538,
          "",
          "",
          -1.7398568154376042,
          "",
          -0.650718454186927,
          "",
          -3.3283580951283924,
          -0.23495470281422987,
          "",
          -3.2303336377211394,
          -1.389587075503924,
          "",
          -0.8923620880178231,
          -0.7910296784589237,
          "",
          -2.0681965364624766,
          "",
          -0.6913679990985109,
          -1.526533797501466,
          "",
          -3.6110271635107924,
          -1.754724702224326,
          -2.956668587233967,
          "",
          -1.2218991064179459,
          "",
          -3.3982334109585306,
          "",
          -2.0845970803579923,
          -0.8593059352770209,
          "",
          -1.1444907615064601,
          -0.946478325598987,
          -0.5299160119979381,
          "",
          -1.190574738284932,
          -1.4185832085605041,
          -0.4605990660291228,
          "",
          -0.6624377617357938,
          -2.4569635742599765,
          -0.06160136851597664,
          "",
          "",
          "",
          "",
          -0.584239328355204,
          "",
          -0.7791527779829459,
          "",
          -1.1345953051685767,
          -1.1400480030585867,
          "",
          "",
          -2.9385281524291207,
          -0.6148811644171147,
          -1.1579849278516385,
          -2.5219863068664283,
          -0.0581990269778665,
          "",
          -0.40088227244480357,
          "",
          "",
          "",
          -1.099227718779391,
          "",
          "",
          -0.2844041076260864,
          -0.04282129420437291,
          "",
          -0.2645202277389116,
          "",
          -1.5927081927899873,
          "",
          "",
          "",
          -1.462689359571904,
          "",
          -1.0365606011175745,
          -2.4555801188615645,
          -0.021557803330080283,
          -0.5097475455712741,
          -0.2092237677352775,
          "",
          "",
          -2.915446327219105,
          -0.0006080408582081059,
          ""
         ],
         "yaxis": "y2"
        }
       ],
       "layout": {
        "hovermode": "x",
        "legend": {
         "bgcolor": "#F5F6F9",
         "font": {
          "color": "#4D5663"
         }
        },
        "paper_bgcolor": "#F5F6F9",
        "plot_bgcolor": "#F5F6F9",
        "template": {
         "data": {
          "bar": [
           {
            "error_x": {
             "color": "#2a3f5f"
            },
            "error_y": {
             "color": "#2a3f5f"
            },
            "marker": {
             "line": {
              "color": "#E5ECF6",
              "width": 0.5
             }
            },
            "type": "bar"
           }
          ],
          "barpolar": [
           {
            "marker": {
             "line": {
              "color": "#E5ECF6",
              "width": 0.5
             }
            },
            "type": "barpolar"
           }
          ],
          "carpet": [
           {
            "aaxis": {
             "endlinecolor": "#2a3f5f",
             "gridcolor": "white",
             "linecolor": "white",
             "minorgridcolor": "white",
             "startlinecolor": "#2a3f5f"
            },
            "baxis": {
             "endlinecolor": "#2a3f5f",
             "gridcolor": "white",
             "linecolor": "white",
             "minorgridcolor": "white",
             "startlinecolor": "#2a3f5f"
            },
            "type": "carpet"
           }
          ],
          "choropleth": [
           {
            "colorbar": {
             "outlinewidth": 0,
             "ticks": ""
            },
            "type": "choropleth"
           }
          ],
          "contour": [
           {
            "colorbar": {
             "outlinewidth": 0,
             "ticks": ""
            },
            "colorscale": [
             [
              0,
              "#0d0887"
             ],
             [
              0.1111111111111111,
              "#46039f"
             ],
             [
              0.2222222222222222,
              "#7201a8"
             ],
             [
              0.3333333333333333,
              "#9c179e"
             ],
             [
              0.4444444444444444,
              "#bd3786"
             ],
             [
              0.5555555555555556,
              "#d8576b"
             ],
             [
              0.6666666666666666,
              "#ed7953"
             ],
             [
              0.7777777777777778,
              "#fb9f3a"
             ],
             [
              0.8888888888888888,
              "#fdca26"
             ],
             [
              1,
              "#f0f921"
             ]
            ],
            "type": "contour"
           }
          ],
          "contourcarpet": [
           {
            "colorbar": {
             "outlinewidth": 0,
             "ticks": ""
            },
            "type": "contourcarpet"
           }
          ],
          "heatmap": [
           {
            "colorbar": {
             "outlinewidth": 0,
             "ticks": ""
            },
            "colorscale": [
             [
              0,
              "#0d0887"
             ],
             [
              0.1111111111111111,
              "#46039f"
             ],
             [
              0.2222222222222222,
              "#7201a8"
             ],
             [
              0.3333333333333333,
              "#9c179e"
             ],
             [
              0.4444444444444444,
              "#bd3786"
             ],
             [
              0.5555555555555556,
              "#d8576b"
             ],
             [
              0.6666666666666666,
              "#ed7953"
             ],
             [
              0.7777777777777778,
              "#fb9f3a"
             ],
             [
              0.8888888888888888,
              "#fdca26"
             ],
             [
              1,
              "#f0f921"
             ]
            ],
            "type": "heatmap"
           }
          ],
          "heatmapgl": [
           {
            "colorbar": {
             "outlinewidth": 0,
             "ticks": ""
            },
            "colorscale": [
             [
              0,
              "#0d0887"
             ],
             [
              0.1111111111111111,
              "#46039f"
             ],
             [
              0.2222222222222222,
              "#7201a8"
             ],
             [
              0.3333333333333333,
              "#9c179e"
             ],
             [
              0.4444444444444444,
              "#bd3786"
             ],
             [
              0.5555555555555556,
              "#d8576b"
             ],
             [
              0.6666666666666666,
              "#ed7953"
             ],
             [
              0.7777777777777778,
              "#fb9f3a"
             ],
             [
              0.8888888888888888,
              "#fdca26"
             ],
             [
              1,
              "#f0f921"
             ]
            ],
            "type": "heatmapgl"
           }
          ],
          "histogram": [
           {
            "marker": {
             "colorbar": {
              "outlinewidth": 0,
              "ticks": ""
             }
            },
            "type": "histogram"
           }
          ],
          "histogram2d": [
           {
            "colorbar": {
             "outlinewidth": 0,
             "ticks": ""
            },
            "colorscale": [
             [
              0,
              "#0d0887"
             ],
             [
              0.1111111111111111,
              "#46039f"
             ],
             [
              0.2222222222222222,
              "#7201a8"
             ],
             [
              0.3333333333333333,
              "#9c179e"
             ],
             [
              0.4444444444444444,
              "#bd3786"
             ],
             [
              0.5555555555555556,
              "#d8576b"
             ],
             [
              0.6666666666666666,
              "#ed7953"
             ],
             [
              0.7777777777777778,
              "#fb9f3a"
             ],
             [
              0.8888888888888888,
              "#fdca26"
             ],
             [
              1,
              "#f0f921"
             ]
            ],
            "type": "histogram2d"
           }
          ],
          "histogram2dcontour": [
           {
            "colorbar": {
             "outlinewidth": 0,
             "ticks": ""
            },
            "colorscale": [
             [
              0,
              "#0d0887"
             ],
             [
              0.1111111111111111,
              "#46039f"
             ],
             [
              0.2222222222222222,
              "#7201a8"
             ],
             [
              0.3333333333333333,
              "#9c179e"
             ],
             [
              0.4444444444444444,
              "#bd3786"
             ],
             [
              0.5555555555555556,
              "#d8576b"
             ],
             [
              0.6666666666666666,
              "#ed7953"
             ],
             [
              0.7777777777777778,
              "#fb9f3a"
             ],
             [
              0.8888888888888888,
              "#fdca26"
             ],
             [
              1,
              "#f0f921"
             ]
            ],
            "type": "histogram2dcontour"
           }
          ],
          "mesh3d": [
           {
            "colorbar": {
             "outlinewidth": 0,
             "ticks": ""
            },
            "type": "mesh3d"
           }
          ],
          "parcoords": [
           {
            "line": {
             "colorbar": {
              "outlinewidth": 0,
              "ticks": ""
             }
            },
            "type": "parcoords"
           }
          ],
          "pie": [
           {
            "automargin": true,
            "type": "pie"
           }
          ],
          "scatter": [
           {
            "marker": {
             "colorbar": {
              "outlinewidth": 0,
              "ticks": ""
             }
            },
            "type": "scatter"
           }
          ],
          "scatter3d": [
           {
            "line": {
             "colorbar": {
              "outlinewidth": 0,
              "ticks": ""
             }
            },
            "marker": {
             "colorbar": {
              "outlinewidth": 0,
              "ticks": ""
             }
            },
            "type": "scatter3d"
           }
          ],
          "scattercarpet": [
           {
            "marker": {
             "colorbar": {
              "outlinewidth": 0,
              "ticks": ""
             }
            },
            "type": "scattercarpet"
           }
          ],
          "scattergeo": [
           {
            "marker": {
             "colorbar": {
              "outlinewidth": 0,
              "ticks": ""
             }
            },
            "type": "scattergeo"
           }
          ],
          "scattergl": [
           {
            "marker": {
             "colorbar": {
              "outlinewidth": 0,
              "ticks": ""
             }
            },
            "type": "scattergl"
           }
          ],
          "scattermapbox": [
           {
            "marker": {
             "colorbar": {
              "outlinewidth": 0,
              "ticks": ""
             }
            },
            "type": "scattermapbox"
           }
          ],
          "scatterpolar": [
           {
            "marker": {
             "colorbar": {
              "outlinewidth": 0,
              "ticks": ""
             }
            },
            "type": "scatterpolar"
           }
          ],
          "scatterpolargl": [
           {
            "marker": {
             "colorbar": {
              "outlinewidth": 0,
              "ticks": ""
             }
            },
            "type": "scatterpolargl"
           }
          ],
          "scatterternary": [
           {
            "marker": {
             "colorbar": {
              "outlinewidth": 0,
              "ticks": ""
             }
            },
            "type": "scatterternary"
           }
          ],
          "surface": [
           {
            "colorbar": {
             "outlinewidth": 0,
             "ticks": ""
            },
            "colorscale": [
             [
              0,
              "#0d0887"
             ],
             [
              0.1111111111111111,
              "#46039f"
             ],
             [
              0.2222222222222222,
              "#7201a8"
             ],
             [
              0.3333333333333333,
              "#9c179e"
             ],
             [
              0.4444444444444444,
              "#bd3786"
             ],
             [
              0.5555555555555556,
              "#d8576b"
             ],
             [
              0.6666666666666666,
              "#ed7953"
             ],
             [
              0.7777777777777778,
              "#fb9f3a"
             ],
             [
              0.8888888888888888,
              "#fdca26"
             ],
             [
              1,
              "#f0f921"
             ]
            ],
            "type": "surface"
           }
          ],
          "table": [
           {
            "cells": {
             "fill": {
              "color": "#EBF0F8"
             },
             "line": {
              "color": "white"
             }
            },
            "header": {
             "fill": {
              "color": "#C8D4E3"
             },
             "line": {
              "color": "white"
             }
            },
            "type": "table"
           }
          ]
         },
         "layout": {
          "annotationdefaults": {
           "arrowcolor": "#2a3f5f",
           "arrowhead": 0,
           "arrowwidth": 1
          },
          "coloraxis": {
           "colorbar": {
            "outlinewidth": 0,
            "ticks": ""
           }
          },
          "colorscale": {
           "diverging": [
            [
             0,
             "#8e0152"
            ],
            [
             0.1,
             "#c51b7d"
            ],
            [
             0.2,
             "#de77ae"
            ],
            [
             0.3,
             "#f1b6da"
            ],
            [
             0.4,
             "#fde0ef"
            ],
            [
             0.5,
             "#f7f7f7"
            ],
            [
             0.6,
             "#e6f5d0"
            ],
            [
             0.7,
             "#b8e186"
            ],
            [
             0.8,
             "#7fbc41"
            ],
            [
             0.9,
             "#4d9221"
            ],
            [
             1,
             "#276419"
            ]
           ],
           "sequential": [
            [
             0,
             "#0d0887"
            ],
            [
             0.1111111111111111,
             "#46039f"
            ],
            [
             0.2222222222222222,
             "#7201a8"
            ],
            [
             0.3333333333333333,
             "#9c179e"
            ],
            [
             0.4444444444444444,
             "#bd3786"
            ],
            [
             0.5555555555555556,
             "#d8576b"
            ],
            [
             0.6666666666666666,
             "#ed7953"
            ],
            [
             0.7777777777777778,
             "#fb9f3a"
            ],
            [
             0.8888888888888888,
             "#fdca26"
            ],
            [
             1,
             "#f0f921"
            ]
           ],
           "sequentialminus": [
            [
             0,
             "#0d0887"
            ],
            [
             0.1111111111111111,
             "#46039f"
            ],
            [
             0.2222222222222222,
             "#7201a8"
            ],
            [
             0.3333333333333333,
             "#9c179e"
            ],
            [
             0.4444444444444444,
             "#bd3786"
            ],
            [
             0.5555555555555556,
             "#d8576b"
            ],
            [
             0.6666666666666666,
             "#ed7953"
            ],
            [
             0.7777777777777778,
             "#fb9f3a"
            ],
            [
             0.8888888888888888,
             "#fdca26"
            ],
            [
             1,
             "#f0f921"
            ]
           ]
          },
          "colorway": [
           "#636efa",
           "#EF553B",
           "#00cc96",
           "#ab63fa",
           "#FFA15A",
           "#19d3f3",
           "#FF6692",
           "#B6E880",
           "#FF97FF",
           "#FECB52"
          ],
          "font": {
           "color": "#2a3f5f"
          },
          "geo": {
           "bgcolor": "white",
           "lakecolor": "white",
           "landcolor": "#E5ECF6",
           "showlakes": true,
           "showland": true,
           "subunitcolor": "white"
          },
          "hoverlabel": {
           "align": "left"
          },
          "hovermode": "closest",
          "mapbox": {
           "style": "light"
          },
          "paper_bgcolor": "white",
          "plot_bgcolor": "#E5ECF6",
          "polar": {
           "angularaxis": {
            "gridcolor": "white",
            "linecolor": "white",
            "ticks": ""
           },
           "bgcolor": "#E5ECF6",
           "radialaxis": {
            "gridcolor": "white",
            "linecolor": "white",
            "ticks": ""
           }
          },
          "scene": {
           "xaxis": {
            "backgroundcolor": "#E5ECF6",
            "gridcolor": "white",
            "gridwidth": 2,
            "linecolor": "white",
            "showbackground": true,
            "ticks": "",
            "zerolinecolor": "white"
           },
           "yaxis": {
            "backgroundcolor": "#E5ECF6",
            "gridcolor": "white",
            "gridwidth": 2,
            "linecolor": "white",
            "showbackground": true,
            "ticks": "",
            "zerolinecolor": "white"
           },
           "zaxis": {
            "backgroundcolor": "#E5ECF6",
            "gridcolor": "white",
            "gridwidth": 2,
            "linecolor": "white",
            "showbackground": true,
            "ticks": "",
            "zerolinecolor": "white"
           }
          },
          "shapedefaults": {
           "line": {
            "color": "#2a3f5f"
           }
          },
          "ternary": {
           "aaxis": {
            "gridcolor": "white",
            "linecolor": "white",
            "ticks": ""
           },
           "baxis": {
            "gridcolor": "white",
            "linecolor": "white",
            "ticks": ""
           },
           "bgcolor": "#E5ECF6",
           "caxis": {
            "gridcolor": "white",
            "linecolor": "white",
            "ticks": ""
           }
          },
          "title": {
           "x": 0.05
          },
          "xaxis": {
           "automargin": true,
           "gridcolor": "white",
           "linecolor": "white",
           "ticks": "",
           "title": {
            "standoff": 15
           },
           "zerolinecolor": "white",
           "zerolinewidth": 2
          },
          "yaxis": {
           "automargin": true,
           "gridcolor": "white",
           "linecolor": "white",
           "ticks": "",
           "title": {
            "standoff": 15
           },
           "zerolinecolor": "white",
           "zerolinewidth": 2
          }
         }
        },
        "title": {
         "font": {
          "color": "#4D5663"
         }
        },
        "xaxis": {
         "gridcolor": "#E1E5ED",
         "showgrid": true,
         "tickfont": {
          "color": "#4D5663"
         },
         "title": {
          "font": {
           "color": "#4D5663"
          },
          "text": ""
         },
         "zerolinecolor": "#E1E5ED"
        },
        "xaxis2": {
         "anchor": "y2",
         "gridcolor": "#E1E5ED",
         "showgrid": true,
         "showticklabels": false,
         "tickfont": {
          "color": "#4D5663"
         },
         "title": {
          "font": {
           "color": "#4D5663"
          },
          "text": ""
         },
         "zerolinecolor": "#E1E5ED"
        },
        "yaxis": {
         "domain": [
          0.3,
          1
         ],
         "gridcolor": "#E1E5ED",
         "showgrid": true,
         "tickfont": {
          "color": "#4D5663"
         },
         "title": {
          "font": {
           "color": "#4D5663"
          },
          "text": ""
         },
         "zerolinecolor": "#E1E5ED"
        },
        "yaxis2": {
         "domain": [
          0,
          0.25
         ],
         "gridcolor": "#E1E5ED",
         "showgrid": true,
         "tickfont": {
          "color": "#4D5663"
         },
         "title": {
          "font": {
           "color": "#4D5663"
          },
          "text": "Spread"
         },
         "zerolinecolor": "#E1E5ED"
        }
       }
      },
      "text/html": [
       "<div>\n",
       "        \n",
       "        \n",
       "            <div id=\"c030e570-5207-4031-bdc3-babf550331e5\" class=\"plotly-graph-div\" style=\"height:525px; width:100%;\"></div>\n",
       "            <script type=\"text/javascript\">\n",
       "                require([\"plotly\"], function(Plotly) {\n",
       "                    window.PLOTLYENV=window.PLOTLYENV || {};\n",
       "                    window.PLOTLYENV.BASE_URL='https://plot.ly';\n",
       "                    \n",
       "                if (document.getElementById(\"c030e570-5207-4031-bdc3-babf550331e5\")) {\n",
       "                    Plotly.newPlot(\n",
       "                        'c030e570-5207-4031-bdc3-babf550331e5',\n",
       "                        [{\"line\": {\"color\": \"rgba(255, 153, 51, 1.0)\", \"dash\": \"solid\", \"shape\": \"linear\", \"width\": 1.3}, \"mode\": \"lines\", \"name\": \"A\", \"text\": \"\", \"type\": \"scatter\", \"x\": [0, 1, 2, 3, 4, 5, 6, 7, 8, 9, 10, 11, 12, 13, 14, 15, 16, 17, 18, 19, 20, 21, 22, 23, 24, 25, 26, 27, 28, 29, 30, 31, 32, 33, 34, 35, 36, 37, 38, 39, 40, 41, 42, 43, 44, 45, 46, 47, 48, 49, 50, 51, 52, 53, 54, 55, 56, 57, 58, 59, 60, 61, 62, 63, 64, 65, 66, 67, 68, 69, 70, 71, 72, 73, 74, 75, 76, 77, 78, 79, 80, 81, 82, 83, 84, 85, 86, 87, 88, 89, 90, 91, 92, 93, 94, 95, 96, 97, 98, 99], \"y\": [1.3306309417176265, -1.0385908792182337, 0.1874988544332731, -1.280273142495005, 1.049058077764222, 1.0611683123235378, 1.9071191693896197, 2.7352170168230985, -0.6397746814172409, 0.8463438925366744, 0.6654798489053015, 0.5898888031987908, -0.24578070323181664, 0.8969285206540074, -0.5662410084123332, 1.0938500603836203, -0.12239543313528743, 0.22232875620726475, -2.100252650446614, 0.07236905792648542, 1.4025076400931227, -0.5884562982794522, -0.9889691929554822, 1.254073734692926, -0.46372972298110055, -0.48538707079930976, 1.3291500350558658, -0.5959406223584038, 0.8264347369014085, 0.03382006102493553, -1.7403756156373102, -0.10120422308479786, -2.0763793530629675, 0.32975298291286204, -0.2513970373300905, 1.0686811177498006, -1.287088310176192, 1.7189073509803223, -2.1812920330972028, -1.653046828768346, -0.6299599276446443, -0.6603974395461192, 1.9616869789233804, 0.8559600837851427, 0.6831248737350233, -0.28491484930330135, 2.273199289527967, -0.6001597532078587, -1.0362480369487086, 1.277052361551702, 0.716203215161114, -0.07102696522231514, -2.033535045783543, -0.7538182027296547, 0.0013298173934843229, 2.012898833923275, 1.2880410548949353, 0.4014209245850137, -0.7741539809820434, 0.7252590743472118, -0.8483347797463456, -0.49958477134736623, 0.14473176345929775, -0.8034821874756903, -1.351101132144767, 0.6170023030683952, -1.891397712945495, -0.9383709684301289, -0.41277249311839675, -1.591460336585324, -0.8097421575333087, 2.2616634455467683, -0.11339795454097942, -0.14794045700105715, -0.2163222303007041, 0.47811209099295643, -1.0224603818250957, 1.7108857580680352, 1.1466963877389036, 0.4356283563208712, 0.01784311691288129, 0.11980539540514351, 0.3947055397125486, 0.7596655979349227, -0.21600082570836415, -0.023137565460243193, 0.017163582231720136, 0.21032173566674786, -0.389023597520661, -0.19793727668987773, -0.29492035190757415, -1.2411400701237552, 0.39606779670549547, -0.9150253620940234, -0.5257507006499514, 1.8243832582774786, -0.1125237963450426, -2.7739318359255813, -0.0898090875362181, 0.8328315823372676]}, {\"line\": {\"color\": \"rgba(55, 128, 191, 1.0)\", \"dash\": \"solid\", \"shape\": \"linear\", \"width\": 1.3}, \"mode\": \"lines\", \"name\": \"B\", \"text\": \"\", \"type\": \"scatter\", \"x\": [0, 1, 2, 3, 4, 5, 6, 7, 8, 9, 10, 11, 12, 13, 14, 15, 16, 17, 18, 19, 20, 21, 22, 23, 24, 25, 26, 27, 28, 29, 30, 31, 32, 33, 34, 35, 36, 37, 38, 39, 40, 41, 42, 43, 44, 45, 46, 47, 48, 49, 50, 51, 52, 53, 54, 55, 56, 57, 58, 59, 60, 61, 62, 63, 64, 65, 66, 67, 68, 69, 70, 71, 72, 73, 74, 75, 76, 77, 78, 79, 80, 81, 82, 83, 84, 85, 86, 87, 88, 89, 90, 91, 92, 93, 94, 95, 96, 97, 98, 99], \"y\": [-0.8077541023962002, 0.7565634938517336, 1.1237573596606032, -0.39565919347789863, 0.0549785621201317, 1.366502617290853, -1.3230694814486699, 0.7387889439830942, -1.199480435930739, -2.282949284120805, -0.11425954367285318, 0.8220010850043288, -1.1018014057796768, 0.2503149600873541, 1.1736158070252711, 0.6947821804303227, 0.5283230210516395, 0.02697684131203542, 1.2281054446817783, 0.30732376074071527, -1.8252020255670138, 2.6418773394416872, 0.4006178825484417, 0.5288086239368401, 0.42863236503672264, 0.30564260765961393, 1.2778053713476605, 1.472255914104073, 0.05872832874232765, 0.7251880601234464, -0.2138418181358444, -2.0005260137365877, 1.534647810447825, 2.084477685137188, 2.7052715499038764, 0.6695822248372039, -0.06518920375824615, -1.9049080959097124, 1.2169413778613276, -2.03197874321166, 1.4546371527133481, 0.1989084957309017, -1.7818535501801909, 2.0004508452916028, 1.6296031993340103, 0.24500116269463681, 0.5640050900164671, 0.5904149850770735, 0.3823351716117955, 1.7376514275808248, -0.8979434180678454, 0.5914107965134787, 0.4234285284764335, -0.6922168342136781, -0.6970659041760846, -1.4925661057491024, 0.4165199828435986, -0.17973830756700138, -0.1899146526268394, 0.5206315273626101, -0.06918200176339967, -0.7240010125943824, 1.2793270686278744, 0.3365658155828963, -2.0232355137365383, -1.955386468277755, 1.0471304394836258, -0.3234898040130142, 0.7452124347332417, 0.9305259702811042, -0.7515431305554422, 1.9675896545741405, 0.28748431790382417, -0.19642992033258458, -0.49064884204819204, 0.18816479377724749, 0.07676733695429527, 0.49804273677106, 0.34102017267473134, 0.7200324639469576, 0.0606644111172542, -0.6137673524489353, 0.6592257674514602, -1.367796620444945, 1.3767073670816232, -0.6286369092359241, -2.659475702790765, 0.06032259735863327, 1.0736657620512429, -0.8494551963668133, 0.7416402492100004, 1.2144400487378093, 0.41762560003557575, -0.40527781652274925, -0.31652693291467393, 0.3028904622839831, -0.20221592711223793, 0.14151449129352375, -0.08920104667800999, 0.45969093794151544]}, {\"connectgaps\": false, \"fill\": \"tozeroy\", \"line\": {\"color\": \"green\", \"dash\": \"solid\", \"shape\": \"linear\", \"width\": 0.5}, \"mode\": \"lines\", \"name\": \"Spread\", \"showlegend\": false, \"type\": \"scatter\", \"x\": [0, 1, 2, 3, 4, 5, 6, 7, 8, 9, 10, 11, 12, 13, 14, 15, 16, 17, 18, 19, 20, 21, 22, 23, 24, 25, 26, 27, 28, 29, 30, 31, 32, 33, 34, 35, 36, 37, 38, 39, 40, 41, 42, 43, 44, 45, 46, 47, 48, 49, 50, 51, 52, 53, 54, 55, 56, 57, 58, 59, 60, 61, 62, 63, 64, 65, 66, 67, 68, 69, 70, 71, 72, 73, 74, 75, 76, 77, 78, 79, 80, 81, 82, 83, 84, 85, 86, 87, 88, 89, 90, 91, 92, 93, 94, 95, 96, 97, 98, 99], \"xaxis\": \"x2\", \"y\": [2.138385044113827, \"\", \"\", \"\", 0.9940795156440903, \"\", 3.2301886508382895, 1.9964280728400041, 0.559705754513498, 3.1292931766574794, 0.7797393925781547, \"\", 0.8560207025478601, 0.6466135605666533, \"\", 0.3990678799532976, \"\", 0.19535191489522932, \"\", \"\", 3.2277096656601367, \"\", \"\", 0.7252651107560859, \"\", \"\", 0.05134466370820534, \"\", 0.7677064081590808, \"\", \"\", 1.8993217906517899, \"\", \"\", \"\", 0.3990988929125967, \"\", 3.6238154468900348, \"\", 0.37893191444331387, \"\", \"\", 3.743540529103571, \"\", \"\", \"\", 1.7091941995114999, \"\", \"\", \"\", 1.6141466332289593, \"\", \"\", \"\", 0.698395721569569, 3.5054649396723776, 0.8715210720513367, 0.5811592321520151, \"\", 0.20462754698460173, \"\", 0.2244162412470162, \"\", \"\", 0.6721343815917713, 2.57238877134615, \"\", \"\", \"\", \"\", \"\", 0.29407379097262787, \"\", 0.04848946333152743, 0.27432661174748796, 0.28994729721570894, \"\", 1.2128430212969752, 0.8056762150641723, \"\", \"\", 0.7335727478540788, \"\", 2.1274622183798675, \"\", 0.6054993437756809, 2.6766392850224854, 0.1499991383081146, \"\", 0.6515179196769356, \"\", \"\", \"\", \"\", \"\", 1.5214927959934954, 0.08969213076719533, \"\", \"\", 0.3731406443957522], \"yaxis\": \"y2\"}, {\"connectgaps\": false, \"fill\": \"tozeroy\", \"line\": {\"color\": \"red\", \"dash\": \"solid\", \"shape\": \"linear\", \"width\": 0.5}, \"mode\": \"lines\", \"name\": \"Spread\", \"showlegend\": false, \"type\": \"scatter\", \"x\": [0, 1, 2, 3, 4, 5, 6, 7, 8, 9, 10, 11, 12, 13, 14, 15, 16, 17, 18, 19, 20, 21, 22, 23, 24, 25, 26, 27, 28, 29, 30, 31, 32, 33, 34, 35, 36, 37, 38, 39, 40, 41, 42, 43, 44, 45, 46, 47, 48, 49, 50, 51, 52, 53, 54, 55, 56, 57, 58, 59, 60, 61, 62, 63, 64, 65, 66, 67, 68, 69, 70, 71, 72, 73, 74, 75, 76, 77, 78, 79, 80, 81, 82, 83, 84, 85, 86, 87, 88, 89, 90, 91, 92, 93, 94, 95, 96, 97, 98, 99], \"xaxis\": \"x2\", \"y\": [\"\", -1.7951543730699673, -0.9362585052273301, -0.8846139490171063, \"\", -0.3053343049673152, \"\", \"\", \"\", \"\", \"\", -0.232112281805538, \"\", \"\", -1.7398568154376042, \"\", -0.650718454186927, \"\", -3.3283580951283924, -0.23495470281422987, \"\", -3.2303336377211394, -1.389587075503924, \"\", -0.8923620880178231, -0.7910296784589237, \"\", -2.0681965364624766, \"\", -0.6913679990985109, -1.526533797501466, \"\", -3.6110271635107924, -1.754724702224326, -2.956668587233967, \"\", -1.2218991064179459, \"\", -3.3982334109585306, \"\", -2.0845970803579923, -0.8593059352770209, \"\", -1.1444907615064601, -0.946478325598987, -0.5299160119979381, \"\", -1.190574738284932, -1.4185832085605041, -0.4605990660291228, \"\", -0.6624377617357938, -2.4569635742599765, -0.06160136851597664, \"\", \"\", \"\", \"\", -0.584239328355204, \"\", -0.7791527779829459, \"\", -1.1345953051685767, -1.1400480030585867, \"\", \"\", -2.9385281524291207, -0.6148811644171147, -1.1579849278516385, -2.5219863068664283, -0.0581990269778665, \"\", -0.40088227244480357, \"\", \"\", \"\", -1.099227718779391, \"\", \"\", -0.2844041076260864, -0.04282129420437291, \"\", -0.2645202277389116, \"\", -1.5927081927899873, \"\", \"\", \"\", -1.462689359571904, \"\", -1.0365606011175745, -2.4555801188615645, -0.021557803330080283, -0.5097475455712741, -0.2092237677352775, \"\", \"\", -2.915446327219105, -0.0006080408582081059, \"\"], \"yaxis\": \"y2\"}],\n",
       "                        {\"hovermode\": \"x\", \"legend\": {\"bgcolor\": \"#F5F6F9\", \"font\": {\"color\": \"#4D5663\"}}, \"paper_bgcolor\": \"#F5F6F9\", \"plot_bgcolor\": \"#F5F6F9\", \"template\": {\"data\": {\"bar\": [{\"error_x\": {\"color\": \"#2a3f5f\"}, \"error_y\": {\"color\": \"#2a3f5f\"}, \"marker\": {\"line\": {\"color\": \"#E5ECF6\", \"width\": 0.5}}, \"type\": \"bar\"}], \"barpolar\": [{\"marker\": {\"line\": {\"color\": \"#E5ECF6\", \"width\": 0.5}}, \"type\": \"barpolar\"}], \"carpet\": [{\"aaxis\": {\"endlinecolor\": \"#2a3f5f\", \"gridcolor\": \"white\", \"linecolor\": \"white\", \"minorgridcolor\": \"white\", \"startlinecolor\": \"#2a3f5f\"}, \"baxis\": {\"endlinecolor\": \"#2a3f5f\", \"gridcolor\": \"white\", \"linecolor\": \"white\", \"minorgridcolor\": \"white\", \"startlinecolor\": \"#2a3f5f\"}, \"type\": \"carpet\"}], \"choropleth\": [{\"colorbar\": {\"outlinewidth\": 0, \"ticks\": \"\"}, \"type\": \"choropleth\"}], \"contour\": [{\"colorbar\": {\"outlinewidth\": 0, \"ticks\": \"\"}, \"colorscale\": [[0.0, \"#0d0887\"], [0.1111111111111111, \"#46039f\"], [0.2222222222222222, \"#7201a8\"], [0.3333333333333333, \"#9c179e\"], [0.4444444444444444, \"#bd3786\"], [0.5555555555555556, \"#d8576b\"], [0.6666666666666666, \"#ed7953\"], [0.7777777777777778, \"#fb9f3a\"], [0.8888888888888888, \"#fdca26\"], [1.0, \"#f0f921\"]], \"type\": \"contour\"}], \"contourcarpet\": [{\"colorbar\": {\"outlinewidth\": 0, \"ticks\": \"\"}, \"type\": \"contourcarpet\"}], \"heatmap\": [{\"colorbar\": {\"outlinewidth\": 0, \"ticks\": \"\"}, \"colorscale\": [[0.0, \"#0d0887\"], [0.1111111111111111, \"#46039f\"], [0.2222222222222222, \"#7201a8\"], [0.3333333333333333, \"#9c179e\"], [0.4444444444444444, \"#bd3786\"], [0.5555555555555556, \"#d8576b\"], [0.6666666666666666, \"#ed7953\"], [0.7777777777777778, \"#fb9f3a\"], [0.8888888888888888, \"#fdca26\"], [1.0, \"#f0f921\"]], \"type\": \"heatmap\"}], \"heatmapgl\": [{\"colorbar\": {\"outlinewidth\": 0, \"ticks\": \"\"}, \"colorscale\": [[0.0, \"#0d0887\"], [0.1111111111111111, \"#46039f\"], [0.2222222222222222, \"#7201a8\"], [0.3333333333333333, \"#9c179e\"], [0.4444444444444444, \"#bd3786\"], [0.5555555555555556, \"#d8576b\"], [0.6666666666666666, \"#ed7953\"], [0.7777777777777778, \"#fb9f3a\"], [0.8888888888888888, \"#fdca26\"], [1.0, \"#f0f921\"]], \"type\": \"heatmapgl\"}], \"histogram\": [{\"marker\": {\"colorbar\": {\"outlinewidth\": 0, \"ticks\": \"\"}}, \"type\": \"histogram\"}], \"histogram2d\": [{\"colorbar\": {\"outlinewidth\": 0, \"ticks\": \"\"}, \"colorscale\": [[0.0, \"#0d0887\"], [0.1111111111111111, \"#46039f\"], [0.2222222222222222, \"#7201a8\"], [0.3333333333333333, \"#9c179e\"], [0.4444444444444444, \"#bd3786\"], [0.5555555555555556, \"#d8576b\"], [0.6666666666666666, \"#ed7953\"], [0.7777777777777778, \"#fb9f3a\"], [0.8888888888888888, \"#fdca26\"], [1.0, \"#f0f921\"]], \"type\": \"histogram2d\"}], \"histogram2dcontour\": [{\"colorbar\": {\"outlinewidth\": 0, \"ticks\": \"\"}, \"colorscale\": [[0.0, \"#0d0887\"], [0.1111111111111111, \"#46039f\"], [0.2222222222222222, \"#7201a8\"], [0.3333333333333333, \"#9c179e\"], [0.4444444444444444, \"#bd3786\"], [0.5555555555555556, \"#d8576b\"], [0.6666666666666666, \"#ed7953\"], [0.7777777777777778, \"#fb9f3a\"], [0.8888888888888888, \"#fdca26\"], [1.0, \"#f0f921\"]], \"type\": \"histogram2dcontour\"}], \"mesh3d\": [{\"colorbar\": {\"outlinewidth\": 0, \"ticks\": \"\"}, \"type\": \"mesh3d\"}], \"parcoords\": [{\"line\": {\"colorbar\": {\"outlinewidth\": 0, \"ticks\": \"\"}}, \"type\": \"parcoords\"}], \"pie\": [{\"automargin\": true, \"type\": \"pie\"}], \"scatter\": [{\"marker\": {\"colorbar\": {\"outlinewidth\": 0, \"ticks\": \"\"}}, \"type\": \"scatter\"}], \"scatter3d\": [{\"line\": {\"colorbar\": {\"outlinewidth\": 0, \"ticks\": \"\"}}, \"marker\": {\"colorbar\": {\"outlinewidth\": 0, \"ticks\": \"\"}}, \"type\": \"scatter3d\"}], \"scattercarpet\": [{\"marker\": {\"colorbar\": {\"outlinewidth\": 0, \"ticks\": \"\"}}, \"type\": \"scattercarpet\"}], \"scattergeo\": [{\"marker\": {\"colorbar\": {\"outlinewidth\": 0, \"ticks\": \"\"}}, \"type\": \"scattergeo\"}], \"scattergl\": [{\"marker\": {\"colorbar\": {\"outlinewidth\": 0, \"ticks\": \"\"}}, \"type\": \"scattergl\"}], \"scattermapbox\": [{\"marker\": {\"colorbar\": {\"outlinewidth\": 0, \"ticks\": \"\"}}, \"type\": \"scattermapbox\"}], \"scatterpolar\": [{\"marker\": {\"colorbar\": {\"outlinewidth\": 0, \"ticks\": \"\"}}, \"type\": \"scatterpolar\"}], \"scatterpolargl\": [{\"marker\": {\"colorbar\": {\"outlinewidth\": 0, \"ticks\": \"\"}}, \"type\": \"scatterpolargl\"}], \"scatterternary\": [{\"marker\": {\"colorbar\": {\"outlinewidth\": 0, \"ticks\": \"\"}}, \"type\": \"scatterternary\"}], \"surface\": [{\"colorbar\": {\"outlinewidth\": 0, \"ticks\": \"\"}, \"colorscale\": [[0.0, \"#0d0887\"], [0.1111111111111111, \"#46039f\"], [0.2222222222222222, \"#7201a8\"], [0.3333333333333333, \"#9c179e\"], [0.4444444444444444, \"#bd3786\"], [0.5555555555555556, \"#d8576b\"], [0.6666666666666666, \"#ed7953\"], [0.7777777777777778, \"#fb9f3a\"], [0.8888888888888888, \"#fdca26\"], [1.0, \"#f0f921\"]], \"type\": \"surface\"}], \"table\": [{\"cells\": {\"fill\": {\"color\": \"#EBF0F8\"}, \"line\": {\"color\": \"white\"}}, \"header\": {\"fill\": {\"color\": \"#C8D4E3\"}, \"line\": {\"color\": \"white\"}}, \"type\": \"table\"}]}, \"layout\": {\"annotationdefaults\": {\"arrowcolor\": \"#2a3f5f\", \"arrowhead\": 0, \"arrowwidth\": 1}, \"coloraxis\": {\"colorbar\": {\"outlinewidth\": 0, \"ticks\": \"\"}}, \"colorscale\": {\"diverging\": [[0, \"#8e0152\"], [0.1, \"#c51b7d\"], [0.2, \"#de77ae\"], [0.3, \"#f1b6da\"], [0.4, \"#fde0ef\"], [0.5, \"#f7f7f7\"], [0.6, \"#e6f5d0\"], [0.7, \"#b8e186\"], [0.8, \"#7fbc41\"], [0.9, \"#4d9221\"], [1, \"#276419\"]], \"sequential\": [[0.0, \"#0d0887\"], [0.1111111111111111, \"#46039f\"], [0.2222222222222222, \"#7201a8\"], [0.3333333333333333, \"#9c179e\"], [0.4444444444444444, \"#bd3786\"], [0.5555555555555556, \"#d8576b\"], [0.6666666666666666, \"#ed7953\"], [0.7777777777777778, \"#fb9f3a\"], [0.8888888888888888, \"#fdca26\"], [1.0, \"#f0f921\"]], \"sequentialminus\": [[0.0, \"#0d0887\"], [0.1111111111111111, \"#46039f\"], [0.2222222222222222, \"#7201a8\"], [0.3333333333333333, \"#9c179e\"], [0.4444444444444444, \"#bd3786\"], [0.5555555555555556, \"#d8576b\"], [0.6666666666666666, \"#ed7953\"], [0.7777777777777778, \"#fb9f3a\"], [0.8888888888888888, \"#fdca26\"], [1.0, \"#f0f921\"]]}, \"colorway\": [\"#636efa\", \"#EF553B\", \"#00cc96\", \"#ab63fa\", \"#FFA15A\", \"#19d3f3\", \"#FF6692\", \"#B6E880\", \"#FF97FF\", \"#FECB52\"], \"font\": {\"color\": \"#2a3f5f\"}, \"geo\": {\"bgcolor\": \"white\", \"lakecolor\": \"white\", \"landcolor\": \"#E5ECF6\", \"showlakes\": true, \"showland\": true, \"subunitcolor\": \"white\"}, \"hoverlabel\": {\"align\": \"left\"}, \"hovermode\": \"closest\", \"mapbox\": {\"style\": \"light\"}, \"paper_bgcolor\": \"white\", \"plot_bgcolor\": \"#E5ECF6\", \"polar\": {\"angularaxis\": {\"gridcolor\": \"white\", \"linecolor\": \"white\", \"ticks\": \"\"}, \"bgcolor\": \"#E5ECF6\", \"radialaxis\": {\"gridcolor\": \"white\", \"linecolor\": \"white\", \"ticks\": \"\"}}, \"scene\": {\"xaxis\": {\"backgroundcolor\": \"#E5ECF6\", \"gridcolor\": \"white\", \"gridwidth\": 2, \"linecolor\": \"white\", \"showbackground\": true, \"ticks\": \"\", \"zerolinecolor\": \"white\"}, \"yaxis\": {\"backgroundcolor\": \"#E5ECF6\", \"gridcolor\": \"white\", \"gridwidth\": 2, \"linecolor\": \"white\", \"showbackground\": true, \"ticks\": \"\", \"zerolinecolor\": \"white\"}, \"zaxis\": {\"backgroundcolor\": \"#E5ECF6\", \"gridcolor\": \"white\", \"gridwidth\": 2, \"linecolor\": \"white\", \"showbackground\": true, \"ticks\": \"\", \"zerolinecolor\": \"white\"}}, \"shapedefaults\": {\"line\": {\"color\": \"#2a3f5f\"}}, \"ternary\": {\"aaxis\": {\"gridcolor\": \"white\", \"linecolor\": \"white\", \"ticks\": \"\"}, \"baxis\": {\"gridcolor\": \"white\", \"linecolor\": \"white\", \"ticks\": \"\"}, \"bgcolor\": \"#E5ECF6\", \"caxis\": {\"gridcolor\": \"white\", \"linecolor\": \"white\", \"ticks\": \"\"}}, \"title\": {\"x\": 0.05}, \"xaxis\": {\"automargin\": true, \"gridcolor\": \"white\", \"linecolor\": \"white\", \"ticks\": \"\", \"title\": {\"standoff\": 15}, \"zerolinecolor\": \"white\", \"zerolinewidth\": 2}, \"yaxis\": {\"automargin\": true, \"gridcolor\": \"white\", \"linecolor\": \"white\", \"ticks\": \"\", \"title\": {\"standoff\": 15}, \"zerolinecolor\": \"white\", \"zerolinewidth\": 2}}}, \"title\": {\"font\": {\"color\": \"#4D5663\"}}, \"xaxis\": {\"gridcolor\": \"#E1E5ED\", \"showgrid\": true, \"tickfont\": {\"color\": \"#4D5663\"}, \"title\": {\"font\": {\"color\": \"#4D5663\"}, \"text\": \"\"}, \"zerolinecolor\": \"#E1E5ED\"}, \"xaxis2\": {\"anchor\": \"y2\", \"gridcolor\": \"#E1E5ED\", \"showgrid\": true, \"showticklabels\": false, \"tickfont\": {\"color\": \"#4D5663\"}, \"title\": {\"font\": {\"color\": \"#4D5663\"}, \"text\": \"\"}, \"zerolinecolor\": \"#E1E5ED\"}, \"yaxis\": {\"domain\": [0.3, 1], \"gridcolor\": \"#E1E5ED\", \"showgrid\": true, \"tickfont\": {\"color\": \"#4D5663\"}, \"title\": {\"font\": {\"color\": \"#4D5663\"}, \"text\": \"\"}, \"zerolinecolor\": \"#E1E5ED\"}, \"yaxis2\": {\"domain\": [0, 0.25], \"gridcolor\": \"#E1E5ED\", \"showgrid\": true, \"tickfont\": {\"color\": \"#4D5663\"}, \"title\": {\"font\": {\"color\": \"#4D5663\"}, \"text\": \"Spread\"}, \"zerolinecolor\": \"#E1E5ED\"}},\n",
       "                        {\"showLink\": true, \"linkText\": \"Export to plot.ly\", \"plotlyServerURL\": \"https://plot.ly\", \"responsive\": true}\n",
       "                    ).then(function(){\n",
       "                            \n",
       "var gd = document.getElementById('c030e570-5207-4031-bdc3-babf550331e5');\n",
       "var x = new MutationObserver(function (mutations, observer) {{\n",
       "        var display = window.getComputedStyle(gd).display;\n",
       "        if (!display || display === 'none') {{\n",
       "            console.log([gd, 'removed!']);\n",
       "            Plotly.purge(gd);\n",
       "            observer.disconnect();\n",
       "        }}\n",
       "}});\n",
       "\n",
       "// Listen for the removal of the full notebook cells\n",
       "var notebookContainer = gd.closest('#notebook-container');\n",
       "if (notebookContainer) {{\n",
       "    x.observe(notebookContainer, {childList: true});\n",
       "}}\n",
       "\n",
       "// Listen for the clearing of the current output cell\n",
       "var outputEl = gd.closest('.output');\n",
       "if (outputEl) {{\n",
       "    x.observe(outputEl, {childList: true});\n",
       "}}\n",
       "\n",
       "                        })\n",
       "                };\n",
       "                });\n",
       "            </script>\n",
       "        </div>"
      ]
     },
     "metadata": {},
     "output_type": "display_data"
    }
   ],
   "source": [
    "df[['A','B']].iplot(kind = 'spread')"
   ]
  },
  {
   "cell_type": "code",
   "execution_count": 36,
   "metadata": {},
   "outputs": [
    {
     "data": {
      "application/vnd.plotly.v1+json": {
       "config": {
        "linkText": "Export to plot.ly",
        "plotlyServerURL": "https://plot.ly",
        "showLink": true
       },
       "data": [
        {
         "marker": {
          "color": [
           "blue",
           "blue",
           "blue",
           "blue",
           "blue",
           "blue",
           "blue",
           "blue",
           "blue",
           "blue",
           "blue",
           "blue",
           "blue",
           "blue",
           "blue",
           "blue",
           "blue",
           "blue",
           "blue",
           "blue",
           "blue",
           "blue",
           "blue",
           "blue",
           "blue",
           "blue",
           "blue",
           "blue",
           "blue",
           "blue",
           "blue",
           "blue",
           "blue",
           "blue",
           "blue",
           "blue",
           "blue",
           "blue",
           "blue",
           "blue",
           "blue",
           "blue",
           "blue",
           "blue",
           "blue",
           "blue",
           "blue",
           "blue",
           "blue",
           "blue",
           "blue",
           "blue",
           "blue",
           "blue",
           "blue",
           "blue",
           "blue",
           "blue",
           "blue",
           "blue",
           "blue",
           "blue",
           "blue",
           "blue",
           "blue",
           "blue",
           "blue",
           "blue",
           "blue",
           "blue",
           "blue",
           "blue",
           "blue",
           "blue",
           "blue",
           "blue",
           "blue",
           "blue",
           "blue",
           "blue",
           "blue",
           "blue",
           "blue",
           "blue",
           "blue",
           "blue",
           "blue",
           "blue",
           "blue",
           "blue",
           "blue",
           "blue",
           "blue",
           "blue",
           "blue",
           "blue",
           "blue",
           "blue",
           "blue",
           "blue"
          ],
          "line": {
           "width": 1.3
          },
          "size": [
           65,
           15,
           53,
           65,
           48,
           72,
           70,
           63,
           46,
           59,
           58,
           51,
           28,
           80,
           56,
           65,
           68,
           59,
           84,
           53,
           84,
           63,
           59,
           60,
           69,
           57,
           17,
           96,
           47,
           84,
           46,
           41,
           85,
           71,
           78,
           75,
           69,
           83,
           80,
           56,
           58,
           44,
           31,
           60,
           29,
           61,
           41,
           78,
           77,
           49,
           40,
           49,
           70,
           44,
           79,
           12,
           31,
           36,
           77,
           63,
           47,
           45,
           37,
           31,
           13,
           59,
           49,
           67,
           42,
           40,
           28,
           62,
           84,
           62,
           54,
           57,
           74,
           112,
           57,
           57,
           65,
           90,
           31,
           59,
           75,
           38,
           65,
           48,
           85,
           63,
           63,
           21,
           76,
           71,
           40,
           37,
           75,
           52,
           65,
           52
          ],
          "symbol": "circle"
         },
         "mode": "markers",
         "text": "",
         "type": "scatter",
         "x": [
          1.3306309417176265,
          -1.0385908792182337,
          0.1874988544332731,
          -1.280273142495005,
          1.049058077764222,
          1.0611683123235378,
          1.9071191693896197,
          2.7352170168230985,
          -0.6397746814172409,
          0.8463438925366744,
          0.6654798489053015,
          0.5898888031987908,
          -0.24578070323181664,
          0.8969285206540074,
          -0.5662410084123332,
          1.0938500603836203,
          -0.12239543313528743,
          0.22232875620726475,
          -2.100252650446614,
          0.07236905792648542,
          1.4025076400931227,
          -0.5884562982794522,
          -0.9889691929554822,
          1.254073734692926,
          -0.46372972298110055,
          -0.48538707079930976,
          1.3291500350558658,
          -0.5959406223584038,
          0.8264347369014085,
          0.03382006102493553,
          -1.7403756156373102,
          -0.10120422308479786,
          -2.0763793530629675,
          0.32975298291286204,
          -0.2513970373300905,
          1.0686811177498006,
          -1.287088310176192,
          1.7189073509803223,
          -2.1812920330972028,
          -1.653046828768346,
          -0.6299599276446443,
          -0.6603974395461192,
          1.9616869789233804,
          0.8559600837851427,
          0.6831248737350233,
          -0.28491484930330135,
          2.273199289527967,
          -0.6001597532078587,
          -1.0362480369487086,
          1.277052361551702,
          0.716203215161114,
          -0.07102696522231514,
          -2.033535045783543,
          -0.7538182027296547,
          0.0013298173934843229,
          2.012898833923275,
          1.2880410548949353,
          0.4014209245850137,
          -0.7741539809820434,
          0.7252590743472118,
          -0.8483347797463456,
          -0.49958477134736623,
          0.14473176345929775,
          -0.8034821874756903,
          -1.351101132144767,
          0.6170023030683952,
          -1.891397712945495,
          -0.9383709684301289,
          -0.41277249311839675,
          -1.591460336585324,
          -0.8097421575333087,
          2.2616634455467683,
          -0.11339795454097942,
          -0.14794045700105715,
          -0.2163222303007041,
          0.47811209099295643,
          -1.0224603818250957,
          1.7108857580680352,
          1.1466963877389036,
          0.4356283563208712,
          0.01784311691288129,
          0.11980539540514351,
          0.3947055397125486,
          0.7596655979349227,
          -0.21600082570836415,
          -0.023137565460243193,
          0.017163582231720136,
          0.21032173566674786,
          -0.389023597520661,
          -0.19793727668987773,
          -0.29492035190757415,
          -1.2411400701237552,
          0.39606779670549547,
          -0.9150253620940234,
          -0.5257507006499514,
          1.8243832582774786,
          -0.1125237963450426,
          -2.7739318359255813,
          -0.0898090875362181,
          0.8328315823372676
         ],
         "y": [
          -0.8077541023962002,
          0.7565634938517336,
          1.1237573596606032,
          -0.39565919347789863,
          0.0549785621201317,
          1.366502617290853,
          -1.3230694814486699,
          0.7387889439830942,
          -1.199480435930739,
          -2.282949284120805,
          -0.11425954367285318,
          0.8220010850043288,
          -1.1018014057796768,
          0.2503149600873541,
          1.1736158070252711,
          0.6947821804303227,
          0.5283230210516395,
          0.02697684131203542,
          1.2281054446817783,
          0.30732376074071527,
          -1.8252020255670138,
          2.6418773394416872,
          0.4006178825484417,
          0.5288086239368401,
          0.42863236503672264,
          0.30564260765961393,
          1.2778053713476605,
          1.472255914104073,
          0.05872832874232765,
          0.7251880601234464,
          -0.2138418181358444,
          -2.0005260137365877,
          1.534647810447825,
          2.084477685137188,
          2.7052715499038764,
          0.6695822248372039,
          -0.06518920375824615,
          -1.9049080959097124,
          1.2169413778613276,
          -2.03197874321166,
          1.4546371527133481,
          0.1989084957309017,
          -1.7818535501801909,
          2.0004508452916028,
          1.6296031993340103,
          0.24500116269463681,
          0.5640050900164671,
          0.5904149850770735,
          0.3823351716117955,
          1.7376514275808248,
          -0.8979434180678454,
          0.5914107965134787,
          0.4234285284764335,
          -0.6922168342136781,
          -0.6970659041760846,
          -1.4925661057491024,
          0.4165199828435986,
          -0.17973830756700138,
          -0.1899146526268394,
          0.5206315273626101,
          -0.06918200176339967,
          -0.7240010125943824,
          1.2793270686278744,
          0.3365658155828963,
          -2.0232355137365383,
          -1.955386468277755,
          1.0471304394836258,
          -0.3234898040130142,
          0.7452124347332417,
          0.9305259702811042,
          -0.7515431305554422,
          1.9675896545741405,
          0.28748431790382417,
          -0.19642992033258458,
          -0.49064884204819204,
          0.18816479377724749,
          0.07676733695429527,
          0.49804273677106,
          0.34102017267473134,
          0.7200324639469576,
          0.0606644111172542,
          -0.6137673524489353,
          0.6592257674514602,
          -1.367796620444945,
          1.3767073670816232,
          -0.6286369092359241,
          -2.659475702790765,
          0.06032259735863327,
          1.0736657620512429,
          -0.8494551963668133,
          0.7416402492100004,
          1.2144400487378093,
          0.41762560003557575,
          -0.40527781652274925,
          -0.31652693291467393,
          0.3028904622839831,
          -0.20221592711223793,
          0.14151449129352375,
          -0.08920104667800999,
          0.45969093794151544
         ]
        }
       ],
       "layout": {
        "legend": {
         "bgcolor": "#F5F6F9",
         "font": {
          "color": "#4D5663"
         }
        },
        "paper_bgcolor": "#F5F6F9",
        "plot_bgcolor": "#F5F6F9",
        "template": {
         "data": {
          "bar": [
           {
            "error_x": {
             "color": "#2a3f5f"
            },
            "error_y": {
             "color": "#2a3f5f"
            },
            "marker": {
             "line": {
              "color": "#E5ECF6",
              "width": 0.5
             }
            },
            "type": "bar"
           }
          ],
          "barpolar": [
           {
            "marker": {
             "line": {
              "color": "#E5ECF6",
              "width": 0.5
             }
            },
            "type": "barpolar"
           }
          ],
          "carpet": [
           {
            "aaxis": {
             "endlinecolor": "#2a3f5f",
             "gridcolor": "white",
             "linecolor": "white",
             "minorgridcolor": "white",
             "startlinecolor": "#2a3f5f"
            },
            "baxis": {
             "endlinecolor": "#2a3f5f",
             "gridcolor": "white",
             "linecolor": "white",
             "minorgridcolor": "white",
             "startlinecolor": "#2a3f5f"
            },
            "type": "carpet"
           }
          ],
          "choropleth": [
           {
            "colorbar": {
             "outlinewidth": 0,
             "ticks": ""
            },
            "type": "choropleth"
           }
          ],
          "contour": [
           {
            "colorbar": {
             "outlinewidth": 0,
             "ticks": ""
            },
            "colorscale": [
             [
              0,
              "#0d0887"
             ],
             [
              0.1111111111111111,
              "#46039f"
             ],
             [
              0.2222222222222222,
              "#7201a8"
             ],
             [
              0.3333333333333333,
              "#9c179e"
             ],
             [
              0.4444444444444444,
              "#bd3786"
             ],
             [
              0.5555555555555556,
              "#d8576b"
             ],
             [
              0.6666666666666666,
              "#ed7953"
             ],
             [
              0.7777777777777778,
              "#fb9f3a"
             ],
             [
              0.8888888888888888,
              "#fdca26"
             ],
             [
              1,
              "#f0f921"
             ]
            ],
            "type": "contour"
           }
          ],
          "contourcarpet": [
           {
            "colorbar": {
             "outlinewidth": 0,
             "ticks": ""
            },
            "type": "contourcarpet"
           }
          ],
          "heatmap": [
           {
            "colorbar": {
             "outlinewidth": 0,
             "ticks": ""
            },
            "colorscale": [
             [
              0,
              "#0d0887"
             ],
             [
              0.1111111111111111,
              "#46039f"
             ],
             [
              0.2222222222222222,
              "#7201a8"
             ],
             [
              0.3333333333333333,
              "#9c179e"
             ],
             [
              0.4444444444444444,
              "#bd3786"
             ],
             [
              0.5555555555555556,
              "#d8576b"
             ],
             [
              0.6666666666666666,
              "#ed7953"
             ],
             [
              0.7777777777777778,
              "#fb9f3a"
             ],
             [
              0.8888888888888888,
              "#fdca26"
             ],
             [
              1,
              "#f0f921"
             ]
            ],
            "type": "heatmap"
           }
          ],
          "heatmapgl": [
           {
            "colorbar": {
             "outlinewidth": 0,
             "ticks": ""
            },
            "colorscale": [
             [
              0,
              "#0d0887"
             ],
             [
              0.1111111111111111,
              "#46039f"
             ],
             [
              0.2222222222222222,
              "#7201a8"
             ],
             [
              0.3333333333333333,
              "#9c179e"
             ],
             [
              0.4444444444444444,
              "#bd3786"
             ],
             [
              0.5555555555555556,
              "#d8576b"
             ],
             [
              0.6666666666666666,
              "#ed7953"
             ],
             [
              0.7777777777777778,
              "#fb9f3a"
             ],
             [
              0.8888888888888888,
              "#fdca26"
             ],
             [
              1,
              "#f0f921"
             ]
            ],
            "type": "heatmapgl"
           }
          ],
          "histogram": [
           {
            "marker": {
             "colorbar": {
              "outlinewidth": 0,
              "ticks": ""
             }
            },
            "type": "histogram"
           }
          ],
          "histogram2d": [
           {
            "colorbar": {
             "outlinewidth": 0,
             "ticks": ""
            },
            "colorscale": [
             [
              0,
              "#0d0887"
             ],
             [
              0.1111111111111111,
              "#46039f"
             ],
             [
              0.2222222222222222,
              "#7201a8"
             ],
             [
              0.3333333333333333,
              "#9c179e"
             ],
             [
              0.4444444444444444,
              "#bd3786"
             ],
             [
              0.5555555555555556,
              "#d8576b"
             ],
             [
              0.6666666666666666,
              "#ed7953"
             ],
             [
              0.7777777777777778,
              "#fb9f3a"
             ],
             [
              0.8888888888888888,
              "#fdca26"
             ],
             [
              1,
              "#f0f921"
             ]
            ],
            "type": "histogram2d"
           }
          ],
          "histogram2dcontour": [
           {
            "colorbar": {
             "outlinewidth": 0,
             "ticks": ""
            },
            "colorscale": [
             [
              0,
              "#0d0887"
             ],
             [
              0.1111111111111111,
              "#46039f"
             ],
             [
              0.2222222222222222,
              "#7201a8"
             ],
             [
              0.3333333333333333,
              "#9c179e"
             ],
             [
              0.4444444444444444,
              "#bd3786"
             ],
             [
              0.5555555555555556,
              "#d8576b"
             ],
             [
              0.6666666666666666,
              "#ed7953"
             ],
             [
              0.7777777777777778,
              "#fb9f3a"
             ],
             [
              0.8888888888888888,
              "#fdca26"
             ],
             [
              1,
              "#f0f921"
             ]
            ],
            "type": "histogram2dcontour"
           }
          ],
          "mesh3d": [
           {
            "colorbar": {
             "outlinewidth": 0,
             "ticks": ""
            },
            "type": "mesh3d"
           }
          ],
          "parcoords": [
           {
            "line": {
             "colorbar": {
              "outlinewidth": 0,
              "ticks": ""
             }
            },
            "type": "parcoords"
           }
          ],
          "pie": [
           {
            "automargin": true,
            "type": "pie"
           }
          ],
          "scatter": [
           {
            "marker": {
             "colorbar": {
              "outlinewidth": 0,
              "ticks": ""
             }
            },
            "type": "scatter"
           }
          ],
          "scatter3d": [
           {
            "line": {
             "colorbar": {
              "outlinewidth": 0,
              "ticks": ""
             }
            },
            "marker": {
             "colorbar": {
              "outlinewidth": 0,
              "ticks": ""
             }
            },
            "type": "scatter3d"
           }
          ],
          "scattercarpet": [
           {
            "marker": {
             "colorbar": {
              "outlinewidth": 0,
              "ticks": ""
             }
            },
            "type": "scattercarpet"
           }
          ],
          "scattergeo": [
           {
            "marker": {
             "colorbar": {
              "outlinewidth": 0,
              "ticks": ""
             }
            },
            "type": "scattergeo"
           }
          ],
          "scattergl": [
           {
            "marker": {
             "colorbar": {
              "outlinewidth": 0,
              "ticks": ""
             }
            },
            "type": "scattergl"
           }
          ],
          "scattermapbox": [
           {
            "marker": {
             "colorbar": {
              "outlinewidth": 0,
              "ticks": ""
             }
            },
            "type": "scattermapbox"
           }
          ],
          "scatterpolar": [
           {
            "marker": {
             "colorbar": {
              "outlinewidth": 0,
              "ticks": ""
             }
            },
            "type": "scatterpolar"
           }
          ],
          "scatterpolargl": [
           {
            "marker": {
             "colorbar": {
              "outlinewidth": 0,
              "ticks": ""
             }
            },
            "type": "scatterpolargl"
           }
          ],
          "scatterternary": [
           {
            "marker": {
             "colorbar": {
              "outlinewidth": 0,
              "ticks": ""
             }
            },
            "type": "scatterternary"
           }
          ],
          "surface": [
           {
            "colorbar": {
             "outlinewidth": 0,
             "ticks": ""
            },
            "colorscale": [
             [
              0,
              "#0d0887"
             ],
             [
              0.1111111111111111,
              "#46039f"
             ],
             [
              0.2222222222222222,
              "#7201a8"
             ],
             [
              0.3333333333333333,
              "#9c179e"
             ],
             [
              0.4444444444444444,
              "#bd3786"
             ],
             [
              0.5555555555555556,
              "#d8576b"
             ],
             [
              0.6666666666666666,
              "#ed7953"
             ],
             [
              0.7777777777777778,
              "#fb9f3a"
             ],
             [
              0.8888888888888888,
              "#fdca26"
             ],
             [
              1,
              "#f0f921"
             ]
            ],
            "type": "surface"
           }
          ],
          "table": [
           {
            "cells": {
             "fill": {
              "color": "#EBF0F8"
             },
             "line": {
              "color": "white"
             }
            },
            "header": {
             "fill": {
              "color": "#C8D4E3"
             },
             "line": {
              "color": "white"
             }
            },
            "type": "table"
           }
          ]
         },
         "layout": {
          "annotationdefaults": {
           "arrowcolor": "#2a3f5f",
           "arrowhead": 0,
           "arrowwidth": 1
          },
          "coloraxis": {
           "colorbar": {
            "outlinewidth": 0,
            "ticks": ""
           }
          },
          "colorscale": {
           "diverging": [
            [
             0,
             "#8e0152"
            ],
            [
             0.1,
             "#c51b7d"
            ],
            [
             0.2,
             "#de77ae"
            ],
            [
             0.3,
             "#f1b6da"
            ],
            [
             0.4,
             "#fde0ef"
            ],
            [
             0.5,
             "#f7f7f7"
            ],
            [
             0.6,
             "#e6f5d0"
            ],
            [
             0.7,
             "#b8e186"
            ],
            [
             0.8,
             "#7fbc41"
            ],
            [
             0.9,
             "#4d9221"
            ],
            [
             1,
             "#276419"
            ]
           ],
           "sequential": [
            [
             0,
             "#0d0887"
            ],
            [
             0.1111111111111111,
             "#46039f"
            ],
            [
             0.2222222222222222,
             "#7201a8"
            ],
            [
             0.3333333333333333,
             "#9c179e"
            ],
            [
             0.4444444444444444,
             "#bd3786"
            ],
            [
             0.5555555555555556,
             "#d8576b"
            ],
            [
             0.6666666666666666,
             "#ed7953"
            ],
            [
             0.7777777777777778,
             "#fb9f3a"
            ],
            [
             0.8888888888888888,
             "#fdca26"
            ],
            [
             1,
             "#f0f921"
            ]
           ],
           "sequentialminus": [
            [
             0,
             "#0d0887"
            ],
            [
             0.1111111111111111,
             "#46039f"
            ],
            [
             0.2222222222222222,
             "#7201a8"
            ],
            [
             0.3333333333333333,
             "#9c179e"
            ],
            [
             0.4444444444444444,
             "#bd3786"
            ],
            [
             0.5555555555555556,
             "#d8576b"
            ],
            [
             0.6666666666666666,
             "#ed7953"
            ],
            [
             0.7777777777777778,
             "#fb9f3a"
            ],
            [
             0.8888888888888888,
             "#fdca26"
            ],
            [
             1,
             "#f0f921"
            ]
           ]
          },
          "colorway": [
           "#636efa",
           "#EF553B",
           "#00cc96",
           "#ab63fa",
           "#FFA15A",
           "#19d3f3",
           "#FF6692",
           "#B6E880",
           "#FF97FF",
           "#FECB52"
          ],
          "font": {
           "color": "#2a3f5f"
          },
          "geo": {
           "bgcolor": "white",
           "lakecolor": "white",
           "landcolor": "#E5ECF6",
           "showlakes": true,
           "showland": true,
           "subunitcolor": "white"
          },
          "hoverlabel": {
           "align": "left"
          },
          "hovermode": "closest",
          "mapbox": {
           "style": "light"
          },
          "paper_bgcolor": "white",
          "plot_bgcolor": "#E5ECF6",
          "polar": {
           "angularaxis": {
            "gridcolor": "white",
            "linecolor": "white",
            "ticks": ""
           },
           "bgcolor": "#E5ECF6",
           "radialaxis": {
            "gridcolor": "white",
            "linecolor": "white",
            "ticks": ""
           }
          },
          "scene": {
           "xaxis": {
            "backgroundcolor": "#E5ECF6",
            "gridcolor": "white",
            "gridwidth": 2,
            "linecolor": "white",
            "showbackground": true,
            "ticks": "",
            "zerolinecolor": "white"
           },
           "yaxis": {
            "backgroundcolor": "#E5ECF6",
            "gridcolor": "white",
            "gridwidth": 2,
            "linecolor": "white",
            "showbackground": true,
            "ticks": "",
            "zerolinecolor": "white"
           },
           "zaxis": {
            "backgroundcolor": "#E5ECF6",
            "gridcolor": "white",
            "gridwidth": 2,
            "linecolor": "white",
            "showbackground": true,
            "ticks": "",
            "zerolinecolor": "white"
           }
          },
          "shapedefaults": {
           "line": {
            "color": "#2a3f5f"
           }
          },
          "ternary": {
           "aaxis": {
            "gridcolor": "white",
            "linecolor": "white",
            "ticks": ""
           },
           "baxis": {
            "gridcolor": "white",
            "linecolor": "white",
            "ticks": ""
           },
           "bgcolor": "#E5ECF6",
           "caxis": {
            "gridcolor": "white",
            "linecolor": "white",
            "ticks": ""
           }
          },
          "title": {
           "x": 0.05
          },
          "xaxis": {
           "automargin": true,
           "gridcolor": "white",
           "linecolor": "white",
           "ticks": "",
           "title": {
            "standoff": 15
           },
           "zerolinecolor": "white",
           "zerolinewidth": 2
          },
          "yaxis": {
           "automargin": true,
           "gridcolor": "white",
           "linecolor": "white",
           "ticks": "",
           "title": {
            "standoff": 15
           },
           "zerolinecolor": "white",
           "zerolinewidth": 2
          }
         }
        },
        "title": {
         "font": {
          "color": "#4D5663"
         }
        },
        "xaxis": {
         "gridcolor": "#E1E5ED",
         "showgrid": true,
         "tickfont": {
          "color": "#4D5663"
         },
         "title": {
          "font": {
           "color": "#4D5663"
          },
          "text": ""
         },
         "zerolinecolor": "#E1E5ED"
        },
        "yaxis": {
         "gridcolor": "#E1E5ED",
         "showgrid": true,
         "tickfont": {
          "color": "#4D5663"
         },
         "title": {
          "font": {
           "color": "#4D5663"
          },
          "text": ""
         },
         "zerolinecolor": "#E1E5ED"
        }
       }
      },
      "text/html": [
       "<div>\n",
       "        \n",
       "        \n",
       "            <div id=\"2b346b72-84bf-4cac-8e3e-6c87ac307fbd\" class=\"plotly-graph-div\" style=\"height:525px; width:100%;\"></div>\n",
       "            <script type=\"text/javascript\">\n",
       "                require([\"plotly\"], function(Plotly) {\n",
       "                    window.PLOTLYENV=window.PLOTLYENV || {};\n",
       "                    window.PLOTLYENV.BASE_URL='https://plot.ly';\n",
       "                    \n",
       "                if (document.getElementById(\"2b346b72-84bf-4cac-8e3e-6c87ac307fbd\")) {\n",
       "                    Plotly.newPlot(\n",
       "                        '2b346b72-84bf-4cac-8e3e-6c87ac307fbd',\n",
       "                        [{\"marker\": {\"color\": [\"blue\", \"blue\", \"blue\", \"blue\", \"blue\", \"blue\", \"blue\", \"blue\", \"blue\", \"blue\", \"blue\", \"blue\", \"blue\", \"blue\", \"blue\", \"blue\", \"blue\", \"blue\", \"blue\", \"blue\", \"blue\", \"blue\", \"blue\", \"blue\", \"blue\", \"blue\", \"blue\", \"blue\", \"blue\", \"blue\", \"blue\", \"blue\", \"blue\", \"blue\", \"blue\", \"blue\", \"blue\", \"blue\", \"blue\", \"blue\", \"blue\", \"blue\", \"blue\", \"blue\", \"blue\", \"blue\", \"blue\", \"blue\", \"blue\", \"blue\", \"blue\", \"blue\", \"blue\", \"blue\", \"blue\", \"blue\", \"blue\", \"blue\", \"blue\", \"blue\", \"blue\", \"blue\", \"blue\", \"blue\", \"blue\", \"blue\", \"blue\", \"blue\", \"blue\", \"blue\", \"blue\", \"blue\", \"blue\", \"blue\", \"blue\", \"blue\", \"blue\", \"blue\", \"blue\", \"blue\", \"blue\", \"blue\", \"blue\", \"blue\", \"blue\", \"blue\", \"blue\", \"blue\", \"blue\", \"blue\", \"blue\", \"blue\", \"blue\", \"blue\", \"blue\", \"blue\", \"blue\", \"blue\", \"blue\", \"blue\"], \"line\": {\"width\": 1.3}, \"size\": [65, 15, 53, 65, 48, 72, 70, 63, 46, 59, 58, 51, 28, 80, 56, 65, 68, 59, 84, 53, 84, 63, 59, 60, 69, 57, 17, 96, 47, 84, 46, 41, 85, 71, 78, 75, 69, 83, 80, 56, 58, 44, 31, 60, 29, 61, 41, 78, 77, 49, 40, 49, 70, 44, 79, 12, 31, 36, 77, 63, 47, 45, 37, 31, 13, 59, 49, 67, 42, 40, 28, 62, 84, 62, 54, 57, 74, 112, 57, 57, 65, 90, 31, 59, 75, 38, 65, 48, 85, 63, 63, 21, 76, 71, 40, 37, 75, 52, 65, 52], \"symbol\": \"circle\"}, \"mode\": \"markers\", \"text\": \"\", \"type\": \"scatter\", \"x\": [1.3306309417176265, -1.0385908792182337, 0.1874988544332731, -1.280273142495005, 1.049058077764222, 1.0611683123235378, 1.9071191693896197, 2.7352170168230985, -0.6397746814172409, 0.8463438925366744, 0.6654798489053015, 0.5898888031987908, -0.24578070323181664, 0.8969285206540074, -0.5662410084123332, 1.0938500603836203, -0.12239543313528743, 0.22232875620726475, -2.100252650446614, 0.07236905792648542, 1.4025076400931227, -0.5884562982794522, -0.9889691929554822, 1.254073734692926, -0.46372972298110055, -0.48538707079930976, 1.3291500350558658, -0.5959406223584038, 0.8264347369014085, 0.03382006102493553, -1.7403756156373102, -0.10120422308479786, -2.0763793530629675, 0.32975298291286204, -0.2513970373300905, 1.0686811177498006, -1.287088310176192, 1.7189073509803223, -2.1812920330972028, -1.653046828768346, -0.6299599276446443, -0.6603974395461192, 1.9616869789233804, 0.8559600837851427, 0.6831248737350233, -0.28491484930330135, 2.273199289527967, -0.6001597532078587, -1.0362480369487086, 1.277052361551702, 0.716203215161114, -0.07102696522231514, -2.033535045783543, -0.7538182027296547, 0.0013298173934843229, 2.012898833923275, 1.2880410548949353, 0.4014209245850137, -0.7741539809820434, 0.7252590743472118, -0.8483347797463456, -0.49958477134736623, 0.14473176345929775, -0.8034821874756903, -1.351101132144767, 0.6170023030683952, -1.891397712945495, -0.9383709684301289, -0.41277249311839675, -1.591460336585324, -0.8097421575333087, 2.2616634455467683, -0.11339795454097942, -0.14794045700105715, -0.2163222303007041, 0.47811209099295643, -1.0224603818250957, 1.7108857580680352, 1.1466963877389036, 0.4356283563208712, 0.01784311691288129, 0.11980539540514351, 0.3947055397125486, 0.7596655979349227, -0.21600082570836415, -0.023137565460243193, 0.017163582231720136, 0.21032173566674786, -0.389023597520661, -0.19793727668987773, -0.29492035190757415, -1.2411400701237552, 0.39606779670549547, -0.9150253620940234, -0.5257507006499514, 1.8243832582774786, -0.1125237963450426, -2.7739318359255813, -0.0898090875362181, 0.8328315823372676], \"y\": [-0.8077541023962002, 0.7565634938517336, 1.1237573596606032, -0.39565919347789863, 0.0549785621201317, 1.366502617290853, -1.3230694814486699, 0.7387889439830942, -1.199480435930739, -2.282949284120805, -0.11425954367285318, 0.8220010850043288, -1.1018014057796768, 0.2503149600873541, 1.1736158070252711, 0.6947821804303227, 0.5283230210516395, 0.02697684131203542, 1.2281054446817783, 0.30732376074071527, -1.8252020255670138, 2.6418773394416872, 0.4006178825484417, 0.5288086239368401, 0.42863236503672264, 0.30564260765961393, 1.2778053713476605, 1.472255914104073, 0.05872832874232765, 0.7251880601234464, -0.2138418181358444, -2.0005260137365877, 1.534647810447825, 2.084477685137188, 2.7052715499038764, 0.6695822248372039, -0.06518920375824615, -1.9049080959097124, 1.2169413778613276, -2.03197874321166, 1.4546371527133481, 0.1989084957309017, -1.7818535501801909, 2.0004508452916028, 1.6296031993340103, 0.24500116269463681, 0.5640050900164671, 0.5904149850770735, 0.3823351716117955, 1.7376514275808248, -0.8979434180678454, 0.5914107965134787, 0.4234285284764335, -0.6922168342136781, -0.6970659041760846, -1.4925661057491024, 0.4165199828435986, -0.17973830756700138, -0.1899146526268394, 0.5206315273626101, -0.06918200176339967, -0.7240010125943824, 1.2793270686278744, 0.3365658155828963, -2.0232355137365383, -1.955386468277755, 1.0471304394836258, -0.3234898040130142, 0.7452124347332417, 0.9305259702811042, -0.7515431305554422, 1.9675896545741405, 0.28748431790382417, -0.19642992033258458, -0.49064884204819204, 0.18816479377724749, 0.07676733695429527, 0.49804273677106, 0.34102017267473134, 0.7200324639469576, 0.0606644111172542, -0.6137673524489353, 0.6592257674514602, -1.367796620444945, 1.3767073670816232, -0.6286369092359241, -2.659475702790765, 0.06032259735863327, 1.0736657620512429, -0.8494551963668133, 0.7416402492100004, 1.2144400487378093, 0.41762560003557575, -0.40527781652274925, -0.31652693291467393, 0.3028904622839831, -0.20221592711223793, 0.14151449129352375, -0.08920104667800999, 0.45969093794151544]}],\n",
       "                        {\"legend\": {\"bgcolor\": \"#F5F6F9\", \"font\": {\"color\": \"#4D5663\"}}, \"paper_bgcolor\": \"#F5F6F9\", \"plot_bgcolor\": \"#F5F6F9\", \"template\": {\"data\": {\"bar\": [{\"error_x\": {\"color\": \"#2a3f5f\"}, \"error_y\": {\"color\": \"#2a3f5f\"}, \"marker\": {\"line\": {\"color\": \"#E5ECF6\", \"width\": 0.5}}, \"type\": \"bar\"}], \"barpolar\": [{\"marker\": {\"line\": {\"color\": \"#E5ECF6\", \"width\": 0.5}}, \"type\": \"barpolar\"}], \"carpet\": [{\"aaxis\": {\"endlinecolor\": \"#2a3f5f\", \"gridcolor\": \"white\", \"linecolor\": \"white\", \"minorgridcolor\": \"white\", \"startlinecolor\": \"#2a3f5f\"}, \"baxis\": {\"endlinecolor\": \"#2a3f5f\", \"gridcolor\": \"white\", \"linecolor\": \"white\", \"minorgridcolor\": \"white\", \"startlinecolor\": \"#2a3f5f\"}, \"type\": \"carpet\"}], \"choropleth\": [{\"colorbar\": {\"outlinewidth\": 0, \"ticks\": \"\"}, \"type\": \"choropleth\"}], \"contour\": [{\"colorbar\": {\"outlinewidth\": 0, \"ticks\": \"\"}, \"colorscale\": [[0.0, \"#0d0887\"], [0.1111111111111111, \"#46039f\"], [0.2222222222222222, \"#7201a8\"], [0.3333333333333333, \"#9c179e\"], [0.4444444444444444, \"#bd3786\"], [0.5555555555555556, \"#d8576b\"], [0.6666666666666666, \"#ed7953\"], [0.7777777777777778, \"#fb9f3a\"], [0.8888888888888888, \"#fdca26\"], [1.0, \"#f0f921\"]], \"type\": \"contour\"}], \"contourcarpet\": [{\"colorbar\": {\"outlinewidth\": 0, \"ticks\": \"\"}, \"type\": \"contourcarpet\"}], \"heatmap\": [{\"colorbar\": {\"outlinewidth\": 0, \"ticks\": \"\"}, \"colorscale\": [[0.0, \"#0d0887\"], [0.1111111111111111, \"#46039f\"], [0.2222222222222222, \"#7201a8\"], [0.3333333333333333, \"#9c179e\"], [0.4444444444444444, \"#bd3786\"], [0.5555555555555556, \"#d8576b\"], [0.6666666666666666, \"#ed7953\"], [0.7777777777777778, \"#fb9f3a\"], [0.8888888888888888, \"#fdca26\"], [1.0, \"#f0f921\"]], \"type\": \"heatmap\"}], \"heatmapgl\": [{\"colorbar\": {\"outlinewidth\": 0, \"ticks\": \"\"}, \"colorscale\": [[0.0, \"#0d0887\"], [0.1111111111111111, \"#46039f\"], [0.2222222222222222, \"#7201a8\"], [0.3333333333333333, \"#9c179e\"], [0.4444444444444444, \"#bd3786\"], [0.5555555555555556, \"#d8576b\"], [0.6666666666666666, \"#ed7953\"], [0.7777777777777778, \"#fb9f3a\"], [0.8888888888888888, \"#fdca26\"], [1.0, \"#f0f921\"]], \"type\": \"heatmapgl\"}], \"histogram\": [{\"marker\": {\"colorbar\": {\"outlinewidth\": 0, \"ticks\": \"\"}}, \"type\": \"histogram\"}], \"histogram2d\": [{\"colorbar\": {\"outlinewidth\": 0, \"ticks\": \"\"}, \"colorscale\": [[0.0, \"#0d0887\"], [0.1111111111111111, \"#46039f\"], [0.2222222222222222, \"#7201a8\"], [0.3333333333333333, \"#9c179e\"], [0.4444444444444444, \"#bd3786\"], [0.5555555555555556, \"#d8576b\"], [0.6666666666666666, \"#ed7953\"], [0.7777777777777778, \"#fb9f3a\"], [0.8888888888888888, \"#fdca26\"], [1.0, \"#f0f921\"]], \"type\": \"histogram2d\"}], \"histogram2dcontour\": [{\"colorbar\": {\"outlinewidth\": 0, \"ticks\": \"\"}, \"colorscale\": [[0.0, \"#0d0887\"], [0.1111111111111111, \"#46039f\"], [0.2222222222222222, \"#7201a8\"], [0.3333333333333333, \"#9c179e\"], [0.4444444444444444, \"#bd3786\"], [0.5555555555555556, \"#d8576b\"], [0.6666666666666666, \"#ed7953\"], [0.7777777777777778, \"#fb9f3a\"], [0.8888888888888888, \"#fdca26\"], [1.0, \"#f0f921\"]], \"type\": \"histogram2dcontour\"}], \"mesh3d\": [{\"colorbar\": {\"outlinewidth\": 0, \"ticks\": \"\"}, \"type\": \"mesh3d\"}], \"parcoords\": [{\"line\": {\"colorbar\": {\"outlinewidth\": 0, \"ticks\": \"\"}}, \"type\": \"parcoords\"}], \"pie\": [{\"automargin\": true, \"type\": \"pie\"}], \"scatter\": [{\"marker\": {\"colorbar\": {\"outlinewidth\": 0, \"ticks\": \"\"}}, \"type\": \"scatter\"}], \"scatter3d\": [{\"line\": {\"colorbar\": {\"outlinewidth\": 0, \"ticks\": \"\"}}, \"marker\": {\"colorbar\": {\"outlinewidth\": 0, \"ticks\": \"\"}}, \"type\": \"scatter3d\"}], \"scattercarpet\": [{\"marker\": {\"colorbar\": {\"outlinewidth\": 0, \"ticks\": \"\"}}, \"type\": \"scattercarpet\"}], \"scattergeo\": [{\"marker\": {\"colorbar\": {\"outlinewidth\": 0, \"ticks\": \"\"}}, \"type\": \"scattergeo\"}], \"scattergl\": [{\"marker\": {\"colorbar\": {\"outlinewidth\": 0, \"ticks\": \"\"}}, \"type\": \"scattergl\"}], \"scattermapbox\": [{\"marker\": {\"colorbar\": {\"outlinewidth\": 0, \"ticks\": \"\"}}, \"type\": \"scattermapbox\"}], \"scatterpolar\": [{\"marker\": {\"colorbar\": {\"outlinewidth\": 0, \"ticks\": \"\"}}, \"type\": \"scatterpolar\"}], \"scatterpolargl\": [{\"marker\": {\"colorbar\": {\"outlinewidth\": 0, \"ticks\": \"\"}}, \"type\": \"scatterpolargl\"}], \"scatterternary\": [{\"marker\": {\"colorbar\": {\"outlinewidth\": 0, \"ticks\": \"\"}}, \"type\": \"scatterternary\"}], \"surface\": [{\"colorbar\": {\"outlinewidth\": 0, \"ticks\": \"\"}, \"colorscale\": [[0.0, \"#0d0887\"], [0.1111111111111111, \"#46039f\"], [0.2222222222222222, \"#7201a8\"], [0.3333333333333333, \"#9c179e\"], [0.4444444444444444, \"#bd3786\"], [0.5555555555555556, \"#d8576b\"], [0.6666666666666666, \"#ed7953\"], [0.7777777777777778, \"#fb9f3a\"], [0.8888888888888888, \"#fdca26\"], [1.0, \"#f0f921\"]], \"type\": \"surface\"}], \"table\": [{\"cells\": {\"fill\": {\"color\": \"#EBF0F8\"}, \"line\": {\"color\": \"white\"}}, \"header\": {\"fill\": {\"color\": \"#C8D4E3\"}, \"line\": {\"color\": \"white\"}}, \"type\": \"table\"}]}, \"layout\": {\"annotationdefaults\": {\"arrowcolor\": \"#2a3f5f\", \"arrowhead\": 0, \"arrowwidth\": 1}, \"coloraxis\": {\"colorbar\": {\"outlinewidth\": 0, \"ticks\": \"\"}}, \"colorscale\": {\"diverging\": [[0, \"#8e0152\"], [0.1, \"#c51b7d\"], [0.2, \"#de77ae\"], [0.3, \"#f1b6da\"], [0.4, \"#fde0ef\"], [0.5, \"#f7f7f7\"], [0.6, \"#e6f5d0\"], [0.7, \"#b8e186\"], [0.8, \"#7fbc41\"], [0.9, \"#4d9221\"], [1, \"#276419\"]], \"sequential\": [[0.0, \"#0d0887\"], [0.1111111111111111, \"#46039f\"], [0.2222222222222222, \"#7201a8\"], [0.3333333333333333, \"#9c179e\"], [0.4444444444444444, \"#bd3786\"], [0.5555555555555556, \"#d8576b\"], [0.6666666666666666, \"#ed7953\"], [0.7777777777777778, \"#fb9f3a\"], [0.8888888888888888, \"#fdca26\"], [1.0, \"#f0f921\"]], \"sequentialminus\": [[0.0, \"#0d0887\"], [0.1111111111111111, \"#46039f\"], [0.2222222222222222, \"#7201a8\"], [0.3333333333333333, \"#9c179e\"], [0.4444444444444444, \"#bd3786\"], [0.5555555555555556, \"#d8576b\"], [0.6666666666666666, \"#ed7953\"], [0.7777777777777778, \"#fb9f3a\"], [0.8888888888888888, \"#fdca26\"], [1.0, \"#f0f921\"]]}, \"colorway\": [\"#636efa\", \"#EF553B\", \"#00cc96\", \"#ab63fa\", \"#FFA15A\", \"#19d3f3\", \"#FF6692\", \"#B6E880\", \"#FF97FF\", \"#FECB52\"], \"font\": {\"color\": \"#2a3f5f\"}, \"geo\": {\"bgcolor\": \"white\", \"lakecolor\": \"white\", \"landcolor\": \"#E5ECF6\", \"showlakes\": true, \"showland\": true, \"subunitcolor\": \"white\"}, \"hoverlabel\": {\"align\": \"left\"}, \"hovermode\": \"closest\", \"mapbox\": {\"style\": \"light\"}, \"paper_bgcolor\": \"white\", \"plot_bgcolor\": \"#E5ECF6\", \"polar\": {\"angularaxis\": {\"gridcolor\": \"white\", \"linecolor\": \"white\", \"ticks\": \"\"}, \"bgcolor\": \"#E5ECF6\", \"radialaxis\": {\"gridcolor\": \"white\", \"linecolor\": \"white\", \"ticks\": \"\"}}, \"scene\": {\"xaxis\": {\"backgroundcolor\": \"#E5ECF6\", \"gridcolor\": \"white\", \"gridwidth\": 2, \"linecolor\": \"white\", \"showbackground\": true, \"ticks\": \"\", \"zerolinecolor\": \"white\"}, \"yaxis\": {\"backgroundcolor\": \"#E5ECF6\", \"gridcolor\": \"white\", \"gridwidth\": 2, \"linecolor\": \"white\", \"showbackground\": true, \"ticks\": \"\", \"zerolinecolor\": \"white\"}, \"zaxis\": {\"backgroundcolor\": \"#E5ECF6\", \"gridcolor\": \"white\", \"gridwidth\": 2, \"linecolor\": \"white\", \"showbackground\": true, \"ticks\": \"\", \"zerolinecolor\": \"white\"}}, \"shapedefaults\": {\"line\": {\"color\": \"#2a3f5f\"}}, \"ternary\": {\"aaxis\": {\"gridcolor\": \"white\", \"linecolor\": \"white\", \"ticks\": \"\"}, \"baxis\": {\"gridcolor\": \"white\", \"linecolor\": \"white\", \"ticks\": \"\"}, \"bgcolor\": \"#E5ECF6\", \"caxis\": {\"gridcolor\": \"white\", \"linecolor\": \"white\", \"ticks\": \"\"}}, \"title\": {\"x\": 0.05}, \"xaxis\": {\"automargin\": true, \"gridcolor\": \"white\", \"linecolor\": \"white\", \"ticks\": \"\", \"title\": {\"standoff\": 15}, \"zerolinecolor\": \"white\", \"zerolinewidth\": 2}, \"yaxis\": {\"automargin\": true, \"gridcolor\": \"white\", \"linecolor\": \"white\", \"ticks\": \"\", \"title\": {\"standoff\": 15}, \"zerolinecolor\": \"white\", \"zerolinewidth\": 2}}}, \"title\": {\"font\": {\"color\": \"#4D5663\"}}, \"xaxis\": {\"gridcolor\": \"#E1E5ED\", \"showgrid\": true, \"tickfont\": {\"color\": \"#4D5663\"}, \"title\": {\"font\": {\"color\": \"#4D5663\"}, \"text\": \"\"}, \"zerolinecolor\": \"#E1E5ED\"}, \"yaxis\": {\"gridcolor\": \"#E1E5ED\", \"showgrid\": true, \"tickfont\": {\"color\": \"#4D5663\"}, \"title\": {\"font\": {\"color\": \"#4D5663\"}, \"text\": \"\"}, \"zerolinecolor\": \"#E1E5ED\"}},\n",
       "                        {\"showLink\": true, \"linkText\": \"Export to plot.ly\", \"plotlyServerURL\": \"https://plot.ly\", \"responsive\": true}\n",
       "                    ).then(function(){\n",
       "                            \n",
       "var gd = document.getElementById('2b346b72-84bf-4cac-8e3e-6c87ac307fbd');\n",
       "var x = new MutationObserver(function (mutations, observer) {{\n",
       "        var display = window.getComputedStyle(gd).display;\n",
       "        if (!display || display === 'none') {{\n",
       "            console.log([gd, 'removed!']);\n",
       "            Plotly.purge(gd);\n",
       "            observer.disconnect();\n",
       "        }}\n",
       "}});\n",
       "\n",
       "// Listen for the removal of the full notebook cells\n",
       "var notebookContainer = gd.closest('#notebook-container');\n",
       "if (notebookContainer) {{\n",
       "    x.observe(notebookContainer, {childList: true});\n",
       "}}\n",
       "\n",
       "// Listen for the clearing of the current output cell\n",
       "var outputEl = gd.closest('.output');\n",
       "if (outputEl) {{\n",
       "    x.observe(outputEl, {childList: true});\n",
       "}}\n",
       "\n",
       "                        })\n",
       "                };\n",
       "                });\n",
       "            </script>\n",
       "        </div>"
      ]
     },
     "metadata": {},
     "output_type": "display_data"
    }
   ],
   "source": [
    "df.iplot(kind = 'bubble',x = 'A',y = 'B',size = 'C',color = 'blue')"
   ]
  },
  {
   "cell_type": "code",
   "execution_count": 38,
   "metadata": {},
   "outputs": [
    {
     "data": {
      "application/vnd.plotly.v1+json": {
       "config": {
        "linkText": "Export to plot.ly",
        "plotlyServerURL": "https://plot.ly",
        "showLink": true
       },
       "data": [
        {
         "histfunc": "count",
         "histnorm": "",
         "marker": {
          "color": "rgba(255, 153, 51, 1.0)",
          "line": {
           "color": "#4D5663",
           "width": 1.3
          }
         },
         "name": "A",
         "nbinsx": 10,
         "opacity": 0.8,
         "orientation": "v",
         "type": "histogram",
         "x": [
          1.3306309417176265,
          -1.0385908792182337,
          0.1874988544332731,
          -1.280273142495005,
          1.049058077764222,
          1.0611683123235378,
          1.9071191693896197,
          2.7352170168230985,
          -0.6397746814172409,
          0.8463438925366744,
          0.6654798489053015,
          0.5898888031987908,
          -0.24578070323181664,
          0.8969285206540074,
          -0.5662410084123332,
          1.0938500603836203,
          -0.12239543313528743,
          0.22232875620726475,
          -2.100252650446614,
          0.07236905792648542,
          1.4025076400931227,
          -0.5884562982794522,
          -0.9889691929554822,
          1.254073734692926,
          -0.46372972298110055,
          -0.48538707079930976,
          1.3291500350558658,
          -0.5959406223584038,
          0.8264347369014085,
          0.03382006102493553,
          -1.7403756156373102,
          -0.10120422308479786,
          -2.0763793530629675,
          0.32975298291286204,
          -0.2513970373300905,
          1.0686811177498006,
          -1.287088310176192,
          1.7189073509803223,
          -2.1812920330972028,
          -1.653046828768346,
          -0.6299599276446443,
          -0.6603974395461192,
          1.9616869789233804,
          0.8559600837851427,
          0.6831248737350233,
          -0.28491484930330135,
          2.273199289527967,
          -0.6001597532078587,
          -1.0362480369487086,
          1.277052361551702,
          0.716203215161114,
          -0.07102696522231514,
          -2.033535045783543,
          -0.7538182027296547,
          0.0013298173934843229,
          2.012898833923275,
          1.2880410548949353,
          0.4014209245850137,
          -0.7741539809820434,
          0.7252590743472118,
          -0.8483347797463456,
          -0.49958477134736623,
          0.14473176345929775,
          -0.8034821874756903,
          -1.351101132144767,
          0.6170023030683952,
          -1.891397712945495,
          -0.9383709684301289,
          -0.41277249311839675,
          -1.591460336585324,
          -0.8097421575333087,
          2.2616634455467683,
          -0.11339795454097942,
          -0.14794045700105715,
          -0.2163222303007041,
          0.47811209099295643,
          -1.0224603818250957,
          1.7108857580680352,
          1.1466963877389036,
          0.4356283563208712,
          0.01784311691288129,
          0.11980539540514351,
          0.3947055397125486,
          0.7596655979349227,
          -0.21600082570836415,
          -0.023137565460243193,
          0.017163582231720136,
          0.21032173566674786,
          -0.389023597520661,
          -0.19793727668987773,
          -0.29492035190757415,
          -1.2411400701237552,
          0.39606779670549547,
          -0.9150253620940234,
          -0.5257507006499514,
          1.8243832582774786,
          -0.1125237963450426,
          -2.7739318359255813,
          -0.0898090875362181,
          0.8328315823372676
         ],
         "xaxis": "x",
         "yaxis": "y"
        },
        {
         "line": {
          "color": "rgba(128, 128, 128, 1.0)",
          "dash": "solid",
          "shape": "linear",
          "width": 1.3
         },
         "marker": {
          "size": 2,
          "symbol": "circle"
         },
         "mode": "markers",
         "name": "A",
         "text": "",
         "type": "scatter",
         "x": [
          -0.8077541023962002,
          0.7565634938517336,
          1.1237573596606032,
          -0.39565919347789863,
          0.0549785621201317,
          1.366502617290853,
          -1.3230694814486699,
          0.7387889439830942,
          -1.199480435930739,
          -2.282949284120805,
          -0.11425954367285318,
          0.8220010850043288,
          -1.1018014057796768,
          0.2503149600873541,
          1.1736158070252711,
          0.6947821804303227,
          0.5283230210516395,
          0.02697684131203542,
          1.2281054446817783,
          0.30732376074071527,
          -1.8252020255670138,
          2.6418773394416872,
          0.4006178825484417,
          0.5288086239368401,
          0.42863236503672264,
          0.30564260765961393,
          1.2778053713476605,
          1.472255914104073,
          0.05872832874232765,
          0.7251880601234464,
          -0.2138418181358444,
          -2.0005260137365877,
          1.534647810447825,
          2.084477685137188,
          2.7052715499038764,
          0.6695822248372039,
          -0.06518920375824615,
          -1.9049080959097124,
          1.2169413778613276,
          -2.03197874321166,
          1.4546371527133481,
          0.1989084957309017,
          -1.7818535501801909,
          2.0004508452916028,
          1.6296031993340103,
          0.24500116269463681,
          0.5640050900164671,
          0.5904149850770735,
          0.3823351716117955,
          1.7376514275808248,
          -0.8979434180678454,
          0.5914107965134787,
          0.4234285284764335,
          -0.6922168342136781,
          -0.6970659041760846,
          -1.4925661057491024,
          0.4165199828435986,
          -0.17973830756700138,
          -0.1899146526268394,
          0.5206315273626101,
          -0.06918200176339967,
          -0.7240010125943824,
          1.2793270686278744,
          0.3365658155828963,
          -2.0232355137365383,
          -1.955386468277755,
          1.0471304394836258,
          -0.3234898040130142,
          0.7452124347332417,
          0.9305259702811042,
          -0.7515431305554422,
          1.9675896545741405,
          0.28748431790382417,
          -0.19642992033258458,
          -0.49064884204819204,
          0.18816479377724749,
          0.07676733695429527,
          0.49804273677106,
          0.34102017267473134,
          0.7200324639469576,
          0.0606644111172542,
          -0.6137673524489353,
          0.6592257674514602,
          -1.367796620444945,
          1.3767073670816232,
          -0.6286369092359241,
          -2.659475702790765,
          0.06032259735863327,
          1.0736657620512429,
          -0.8494551963668133,
          0.7416402492100004,
          1.2144400487378093,
          0.41762560003557575,
          -0.40527781652274925,
          -0.31652693291467393,
          0.3028904622839831,
          -0.20221592711223793,
          0.14151449129352375,
          -0.08920104667800999,
          0.45969093794151544
         ],
         "xaxis": "x2",
         "y": [
          1.3306309417176265,
          -1.0385908792182337,
          0.1874988544332731,
          -1.280273142495005,
          1.049058077764222,
          1.0611683123235378,
          1.9071191693896197,
          2.7352170168230985,
          -0.6397746814172409,
          0.8463438925366744,
          0.6654798489053015,
          0.5898888031987908,
          -0.24578070323181664,
          0.8969285206540074,
          -0.5662410084123332,
          1.0938500603836203,
          -0.12239543313528743,
          0.22232875620726475,
          -2.100252650446614,
          0.07236905792648542,
          1.4025076400931227,
          -0.5884562982794522,
          -0.9889691929554822,
          1.254073734692926,
          -0.46372972298110055,
          -0.48538707079930976,
          1.3291500350558658,
          -0.5959406223584038,
          0.8264347369014085,
          0.03382006102493553,
          -1.7403756156373102,
          -0.10120422308479786,
          -2.0763793530629675,
          0.32975298291286204,
          -0.2513970373300905,
          1.0686811177498006,
          -1.287088310176192,
          1.7189073509803223,
          -2.1812920330972028,
          -1.653046828768346,
          -0.6299599276446443,
          -0.6603974395461192,
          1.9616869789233804,
          0.8559600837851427,
          0.6831248737350233,
          -0.28491484930330135,
          2.273199289527967,
          -0.6001597532078587,
          -1.0362480369487086,
          1.277052361551702,
          0.716203215161114,
          -0.07102696522231514,
          -2.033535045783543,
          -0.7538182027296547,
          0.0013298173934843229,
          2.012898833923275,
          1.2880410548949353,
          0.4014209245850137,
          -0.7741539809820434,
          0.7252590743472118,
          -0.8483347797463456,
          -0.49958477134736623,
          0.14473176345929775,
          -0.8034821874756903,
          -1.351101132144767,
          0.6170023030683952,
          -1.891397712945495,
          -0.9383709684301289,
          -0.41277249311839675,
          -1.591460336585324,
          -0.8097421575333087,
          2.2616634455467683,
          -0.11339795454097942,
          -0.14794045700105715,
          -0.2163222303007041,
          0.47811209099295643,
          -1.0224603818250957,
          1.7108857580680352,
          1.1466963877389036,
          0.4356283563208712,
          0.01784311691288129,
          0.11980539540514351,
          0.3947055397125486,
          0.7596655979349227,
          -0.21600082570836415,
          -0.023137565460243193,
          0.017163582231720136,
          0.21032173566674786,
          -0.389023597520661,
          -0.19793727668987773,
          -0.29492035190757415,
          -1.2411400701237552,
          0.39606779670549547,
          -0.9150253620940234,
          -0.5257507006499514,
          1.8243832582774786,
          -0.1125237963450426,
          -2.7739318359255813,
          -0.0898090875362181,
          0.8328315823372676
         ],
         "yaxis": "y2"
        },
        {
         "line": {
          "color": "rgba(128, 128, 128, 1.0)",
          "dash": "solid",
          "shape": "linear",
          "width": 1.3
         },
         "marker": {
          "size": 2,
          "symbol": "circle"
         },
         "mode": "markers",
         "name": "A",
         "text": "",
         "type": "scatter",
         "x": [
          0.3656651539700398,
          -2.024621508933484,
          -0.17595214258639766,
          0.38752123388547627,
          -0.40098108684220674,
          0.7047994399031737,
          0.6111222021594415,
          0.2984057022335293,
          -0.5054188984967285,
          0.12024912953358627,
          0.03658450937199128,
          -0.28327791808777447,
          -1.3967097446357228,
          1.1161579807451723,
          -0.02769518065720461,
          0.3824321539746692,
          0.5477711577384979,
          0.08142385667673246,
          1.3064477629658349,
          -0.16079346035363284,
          1.3087896864926647,
          0.3062345125176454,
          0.09288871560599347,
          0.1293533941503134,
          0.5788875746115371,
          0.01434073846552713,
          -1.8944062485400481,
          1.8888049406514158,
          -0.4776845884066758,
          1.2764291854498908,
          -0.5042490922031749,
          -0.7801119239008675,
          1.3421330442051493,
          0.672714533915635,
          0.9893919285907951,
          0.8494961107716652,
          0.5838121382918745,
          1.250930509255457,
          1.09968861421728,
          -0.04163656113428267,
          0.05322861552611884,
          -0.6125501183133603,
          -1.2206193313774207,
          0.144642554577054,
          -1.319235756758065,
          0.19491832305045914,
          -0.775115685297024,
          1.0167592539070043,
          0.983563546849777,
          -0.39039835223133834,
          -0.8284730578893609,
          -0.3936660846606071,
          0.6232568363690445,
          -0.6333224212073132,
          1.0650741192534734,
          -2.1686623348824674,
          -1.228154969602673,
          -0.9977266640263869,
          0.9726160769808196,
          0.2930229304519651,
          -0.4821496574965753,
          -0.5846169212147282,
          -0.9316895418709534,
          -1.2179313081717043,
          -2.074013254064868,
          0.09682363701248563,
          -0.38151715167604977,
          0.49188500666415497,
          -0.725306836736184,
          -0.8246979833109914,
          -1.3562429729164502,
          0.2673330090054745,
          1.2924557312605747,
          0.24010807839265333,
          -0.1525097779159531,
          0.013773240989478044,
          0.801672870583813,
          2.6129068949654126,
          -0.004835514247692923,
          0.00038433475050008765,
          0.3768613102888822,
          1.5852792940187583,
          -1.2303409245158452,
          0.10101802359198322,
          0.8844781483544862,
          -0.8811133498746999,
          0.373372580639977,
          -0.40411158698473626,
          1.3672213632922996,
          0.30692054933826124,
          0.2980331198680305,
          -1.6977885063533618,
          0.9342253811855618,
          0.6893014976844566,
          -0.7823612487342642,
          -0.9297453414885516,
          0.8523734371748879,
          -0.23312884194180006,
          0.4116455392105631,
          -0.2530425260066888
         ],
         "xaxis": "x3",
         "y": [
          1.3306309417176265,
          -1.0385908792182337,
          0.1874988544332731,
          -1.280273142495005,
          1.049058077764222,
          1.0611683123235378,
          1.9071191693896197,
          2.7352170168230985,
          -0.6397746814172409,
          0.8463438925366744,
          0.6654798489053015,
          0.5898888031987908,
          -0.24578070323181664,
          0.8969285206540074,
          -0.5662410084123332,
          1.0938500603836203,
          -0.12239543313528743,
          0.22232875620726475,
          -2.100252650446614,
          0.07236905792648542,
          1.4025076400931227,
          -0.5884562982794522,
          -0.9889691929554822,
          1.254073734692926,
          -0.46372972298110055,
          -0.48538707079930976,
          1.3291500350558658,
          -0.5959406223584038,
          0.8264347369014085,
          0.03382006102493553,
          -1.7403756156373102,
          -0.10120422308479786,
          -2.0763793530629675,
          0.32975298291286204,
          -0.2513970373300905,
          1.0686811177498006,
          -1.287088310176192,
          1.7189073509803223,
          -2.1812920330972028,
          -1.653046828768346,
          -0.6299599276446443,
          -0.6603974395461192,
          1.9616869789233804,
          0.8559600837851427,
          0.6831248737350233,
          -0.28491484930330135,
          2.273199289527967,
          -0.6001597532078587,
          -1.0362480369487086,
          1.277052361551702,
          0.716203215161114,
          -0.07102696522231514,
          -2.033535045783543,
          -0.7538182027296547,
          0.0013298173934843229,
          2.012898833923275,
          1.2880410548949353,
          0.4014209245850137,
          -0.7741539809820434,
          0.7252590743472118,
          -0.8483347797463456,
          -0.49958477134736623,
          0.14473176345929775,
          -0.8034821874756903,
          -1.351101132144767,
          0.6170023030683952,
          -1.891397712945495,
          -0.9383709684301289,
          -0.41277249311839675,
          -1.591460336585324,
          -0.8097421575333087,
          2.2616634455467683,
          -0.11339795454097942,
          -0.14794045700105715,
          -0.2163222303007041,
          0.47811209099295643,
          -1.0224603818250957,
          1.7108857580680352,
          1.1466963877389036,
          0.4356283563208712,
          0.01784311691288129,
          0.11980539540514351,
          0.3947055397125486,
          0.7596655979349227,
          -0.21600082570836415,
          -0.023137565460243193,
          0.017163582231720136,
          0.21032173566674786,
          -0.389023597520661,
          -0.19793727668987773,
          -0.29492035190757415,
          -1.2411400701237552,
          0.39606779670549547,
          -0.9150253620940234,
          -0.5257507006499514,
          1.8243832582774786,
          -0.1125237963450426,
          -2.7739318359255813,
          -0.0898090875362181,
          0.8328315823372676
         ],
         "yaxis": "y3"
        },
        {
         "line": {
          "color": "rgba(128, 128, 128, 1.0)",
          "dash": "solid",
          "shape": "linear",
          "width": 1.3
         },
         "marker": {
          "size": 2,
          "symbol": "circle"
         },
         "mode": "markers",
         "name": "A",
         "text": "",
         "type": "scatter",
         "x": [
          0.7975416162339963,
          -0.21940657560340165,
          -0.6495223186326463,
          -1.1045817227401677,
          -0.7193189821090035,
          -0.8349004696712116,
          -1.1270940359263222,
          0.045792655428507856,
          -0.916793147440208,
          0.9213674139500968,
          -0.5886707980598632,
          -0.09356438719274726,
          1.1920978378959821,
          -0.8317211629636166,
          -0.38109088723742296,
          0.5766422340104451,
          0.43763503347873917,
          -0.41169971859837184,
          -0.46590127089055766,
          0.20217738254294637,
          -1.669518712654215,
          -0.5111871906175561,
          -0.6298861572186296,
          0.8089227351774407,
          -0.017502244639379758,
          0.5470549245950116,
          1.205281769483588,
          1.037057423581387,
          0.09557849773090253,
          0.57333584353472,
          -0.6736607481399736,
          0.02354881168542178,
          0.16149816470751635,
          -0.18720501878333623,
          -1.0368909880884163,
          0.06346118185626269,
          1.8593973699740949,
          1.4227284353103165,
          -0.03745067461314494,
          0.7018509417552491,
          0.37484070339401815,
          0.4490068546525637,
          0.05210196611094483,
          -0.1701316667373229,
          0.9975858765520681,
          0.5679231522183869,
          0.7333534143683618,
          -0.4881841277696792,
          -0.7735029325895608,
          0.01891691584424374,
          -1.2359148304241079,
          -0.8896197467687542,
          -0.10908281293793401,
          1.688463700552174,
          -0.23667063256752122,
          -0.0006127191057447444,
          -1.3901015766075688,
          -0.07471253156201306,
          -0.17391167365707075,
          0.18494588958463734,
          -0.8072660199829106,
          0.5042274950958247,
          1.430319628227963,
          -1.0432237869179202,
          0.6069703153867475,
          -0.9659360808606309,
          1.6956317931889817,
          0.1934229329498793,
          -0.3234302239208796,
          -0.5653941531404442,
          1.4294978718028493,
          -0.4667825162224206,
          0.8159024534431725,
          -0.27577624975932374,
          0.05785711289876522,
          1.4902936128030226,
          0.9452236842836307,
          1.34821155748868,
          -0.9335093588384209,
          0.7629837548409932,
          -0.9040802654809437,
          -0.8912568923745329,
          -0.7504395625157962,
          0.5435144524350202,
          1.47191507660395,
          -1.9599202433457479,
          -0.09907887392997437,
          1.4770671005625244,
          0.40572998591662657,
          0.09857348353580996,
          0.23264132362483203,
          0.9966223626862929,
          -0.23378918797685888,
          -0.8122495069200328,
          0.7783050772190407,
          -0.9721164857966254,
          0.4139167840603344,
          0.6505919351452365,
          -1.4765433004431558,
          -0.2272361110201322
         ],
         "xaxis": "x4",
         "y": [
          1.3306309417176265,
          -1.0385908792182337,
          0.1874988544332731,
          -1.280273142495005,
          1.049058077764222,
          1.0611683123235378,
          1.9071191693896197,
          2.7352170168230985,
          -0.6397746814172409,
          0.8463438925366744,
          0.6654798489053015,
          0.5898888031987908,
          -0.24578070323181664,
          0.8969285206540074,
          -0.5662410084123332,
          1.0938500603836203,
          -0.12239543313528743,
          0.22232875620726475,
          -2.100252650446614,
          0.07236905792648542,
          1.4025076400931227,
          -0.5884562982794522,
          -0.9889691929554822,
          1.254073734692926,
          -0.46372972298110055,
          -0.48538707079930976,
          1.3291500350558658,
          -0.5959406223584038,
          0.8264347369014085,
          0.03382006102493553,
          -1.7403756156373102,
          -0.10120422308479786,
          -2.0763793530629675,
          0.32975298291286204,
          -0.2513970373300905,
          1.0686811177498006,
          -1.287088310176192,
          1.7189073509803223,
          -2.1812920330972028,
          -1.653046828768346,
          -0.6299599276446443,
          -0.6603974395461192,
          1.9616869789233804,
          0.8559600837851427,
          0.6831248737350233,
          -0.28491484930330135,
          2.273199289527967,
          -0.6001597532078587,
          -1.0362480369487086,
          1.277052361551702,
          0.716203215161114,
          -0.07102696522231514,
          -2.033535045783543,
          -0.7538182027296547,
          0.0013298173934843229,
          2.012898833923275,
          1.2880410548949353,
          0.4014209245850137,
          -0.7741539809820434,
          0.7252590743472118,
          -0.8483347797463456,
          -0.49958477134736623,
          0.14473176345929775,
          -0.8034821874756903,
          -1.351101132144767,
          0.6170023030683952,
          -1.891397712945495,
          -0.9383709684301289,
          -0.41277249311839675,
          -1.591460336585324,
          -0.8097421575333087,
          2.2616634455467683,
          -0.11339795454097942,
          -0.14794045700105715,
          -0.2163222303007041,
          0.47811209099295643,
          -1.0224603818250957,
          1.7108857580680352,
          1.1466963877389036,
          0.4356283563208712,
          0.01784311691288129,
          0.11980539540514351,
          0.3947055397125486,
          0.7596655979349227,
          -0.21600082570836415,
          -0.023137565460243193,
          0.017163582231720136,
          0.21032173566674786,
          -0.389023597520661,
          -0.19793727668987773,
          -0.29492035190757415,
          -1.2411400701237552,
          0.39606779670549547,
          -0.9150253620940234,
          -0.5257507006499514,
          1.8243832582774786,
          -0.1125237963450426,
          -2.7739318359255813,
          -0.0898090875362181,
          0.8328315823372676
         ],
         "yaxis": "y4"
        },
        {
         "line": {
          "color": "rgba(128, 128, 128, 1.0)",
          "dash": "solid",
          "shape": "linear",
          "width": 1.3
         },
         "marker": {
          "size": 2,
          "symbol": "circle"
         },
         "mode": "markers",
         "name": "B",
         "text": "",
         "type": "scatter",
         "x": [
          1.3306309417176265,
          -1.0385908792182337,
          0.1874988544332731,
          -1.280273142495005,
          1.049058077764222,
          1.0611683123235378,
          1.9071191693896197,
          2.7352170168230985,
          -0.6397746814172409,
          0.8463438925366744,
          0.6654798489053015,
          0.5898888031987908,
          -0.24578070323181664,
          0.8969285206540074,
          -0.5662410084123332,
          1.0938500603836203,
          -0.12239543313528743,
          0.22232875620726475,
          -2.100252650446614,
          0.07236905792648542,
          1.4025076400931227,
          -0.5884562982794522,
          -0.9889691929554822,
          1.254073734692926,
          -0.46372972298110055,
          -0.48538707079930976,
          1.3291500350558658,
          -0.5959406223584038,
          0.8264347369014085,
          0.03382006102493553,
          -1.7403756156373102,
          -0.10120422308479786,
          -2.0763793530629675,
          0.32975298291286204,
          -0.2513970373300905,
          1.0686811177498006,
          -1.287088310176192,
          1.7189073509803223,
          -2.1812920330972028,
          -1.653046828768346,
          -0.6299599276446443,
          -0.6603974395461192,
          1.9616869789233804,
          0.8559600837851427,
          0.6831248737350233,
          -0.28491484930330135,
          2.273199289527967,
          -0.6001597532078587,
          -1.0362480369487086,
          1.277052361551702,
          0.716203215161114,
          -0.07102696522231514,
          -2.033535045783543,
          -0.7538182027296547,
          0.0013298173934843229,
          2.012898833923275,
          1.2880410548949353,
          0.4014209245850137,
          -0.7741539809820434,
          0.7252590743472118,
          -0.8483347797463456,
          -0.49958477134736623,
          0.14473176345929775,
          -0.8034821874756903,
          -1.351101132144767,
          0.6170023030683952,
          -1.891397712945495,
          -0.9383709684301289,
          -0.41277249311839675,
          -1.591460336585324,
          -0.8097421575333087,
          2.2616634455467683,
          -0.11339795454097942,
          -0.14794045700105715,
          -0.2163222303007041,
          0.47811209099295643,
          -1.0224603818250957,
          1.7108857580680352,
          1.1466963877389036,
          0.4356283563208712,
          0.01784311691288129,
          0.11980539540514351,
          0.3947055397125486,
          0.7596655979349227,
          -0.21600082570836415,
          -0.023137565460243193,
          0.017163582231720136,
          0.21032173566674786,
          -0.389023597520661,
          -0.19793727668987773,
          -0.29492035190757415,
          -1.2411400701237552,
          0.39606779670549547,
          -0.9150253620940234,
          -0.5257507006499514,
          1.8243832582774786,
          -0.1125237963450426,
          -2.7739318359255813,
          -0.0898090875362181,
          0.8328315823372676
         ],
         "xaxis": "x5",
         "y": [
          -0.8077541023962002,
          0.7565634938517336,
          1.1237573596606032,
          -0.39565919347789863,
          0.0549785621201317,
          1.366502617290853,
          -1.3230694814486699,
          0.7387889439830942,
          -1.199480435930739,
          -2.282949284120805,
          -0.11425954367285318,
          0.8220010850043288,
          -1.1018014057796768,
          0.2503149600873541,
          1.1736158070252711,
          0.6947821804303227,
          0.5283230210516395,
          0.02697684131203542,
          1.2281054446817783,
          0.30732376074071527,
          -1.8252020255670138,
          2.6418773394416872,
          0.4006178825484417,
          0.5288086239368401,
          0.42863236503672264,
          0.30564260765961393,
          1.2778053713476605,
          1.472255914104073,
          0.05872832874232765,
          0.7251880601234464,
          -0.2138418181358444,
          -2.0005260137365877,
          1.534647810447825,
          2.084477685137188,
          2.7052715499038764,
          0.6695822248372039,
          -0.06518920375824615,
          -1.9049080959097124,
          1.2169413778613276,
          -2.03197874321166,
          1.4546371527133481,
          0.1989084957309017,
          -1.7818535501801909,
          2.0004508452916028,
          1.6296031993340103,
          0.24500116269463681,
          0.5640050900164671,
          0.5904149850770735,
          0.3823351716117955,
          1.7376514275808248,
          -0.8979434180678454,
          0.5914107965134787,
          0.4234285284764335,
          -0.6922168342136781,
          -0.6970659041760846,
          -1.4925661057491024,
          0.4165199828435986,
          -0.17973830756700138,
          -0.1899146526268394,
          0.5206315273626101,
          -0.06918200176339967,
          -0.7240010125943824,
          1.2793270686278744,
          0.3365658155828963,
          -2.0232355137365383,
          -1.955386468277755,
          1.0471304394836258,
          -0.3234898040130142,
          0.7452124347332417,
          0.9305259702811042,
          -0.7515431305554422,
          1.9675896545741405,
          0.28748431790382417,
          -0.19642992033258458,
          -0.49064884204819204,
          0.18816479377724749,
          0.07676733695429527,
          0.49804273677106,
          0.34102017267473134,
          0.7200324639469576,
          0.0606644111172542,
          -0.6137673524489353,
          0.6592257674514602,
          -1.367796620444945,
          1.3767073670816232,
          -0.6286369092359241,
          -2.659475702790765,
          0.06032259735863327,
          1.0736657620512429,
          -0.8494551963668133,
          0.7416402492100004,
          1.2144400487378093,
          0.41762560003557575,
          -0.40527781652274925,
          -0.31652693291467393,
          0.3028904622839831,
          -0.20221592711223793,
          0.14151449129352375,
          -0.08920104667800999,
          0.45969093794151544
         ],
         "yaxis": "y5"
        },
        {
         "histfunc": "count",
         "histnorm": "",
         "marker": {
          "color": "rgba(55, 128, 191, 1.0)",
          "line": {
           "color": "#4D5663",
           "width": 1.3
          }
         },
         "name": "B",
         "nbinsx": 10,
         "opacity": 0.8,
         "orientation": "v",
         "type": "histogram",
         "x": [
          -0.8077541023962002,
          0.7565634938517336,
          1.1237573596606032,
          -0.39565919347789863,
          0.0549785621201317,
          1.366502617290853,
          -1.3230694814486699,
          0.7387889439830942,
          -1.199480435930739,
          -2.282949284120805,
          -0.11425954367285318,
          0.8220010850043288,
          -1.1018014057796768,
          0.2503149600873541,
          1.1736158070252711,
          0.6947821804303227,
          0.5283230210516395,
          0.02697684131203542,
          1.2281054446817783,
          0.30732376074071527,
          -1.8252020255670138,
          2.6418773394416872,
          0.4006178825484417,
          0.5288086239368401,
          0.42863236503672264,
          0.30564260765961393,
          1.2778053713476605,
          1.472255914104073,
          0.05872832874232765,
          0.7251880601234464,
          -0.2138418181358444,
          -2.0005260137365877,
          1.534647810447825,
          2.084477685137188,
          2.7052715499038764,
          0.6695822248372039,
          -0.06518920375824615,
          -1.9049080959097124,
          1.2169413778613276,
          -2.03197874321166,
          1.4546371527133481,
          0.1989084957309017,
          -1.7818535501801909,
          2.0004508452916028,
          1.6296031993340103,
          0.24500116269463681,
          0.5640050900164671,
          0.5904149850770735,
          0.3823351716117955,
          1.7376514275808248,
          -0.8979434180678454,
          0.5914107965134787,
          0.4234285284764335,
          -0.6922168342136781,
          -0.6970659041760846,
          -1.4925661057491024,
          0.4165199828435986,
          -0.17973830756700138,
          -0.1899146526268394,
          0.5206315273626101,
          -0.06918200176339967,
          -0.7240010125943824,
          1.2793270686278744,
          0.3365658155828963,
          -2.0232355137365383,
          -1.955386468277755,
          1.0471304394836258,
          -0.3234898040130142,
          0.7452124347332417,
          0.9305259702811042,
          -0.7515431305554422,
          1.9675896545741405,
          0.28748431790382417,
          -0.19642992033258458,
          -0.49064884204819204,
          0.18816479377724749,
          0.07676733695429527,
          0.49804273677106,
          0.34102017267473134,
          0.7200324639469576,
          0.0606644111172542,
          -0.6137673524489353,
          0.6592257674514602,
          -1.367796620444945,
          1.3767073670816232,
          -0.6286369092359241,
          -2.659475702790765,
          0.06032259735863327,
          1.0736657620512429,
          -0.8494551963668133,
          0.7416402492100004,
          1.2144400487378093,
          0.41762560003557575,
          -0.40527781652274925,
          -0.31652693291467393,
          0.3028904622839831,
          -0.20221592711223793,
          0.14151449129352375,
          -0.08920104667800999,
          0.45969093794151544
         ],
         "xaxis": "x6",
         "yaxis": "y6"
        },
        {
         "line": {
          "color": "rgba(128, 128, 128, 1.0)",
          "dash": "solid",
          "shape": "linear",
          "width": 1.3
         },
         "marker": {
          "size": 2,
          "symbol": "circle"
         },
         "mode": "markers",
         "name": "B",
         "text": "",
         "type": "scatter",
         "x": [
          0.3656651539700398,
          -2.024621508933484,
          -0.17595214258639766,
          0.38752123388547627,
          -0.40098108684220674,
          0.7047994399031737,
          0.6111222021594415,
          0.2984057022335293,
          -0.5054188984967285,
          0.12024912953358627,
          0.03658450937199128,
          -0.28327791808777447,
          -1.3967097446357228,
          1.1161579807451723,
          -0.02769518065720461,
          0.3824321539746692,
          0.5477711577384979,
          0.08142385667673246,
          1.3064477629658349,
          -0.16079346035363284,
          1.3087896864926647,
          0.3062345125176454,
          0.09288871560599347,
          0.1293533941503134,
          0.5788875746115371,
          0.01434073846552713,
          -1.8944062485400481,
          1.8888049406514158,
          -0.4776845884066758,
          1.2764291854498908,
          -0.5042490922031749,
          -0.7801119239008675,
          1.3421330442051493,
          0.672714533915635,
          0.9893919285907951,
          0.8494961107716652,
          0.5838121382918745,
          1.250930509255457,
          1.09968861421728,
          -0.04163656113428267,
          0.05322861552611884,
          -0.6125501183133603,
          -1.2206193313774207,
          0.144642554577054,
          -1.319235756758065,
          0.19491832305045914,
          -0.775115685297024,
          1.0167592539070043,
          0.983563546849777,
          -0.39039835223133834,
          -0.8284730578893609,
          -0.3936660846606071,
          0.6232568363690445,
          -0.6333224212073132,
          1.0650741192534734,
          -2.1686623348824674,
          -1.228154969602673,
          -0.9977266640263869,
          0.9726160769808196,
          0.2930229304519651,
          -0.4821496574965753,
          -0.5846169212147282,
          -0.9316895418709534,
          -1.2179313081717043,
          -2.074013254064868,
          0.09682363701248563,
          -0.38151715167604977,
          0.49188500666415497,
          -0.725306836736184,
          -0.8246979833109914,
          -1.3562429729164502,
          0.2673330090054745,
          1.2924557312605747,
          0.24010807839265333,
          -0.1525097779159531,
          0.013773240989478044,
          0.801672870583813,
          2.6129068949654126,
          -0.004835514247692923,
          0.00038433475050008765,
          0.3768613102888822,
          1.5852792940187583,
          -1.2303409245158452,
          0.10101802359198322,
          0.8844781483544862,
          -0.8811133498746999,
          0.373372580639977,
          -0.40411158698473626,
          1.3672213632922996,
          0.30692054933826124,
          0.2980331198680305,
          -1.6977885063533618,
          0.9342253811855618,
          0.6893014976844566,
          -0.7823612487342642,
          -0.9297453414885516,
          0.8523734371748879,
          -0.23312884194180006,
          0.4116455392105631,
          -0.2530425260066888
         ],
         "xaxis": "x7",
         "y": [
          -0.8077541023962002,
          0.7565634938517336,
          1.1237573596606032,
          -0.39565919347789863,
          0.0549785621201317,
          1.366502617290853,
          -1.3230694814486699,
          0.7387889439830942,
          -1.199480435930739,
          -2.282949284120805,
          -0.11425954367285318,
          0.8220010850043288,
          -1.1018014057796768,
          0.2503149600873541,
          1.1736158070252711,
          0.6947821804303227,
          0.5283230210516395,
          0.02697684131203542,
          1.2281054446817783,
          0.30732376074071527,
          -1.8252020255670138,
          2.6418773394416872,
          0.4006178825484417,
          0.5288086239368401,
          0.42863236503672264,
          0.30564260765961393,
          1.2778053713476605,
          1.472255914104073,
          0.05872832874232765,
          0.7251880601234464,
          -0.2138418181358444,
          -2.0005260137365877,
          1.534647810447825,
          2.084477685137188,
          2.7052715499038764,
          0.6695822248372039,
          -0.06518920375824615,
          -1.9049080959097124,
          1.2169413778613276,
          -2.03197874321166,
          1.4546371527133481,
          0.1989084957309017,
          -1.7818535501801909,
          2.0004508452916028,
          1.6296031993340103,
          0.24500116269463681,
          0.5640050900164671,
          0.5904149850770735,
          0.3823351716117955,
          1.7376514275808248,
          -0.8979434180678454,
          0.5914107965134787,
          0.4234285284764335,
          -0.6922168342136781,
          -0.6970659041760846,
          -1.4925661057491024,
          0.4165199828435986,
          -0.17973830756700138,
          -0.1899146526268394,
          0.5206315273626101,
          -0.06918200176339967,
          -0.7240010125943824,
          1.2793270686278744,
          0.3365658155828963,
          -2.0232355137365383,
          -1.955386468277755,
          1.0471304394836258,
          -0.3234898040130142,
          0.7452124347332417,
          0.9305259702811042,
          -0.7515431305554422,
          1.9675896545741405,
          0.28748431790382417,
          -0.19642992033258458,
          -0.49064884204819204,
          0.18816479377724749,
          0.07676733695429527,
          0.49804273677106,
          0.34102017267473134,
          0.7200324639469576,
          0.0606644111172542,
          -0.6137673524489353,
          0.6592257674514602,
          -1.367796620444945,
          1.3767073670816232,
          -0.6286369092359241,
          -2.659475702790765,
          0.06032259735863327,
          1.0736657620512429,
          -0.8494551963668133,
          0.7416402492100004,
          1.2144400487378093,
          0.41762560003557575,
          -0.40527781652274925,
          -0.31652693291467393,
          0.3028904622839831,
          -0.20221592711223793,
          0.14151449129352375,
          -0.08920104667800999,
          0.45969093794151544
         ],
         "yaxis": "y7"
        },
        {
         "line": {
          "color": "rgba(128, 128, 128, 1.0)",
          "dash": "solid",
          "shape": "linear",
          "width": 1.3
         },
         "marker": {
          "size": 2,
          "symbol": "circle"
         },
         "mode": "markers",
         "name": "B",
         "text": "",
         "type": "scatter",
         "x": [
          0.7975416162339963,
          -0.21940657560340165,
          -0.6495223186326463,
          -1.1045817227401677,
          -0.7193189821090035,
          -0.8349004696712116,
          -1.1270940359263222,
          0.045792655428507856,
          -0.916793147440208,
          0.9213674139500968,
          -0.5886707980598632,
          -0.09356438719274726,
          1.1920978378959821,
          -0.8317211629636166,
          -0.38109088723742296,
          0.5766422340104451,
          0.43763503347873917,
          -0.41169971859837184,
          -0.46590127089055766,
          0.20217738254294637,
          -1.669518712654215,
          -0.5111871906175561,
          -0.6298861572186296,
          0.8089227351774407,
          -0.017502244639379758,
          0.5470549245950116,
          1.205281769483588,
          1.037057423581387,
          0.09557849773090253,
          0.57333584353472,
          -0.6736607481399736,
          0.02354881168542178,
          0.16149816470751635,
          -0.18720501878333623,
          -1.0368909880884163,
          0.06346118185626269,
          1.8593973699740949,
          1.4227284353103165,
          -0.03745067461314494,
          0.7018509417552491,
          0.37484070339401815,
          0.4490068546525637,
          0.05210196611094483,
          -0.1701316667373229,
          0.9975858765520681,
          0.5679231522183869,
          0.7333534143683618,
          -0.4881841277696792,
          -0.7735029325895608,
          0.01891691584424374,
          -1.2359148304241079,
          -0.8896197467687542,
          -0.10908281293793401,
          1.688463700552174,
          -0.23667063256752122,
          -0.0006127191057447444,
          -1.3901015766075688,
          -0.07471253156201306,
          -0.17391167365707075,
          0.18494588958463734,
          -0.8072660199829106,
          0.5042274950958247,
          1.430319628227963,
          -1.0432237869179202,
          0.6069703153867475,
          -0.9659360808606309,
          1.6956317931889817,
          0.1934229329498793,
          -0.3234302239208796,
          -0.5653941531404442,
          1.4294978718028493,
          -0.4667825162224206,
          0.8159024534431725,
          -0.27577624975932374,
          0.05785711289876522,
          1.4902936128030226,
          0.9452236842836307,
          1.34821155748868,
          -0.9335093588384209,
          0.7629837548409932,
          -0.9040802654809437,
          -0.8912568923745329,
          -0.7504395625157962,
          0.5435144524350202,
          1.47191507660395,
          -1.9599202433457479,
          -0.09907887392997437,
          1.4770671005625244,
          0.40572998591662657,
          0.09857348353580996,
          0.23264132362483203,
          0.9966223626862929,
          -0.23378918797685888,
          -0.8122495069200328,
          0.7783050772190407,
          -0.9721164857966254,
          0.4139167840603344,
          0.6505919351452365,
          -1.4765433004431558,
          -0.2272361110201322
         ],
         "xaxis": "x8",
         "y": [
          -0.8077541023962002,
          0.7565634938517336,
          1.1237573596606032,
          -0.39565919347789863,
          0.0549785621201317,
          1.366502617290853,
          -1.3230694814486699,
          0.7387889439830942,
          -1.199480435930739,
          -2.282949284120805,
          -0.11425954367285318,
          0.8220010850043288,
          -1.1018014057796768,
          0.2503149600873541,
          1.1736158070252711,
          0.6947821804303227,
          0.5283230210516395,
          0.02697684131203542,
          1.2281054446817783,
          0.30732376074071527,
          -1.8252020255670138,
          2.6418773394416872,
          0.4006178825484417,
          0.5288086239368401,
          0.42863236503672264,
          0.30564260765961393,
          1.2778053713476605,
          1.472255914104073,
          0.05872832874232765,
          0.7251880601234464,
          -0.2138418181358444,
          -2.0005260137365877,
          1.534647810447825,
          2.084477685137188,
          2.7052715499038764,
          0.6695822248372039,
          -0.06518920375824615,
          -1.9049080959097124,
          1.2169413778613276,
          -2.03197874321166,
          1.4546371527133481,
          0.1989084957309017,
          -1.7818535501801909,
          2.0004508452916028,
          1.6296031993340103,
          0.24500116269463681,
          0.5640050900164671,
          0.5904149850770735,
          0.3823351716117955,
          1.7376514275808248,
          -0.8979434180678454,
          0.5914107965134787,
          0.4234285284764335,
          -0.6922168342136781,
          -0.6970659041760846,
          -1.4925661057491024,
          0.4165199828435986,
          -0.17973830756700138,
          -0.1899146526268394,
          0.5206315273626101,
          -0.06918200176339967,
          -0.7240010125943824,
          1.2793270686278744,
          0.3365658155828963,
          -2.0232355137365383,
          -1.955386468277755,
          1.0471304394836258,
          -0.3234898040130142,
          0.7452124347332417,
          0.9305259702811042,
          -0.7515431305554422,
          1.9675896545741405,
          0.28748431790382417,
          -0.19642992033258458,
          -0.49064884204819204,
          0.18816479377724749,
          0.07676733695429527,
          0.49804273677106,
          0.34102017267473134,
          0.7200324639469576,
          0.0606644111172542,
          -0.6137673524489353,
          0.6592257674514602,
          -1.367796620444945,
          1.3767073670816232,
          -0.6286369092359241,
          -2.659475702790765,
          0.06032259735863327,
          1.0736657620512429,
          -0.8494551963668133,
          0.7416402492100004,
          1.2144400487378093,
          0.41762560003557575,
          -0.40527781652274925,
          -0.31652693291467393,
          0.3028904622839831,
          -0.20221592711223793,
          0.14151449129352375,
          -0.08920104667800999,
          0.45969093794151544
         ],
         "yaxis": "y8"
        },
        {
         "line": {
          "color": "rgba(128, 128, 128, 1.0)",
          "dash": "solid",
          "shape": "linear",
          "width": 1.3
         },
         "marker": {
          "size": 2,
          "symbol": "circle"
         },
         "mode": "markers",
         "name": "C",
         "text": "",
         "type": "scatter",
         "x": [
          1.3306309417176265,
          -1.0385908792182337,
          0.1874988544332731,
          -1.280273142495005,
          1.049058077764222,
          1.0611683123235378,
          1.9071191693896197,
          2.7352170168230985,
          -0.6397746814172409,
          0.8463438925366744,
          0.6654798489053015,
          0.5898888031987908,
          -0.24578070323181664,
          0.8969285206540074,
          -0.5662410084123332,
          1.0938500603836203,
          -0.12239543313528743,
          0.22232875620726475,
          -2.100252650446614,
          0.07236905792648542,
          1.4025076400931227,
          -0.5884562982794522,
          -0.9889691929554822,
          1.254073734692926,
          -0.46372972298110055,
          -0.48538707079930976,
          1.3291500350558658,
          -0.5959406223584038,
          0.8264347369014085,
          0.03382006102493553,
          -1.7403756156373102,
          -0.10120422308479786,
          -2.0763793530629675,
          0.32975298291286204,
          -0.2513970373300905,
          1.0686811177498006,
          -1.287088310176192,
          1.7189073509803223,
          -2.1812920330972028,
          -1.653046828768346,
          -0.6299599276446443,
          -0.6603974395461192,
          1.9616869789233804,
          0.8559600837851427,
          0.6831248737350233,
          -0.28491484930330135,
          2.273199289527967,
          -0.6001597532078587,
          -1.0362480369487086,
          1.277052361551702,
          0.716203215161114,
          -0.07102696522231514,
          -2.033535045783543,
          -0.7538182027296547,
          0.0013298173934843229,
          2.012898833923275,
          1.2880410548949353,
          0.4014209245850137,
          -0.7741539809820434,
          0.7252590743472118,
          -0.8483347797463456,
          -0.49958477134736623,
          0.14473176345929775,
          -0.8034821874756903,
          -1.351101132144767,
          0.6170023030683952,
          -1.891397712945495,
          -0.9383709684301289,
          -0.41277249311839675,
          -1.591460336585324,
          -0.8097421575333087,
          2.2616634455467683,
          -0.11339795454097942,
          -0.14794045700105715,
          -0.2163222303007041,
          0.47811209099295643,
          -1.0224603818250957,
          1.7108857580680352,
          1.1466963877389036,
          0.4356283563208712,
          0.01784311691288129,
          0.11980539540514351,
          0.3947055397125486,
          0.7596655979349227,
          -0.21600082570836415,
          -0.023137565460243193,
          0.017163582231720136,
          0.21032173566674786,
          -0.389023597520661,
          -0.19793727668987773,
          -0.29492035190757415,
          -1.2411400701237552,
          0.39606779670549547,
          -0.9150253620940234,
          -0.5257507006499514,
          1.8243832582774786,
          -0.1125237963450426,
          -2.7739318359255813,
          -0.0898090875362181,
          0.8328315823372676
         ],
         "xaxis": "x9",
         "y": [
          0.3656651539700398,
          -2.024621508933484,
          -0.17595214258639766,
          0.38752123388547627,
          -0.40098108684220674,
          0.7047994399031737,
          0.6111222021594415,
          0.2984057022335293,
          -0.5054188984967285,
          0.12024912953358627,
          0.03658450937199128,
          -0.28327791808777447,
          -1.3967097446357228,
          1.1161579807451723,
          -0.02769518065720461,
          0.3824321539746692,
          0.5477711577384979,
          0.08142385667673246,
          1.3064477629658349,
          -0.16079346035363284,
          1.3087896864926647,
          0.3062345125176454,
          0.09288871560599347,
          0.1293533941503134,
          0.5788875746115371,
          0.01434073846552713,
          -1.8944062485400481,
          1.8888049406514158,
          -0.4776845884066758,
          1.2764291854498908,
          -0.5042490922031749,
          -0.7801119239008675,
          1.3421330442051493,
          0.672714533915635,
          0.9893919285907951,
          0.8494961107716652,
          0.5838121382918745,
          1.250930509255457,
          1.09968861421728,
          -0.04163656113428267,
          0.05322861552611884,
          -0.6125501183133603,
          -1.2206193313774207,
          0.144642554577054,
          -1.319235756758065,
          0.19491832305045914,
          -0.775115685297024,
          1.0167592539070043,
          0.983563546849777,
          -0.39039835223133834,
          -0.8284730578893609,
          -0.3936660846606071,
          0.6232568363690445,
          -0.6333224212073132,
          1.0650741192534734,
          -2.1686623348824674,
          -1.228154969602673,
          -0.9977266640263869,
          0.9726160769808196,
          0.2930229304519651,
          -0.4821496574965753,
          -0.5846169212147282,
          -0.9316895418709534,
          -1.2179313081717043,
          -2.074013254064868,
          0.09682363701248563,
          -0.38151715167604977,
          0.49188500666415497,
          -0.725306836736184,
          -0.8246979833109914,
          -1.3562429729164502,
          0.2673330090054745,
          1.2924557312605747,
          0.24010807839265333,
          -0.1525097779159531,
          0.013773240989478044,
          0.801672870583813,
          2.6129068949654126,
          -0.004835514247692923,
          0.00038433475050008765,
          0.3768613102888822,
          1.5852792940187583,
          -1.2303409245158452,
          0.10101802359198322,
          0.8844781483544862,
          -0.8811133498746999,
          0.373372580639977,
          -0.40411158698473626,
          1.3672213632922996,
          0.30692054933826124,
          0.2980331198680305,
          -1.6977885063533618,
          0.9342253811855618,
          0.6893014976844566,
          -0.7823612487342642,
          -0.9297453414885516,
          0.8523734371748879,
          -0.23312884194180006,
          0.4116455392105631,
          -0.2530425260066888
         ],
         "yaxis": "y9"
        },
        {
         "line": {
          "color": "rgba(128, 128, 128, 1.0)",
          "dash": "solid",
          "shape": "linear",
          "width": 1.3
         },
         "marker": {
          "size": 2,
          "symbol": "circle"
         },
         "mode": "markers",
         "name": "C",
         "text": "",
         "type": "scatter",
         "x": [
          -0.8077541023962002,
          0.7565634938517336,
          1.1237573596606032,
          -0.39565919347789863,
          0.0549785621201317,
          1.366502617290853,
          -1.3230694814486699,
          0.7387889439830942,
          -1.199480435930739,
          -2.282949284120805,
          -0.11425954367285318,
          0.8220010850043288,
          -1.1018014057796768,
          0.2503149600873541,
          1.1736158070252711,
          0.6947821804303227,
          0.5283230210516395,
          0.02697684131203542,
          1.2281054446817783,
          0.30732376074071527,
          -1.8252020255670138,
          2.6418773394416872,
          0.4006178825484417,
          0.5288086239368401,
          0.42863236503672264,
          0.30564260765961393,
          1.2778053713476605,
          1.472255914104073,
          0.05872832874232765,
          0.7251880601234464,
          -0.2138418181358444,
          -2.0005260137365877,
          1.534647810447825,
          2.084477685137188,
          2.7052715499038764,
          0.6695822248372039,
          -0.06518920375824615,
          -1.9049080959097124,
          1.2169413778613276,
          -2.03197874321166,
          1.4546371527133481,
          0.1989084957309017,
          -1.7818535501801909,
          2.0004508452916028,
          1.6296031993340103,
          0.24500116269463681,
          0.5640050900164671,
          0.5904149850770735,
          0.3823351716117955,
          1.7376514275808248,
          -0.8979434180678454,
          0.5914107965134787,
          0.4234285284764335,
          -0.6922168342136781,
          -0.6970659041760846,
          -1.4925661057491024,
          0.4165199828435986,
          -0.17973830756700138,
          -0.1899146526268394,
          0.5206315273626101,
          -0.06918200176339967,
          -0.7240010125943824,
          1.2793270686278744,
          0.3365658155828963,
          -2.0232355137365383,
          -1.955386468277755,
          1.0471304394836258,
          -0.3234898040130142,
          0.7452124347332417,
          0.9305259702811042,
          -0.7515431305554422,
          1.9675896545741405,
          0.28748431790382417,
          -0.19642992033258458,
          -0.49064884204819204,
          0.18816479377724749,
          0.07676733695429527,
          0.49804273677106,
          0.34102017267473134,
          0.7200324639469576,
          0.0606644111172542,
          -0.6137673524489353,
          0.6592257674514602,
          -1.367796620444945,
          1.3767073670816232,
          -0.6286369092359241,
          -2.659475702790765,
          0.06032259735863327,
          1.0736657620512429,
          -0.8494551963668133,
          0.7416402492100004,
          1.2144400487378093,
          0.41762560003557575,
          -0.40527781652274925,
          -0.31652693291467393,
          0.3028904622839831,
          -0.20221592711223793,
          0.14151449129352375,
          -0.08920104667800999,
          0.45969093794151544
         ],
         "xaxis": "x10",
         "y": [
          0.3656651539700398,
          -2.024621508933484,
          -0.17595214258639766,
          0.38752123388547627,
          -0.40098108684220674,
          0.7047994399031737,
          0.6111222021594415,
          0.2984057022335293,
          -0.5054188984967285,
          0.12024912953358627,
          0.03658450937199128,
          -0.28327791808777447,
          -1.3967097446357228,
          1.1161579807451723,
          -0.02769518065720461,
          0.3824321539746692,
          0.5477711577384979,
          0.08142385667673246,
          1.3064477629658349,
          -0.16079346035363284,
          1.3087896864926647,
          0.3062345125176454,
          0.09288871560599347,
          0.1293533941503134,
          0.5788875746115371,
          0.01434073846552713,
          -1.8944062485400481,
          1.8888049406514158,
          -0.4776845884066758,
          1.2764291854498908,
          -0.5042490922031749,
          -0.7801119239008675,
          1.3421330442051493,
          0.672714533915635,
          0.9893919285907951,
          0.8494961107716652,
          0.5838121382918745,
          1.250930509255457,
          1.09968861421728,
          -0.04163656113428267,
          0.05322861552611884,
          -0.6125501183133603,
          -1.2206193313774207,
          0.144642554577054,
          -1.319235756758065,
          0.19491832305045914,
          -0.775115685297024,
          1.0167592539070043,
          0.983563546849777,
          -0.39039835223133834,
          -0.8284730578893609,
          -0.3936660846606071,
          0.6232568363690445,
          -0.6333224212073132,
          1.0650741192534734,
          -2.1686623348824674,
          -1.228154969602673,
          -0.9977266640263869,
          0.9726160769808196,
          0.2930229304519651,
          -0.4821496574965753,
          -0.5846169212147282,
          -0.9316895418709534,
          -1.2179313081717043,
          -2.074013254064868,
          0.09682363701248563,
          -0.38151715167604977,
          0.49188500666415497,
          -0.725306836736184,
          -0.8246979833109914,
          -1.3562429729164502,
          0.2673330090054745,
          1.2924557312605747,
          0.24010807839265333,
          -0.1525097779159531,
          0.013773240989478044,
          0.801672870583813,
          2.6129068949654126,
          -0.004835514247692923,
          0.00038433475050008765,
          0.3768613102888822,
          1.5852792940187583,
          -1.2303409245158452,
          0.10101802359198322,
          0.8844781483544862,
          -0.8811133498746999,
          0.373372580639977,
          -0.40411158698473626,
          1.3672213632922996,
          0.30692054933826124,
          0.2980331198680305,
          -1.6977885063533618,
          0.9342253811855618,
          0.6893014976844566,
          -0.7823612487342642,
          -0.9297453414885516,
          0.8523734371748879,
          -0.23312884194180006,
          0.4116455392105631,
          -0.2530425260066888
         ],
         "yaxis": "y10"
        },
        {
         "histfunc": "count",
         "histnorm": "",
         "marker": {
          "color": "rgba(50, 171, 96, 1.0)",
          "line": {
           "color": "#4D5663",
           "width": 1.3
          }
         },
         "name": "C",
         "nbinsx": 10,
         "opacity": 0.8,
         "orientation": "v",
         "type": "histogram",
         "x": [
          0.3656651539700398,
          -2.024621508933484,
          -0.17595214258639766,
          0.38752123388547627,
          -0.40098108684220674,
          0.7047994399031737,
          0.6111222021594415,
          0.2984057022335293,
          -0.5054188984967285,
          0.12024912953358627,
          0.03658450937199128,
          -0.28327791808777447,
          -1.3967097446357228,
          1.1161579807451723,
          -0.02769518065720461,
          0.3824321539746692,
          0.5477711577384979,
          0.08142385667673246,
          1.3064477629658349,
          -0.16079346035363284,
          1.3087896864926647,
          0.3062345125176454,
          0.09288871560599347,
          0.1293533941503134,
          0.5788875746115371,
          0.01434073846552713,
          -1.8944062485400481,
          1.8888049406514158,
          -0.4776845884066758,
          1.2764291854498908,
          -0.5042490922031749,
          -0.7801119239008675,
          1.3421330442051493,
          0.672714533915635,
          0.9893919285907951,
          0.8494961107716652,
          0.5838121382918745,
          1.250930509255457,
          1.09968861421728,
          -0.04163656113428267,
          0.05322861552611884,
          -0.6125501183133603,
          -1.2206193313774207,
          0.144642554577054,
          -1.319235756758065,
          0.19491832305045914,
          -0.775115685297024,
          1.0167592539070043,
          0.983563546849777,
          -0.39039835223133834,
          -0.8284730578893609,
          -0.3936660846606071,
          0.6232568363690445,
          -0.6333224212073132,
          1.0650741192534734,
          -2.1686623348824674,
          -1.228154969602673,
          -0.9977266640263869,
          0.9726160769808196,
          0.2930229304519651,
          -0.4821496574965753,
          -0.5846169212147282,
          -0.9316895418709534,
          -1.2179313081717043,
          -2.074013254064868,
          0.09682363701248563,
          -0.38151715167604977,
          0.49188500666415497,
          -0.725306836736184,
          -0.8246979833109914,
          -1.3562429729164502,
          0.2673330090054745,
          1.2924557312605747,
          0.24010807839265333,
          -0.1525097779159531,
          0.013773240989478044,
          0.801672870583813,
          2.6129068949654126,
          -0.004835514247692923,
          0.00038433475050008765,
          0.3768613102888822,
          1.5852792940187583,
          -1.2303409245158452,
          0.10101802359198322,
          0.8844781483544862,
          -0.8811133498746999,
          0.373372580639977,
          -0.40411158698473626,
          1.3672213632922996,
          0.30692054933826124,
          0.2980331198680305,
          -1.6977885063533618,
          0.9342253811855618,
          0.6893014976844566,
          -0.7823612487342642,
          -0.9297453414885516,
          0.8523734371748879,
          -0.23312884194180006,
          0.4116455392105631,
          -0.2530425260066888
         ],
         "xaxis": "x11",
         "yaxis": "y11"
        },
        {
         "line": {
          "color": "rgba(128, 128, 128, 1.0)",
          "dash": "solid",
          "shape": "linear",
          "width": 1.3
         },
         "marker": {
          "size": 2,
          "symbol": "circle"
         },
         "mode": "markers",
         "name": "C",
         "text": "",
         "type": "scatter",
         "x": [
          0.7975416162339963,
          -0.21940657560340165,
          -0.6495223186326463,
          -1.1045817227401677,
          -0.7193189821090035,
          -0.8349004696712116,
          -1.1270940359263222,
          0.045792655428507856,
          -0.916793147440208,
          0.9213674139500968,
          -0.5886707980598632,
          -0.09356438719274726,
          1.1920978378959821,
          -0.8317211629636166,
          -0.38109088723742296,
          0.5766422340104451,
          0.43763503347873917,
          -0.41169971859837184,
          -0.46590127089055766,
          0.20217738254294637,
          -1.669518712654215,
          -0.5111871906175561,
          -0.6298861572186296,
          0.8089227351774407,
          -0.017502244639379758,
          0.5470549245950116,
          1.205281769483588,
          1.037057423581387,
          0.09557849773090253,
          0.57333584353472,
          -0.6736607481399736,
          0.02354881168542178,
          0.16149816470751635,
          -0.18720501878333623,
          -1.0368909880884163,
          0.06346118185626269,
          1.8593973699740949,
          1.4227284353103165,
          -0.03745067461314494,
          0.7018509417552491,
          0.37484070339401815,
          0.4490068546525637,
          0.05210196611094483,
          -0.1701316667373229,
          0.9975858765520681,
          0.5679231522183869,
          0.7333534143683618,
          -0.4881841277696792,
          -0.7735029325895608,
          0.01891691584424374,
          -1.2359148304241079,
          -0.8896197467687542,
          -0.10908281293793401,
          1.688463700552174,
          -0.23667063256752122,
          -0.0006127191057447444,
          -1.3901015766075688,
          -0.07471253156201306,
          -0.17391167365707075,
          0.18494588958463734,
          -0.8072660199829106,
          0.5042274950958247,
          1.430319628227963,
          -1.0432237869179202,
          0.6069703153867475,
          -0.9659360808606309,
          1.6956317931889817,
          0.1934229329498793,
          -0.3234302239208796,
          -0.5653941531404442,
          1.4294978718028493,
          -0.4667825162224206,
          0.8159024534431725,
          -0.27577624975932374,
          0.05785711289876522,
          1.4902936128030226,
          0.9452236842836307,
          1.34821155748868,
          -0.9335093588384209,
          0.7629837548409932,
          -0.9040802654809437,
          -0.8912568923745329,
          -0.7504395625157962,
          0.5435144524350202,
          1.47191507660395,
          -1.9599202433457479,
          -0.09907887392997437,
          1.4770671005625244,
          0.40572998591662657,
          0.09857348353580996,
          0.23264132362483203,
          0.9966223626862929,
          -0.23378918797685888,
          -0.8122495069200328,
          0.7783050772190407,
          -0.9721164857966254,
          0.4139167840603344,
          0.6505919351452365,
          -1.4765433004431558,
          -0.2272361110201322
         ],
         "xaxis": "x12",
         "y": [
          0.3656651539700398,
          -2.024621508933484,
          -0.17595214258639766,
          0.38752123388547627,
          -0.40098108684220674,
          0.7047994399031737,
          0.6111222021594415,
          0.2984057022335293,
          -0.5054188984967285,
          0.12024912953358627,
          0.03658450937199128,
          -0.28327791808777447,
          -1.3967097446357228,
          1.1161579807451723,
          -0.02769518065720461,
          0.3824321539746692,
          0.5477711577384979,
          0.08142385667673246,
          1.3064477629658349,
          -0.16079346035363284,
          1.3087896864926647,
          0.3062345125176454,
          0.09288871560599347,
          0.1293533941503134,
          0.5788875746115371,
          0.01434073846552713,
          -1.8944062485400481,
          1.8888049406514158,
          -0.4776845884066758,
          1.2764291854498908,
          -0.5042490922031749,
          -0.7801119239008675,
          1.3421330442051493,
          0.672714533915635,
          0.9893919285907951,
          0.8494961107716652,
          0.5838121382918745,
          1.250930509255457,
          1.09968861421728,
          -0.04163656113428267,
          0.05322861552611884,
          -0.6125501183133603,
          -1.2206193313774207,
          0.144642554577054,
          -1.319235756758065,
          0.19491832305045914,
          -0.775115685297024,
          1.0167592539070043,
          0.983563546849777,
          -0.39039835223133834,
          -0.8284730578893609,
          -0.3936660846606071,
          0.6232568363690445,
          -0.6333224212073132,
          1.0650741192534734,
          -2.1686623348824674,
          -1.228154969602673,
          -0.9977266640263869,
          0.9726160769808196,
          0.2930229304519651,
          -0.4821496574965753,
          -0.5846169212147282,
          -0.9316895418709534,
          -1.2179313081717043,
          -2.074013254064868,
          0.09682363701248563,
          -0.38151715167604977,
          0.49188500666415497,
          -0.725306836736184,
          -0.8246979833109914,
          -1.3562429729164502,
          0.2673330090054745,
          1.2924557312605747,
          0.24010807839265333,
          -0.1525097779159531,
          0.013773240989478044,
          0.801672870583813,
          2.6129068949654126,
          -0.004835514247692923,
          0.00038433475050008765,
          0.3768613102888822,
          1.5852792940187583,
          -1.2303409245158452,
          0.10101802359198322,
          0.8844781483544862,
          -0.8811133498746999,
          0.373372580639977,
          -0.40411158698473626,
          1.3672213632922996,
          0.30692054933826124,
          0.2980331198680305,
          -1.6977885063533618,
          0.9342253811855618,
          0.6893014976844566,
          -0.7823612487342642,
          -0.9297453414885516,
          0.8523734371748879,
          -0.23312884194180006,
          0.4116455392105631,
          -0.2530425260066888
         ],
         "yaxis": "y12"
        },
        {
         "line": {
          "color": "rgba(128, 128, 128, 1.0)",
          "dash": "solid",
          "shape": "linear",
          "width": 1.3
         },
         "marker": {
          "size": 2,
          "symbol": "circle"
         },
         "mode": "markers",
         "name": "D",
         "text": "",
         "type": "scatter",
         "x": [
          1.3306309417176265,
          -1.0385908792182337,
          0.1874988544332731,
          -1.280273142495005,
          1.049058077764222,
          1.0611683123235378,
          1.9071191693896197,
          2.7352170168230985,
          -0.6397746814172409,
          0.8463438925366744,
          0.6654798489053015,
          0.5898888031987908,
          -0.24578070323181664,
          0.8969285206540074,
          -0.5662410084123332,
          1.0938500603836203,
          -0.12239543313528743,
          0.22232875620726475,
          -2.100252650446614,
          0.07236905792648542,
          1.4025076400931227,
          -0.5884562982794522,
          -0.9889691929554822,
          1.254073734692926,
          -0.46372972298110055,
          -0.48538707079930976,
          1.3291500350558658,
          -0.5959406223584038,
          0.8264347369014085,
          0.03382006102493553,
          -1.7403756156373102,
          -0.10120422308479786,
          -2.0763793530629675,
          0.32975298291286204,
          -0.2513970373300905,
          1.0686811177498006,
          -1.287088310176192,
          1.7189073509803223,
          -2.1812920330972028,
          -1.653046828768346,
          -0.6299599276446443,
          -0.6603974395461192,
          1.9616869789233804,
          0.8559600837851427,
          0.6831248737350233,
          -0.28491484930330135,
          2.273199289527967,
          -0.6001597532078587,
          -1.0362480369487086,
          1.277052361551702,
          0.716203215161114,
          -0.07102696522231514,
          -2.033535045783543,
          -0.7538182027296547,
          0.0013298173934843229,
          2.012898833923275,
          1.2880410548949353,
          0.4014209245850137,
          -0.7741539809820434,
          0.7252590743472118,
          -0.8483347797463456,
          -0.49958477134736623,
          0.14473176345929775,
          -0.8034821874756903,
          -1.351101132144767,
          0.6170023030683952,
          -1.891397712945495,
          -0.9383709684301289,
          -0.41277249311839675,
          -1.591460336585324,
          -0.8097421575333087,
          2.2616634455467683,
          -0.11339795454097942,
          -0.14794045700105715,
          -0.2163222303007041,
          0.47811209099295643,
          -1.0224603818250957,
          1.7108857580680352,
          1.1466963877389036,
          0.4356283563208712,
          0.01784311691288129,
          0.11980539540514351,
          0.3947055397125486,
          0.7596655979349227,
          -0.21600082570836415,
          -0.023137565460243193,
          0.017163582231720136,
          0.21032173566674786,
          -0.389023597520661,
          -0.19793727668987773,
          -0.29492035190757415,
          -1.2411400701237552,
          0.39606779670549547,
          -0.9150253620940234,
          -0.5257507006499514,
          1.8243832582774786,
          -0.1125237963450426,
          -2.7739318359255813,
          -0.0898090875362181,
          0.8328315823372676
         ],
         "xaxis": "x13",
         "y": [
          0.7975416162339963,
          -0.21940657560340165,
          -0.6495223186326463,
          -1.1045817227401677,
          -0.7193189821090035,
          -0.8349004696712116,
          -1.1270940359263222,
          0.045792655428507856,
          -0.916793147440208,
          0.9213674139500968,
          -0.5886707980598632,
          -0.09356438719274726,
          1.1920978378959821,
          -0.8317211629636166,
          -0.38109088723742296,
          0.5766422340104451,
          0.43763503347873917,
          -0.41169971859837184,
          -0.46590127089055766,
          0.20217738254294637,
          -1.669518712654215,
          -0.5111871906175561,
          -0.6298861572186296,
          0.8089227351774407,
          -0.017502244639379758,
          0.5470549245950116,
          1.205281769483588,
          1.037057423581387,
          0.09557849773090253,
          0.57333584353472,
          -0.6736607481399736,
          0.02354881168542178,
          0.16149816470751635,
          -0.18720501878333623,
          -1.0368909880884163,
          0.06346118185626269,
          1.8593973699740949,
          1.4227284353103165,
          -0.03745067461314494,
          0.7018509417552491,
          0.37484070339401815,
          0.4490068546525637,
          0.05210196611094483,
          -0.1701316667373229,
          0.9975858765520681,
          0.5679231522183869,
          0.7333534143683618,
          -0.4881841277696792,
          -0.7735029325895608,
          0.01891691584424374,
          -1.2359148304241079,
          -0.8896197467687542,
          -0.10908281293793401,
          1.688463700552174,
          -0.23667063256752122,
          -0.0006127191057447444,
          -1.3901015766075688,
          -0.07471253156201306,
          -0.17391167365707075,
          0.18494588958463734,
          -0.8072660199829106,
          0.5042274950958247,
          1.430319628227963,
          -1.0432237869179202,
          0.6069703153867475,
          -0.9659360808606309,
          1.6956317931889817,
          0.1934229329498793,
          -0.3234302239208796,
          -0.5653941531404442,
          1.4294978718028493,
          -0.4667825162224206,
          0.8159024534431725,
          -0.27577624975932374,
          0.05785711289876522,
          1.4902936128030226,
          0.9452236842836307,
          1.34821155748868,
          -0.9335093588384209,
          0.7629837548409932,
          -0.9040802654809437,
          -0.8912568923745329,
          -0.7504395625157962,
          0.5435144524350202,
          1.47191507660395,
          -1.9599202433457479,
          -0.09907887392997437,
          1.4770671005625244,
          0.40572998591662657,
          0.09857348353580996,
          0.23264132362483203,
          0.9966223626862929,
          -0.23378918797685888,
          -0.8122495069200328,
          0.7783050772190407,
          -0.9721164857966254,
          0.4139167840603344,
          0.6505919351452365,
          -1.4765433004431558,
          -0.2272361110201322
         ],
         "yaxis": "y13"
        },
        {
         "line": {
          "color": "rgba(128, 128, 128, 1.0)",
          "dash": "solid",
          "shape": "linear",
          "width": 1.3
         },
         "marker": {
          "size": 2,
          "symbol": "circle"
         },
         "mode": "markers",
         "name": "D",
         "text": "",
         "type": "scatter",
         "x": [
          -0.8077541023962002,
          0.7565634938517336,
          1.1237573596606032,
          -0.39565919347789863,
          0.0549785621201317,
          1.366502617290853,
          -1.3230694814486699,
          0.7387889439830942,
          -1.199480435930739,
          -2.282949284120805,
          -0.11425954367285318,
          0.8220010850043288,
          -1.1018014057796768,
          0.2503149600873541,
          1.1736158070252711,
          0.6947821804303227,
          0.5283230210516395,
          0.02697684131203542,
          1.2281054446817783,
          0.30732376074071527,
          -1.8252020255670138,
          2.6418773394416872,
          0.4006178825484417,
          0.5288086239368401,
          0.42863236503672264,
          0.30564260765961393,
          1.2778053713476605,
          1.472255914104073,
          0.05872832874232765,
          0.7251880601234464,
          -0.2138418181358444,
          -2.0005260137365877,
          1.534647810447825,
          2.084477685137188,
          2.7052715499038764,
          0.6695822248372039,
          -0.06518920375824615,
          -1.9049080959097124,
          1.2169413778613276,
          -2.03197874321166,
          1.4546371527133481,
          0.1989084957309017,
          -1.7818535501801909,
          2.0004508452916028,
          1.6296031993340103,
          0.24500116269463681,
          0.5640050900164671,
          0.5904149850770735,
          0.3823351716117955,
          1.7376514275808248,
          -0.8979434180678454,
          0.5914107965134787,
          0.4234285284764335,
          -0.6922168342136781,
          -0.6970659041760846,
          -1.4925661057491024,
          0.4165199828435986,
          -0.17973830756700138,
          -0.1899146526268394,
          0.5206315273626101,
          -0.06918200176339967,
          -0.7240010125943824,
          1.2793270686278744,
          0.3365658155828963,
          -2.0232355137365383,
          -1.955386468277755,
          1.0471304394836258,
          -0.3234898040130142,
          0.7452124347332417,
          0.9305259702811042,
          -0.7515431305554422,
          1.9675896545741405,
          0.28748431790382417,
          -0.19642992033258458,
          -0.49064884204819204,
          0.18816479377724749,
          0.07676733695429527,
          0.49804273677106,
          0.34102017267473134,
          0.7200324639469576,
          0.0606644111172542,
          -0.6137673524489353,
          0.6592257674514602,
          -1.367796620444945,
          1.3767073670816232,
          -0.6286369092359241,
          -2.659475702790765,
          0.06032259735863327,
          1.0736657620512429,
          -0.8494551963668133,
          0.7416402492100004,
          1.2144400487378093,
          0.41762560003557575,
          -0.40527781652274925,
          -0.31652693291467393,
          0.3028904622839831,
          -0.20221592711223793,
          0.14151449129352375,
          -0.08920104667800999,
          0.45969093794151544
         ],
         "xaxis": "x14",
         "y": [
          0.7975416162339963,
          -0.21940657560340165,
          -0.6495223186326463,
          -1.1045817227401677,
          -0.7193189821090035,
          -0.8349004696712116,
          -1.1270940359263222,
          0.045792655428507856,
          -0.916793147440208,
          0.9213674139500968,
          -0.5886707980598632,
          -0.09356438719274726,
          1.1920978378959821,
          -0.8317211629636166,
          -0.38109088723742296,
          0.5766422340104451,
          0.43763503347873917,
          -0.41169971859837184,
          -0.46590127089055766,
          0.20217738254294637,
          -1.669518712654215,
          -0.5111871906175561,
          -0.6298861572186296,
          0.8089227351774407,
          -0.017502244639379758,
          0.5470549245950116,
          1.205281769483588,
          1.037057423581387,
          0.09557849773090253,
          0.57333584353472,
          -0.6736607481399736,
          0.02354881168542178,
          0.16149816470751635,
          -0.18720501878333623,
          -1.0368909880884163,
          0.06346118185626269,
          1.8593973699740949,
          1.4227284353103165,
          -0.03745067461314494,
          0.7018509417552491,
          0.37484070339401815,
          0.4490068546525637,
          0.05210196611094483,
          -0.1701316667373229,
          0.9975858765520681,
          0.5679231522183869,
          0.7333534143683618,
          -0.4881841277696792,
          -0.7735029325895608,
          0.01891691584424374,
          -1.2359148304241079,
          -0.8896197467687542,
          -0.10908281293793401,
          1.688463700552174,
          -0.23667063256752122,
          -0.0006127191057447444,
          -1.3901015766075688,
          -0.07471253156201306,
          -0.17391167365707075,
          0.18494588958463734,
          -0.8072660199829106,
          0.5042274950958247,
          1.430319628227963,
          -1.0432237869179202,
          0.6069703153867475,
          -0.9659360808606309,
          1.6956317931889817,
          0.1934229329498793,
          -0.3234302239208796,
          -0.5653941531404442,
          1.4294978718028493,
          -0.4667825162224206,
          0.8159024534431725,
          -0.27577624975932374,
          0.05785711289876522,
          1.4902936128030226,
          0.9452236842836307,
          1.34821155748868,
          -0.9335093588384209,
          0.7629837548409932,
          -0.9040802654809437,
          -0.8912568923745329,
          -0.7504395625157962,
          0.5435144524350202,
          1.47191507660395,
          -1.9599202433457479,
          -0.09907887392997437,
          1.4770671005625244,
          0.40572998591662657,
          0.09857348353580996,
          0.23264132362483203,
          0.9966223626862929,
          -0.23378918797685888,
          -0.8122495069200328,
          0.7783050772190407,
          -0.9721164857966254,
          0.4139167840603344,
          0.6505919351452365,
          -1.4765433004431558,
          -0.2272361110201322
         ],
         "yaxis": "y14"
        },
        {
         "line": {
          "color": "rgba(128, 128, 128, 1.0)",
          "dash": "solid",
          "shape": "linear",
          "width": 1.3
         },
         "marker": {
          "size": 2,
          "symbol": "circle"
         },
         "mode": "markers",
         "name": "D",
         "text": "",
         "type": "scatter",
         "x": [
          0.3656651539700398,
          -2.024621508933484,
          -0.17595214258639766,
          0.38752123388547627,
          -0.40098108684220674,
          0.7047994399031737,
          0.6111222021594415,
          0.2984057022335293,
          -0.5054188984967285,
          0.12024912953358627,
          0.03658450937199128,
          -0.28327791808777447,
          -1.3967097446357228,
          1.1161579807451723,
          -0.02769518065720461,
          0.3824321539746692,
          0.5477711577384979,
          0.08142385667673246,
          1.3064477629658349,
          -0.16079346035363284,
          1.3087896864926647,
          0.3062345125176454,
          0.09288871560599347,
          0.1293533941503134,
          0.5788875746115371,
          0.01434073846552713,
          -1.8944062485400481,
          1.8888049406514158,
          -0.4776845884066758,
          1.2764291854498908,
          -0.5042490922031749,
          -0.7801119239008675,
          1.3421330442051493,
          0.672714533915635,
          0.9893919285907951,
          0.8494961107716652,
          0.5838121382918745,
          1.250930509255457,
          1.09968861421728,
          -0.04163656113428267,
          0.05322861552611884,
          -0.6125501183133603,
          -1.2206193313774207,
          0.144642554577054,
          -1.319235756758065,
          0.19491832305045914,
          -0.775115685297024,
          1.0167592539070043,
          0.983563546849777,
          -0.39039835223133834,
          -0.8284730578893609,
          -0.3936660846606071,
          0.6232568363690445,
          -0.6333224212073132,
          1.0650741192534734,
          -2.1686623348824674,
          -1.228154969602673,
          -0.9977266640263869,
          0.9726160769808196,
          0.2930229304519651,
          -0.4821496574965753,
          -0.5846169212147282,
          -0.9316895418709534,
          -1.2179313081717043,
          -2.074013254064868,
          0.09682363701248563,
          -0.38151715167604977,
          0.49188500666415497,
          -0.725306836736184,
          -0.8246979833109914,
          -1.3562429729164502,
          0.2673330090054745,
          1.2924557312605747,
          0.24010807839265333,
          -0.1525097779159531,
          0.013773240989478044,
          0.801672870583813,
          2.6129068949654126,
          -0.004835514247692923,
          0.00038433475050008765,
          0.3768613102888822,
          1.5852792940187583,
          -1.2303409245158452,
          0.10101802359198322,
          0.8844781483544862,
          -0.8811133498746999,
          0.373372580639977,
          -0.40411158698473626,
          1.3672213632922996,
          0.30692054933826124,
          0.2980331198680305,
          -1.6977885063533618,
          0.9342253811855618,
          0.6893014976844566,
          -0.7823612487342642,
          -0.9297453414885516,
          0.8523734371748879,
          -0.23312884194180006,
          0.4116455392105631,
          -0.2530425260066888
         ],
         "xaxis": "x15",
         "y": [
          0.7975416162339963,
          -0.21940657560340165,
          -0.6495223186326463,
          -1.1045817227401677,
          -0.7193189821090035,
          -0.8349004696712116,
          -1.1270940359263222,
          0.045792655428507856,
          -0.916793147440208,
          0.9213674139500968,
          -0.5886707980598632,
          -0.09356438719274726,
          1.1920978378959821,
          -0.8317211629636166,
          -0.38109088723742296,
          0.5766422340104451,
          0.43763503347873917,
          -0.41169971859837184,
          -0.46590127089055766,
          0.20217738254294637,
          -1.669518712654215,
          -0.5111871906175561,
          -0.6298861572186296,
          0.8089227351774407,
          -0.017502244639379758,
          0.5470549245950116,
          1.205281769483588,
          1.037057423581387,
          0.09557849773090253,
          0.57333584353472,
          -0.6736607481399736,
          0.02354881168542178,
          0.16149816470751635,
          -0.18720501878333623,
          -1.0368909880884163,
          0.06346118185626269,
          1.8593973699740949,
          1.4227284353103165,
          -0.03745067461314494,
          0.7018509417552491,
          0.37484070339401815,
          0.4490068546525637,
          0.05210196611094483,
          -0.1701316667373229,
          0.9975858765520681,
          0.5679231522183869,
          0.7333534143683618,
          -0.4881841277696792,
          -0.7735029325895608,
          0.01891691584424374,
          -1.2359148304241079,
          -0.8896197467687542,
          -0.10908281293793401,
          1.688463700552174,
          -0.23667063256752122,
          -0.0006127191057447444,
          -1.3901015766075688,
          -0.07471253156201306,
          -0.17391167365707075,
          0.18494588958463734,
          -0.8072660199829106,
          0.5042274950958247,
          1.430319628227963,
          -1.0432237869179202,
          0.6069703153867475,
          -0.9659360808606309,
          1.6956317931889817,
          0.1934229329498793,
          -0.3234302239208796,
          -0.5653941531404442,
          1.4294978718028493,
          -0.4667825162224206,
          0.8159024534431725,
          -0.27577624975932374,
          0.05785711289876522,
          1.4902936128030226,
          0.9452236842836307,
          1.34821155748868,
          -0.9335093588384209,
          0.7629837548409932,
          -0.9040802654809437,
          -0.8912568923745329,
          -0.7504395625157962,
          0.5435144524350202,
          1.47191507660395,
          -1.9599202433457479,
          -0.09907887392997437,
          1.4770671005625244,
          0.40572998591662657,
          0.09857348353580996,
          0.23264132362483203,
          0.9966223626862929,
          -0.23378918797685888,
          -0.8122495069200328,
          0.7783050772190407,
          -0.9721164857966254,
          0.4139167840603344,
          0.6505919351452365,
          -1.4765433004431558,
          -0.2272361110201322
         ],
         "yaxis": "y15"
        },
        {
         "histfunc": "count",
         "histnorm": "",
         "marker": {
          "color": "rgba(128, 0, 128, 1.0)",
          "line": {
           "color": "#4D5663",
           "width": 1.3
          }
         },
         "name": "D",
         "nbinsx": 10,
         "opacity": 0.8,
         "orientation": "v",
         "type": "histogram",
         "x": [
          0.7975416162339963,
          -0.21940657560340165,
          -0.6495223186326463,
          -1.1045817227401677,
          -0.7193189821090035,
          -0.8349004696712116,
          -1.1270940359263222,
          0.045792655428507856,
          -0.916793147440208,
          0.9213674139500968,
          -0.5886707980598632,
          -0.09356438719274726,
          1.1920978378959821,
          -0.8317211629636166,
          -0.38109088723742296,
          0.5766422340104451,
          0.43763503347873917,
          -0.41169971859837184,
          -0.46590127089055766,
          0.20217738254294637,
          -1.669518712654215,
          -0.5111871906175561,
          -0.6298861572186296,
          0.8089227351774407,
          -0.017502244639379758,
          0.5470549245950116,
          1.205281769483588,
          1.037057423581387,
          0.09557849773090253,
          0.57333584353472,
          -0.6736607481399736,
          0.02354881168542178,
          0.16149816470751635,
          -0.18720501878333623,
          -1.0368909880884163,
          0.06346118185626269,
          1.8593973699740949,
          1.4227284353103165,
          -0.03745067461314494,
          0.7018509417552491,
          0.37484070339401815,
          0.4490068546525637,
          0.05210196611094483,
          -0.1701316667373229,
          0.9975858765520681,
          0.5679231522183869,
          0.7333534143683618,
          -0.4881841277696792,
          -0.7735029325895608,
          0.01891691584424374,
          -1.2359148304241079,
          -0.8896197467687542,
          -0.10908281293793401,
          1.688463700552174,
          -0.23667063256752122,
          -0.0006127191057447444,
          -1.3901015766075688,
          -0.07471253156201306,
          -0.17391167365707075,
          0.18494588958463734,
          -0.8072660199829106,
          0.5042274950958247,
          1.430319628227963,
          -1.0432237869179202,
          0.6069703153867475,
          -0.9659360808606309,
          1.6956317931889817,
          0.1934229329498793,
          -0.3234302239208796,
          -0.5653941531404442,
          1.4294978718028493,
          -0.4667825162224206,
          0.8159024534431725,
          -0.27577624975932374,
          0.05785711289876522,
          1.4902936128030226,
          0.9452236842836307,
          1.34821155748868,
          -0.9335093588384209,
          0.7629837548409932,
          -0.9040802654809437,
          -0.8912568923745329,
          -0.7504395625157962,
          0.5435144524350202,
          1.47191507660395,
          -1.9599202433457479,
          -0.09907887392997437,
          1.4770671005625244,
          0.40572998591662657,
          0.09857348353580996,
          0.23264132362483203,
          0.9966223626862929,
          -0.23378918797685888,
          -0.8122495069200328,
          0.7783050772190407,
          -0.9721164857966254,
          0.4139167840603344,
          0.6505919351452365,
          -1.4765433004431558,
          -0.2272361110201322
         ],
         "xaxis": "x16",
         "yaxis": "y16"
        }
       ],
       "layout": {
        "bargap": 0.02,
        "legend": {
         "bgcolor": "#F5F6F9",
         "font": {
          "color": "#4D5663"
         }
        },
        "paper_bgcolor": "#F5F6F9",
        "plot_bgcolor": "#F5F6F9",
        "showlegend": false,
        "template": {
         "data": {
          "bar": [
           {
            "error_x": {
             "color": "#2a3f5f"
            },
            "error_y": {
             "color": "#2a3f5f"
            },
            "marker": {
             "line": {
              "color": "#E5ECF6",
              "width": 0.5
             }
            },
            "type": "bar"
           }
          ],
          "barpolar": [
           {
            "marker": {
             "line": {
              "color": "#E5ECF6",
              "width": 0.5
             }
            },
            "type": "barpolar"
           }
          ],
          "carpet": [
           {
            "aaxis": {
             "endlinecolor": "#2a3f5f",
             "gridcolor": "white",
             "linecolor": "white",
             "minorgridcolor": "white",
             "startlinecolor": "#2a3f5f"
            },
            "baxis": {
             "endlinecolor": "#2a3f5f",
             "gridcolor": "white",
             "linecolor": "white",
             "minorgridcolor": "white",
             "startlinecolor": "#2a3f5f"
            },
            "type": "carpet"
           }
          ],
          "choropleth": [
           {
            "colorbar": {
             "outlinewidth": 0,
             "ticks": ""
            },
            "type": "choropleth"
           }
          ],
          "contour": [
           {
            "colorbar": {
             "outlinewidth": 0,
             "ticks": ""
            },
            "colorscale": [
             [
              0,
              "#0d0887"
             ],
             [
              0.1111111111111111,
              "#46039f"
             ],
             [
              0.2222222222222222,
              "#7201a8"
             ],
             [
              0.3333333333333333,
              "#9c179e"
             ],
             [
              0.4444444444444444,
              "#bd3786"
             ],
             [
              0.5555555555555556,
              "#d8576b"
             ],
             [
              0.6666666666666666,
              "#ed7953"
             ],
             [
              0.7777777777777778,
              "#fb9f3a"
             ],
             [
              0.8888888888888888,
              "#fdca26"
             ],
             [
              1,
              "#f0f921"
             ]
            ],
            "type": "contour"
           }
          ],
          "contourcarpet": [
           {
            "colorbar": {
             "outlinewidth": 0,
             "ticks": ""
            },
            "type": "contourcarpet"
           }
          ],
          "heatmap": [
           {
            "colorbar": {
             "outlinewidth": 0,
             "ticks": ""
            },
            "colorscale": [
             [
              0,
              "#0d0887"
             ],
             [
              0.1111111111111111,
              "#46039f"
             ],
             [
              0.2222222222222222,
              "#7201a8"
             ],
             [
              0.3333333333333333,
              "#9c179e"
             ],
             [
              0.4444444444444444,
              "#bd3786"
             ],
             [
              0.5555555555555556,
              "#d8576b"
             ],
             [
              0.6666666666666666,
              "#ed7953"
             ],
             [
              0.7777777777777778,
              "#fb9f3a"
             ],
             [
              0.8888888888888888,
              "#fdca26"
             ],
             [
              1,
              "#f0f921"
             ]
            ],
            "type": "heatmap"
           }
          ],
          "heatmapgl": [
           {
            "colorbar": {
             "outlinewidth": 0,
             "ticks": ""
            },
            "colorscale": [
             [
              0,
              "#0d0887"
             ],
             [
              0.1111111111111111,
              "#46039f"
             ],
             [
              0.2222222222222222,
              "#7201a8"
             ],
             [
              0.3333333333333333,
              "#9c179e"
             ],
             [
              0.4444444444444444,
              "#bd3786"
             ],
             [
              0.5555555555555556,
              "#d8576b"
             ],
             [
              0.6666666666666666,
              "#ed7953"
             ],
             [
              0.7777777777777778,
              "#fb9f3a"
             ],
             [
              0.8888888888888888,
              "#fdca26"
             ],
             [
              1,
              "#f0f921"
             ]
            ],
            "type": "heatmapgl"
           }
          ],
          "histogram": [
           {
            "marker": {
             "colorbar": {
              "outlinewidth": 0,
              "ticks": ""
             }
            },
            "type": "histogram"
           }
          ],
          "histogram2d": [
           {
            "colorbar": {
             "outlinewidth": 0,
             "ticks": ""
            },
            "colorscale": [
             [
              0,
              "#0d0887"
             ],
             [
              0.1111111111111111,
              "#46039f"
             ],
             [
              0.2222222222222222,
              "#7201a8"
             ],
             [
              0.3333333333333333,
              "#9c179e"
             ],
             [
              0.4444444444444444,
              "#bd3786"
             ],
             [
              0.5555555555555556,
              "#d8576b"
             ],
             [
              0.6666666666666666,
              "#ed7953"
             ],
             [
              0.7777777777777778,
              "#fb9f3a"
             ],
             [
              0.8888888888888888,
              "#fdca26"
             ],
             [
              1,
              "#f0f921"
             ]
            ],
            "type": "histogram2d"
           }
          ],
          "histogram2dcontour": [
           {
            "colorbar": {
             "outlinewidth": 0,
             "ticks": ""
            },
            "colorscale": [
             [
              0,
              "#0d0887"
             ],
             [
              0.1111111111111111,
              "#46039f"
             ],
             [
              0.2222222222222222,
              "#7201a8"
             ],
             [
              0.3333333333333333,
              "#9c179e"
             ],
             [
              0.4444444444444444,
              "#bd3786"
             ],
             [
              0.5555555555555556,
              "#d8576b"
             ],
             [
              0.6666666666666666,
              "#ed7953"
             ],
             [
              0.7777777777777778,
              "#fb9f3a"
             ],
             [
              0.8888888888888888,
              "#fdca26"
             ],
             [
              1,
              "#f0f921"
             ]
            ],
            "type": "histogram2dcontour"
           }
          ],
          "mesh3d": [
           {
            "colorbar": {
             "outlinewidth": 0,
             "ticks": ""
            },
            "type": "mesh3d"
           }
          ],
          "parcoords": [
           {
            "line": {
             "colorbar": {
              "outlinewidth": 0,
              "ticks": ""
             }
            },
            "type": "parcoords"
           }
          ],
          "pie": [
           {
            "automargin": true,
            "type": "pie"
           }
          ],
          "scatter": [
           {
            "marker": {
             "colorbar": {
              "outlinewidth": 0,
              "ticks": ""
             }
            },
            "type": "scatter"
           }
          ],
          "scatter3d": [
           {
            "line": {
             "colorbar": {
              "outlinewidth": 0,
              "ticks": ""
             }
            },
            "marker": {
             "colorbar": {
              "outlinewidth": 0,
              "ticks": ""
             }
            },
            "type": "scatter3d"
           }
          ],
          "scattercarpet": [
           {
            "marker": {
             "colorbar": {
              "outlinewidth": 0,
              "ticks": ""
             }
            },
            "type": "scattercarpet"
           }
          ],
          "scattergeo": [
           {
            "marker": {
             "colorbar": {
              "outlinewidth": 0,
              "ticks": ""
             }
            },
            "type": "scattergeo"
           }
          ],
          "scattergl": [
           {
            "marker": {
             "colorbar": {
              "outlinewidth": 0,
              "ticks": ""
             }
            },
            "type": "scattergl"
           }
          ],
          "scattermapbox": [
           {
            "marker": {
             "colorbar": {
              "outlinewidth": 0,
              "ticks": ""
             }
            },
            "type": "scattermapbox"
           }
          ],
          "scatterpolar": [
           {
            "marker": {
             "colorbar": {
              "outlinewidth": 0,
              "ticks": ""
             }
            },
            "type": "scatterpolar"
           }
          ],
          "scatterpolargl": [
           {
            "marker": {
             "colorbar": {
              "outlinewidth": 0,
              "ticks": ""
             }
            },
            "type": "scatterpolargl"
           }
          ],
          "scatterternary": [
           {
            "marker": {
             "colorbar": {
              "outlinewidth": 0,
              "ticks": ""
             }
            },
            "type": "scatterternary"
           }
          ],
          "surface": [
           {
            "colorbar": {
             "outlinewidth": 0,
             "ticks": ""
            },
            "colorscale": [
             [
              0,
              "#0d0887"
             ],
             [
              0.1111111111111111,
              "#46039f"
             ],
             [
              0.2222222222222222,
              "#7201a8"
             ],
             [
              0.3333333333333333,
              "#9c179e"
             ],
             [
              0.4444444444444444,
              "#bd3786"
             ],
             [
              0.5555555555555556,
              "#d8576b"
             ],
             [
              0.6666666666666666,
              "#ed7953"
             ],
             [
              0.7777777777777778,
              "#fb9f3a"
             ],
             [
              0.8888888888888888,
              "#fdca26"
             ],
             [
              1,
              "#f0f921"
             ]
            ],
            "type": "surface"
           }
          ],
          "table": [
           {
            "cells": {
             "fill": {
              "color": "#EBF0F8"
             },
             "line": {
              "color": "white"
             }
            },
            "header": {
             "fill": {
              "color": "#C8D4E3"
             },
             "line": {
              "color": "white"
             }
            },
            "type": "table"
           }
          ]
         },
         "layout": {
          "annotationdefaults": {
           "arrowcolor": "#2a3f5f",
           "arrowhead": 0,
           "arrowwidth": 1
          },
          "coloraxis": {
           "colorbar": {
            "outlinewidth": 0,
            "ticks": ""
           }
          },
          "colorscale": {
           "diverging": [
            [
             0,
             "#8e0152"
            ],
            [
             0.1,
             "#c51b7d"
            ],
            [
             0.2,
             "#de77ae"
            ],
            [
             0.3,
             "#f1b6da"
            ],
            [
             0.4,
             "#fde0ef"
            ],
            [
             0.5,
             "#f7f7f7"
            ],
            [
             0.6,
             "#e6f5d0"
            ],
            [
             0.7,
             "#b8e186"
            ],
            [
             0.8,
             "#7fbc41"
            ],
            [
             0.9,
             "#4d9221"
            ],
            [
             1,
             "#276419"
            ]
           ],
           "sequential": [
            [
             0,
             "#0d0887"
            ],
            [
             0.1111111111111111,
             "#46039f"
            ],
            [
             0.2222222222222222,
             "#7201a8"
            ],
            [
             0.3333333333333333,
             "#9c179e"
            ],
            [
             0.4444444444444444,
             "#bd3786"
            ],
            [
             0.5555555555555556,
             "#d8576b"
            ],
            [
             0.6666666666666666,
             "#ed7953"
            ],
            [
             0.7777777777777778,
             "#fb9f3a"
            ],
            [
             0.8888888888888888,
             "#fdca26"
            ],
            [
             1,
             "#f0f921"
            ]
           ],
           "sequentialminus": [
            [
             0,
             "#0d0887"
            ],
            [
             0.1111111111111111,
             "#46039f"
            ],
            [
             0.2222222222222222,
             "#7201a8"
            ],
            [
             0.3333333333333333,
             "#9c179e"
            ],
            [
             0.4444444444444444,
             "#bd3786"
            ],
            [
             0.5555555555555556,
             "#d8576b"
            ],
            [
             0.6666666666666666,
             "#ed7953"
            ],
            [
             0.7777777777777778,
             "#fb9f3a"
            ],
            [
             0.8888888888888888,
             "#fdca26"
            ],
            [
             1,
             "#f0f921"
            ]
           ]
          },
          "colorway": [
           "#636efa",
           "#EF553B",
           "#00cc96",
           "#ab63fa",
           "#FFA15A",
           "#19d3f3",
           "#FF6692",
           "#B6E880",
           "#FF97FF",
           "#FECB52"
          ],
          "font": {
           "color": "#2a3f5f"
          },
          "geo": {
           "bgcolor": "white",
           "lakecolor": "white",
           "landcolor": "#E5ECF6",
           "showlakes": true,
           "showland": true,
           "subunitcolor": "white"
          },
          "hoverlabel": {
           "align": "left"
          },
          "hovermode": "closest",
          "mapbox": {
           "style": "light"
          },
          "paper_bgcolor": "white",
          "plot_bgcolor": "#E5ECF6",
          "polar": {
           "angularaxis": {
            "gridcolor": "white",
            "linecolor": "white",
            "ticks": ""
           },
           "bgcolor": "#E5ECF6",
           "radialaxis": {
            "gridcolor": "white",
            "linecolor": "white",
            "ticks": ""
           }
          },
          "scene": {
           "xaxis": {
            "backgroundcolor": "#E5ECF6",
            "gridcolor": "white",
            "gridwidth": 2,
            "linecolor": "white",
            "showbackground": true,
            "ticks": "",
            "zerolinecolor": "white"
           },
           "yaxis": {
            "backgroundcolor": "#E5ECF6",
            "gridcolor": "white",
            "gridwidth": 2,
            "linecolor": "white",
            "showbackground": true,
            "ticks": "",
            "zerolinecolor": "white"
           },
           "zaxis": {
            "backgroundcolor": "#E5ECF6",
            "gridcolor": "white",
            "gridwidth": 2,
            "linecolor": "white",
            "showbackground": true,
            "ticks": "",
            "zerolinecolor": "white"
           }
          },
          "shapedefaults": {
           "line": {
            "color": "#2a3f5f"
           }
          },
          "ternary": {
           "aaxis": {
            "gridcolor": "white",
            "linecolor": "white",
            "ticks": ""
           },
           "baxis": {
            "gridcolor": "white",
            "linecolor": "white",
            "ticks": ""
           },
           "bgcolor": "#E5ECF6",
           "caxis": {
            "gridcolor": "white",
            "linecolor": "white",
            "ticks": ""
           }
          },
          "title": {
           "x": 0.05
          },
          "xaxis": {
           "automargin": true,
           "gridcolor": "white",
           "linecolor": "white",
           "ticks": "",
           "title": {
            "standoff": 15
           },
           "zerolinecolor": "white",
           "zerolinewidth": 2
          },
          "yaxis": {
           "automargin": true,
           "gridcolor": "white",
           "linecolor": "white",
           "ticks": "",
           "title": {
            "standoff": 15
           },
           "zerolinecolor": "white",
           "zerolinewidth": 2
          }
         }
        },
        "title": {
         "font": {
          "color": "#4D5663"
         }
        },
        "xaxis": {
         "anchor": "y",
         "domain": [
          0,
          0.2125
         ],
         "gridcolor": "#E1E5ED",
         "showgrid": false,
         "tickfont": {
          "color": "#4D5663"
         },
         "title": {
          "font": {
           "color": "#4D5663"
          },
          "text": ""
         },
         "zerolinecolor": "#E1E5ED"
        },
        "xaxis10": {
         "anchor": "y10",
         "domain": [
          0.2625,
          0.475
         ],
         "gridcolor": "#E1E5ED",
         "showgrid": false,
         "tickfont": {
          "color": "#4D5663"
         },
         "title": {
          "font": {
           "color": "#4D5663"
          },
          "text": ""
         },
         "zerolinecolor": "#E1E5ED"
        },
        "xaxis11": {
         "anchor": "y11",
         "domain": [
          0.525,
          0.7375
         ],
         "gridcolor": "#E1E5ED",
         "showgrid": false,
         "tickfont": {
          "color": "#4D5663"
         },
         "title": {
          "font": {
           "color": "#4D5663"
          },
          "text": ""
         },
         "zerolinecolor": "#E1E5ED"
        },
        "xaxis12": {
         "anchor": "y12",
         "domain": [
          0.7875,
          1
         ],
         "gridcolor": "#E1E5ED",
         "showgrid": false,
         "tickfont": {
          "color": "#4D5663"
         },
         "title": {
          "font": {
           "color": "#4D5663"
          },
          "text": ""
         },
         "zerolinecolor": "#E1E5ED"
        },
        "xaxis13": {
         "anchor": "y13",
         "domain": [
          0,
          0.2125
         ],
         "gridcolor": "#E1E5ED",
         "showgrid": false,
         "tickfont": {
          "color": "#4D5663"
         },
         "title": {
          "font": {
           "color": "#4D5663"
          },
          "text": ""
         },
         "zerolinecolor": "#E1E5ED"
        },
        "xaxis14": {
         "anchor": "y14",
         "domain": [
          0.2625,
          0.475
         ],
         "gridcolor": "#E1E5ED",
         "showgrid": false,
         "tickfont": {
          "color": "#4D5663"
         },
         "title": {
          "font": {
           "color": "#4D5663"
          },
          "text": ""
         },
         "zerolinecolor": "#E1E5ED"
        },
        "xaxis15": {
         "anchor": "y15",
         "domain": [
          0.525,
          0.7375
         ],
         "gridcolor": "#E1E5ED",
         "showgrid": false,
         "tickfont": {
          "color": "#4D5663"
         },
         "title": {
          "font": {
           "color": "#4D5663"
          },
          "text": ""
         },
         "zerolinecolor": "#E1E5ED"
        },
        "xaxis16": {
         "anchor": "y16",
         "domain": [
          0.7875,
          1
         ],
         "gridcolor": "#E1E5ED",
         "showgrid": false,
         "tickfont": {
          "color": "#4D5663"
         },
         "title": {
          "font": {
           "color": "#4D5663"
          },
          "text": ""
         },
         "zerolinecolor": "#E1E5ED"
        },
        "xaxis2": {
         "anchor": "y2",
         "domain": [
          0.2625,
          0.475
         ],
         "gridcolor": "#E1E5ED",
         "showgrid": false,
         "tickfont": {
          "color": "#4D5663"
         },
         "title": {
          "font": {
           "color": "#4D5663"
          },
          "text": ""
         },
         "zerolinecolor": "#E1E5ED"
        },
        "xaxis3": {
         "anchor": "y3",
         "domain": [
          0.525,
          0.7375
         ],
         "gridcolor": "#E1E5ED",
         "showgrid": false,
         "tickfont": {
          "color": "#4D5663"
         },
         "title": {
          "font": {
           "color": "#4D5663"
          },
          "text": ""
         },
         "zerolinecolor": "#E1E5ED"
        },
        "xaxis4": {
         "anchor": "y4",
         "domain": [
          0.7875,
          1
         ],
         "gridcolor": "#E1E5ED",
         "showgrid": false,
         "tickfont": {
          "color": "#4D5663"
         },
         "title": {
          "font": {
           "color": "#4D5663"
          },
          "text": ""
         },
         "zerolinecolor": "#E1E5ED"
        },
        "xaxis5": {
         "anchor": "y5",
         "domain": [
          0,
          0.2125
         ],
         "gridcolor": "#E1E5ED",
         "showgrid": false,
         "tickfont": {
          "color": "#4D5663"
         },
         "title": {
          "font": {
           "color": "#4D5663"
          },
          "text": ""
         },
         "zerolinecolor": "#E1E5ED"
        },
        "xaxis6": {
         "anchor": "y6",
         "domain": [
          0.2625,
          0.475
         ],
         "gridcolor": "#E1E5ED",
         "showgrid": false,
         "tickfont": {
          "color": "#4D5663"
         },
         "title": {
          "font": {
           "color": "#4D5663"
          },
          "text": ""
         },
         "zerolinecolor": "#E1E5ED"
        },
        "xaxis7": {
         "anchor": "y7",
         "domain": [
          0.525,
          0.7375
         ],
         "gridcolor": "#E1E5ED",
         "showgrid": false,
         "tickfont": {
          "color": "#4D5663"
         },
         "title": {
          "font": {
           "color": "#4D5663"
          },
          "text": ""
         },
         "zerolinecolor": "#E1E5ED"
        },
        "xaxis8": {
         "anchor": "y8",
         "domain": [
          0.7875,
          1
         ],
         "gridcolor": "#E1E5ED",
         "showgrid": false,
         "tickfont": {
          "color": "#4D5663"
         },
         "title": {
          "font": {
           "color": "#4D5663"
          },
          "text": ""
         },
         "zerolinecolor": "#E1E5ED"
        },
        "xaxis9": {
         "anchor": "y9",
         "domain": [
          0,
          0.2125
         ],
         "gridcolor": "#E1E5ED",
         "showgrid": false,
         "tickfont": {
          "color": "#4D5663"
         },
         "title": {
          "font": {
           "color": "#4D5663"
          },
          "text": ""
         },
         "zerolinecolor": "#E1E5ED"
        },
        "yaxis": {
         "anchor": "x",
         "domain": [
          0.8025,
          1
         ],
         "gridcolor": "#E1E5ED",
         "showgrid": false,
         "tickfont": {
          "color": "#4D5663"
         },
         "title": {
          "font": {
           "color": "#4D5663"
          },
          "text": ""
         },
         "zerolinecolor": "#E1E5ED"
        },
        "yaxis10": {
         "anchor": "x10",
         "domain": [
          0.2675,
          0.465
         ],
         "gridcolor": "#E1E5ED",
         "showgrid": false,
         "tickfont": {
          "color": "#4D5663"
         },
         "title": {
          "font": {
           "color": "#4D5663"
          },
          "text": ""
         },
         "zerolinecolor": "#E1E5ED"
        },
        "yaxis11": {
         "anchor": "x11",
         "domain": [
          0.2675,
          0.465
         ],
         "gridcolor": "#E1E5ED",
         "showgrid": false,
         "tickfont": {
          "color": "#4D5663"
         },
         "title": {
          "font": {
           "color": "#4D5663"
          },
          "text": ""
         },
         "zerolinecolor": "#E1E5ED"
        },
        "yaxis12": {
         "anchor": "x12",
         "domain": [
          0.2675,
          0.465
         ],
         "gridcolor": "#E1E5ED",
         "showgrid": false,
         "tickfont": {
          "color": "#4D5663"
         },
         "title": {
          "font": {
           "color": "#4D5663"
          },
          "text": ""
         },
         "zerolinecolor": "#E1E5ED"
        },
        "yaxis13": {
         "anchor": "x13",
         "domain": [
          0,
          0.1975
         ],
         "gridcolor": "#E1E5ED",
         "showgrid": false,
         "tickfont": {
          "color": "#4D5663"
         },
         "title": {
          "font": {
           "color": "#4D5663"
          },
          "text": ""
         },
         "zerolinecolor": "#E1E5ED"
        },
        "yaxis14": {
         "anchor": "x14",
         "domain": [
          0,
          0.1975
         ],
         "gridcolor": "#E1E5ED",
         "showgrid": false,
         "tickfont": {
          "color": "#4D5663"
         },
         "title": {
          "font": {
           "color": "#4D5663"
          },
          "text": ""
         },
         "zerolinecolor": "#E1E5ED"
        },
        "yaxis15": {
         "anchor": "x15",
         "domain": [
          0,
          0.1975
         ],
         "gridcolor": "#E1E5ED",
         "showgrid": false,
         "tickfont": {
          "color": "#4D5663"
         },
         "title": {
          "font": {
           "color": "#4D5663"
          },
          "text": ""
         },
         "zerolinecolor": "#E1E5ED"
        },
        "yaxis16": {
         "anchor": "x16",
         "domain": [
          0,
          0.1975
         ],
         "gridcolor": "#E1E5ED",
         "showgrid": false,
         "tickfont": {
          "color": "#4D5663"
         },
         "title": {
          "font": {
           "color": "#4D5663"
          },
          "text": ""
         },
         "zerolinecolor": "#E1E5ED"
        },
        "yaxis2": {
         "anchor": "x2",
         "domain": [
          0.8025,
          1
         ],
         "gridcolor": "#E1E5ED",
         "showgrid": false,
         "tickfont": {
          "color": "#4D5663"
         },
         "title": {
          "font": {
           "color": "#4D5663"
          },
          "text": ""
         },
         "zerolinecolor": "#E1E5ED"
        },
        "yaxis3": {
         "anchor": "x3",
         "domain": [
          0.8025,
          1
         ],
         "gridcolor": "#E1E5ED",
         "showgrid": false,
         "tickfont": {
          "color": "#4D5663"
         },
         "title": {
          "font": {
           "color": "#4D5663"
          },
          "text": ""
         },
         "zerolinecolor": "#E1E5ED"
        },
        "yaxis4": {
         "anchor": "x4",
         "domain": [
          0.8025,
          1
         ],
         "gridcolor": "#E1E5ED",
         "showgrid": false,
         "tickfont": {
          "color": "#4D5663"
         },
         "title": {
          "font": {
           "color": "#4D5663"
          },
          "text": ""
         },
         "zerolinecolor": "#E1E5ED"
        },
        "yaxis5": {
         "anchor": "x5",
         "domain": [
          0.535,
          0.7325
         ],
         "gridcolor": "#E1E5ED",
         "showgrid": false,
         "tickfont": {
          "color": "#4D5663"
         },
         "title": {
          "font": {
           "color": "#4D5663"
          },
          "text": ""
         },
         "zerolinecolor": "#E1E5ED"
        },
        "yaxis6": {
         "anchor": "x6",
         "domain": [
          0.535,
          0.7325
         ],
         "gridcolor": "#E1E5ED",
         "showgrid": false,
         "tickfont": {
          "color": "#4D5663"
         },
         "title": {
          "font": {
           "color": "#4D5663"
          },
          "text": ""
         },
         "zerolinecolor": "#E1E5ED"
        },
        "yaxis7": {
         "anchor": "x7",
         "domain": [
          0.535,
          0.7325
         ],
         "gridcolor": "#E1E5ED",
         "showgrid": false,
         "tickfont": {
          "color": "#4D5663"
         },
         "title": {
          "font": {
           "color": "#4D5663"
          },
          "text": ""
         },
         "zerolinecolor": "#E1E5ED"
        },
        "yaxis8": {
         "anchor": "x8",
         "domain": [
          0.535,
          0.7325
         ],
         "gridcolor": "#E1E5ED",
         "showgrid": false,
         "tickfont": {
          "color": "#4D5663"
         },
         "title": {
          "font": {
           "color": "#4D5663"
          },
          "text": ""
         },
         "zerolinecolor": "#E1E5ED"
        },
        "yaxis9": {
         "anchor": "x9",
         "domain": [
          0.2675,
          0.465
         ],
         "gridcolor": "#E1E5ED",
         "showgrid": false,
         "tickfont": {
          "color": "#4D5663"
         },
         "title": {
          "font": {
           "color": "#4D5663"
          },
          "text": ""
         },
         "zerolinecolor": "#E1E5ED"
        }
       }
      },
      "text/html": [
       "<div>\n",
       "        \n",
       "        \n",
       "            <div id=\"06ebdcf0-95a5-47ee-bd2a-e20c7c51da4b\" class=\"plotly-graph-div\" style=\"height:525px; width:100%;\"></div>\n",
       "            <script type=\"text/javascript\">\n",
       "                require([\"plotly\"], function(Plotly) {\n",
       "                    window.PLOTLYENV=window.PLOTLYENV || {};\n",
       "                    window.PLOTLYENV.BASE_URL='https://plot.ly';\n",
       "                    \n",
       "                if (document.getElementById(\"06ebdcf0-95a5-47ee-bd2a-e20c7c51da4b\")) {\n",
       "                    Plotly.newPlot(\n",
       "                        '06ebdcf0-95a5-47ee-bd2a-e20c7c51da4b',\n",
       "                        [{\"histfunc\": \"count\", \"histnorm\": \"\", \"marker\": {\"color\": \"rgba(255, 153, 51, 1.0)\", \"line\": {\"color\": \"#4D5663\", \"width\": 1.3}}, \"name\": \"A\", \"nbinsx\": 10, \"opacity\": 0.8, \"orientation\": \"v\", \"type\": \"histogram\", \"x\": [1.3306309417176265, -1.0385908792182337, 0.1874988544332731, -1.280273142495005, 1.049058077764222, 1.0611683123235378, 1.9071191693896197, 2.7352170168230985, -0.6397746814172409, 0.8463438925366744, 0.6654798489053015, 0.5898888031987908, -0.24578070323181664, 0.8969285206540074, -0.5662410084123332, 1.0938500603836203, -0.12239543313528743, 0.22232875620726475, -2.100252650446614, 0.07236905792648542, 1.4025076400931227, -0.5884562982794522, -0.9889691929554822, 1.254073734692926, -0.46372972298110055, -0.48538707079930976, 1.3291500350558658, -0.5959406223584038, 0.8264347369014085, 0.03382006102493553, -1.7403756156373102, -0.10120422308479786, -2.0763793530629675, 0.32975298291286204, -0.2513970373300905, 1.0686811177498006, -1.287088310176192, 1.7189073509803223, -2.1812920330972028, -1.653046828768346, -0.6299599276446443, -0.6603974395461192, 1.9616869789233804, 0.8559600837851427, 0.6831248737350233, -0.28491484930330135, 2.273199289527967, -0.6001597532078587, -1.0362480369487086, 1.277052361551702, 0.716203215161114, -0.07102696522231514, -2.033535045783543, -0.7538182027296547, 0.0013298173934843229, 2.012898833923275, 1.2880410548949353, 0.4014209245850137, -0.7741539809820434, 0.7252590743472118, -0.8483347797463456, -0.49958477134736623, 0.14473176345929775, -0.8034821874756903, -1.351101132144767, 0.6170023030683952, -1.891397712945495, -0.9383709684301289, -0.41277249311839675, -1.591460336585324, -0.8097421575333087, 2.2616634455467683, -0.11339795454097942, -0.14794045700105715, -0.2163222303007041, 0.47811209099295643, -1.0224603818250957, 1.7108857580680352, 1.1466963877389036, 0.4356283563208712, 0.01784311691288129, 0.11980539540514351, 0.3947055397125486, 0.7596655979349227, -0.21600082570836415, -0.023137565460243193, 0.017163582231720136, 0.21032173566674786, -0.389023597520661, -0.19793727668987773, -0.29492035190757415, -1.2411400701237552, 0.39606779670549547, -0.9150253620940234, -0.5257507006499514, 1.8243832582774786, -0.1125237963450426, -2.7739318359255813, -0.0898090875362181, 0.8328315823372676], \"xaxis\": \"x\", \"yaxis\": \"y\"}, {\"line\": {\"color\": \"rgba(128, 128, 128, 1.0)\", \"dash\": \"solid\", \"shape\": \"linear\", \"width\": 1.3}, \"marker\": {\"size\": 2, \"symbol\": \"circle\"}, \"mode\": \"markers\", \"name\": \"A\", \"text\": \"\", \"type\": \"scatter\", \"x\": [-0.8077541023962002, 0.7565634938517336, 1.1237573596606032, -0.39565919347789863, 0.0549785621201317, 1.366502617290853, -1.3230694814486699, 0.7387889439830942, -1.199480435930739, -2.282949284120805, -0.11425954367285318, 0.8220010850043288, -1.1018014057796768, 0.2503149600873541, 1.1736158070252711, 0.6947821804303227, 0.5283230210516395, 0.02697684131203542, 1.2281054446817783, 0.30732376074071527, -1.8252020255670138, 2.6418773394416872, 0.4006178825484417, 0.5288086239368401, 0.42863236503672264, 0.30564260765961393, 1.2778053713476605, 1.472255914104073, 0.05872832874232765, 0.7251880601234464, -0.2138418181358444, -2.0005260137365877, 1.534647810447825, 2.084477685137188, 2.7052715499038764, 0.6695822248372039, -0.06518920375824615, -1.9049080959097124, 1.2169413778613276, -2.03197874321166, 1.4546371527133481, 0.1989084957309017, -1.7818535501801909, 2.0004508452916028, 1.6296031993340103, 0.24500116269463681, 0.5640050900164671, 0.5904149850770735, 0.3823351716117955, 1.7376514275808248, -0.8979434180678454, 0.5914107965134787, 0.4234285284764335, -0.6922168342136781, -0.6970659041760846, -1.4925661057491024, 0.4165199828435986, -0.17973830756700138, -0.1899146526268394, 0.5206315273626101, -0.06918200176339967, -0.7240010125943824, 1.2793270686278744, 0.3365658155828963, -2.0232355137365383, -1.955386468277755, 1.0471304394836258, -0.3234898040130142, 0.7452124347332417, 0.9305259702811042, -0.7515431305554422, 1.9675896545741405, 0.28748431790382417, -0.19642992033258458, -0.49064884204819204, 0.18816479377724749, 0.07676733695429527, 0.49804273677106, 0.34102017267473134, 0.7200324639469576, 0.0606644111172542, -0.6137673524489353, 0.6592257674514602, -1.367796620444945, 1.3767073670816232, -0.6286369092359241, -2.659475702790765, 0.06032259735863327, 1.0736657620512429, -0.8494551963668133, 0.7416402492100004, 1.2144400487378093, 0.41762560003557575, -0.40527781652274925, -0.31652693291467393, 0.3028904622839831, -0.20221592711223793, 0.14151449129352375, -0.08920104667800999, 0.45969093794151544], \"xaxis\": \"x2\", \"y\": [1.3306309417176265, -1.0385908792182337, 0.1874988544332731, -1.280273142495005, 1.049058077764222, 1.0611683123235378, 1.9071191693896197, 2.7352170168230985, -0.6397746814172409, 0.8463438925366744, 0.6654798489053015, 0.5898888031987908, -0.24578070323181664, 0.8969285206540074, -0.5662410084123332, 1.0938500603836203, -0.12239543313528743, 0.22232875620726475, -2.100252650446614, 0.07236905792648542, 1.4025076400931227, -0.5884562982794522, -0.9889691929554822, 1.254073734692926, -0.46372972298110055, -0.48538707079930976, 1.3291500350558658, -0.5959406223584038, 0.8264347369014085, 0.03382006102493553, -1.7403756156373102, -0.10120422308479786, -2.0763793530629675, 0.32975298291286204, -0.2513970373300905, 1.0686811177498006, -1.287088310176192, 1.7189073509803223, -2.1812920330972028, -1.653046828768346, -0.6299599276446443, -0.6603974395461192, 1.9616869789233804, 0.8559600837851427, 0.6831248737350233, -0.28491484930330135, 2.273199289527967, -0.6001597532078587, -1.0362480369487086, 1.277052361551702, 0.716203215161114, -0.07102696522231514, -2.033535045783543, -0.7538182027296547, 0.0013298173934843229, 2.012898833923275, 1.2880410548949353, 0.4014209245850137, -0.7741539809820434, 0.7252590743472118, -0.8483347797463456, -0.49958477134736623, 0.14473176345929775, -0.8034821874756903, -1.351101132144767, 0.6170023030683952, -1.891397712945495, -0.9383709684301289, -0.41277249311839675, -1.591460336585324, -0.8097421575333087, 2.2616634455467683, -0.11339795454097942, -0.14794045700105715, -0.2163222303007041, 0.47811209099295643, -1.0224603818250957, 1.7108857580680352, 1.1466963877389036, 0.4356283563208712, 0.01784311691288129, 0.11980539540514351, 0.3947055397125486, 0.7596655979349227, -0.21600082570836415, -0.023137565460243193, 0.017163582231720136, 0.21032173566674786, -0.389023597520661, -0.19793727668987773, -0.29492035190757415, -1.2411400701237552, 0.39606779670549547, -0.9150253620940234, -0.5257507006499514, 1.8243832582774786, -0.1125237963450426, -2.7739318359255813, -0.0898090875362181, 0.8328315823372676], \"yaxis\": \"y2\"}, {\"line\": {\"color\": \"rgba(128, 128, 128, 1.0)\", \"dash\": \"solid\", \"shape\": \"linear\", \"width\": 1.3}, \"marker\": {\"size\": 2, \"symbol\": \"circle\"}, \"mode\": \"markers\", \"name\": \"A\", \"text\": \"\", \"type\": \"scatter\", \"x\": [0.3656651539700398, -2.024621508933484, -0.17595214258639766, 0.38752123388547627, -0.40098108684220674, 0.7047994399031737, 0.6111222021594415, 0.2984057022335293, -0.5054188984967285, 0.12024912953358627, 0.03658450937199128, -0.28327791808777447, -1.3967097446357228, 1.1161579807451723, -0.02769518065720461, 0.3824321539746692, 0.5477711577384979, 0.08142385667673246, 1.3064477629658349, -0.16079346035363284, 1.3087896864926647, 0.3062345125176454, 0.09288871560599347, 0.1293533941503134, 0.5788875746115371, 0.01434073846552713, -1.8944062485400481, 1.8888049406514158, -0.4776845884066758, 1.2764291854498908, -0.5042490922031749, -0.7801119239008675, 1.3421330442051493, 0.672714533915635, 0.9893919285907951, 0.8494961107716652, 0.5838121382918745, 1.250930509255457, 1.09968861421728, -0.04163656113428267, 0.05322861552611884, -0.6125501183133603, -1.2206193313774207, 0.144642554577054, -1.319235756758065, 0.19491832305045914, -0.775115685297024, 1.0167592539070043, 0.983563546849777, -0.39039835223133834, -0.8284730578893609, -0.3936660846606071, 0.6232568363690445, -0.6333224212073132, 1.0650741192534734, -2.1686623348824674, -1.228154969602673, -0.9977266640263869, 0.9726160769808196, 0.2930229304519651, -0.4821496574965753, -0.5846169212147282, -0.9316895418709534, -1.2179313081717043, -2.074013254064868, 0.09682363701248563, -0.38151715167604977, 0.49188500666415497, -0.725306836736184, -0.8246979833109914, -1.3562429729164502, 0.2673330090054745, 1.2924557312605747, 0.24010807839265333, -0.1525097779159531, 0.013773240989478044, 0.801672870583813, 2.6129068949654126, -0.004835514247692923, 0.00038433475050008765, 0.3768613102888822, 1.5852792940187583, -1.2303409245158452, 0.10101802359198322, 0.8844781483544862, -0.8811133498746999, 0.373372580639977, -0.40411158698473626, 1.3672213632922996, 0.30692054933826124, 0.2980331198680305, -1.6977885063533618, 0.9342253811855618, 0.6893014976844566, -0.7823612487342642, -0.9297453414885516, 0.8523734371748879, -0.23312884194180006, 0.4116455392105631, -0.2530425260066888], \"xaxis\": \"x3\", \"y\": [1.3306309417176265, -1.0385908792182337, 0.1874988544332731, -1.280273142495005, 1.049058077764222, 1.0611683123235378, 1.9071191693896197, 2.7352170168230985, -0.6397746814172409, 0.8463438925366744, 0.6654798489053015, 0.5898888031987908, -0.24578070323181664, 0.8969285206540074, -0.5662410084123332, 1.0938500603836203, -0.12239543313528743, 0.22232875620726475, -2.100252650446614, 0.07236905792648542, 1.4025076400931227, -0.5884562982794522, -0.9889691929554822, 1.254073734692926, -0.46372972298110055, -0.48538707079930976, 1.3291500350558658, -0.5959406223584038, 0.8264347369014085, 0.03382006102493553, -1.7403756156373102, -0.10120422308479786, -2.0763793530629675, 0.32975298291286204, -0.2513970373300905, 1.0686811177498006, -1.287088310176192, 1.7189073509803223, -2.1812920330972028, -1.653046828768346, -0.6299599276446443, -0.6603974395461192, 1.9616869789233804, 0.8559600837851427, 0.6831248737350233, -0.28491484930330135, 2.273199289527967, -0.6001597532078587, -1.0362480369487086, 1.277052361551702, 0.716203215161114, -0.07102696522231514, -2.033535045783543, -0.7538182027296547, 0.0013298173934843229, 2.012898833923275, 1.2880410548949353, 0.4014209245850137, -0.7741539809820434, 0.7252590743472118, -0.8483347797463456, -0.49958477134736623, 0.14473176345929775, -0.8034821874756903, -1.351101132144767, 0.6170023030683952, -1.891397712945495, -0.9383709684301289, -0.41277249311839675, -1.591460336585324, -0.8097421575333087, 2.2616634455467683, -0.11339795454097942, -0.14794045700105715, -0.2163222303007041, 0.47811209099295643, -1.0224603818250957, 1.7108857580680352, 1.1466963877389036, 0.4356283563208712, 0.01784311691288129, 0.11980539540514351, 0.3947055397125486, 0.7596655979349227, -0.21600082570836415, -0.023137565460243193, 0.017163582231720136, 0.21032173566674786, -0.389023597520661, -0.19793727668987773, -0.29492035190757415, -1.2411400701237552, 0.39606779670549547, -0.9150253620940234, -0.5257507006499514, 1.8243832582774786, -0.1125237963450426, -2.7739318359255813, -0.0898090875362181, 0.8328315823372676], \"yaxis\": \"y3\"}, {\"line\": {\"color\": \"rgba(128, 128, 128, 1.0)\", \"dash\": \"solid\", \"shape\": \"linear\", \"width\": 1.3}, \"marker\": {\"size\": 2, \"symbol\": \"circle\"}, \"mode\": \"markers\", \"name\": \"A\", \"text\": \"\", \"type\": \"scatter\", \"x\": [0.7975416162339963, -0.21940657560340165, -0.6495223186326463, -1.1045817227401677, -0.7193189821090035, -0.8349004696712116, -1.1270940359263222, 0.045792655428507856, -0.916793147440208, 0.9213674139500968, -0.5886707980598632, -0.09356438719274726, 1.1920978378959821, -0.8317211629636166, -0.38109088723742296, 0.5766422340104451, 0.43763503347873917, -0.41169971859837184, -0.46590127089055766, 0.20217738254294637, -1.669518712654215, -0.5111871906175561, -0.6298861572186296, 0.8089227351774407, -0.017502244639379758, 0.5470549245950116, 1.205281769483588, 1.037057423581387, 0.09557849773090253, 0.57333584353472, -0.6736607481399736, 0.02354881168542178, 0.16149816470751635, -0.18720501878333623, -1.0368909880884163, 0.06346118185626269, 1.8593973699740949, 1.4227284353103165, -0.03745067461314494, 0.7018509417552491, 0.37484070339401815, 0.4490068546525637, 0.05210196611094483, -0.1701316667373229, 0.9975858765520681, 0.5679231522183869, 0.7333534143683618, -0.4881841277696792, -0.7735029325895608, 0.01891691584424374, -1.2359148304241079, -0.8896197467687542, -0.10908281293793401, 1.688463700552174, -0.23667063256752122, -0.0006127191057447444, -1.3901015766075688, -0.07471253156201306, -0.17391167365707075, 0.18494588958463734, -0.8072660199829106, 0.5042274950958247, 1.430319628227963, -1.0432237869179202, 0.6069703153867475, -0.9659360808606309, 1.6956317931889817, 0.1934229329498793, -0.3234302239208796, -0.5653941531404442, 1.4294978718028493, -0.4667825162224206, 0.8159024534431725, -0.27577624975932374, 0.05785711289876522, 1.4902936128030226, 0.9452236842836307, 1.34821155748868, -0.9335093588384209, 0.7629837548409932, -0.9040802654809437, -0.8912568923745329, -0.7504395625157962, 0.5435144524350202, 1.47191507660395, -1.9599202433457479, -0.09907887392997437, 1.4770671005625244, 0.40572998591662657, 0.09857348353580996, 0.23264132362483203, 0.9966223626862929, -0.23378918797685888, -0.8122495069200328, 0.7783050772190407, -0.9721164857966254, 0.4139167840603344, 0.6505919351452365, -1.4765433004431558, -0.2272361110201322], \"xaxis\": \"x4\", \"y\": [1.3306309417176265, -1.0385908792182337, 0.1874988544332731, -1.280273142495005, 1.049058077764222, 1.0611683123235378, 1.9071191693896197, 2.7352170168230985, -0.6397746814172409, 0.8463438925366744, 0.6654798489053015, 0.5898888031987908, -0.24578070323181664, 0.8969285206540074, -0.5662410084123332, 1.0938500603836203, -0.12239543313528743, 0.22232875620726475, -2.100252650446614, 0.07236905792648542, 1.4025076400931227, -0.5884562982794522, -0.9889691929554822, 1.254073734692926, -0.46372972298110055, -0.48538707079930976, 1.3291500350558658, -0.5959406223584038, 0.8264347369014085, 0.03382006102493553, -1.7403756156373102, -0.10120422308479786, -2.0763793530629675, 0.32975298291286204, -0.2513970373300905, 1.0686811177498006, -1.287088310176192, 1.7189073509803223, -2.1812920330972028, -1.653046828768346, -0.6299599276446443, -0.6603974395461192, 1.9616869789233804, 0.8559600837851427, 0.6831248737350233, -0.28491484930330135, 2.273199289527967, -0.6001597532078587, -1.0362480369487086, 1.277052361551702, 0.716203215161114, -0.07102696522231514, -2.033535045783543, -0.7538182027296547, 0.0013298173934843229, 2.012898833923275, 1.2880410548949353, 0.4014209245850137, -0.7741539809820434, 0.7252590743472118, -0.8483347797463456, -0.49958477134736623, 0.14473176345929775, -0.8034821874756903, -1.351101132144767, 0.6170023030683952, -1.891397712945495, -0.9383709684301289, -0.41277249311839675, -1.591460336585324, -0.8097421575333087, 2.2616634455467683, -0.11339795454097942, -0.14794045700105715, -0.2163222303007041, 0.47811209099295643, -1.0224603818250957, 1.7108857580680352, 1.1466963877389036, 0.4356283563208712, 0.01784311691288129, 0.11980539540514351, 0.3947055397125486, 0.7596655979349227, -0.21600082570836415, -0.023137565460243193, 0.017163582231720136, 0.21032173566674786, -0.389023597520661, -0.19793727668987773, -0.29492035190757415, -1.2411400701237552, 0.39606779670549547, -0.9150253620940234, -0.5257507006499514, 1.8243832582774786, -0.1125237963450426, -2.7739318359255813, -0.0898090875362181, 0.8328315823372676], \"yaxis\": \"y4\"}, {\"line\": {\"color\": \"rgba(128, 128, 128, 1.0)\", \"dash\": \"solid\", \"shape\": \"linear\", \"width\": 1.3}, \"marker\": {\"size\": 2, \"symbol\": \"circle\"}, \"mode\": \"markers\", \"name\": \"B\", \"text\": \"\", \"type\": \"scatter\", \"x\": [1.3306309417176265, -1.0385908792182337, 0.1874988544332731, -1.280273142495005, 1.049058077764222, 1.0611683123235378, 1.9071191693896197, 2.7352170168230985, -0.6397746814172409, 0.8463438925366744, 0.6654798489053015, 0.5898888031987908, -0.24578070323181664, 0.8969285206540074, -0.5662410084123332, 1.0938500603836203, -0.12239543313528743, 0.22232875620726475, -2.100252650446614, 0.07236905792648542, 1.4025076400931227, -0.5884562982794522, -0.9889691929554822, 1.254073734692926, -0.46372972298110055, -0.48538707079930976, 1.3291500350558658, -0.5959406223584038, 0.8264347369014085, 0.03382006102493553, -1.7403756156373102, -0.10120422308479786, -2.0763793530629675, 0.32975298291286204, -0.2513970373300905, 1.0686811177498006, -1.287088310176192, 1.7189073509803223, -2.1812920330972028, -1.653046828768346, -0.6299599276446443, -0.6603974395461192, 1.9616869789233804, 0.8559600837851427, 0.6831248737350233, -0.28491484930330135, 2.273199289527967, -0.6001597532078587, -1.0362480369487086, 1.277052361551702, 0.716203215161114, -0.07102696522231514, -2.033535045783543, -0.7538182027296547, 0.0013298173934843229, 2.012898833923275, 1.2880410548949353, 0.4014209245850137, -0.7741539809820434, 0.7252590743472118, -0.8483347797463456, -0.49958477134736623, 0.14473176345929775, -0.8034821874756903, -1.351101132144767, 0.6170023030683952, -1.891397712945495, -0.9383709684301289, -0.41277249311839675, -1.591460336585324, -0.8097421575333087, 2.2616634455467683, -0.11339795454097942, -0.14794045700105715, -0.2163222303007041, 0.47811209099295643, -1.0224603818250957, 1.7108857580680352, 1.1466963877389036, 0.4356283563208712, 0.01784311691288129, 0.11980539540514351, 0.3947055397125486, 0.7596655979349227, -0.21600082570836415, -0.023137565460243193, 0.017163582231720136, 0.21032173566674786, -0.389023597520661, -0.19793727668987773, -0.29492035190757415, -1.2411400701237552, 0.39606779670549547, -0.9150253620940234, -0.5257507006499514, 1.8243832582774786, -0.1125237963450426, -2.7739318359255813, -0.0898090875362181, 0.8328315823372676], \"xaxis\": \"x5\", \"y\": [-0.8077541023962002, 0.7565634938517336, 1.1237573596606032, -0.39565919347789863, 0.0549785621201317, 1.366502617290853, -1.3230694814486699, 0.7387889439830942, -1.199480435930739, -2.282949284120805, -0.11425954367285318, 0.8220010850043288, -1.1018014057796768, 0.2503149600873541, 1.1736158070252711, 0.6947821804303227, 0.5283230210516395, 0.02697684131203542, 1.2281054446817783, 0.30732376074071527, -1.8252020255670138, 2.6418773394416872, 0.4006178825484417, 0.5288086239368401, 0.42863236503672264, 0.30564260765961393, 1.2778053713476605, 1.472255914104073, 0.05872832874232765, 0.7251880601234464, -0.2138418181358444, -2.0005260137365877, 1.534647810447825, 2.084477685137188, 2.7052715499038764, 0.6695822248372039, -0.06518920375824615, -1.9049080959097124, 1.2169413778613276, -2.03197874321166, 1.4546371527133481, 0.1989084957309017, -1.7818535501801909, 2.0004508452916028, 1.6296031993340103, 0.24500116269463681, 0.5640050900164671, 0.5904149850770735, 0.3823351716117955, 1.7376514275808248, -0.8979434180678454, 0.5914107965134787, 0.4234285284764335, -0.6922168342136781, -0.6970659041760846, -1.4925661057491024, 0.4165199828435986, -0.17973830756700138, -0.1899146526268394, 0.5206315273626101, -0.06918200176339967, -0.7240010125943824, 1.2793270686278744, 0.3365658155828963, -2.0232355137365383, -1.955386468277755, 1.0471304394836258, -0.3234898040130142, 0.7452124347332417, 0.9305259702811042, -0.7515431305554422, 1.9675896545741405, 0.28748431790382417, -0.19642992033258458, -0.49064884204819204, 0.18816479377724749, 0.07676733695429527, 0.49804273677106, 0.34102017267473134, 0.7200324639469576, 0.0606644111172542, -0.6137673524489353, 0.6592257674514602, -1.367796620444945, 1.3767073670816232, -0.6286369092359241, -2.659475702790765, 0.06032259735863327, 1.0736657620512429, -0.8494551963668133, 0.7416402492100004, 1.2144400487378093, 0.41762560003557575, -0.40527781652274925, -0.31652693291467393, 0.3028904622839831, -0.20221592711223793, 0.14151449129352375, -0.08920104667800999, 0.45969093794151544], \"yaxis\": \"y5\"}, {\"histfunc\": \"count\", \"histnorm\": \"\", \"marker\": {\"color\": \"rgba(55, 128, 191, 1.0)\", \"line\": {\"color\": \"#4D5663\", \"width\": 1.3}}, \"name\": \"B\", \"nbinsx\": 10, \"opacity\": 0.8, \"orientation\": \"v\", \"type\": \"histogram\", \"x\": [-0.8077541023962002, 0.7565634938517336, 1.1237573596606032, -0.39565919347789863, 0.0549785621201317, 1.366502617290853, -1.3230694814486699, 0.7387889439830942, -1.199480435930739, -2.282949284120805, -0.11425954367285318, 0.8220010850043288, -1.1018014057796768, 0.2503149600873541, 1.1736158070252711, 0.6947821804303227, 0.5283230210516395, 0.02697684131203542, 1.2281054446817783, 0.30732376074071527, -1.8252020255670138, 2.6418773394416872, 0.4006178825484417, 0.5288086239368401, 0.42863236503672264, 0.30564260765961393, 1.2778053713476605, 1.472255914104073, 0.05872832874232765, 0.7251880601234464, -0.2138418181358444, -2.0005260137365877, 1.534647810447825, 2.084477685137188, 2.7052715499038764, 0.6695822248372039, -0.06518920375824615, -1.9049080959097124, 1.2169413778613276, -2.03197874321166, 1.4546371527133481, 0.1989084957309017, -1.7818535501801909, 2.0004508452916028, 1.6296031993340103, 0.24500116269463681, 0.5640050900164671, 0.5904149850770735, 0.3823351716117955, 1.7376514275808248, -0.8979434180678454, 0.5914107965134787, 0.4234285284764335, -0.6922168342136781, -0.6970659041760846, -1.4925661057491024, 0.4165199828435986, -0.17973830756700138, -0.1899146526268394, 0.5206315273626101, -0.06918200176339967, -0.7240010125943824, 1.2793270686278744, 0.3365658155828963, -2.0232355137365383, -1.955386468277755, 1.0471304394836258, -0.3234898040130142, 0.7452124347332417, 0.9305259702811042, -0.7515431305554422, 1.9675896545741405, 0.28748431790382417, -0.19642992033258458, -0.49064884204819204, 0.18816479377724749, 0.07676733695429527, 0.49804273677106, 0.34102017267473134, 0.7200324639469576, 0.0606644111172542, -0.6137673524489353, 0.6592257674514602, -1.367796620444945, 1.3767073670816232, -0.6286369092359241, -2.659475702790765, 0.06032259735863327, 1.0736657620512429, -0.8494551963668133, 0.7416402492100004, 1.2144400487378093, 0.41762560003557575, -0.40527781652274925, -0.31652693291467393, 0.3028904622839831, -0.20221592711223793, 0.14151449129352375, -0.08920104667800999, 0.45969093794151544], \"xaxis\": \"x6\", \"yaxis\": \"y6\"}, {\"line\": {\"color\": \"rgba(128, 128, 128, 1.0)\", \"dash\": \"solid\", \"shape\": \"linear\", \"width\": 1.3}, \"marker\": {\"size\": 2, \"symbol\": \"circle\"}, \"mode\": \"markers\", \"name\": \"B\", \"text\": \"\", \"type\": \"scatter\", \"x\": [0.3656651539700398, -2.024621508933484, -0.17595214258639766, 0.38752123388547627, -0.40098108684220674, 0.7047994399031737, 0.6111222021594415, 0.2984057022335293, -0.5054188984967285, 0.12024912953358627, 0.03658450937199128, -0.28327791808777447, -1.3967097446357228, 1.1161579807451723, -0.02769518065720461, 0.3824321539746692, 0.5477711577384979, 0.08142385667673246, 1.3064477629658349, -0.16079346035363284, 1.3087896864926647, 0.3062345125176454, 0.09288871560599347, 0.1293533941503134, 0.5788875746115371, 0.01434073846552713, -1.8944062485400481, 1.8888049406514158, -0.4776845884066758, 1.2764291854498908, -0.5042490922031749, -0.7801119239008675, 1.3421330442051493, 0.672714533915635, 0.9893919285907951, 0.8494961107716652, 0.5838121382918745, 1.250930509255457, 1.09968861421728, -0.04163656113428267, 0.05322861552611884, -0.6125501183133603, -1.2206193313774207, 0.144642554577054, -1.319235756758065, 0.19491832305045914, -0.775115685297024, 1.0167592539070043, 0.983563546849777, -0.39039835223133834, -0.8284730578893609, -0.3936660846606071, 0.6232568363690445, -0.6333224212073132, 1.0650741192534734, -2.1686623348824674, -1.228154969602673, -0.9977266640263869, 0.9726160769808196, 0.2930229304519651, -0.4821496574965753, -0.5846169212147282, -0.9316895418709534, -1.2179313081717043, -2.074013254064868, 0.09682363701248563, -0.38151715167604977, 0.49188500666415497, -0.725306836736184, -0.8246979833109914, -1.3562429729164502, 0.2673330090054745, 1.2924557312605747, 0.24010807839265333, -0.1525097779159531, 0.013773240989478044, 0.801672870583813, 2.6129068949654126, -0.004835514247692923, 0.00038433475050008765, 0.3768613102888822, 1.5852792940187583, -1.2303409245158452, 0.10101802359198322, 0.8844781483544862, -0.8811133498746999, 0.373372580639977, -0.40411158698473626, 1.3672213632922996, 0.30692054933826124, 0.2980331198680305, -1.6977885063533618, 0.9342253811855618, 0.6893014976844566, -0.7823612487342642, -0.9297453414885516, 0.8523734371748879, -0.23312884194180006, 0.4116455392105631, -0.2530425260066888], \"xaxis\": \"x7\", \"y\": [-0.8077541023962002, 0.7565634938517336, 1.1237573596606032, -0.39565919347789863, 0.0549785621201317, 1.366502617290853, -1.3230694814486699, 0.7387889439830942, -1.199480435930739, -2.282949284120805, -0.11425954367285318, 0.8220010850043288, -1.1018014057796768, 0.2503149600873541, 1.1736158070252711, 0.6947821804303227, 0.5283230210516395, 0.02697684131203542, 1.2281054446817783, 0.30732376074071527, -1.8252020255670138, 2.6418773394416872, 0.4006178825484417, 0.5288086239368401, 0.42863236503672264, 0.30564260765961393, 1.2778053713476605, 1.472255914104073, 0.05872832874232765, 0.7251880601234464, -0.2138418181358444, -2.0005260137365877, 1.534647810447825, 2.084477685137188, 2.7052715499038764, 0.6695822248372039, -0.06518920375824615, -1.9049080959097124, 1.2169413778613276, -2.03197874321166, 1.4546371527133481, 0.1989084957309017, -1.7818535501801909, 2.0004508452916028, 1.6296031993340103, 0.24500116269463681, 0.5640050900164671, 0.5904149850770735, 0.3823351716117955, 1.7376514275808248, -0.8979434180678454, 0.5914107965134787, 0.4234285284764335, -0.6922168342136781, -0.6970659041760846, -1.4925661057491024, 0.4165199828435986, -0.17973830756700138, -0.1899146526268394, 0.5206315273626101, -0.06918200176339967, -0.7240010125943824, 1.2793270686278744, 0.3365658155828963, -2.0232355137365383, -1.955386468277755, 1.0471304394836258, -0.3234898040130142, 0.7452124347332417, 0.9305259702811042, -0.7515431305554422, 1.9675896545741405, 0.28748431790382417, -0.19642992033258458, -0.49064884204819204, 0.18816479377724749, 0.07676733695429527, 0.49804273677106, 0.34102017267473134, 0.7200324639469576, 0.0606644111172542, -0.6137673524489353, 0.6592257674514602, -1.367796620444945, 1.3767073670816232, -0.6286369092359241, -2.659475702790765, 0.06032259735863327, 1.0736657620512429, -0.8494551963668133, 0.7416402492100004, 1.2144400487378093, 0.41762560003557575, -0.40527781652274925, -0.31652693291467393, 0.3028904622839831, -0.20221592711223793, 0.14151449129352375, -0.08920104667800999, 0.45969093794151544], \"yaxis\": \"y7\"}, {\"line\": {\"color\": \"rgba(128, 128, 128, 1.0)\", \"dash\": \"solid\", \"shape\": \"linear\", \"width\": 1.3}, \"marker\": {\"size\": 2, \"symbol\": \"circle\"}, \"mode\": \"markers\", \"name\": \"B\", \"text\": \"\", \"type\": \"scatter\", \"x\": [0.7975416162339963, -0.21940657560340165, -0.6495223186326463, -1.1045817227401677, -0.7193189821090035, -0.8349004696712116, -1.1270940359263222, 0.045792655428507856, -0.916793147440208, 0.9213674139500968, -0.5886707980598632, -0.09356438719274726, 1.1920978378959821, -0.8317211629636166, -0.38109088723742296, 0.5766422340104451, 0.43763503347873917, -0.41169971859837184, -0.46590127089055766, 0.20217738254294637, -1.669518712654215, -0.5111871906175561, -0.6298861572186296, 0.8089227351774407, -0.017502244639379758, 0.5470549245950116, 1.205281769483588, 1.037057423581387, 0.09557849773090253, 0.57333584353472, -0.6736607481399736, 0.02354881168542178, 0.16149816470751635, -0.18720501878333623, -1.0368909880884163, 0.06346118185626269, 1.8593973699740949, 1.4227284353103165, -0.03745067461314494, 0.7018509417552491, 0.37484070339401815, 0.4490068546525637, 0.05210196611094483, -0.1701316667373229, 0.9975858765520681, 0.5679231522183869, 0.7333534143683618, -0.4881841277696792, -0.7735029325895608, 0.01891691584424374, -1.2359148304241079, -0.8896197467687542, -0.10908281293793401, 1.688463700552174, -0.23667063256752122, -0.0006127191057447444, -1.3901015766075688, -0.07471253156201306, -0.17391167365707075, 0.18494588958463734, -0.8072660199829106, 0.5042274950958247, 1.430319628227963, -1.0432237869179202, 0.6069703153867475, -0.9659360808606309, 1.6956317931889817, 0.1934229329498793, -0.3234302239208796, -0.5653941531404442, 1.4294978718028493, -0.4667825162224206, 0.8159024534431725, -0.27577624975932374, 0.05785711289876522, 1.4902936128030226, 0.9452236842836307, 1.34821155748868, -0.9335093588384209, 0.7629837548409932, -0.9040802654809437, -0.8912568923745329, -0.7504395625157962, 0.5435144524350202, 1.47191507660395, -1.9599202433457479, -0.09907887392997437, 1.4770671005625244, 0.40572998591662657, 0.09857348353580996, 0.23264132362483203, 0.9966223626862929, -0.23378918797685888, -0.8122495069200328, 0.7783050772190407, -0.9721164857966254, 0.4139167840603344, 0.6505919351452365, -1.4765433004431558, -0.2272361110201322], \"xaxis\": \"x8\", \"y\": [-0.8077541023962002, 0.7565634938517336, 1.1237573596606032, -0.39565919347789863, 0.0549785621201317, 1.366502617290853, -1.3230694814486699, 0.7387889439830942, -1.199480435930739, -2.282949284120805, -0.11425954367285318, 0.8220010850043288, -1.1018014057796768, 0.2503149600873541, 1.1736158070252711, 0.6947821804303227, 0.5283230210516395, 0.02697684131203542, 1.2281054446817783, 0.30732376074071527, -1.8252020255670138, 2.6418773394416872, 0.4006178825484417, 0.5288086239368401, 0.42863236503672264, 0.30564260765961393, 1.2778053713476605, 1.472255914104073, 0.05872832874232765, 0.7251880601234464, -0.2138418181358444, -2.0005260137365877, 1.534647810447825, 2.084477685137188, 2.7052715499038764, 0.6695822248372039, -0.06518920375824615, -1.9049080959097124, 1.2169413778613276, -2.03197874321166, 1.4546371527133481, 0.1989084957309017, -1.7818535501801909, 2.0004508452916028, 1.6296031993340103, 0.24500116269463681, 0.5640050900164671, 0.5904149850770735, 0.3823351716117955, 1.7376514275808248, -0.8979434180678454, 0.5914107965134787, 0.4234285284764335, -0.6922168342136781, -0.6970659041760846, -1.4925661057491024, 0.4165199828435986, -0.17973830756700138, -0.1899146526268394, 0.5206315273626101, -0.06918200176339967, -0.7240010125943824, 1.2793270686278744, 0.3365658155828963, -2.0232355137365383, -1.955386468277755, 1.0471304394836258, -0.3234898040130142, 0.7452124347332417, 0.9305259702811042, -0.7515431305554422, 1.9675896545741405, 0.28748431790382417, -0.19642992033258458, -0.49064884204819204, 0.18816479377724749, 0.07676733695429527, 0.49804273677106, 0.34102017267473134, 0.7200324639469576, 0.0606644111172542, -0.6137673524489353, 0.6592257674514602, -1.367796620444945, 1.3767073670816232, -0.6286369092359241, -2.659475702790765, 0.06032259735863327, 1.0736657620512429, -0.8494551963668133, 0.7416402492100004, 1.2144400487378093, 0.41762560003557575, -0.40527781652274925, -0.31652693291467393, 0.3028904622839831, -0.20221592711223793, 0.14151449129352375, -0.08920104667800999, 0.45969093794151544], \"yaxis\": \"y8\"}, {\"line\": {\"color\": \"rgba(128, 128, 128, 1.0)\", \"dash\": \"solid\", \"shape\": \"linear\", \"width\": 1.3}, \"marker\": {\"size\": 2, \"symbol\": \"circle\"}, \"mode\": \"markers\", \"name\": \"C\", \"text\": \"\", \"type\": \"scatter\", \"x\": [1.3306309417176265, -1.0385908792182337, 0.1874988544332731, -1.280273142495005, 1.049058077764222, 1.0611683123235378, 1.9071191693896197, 2.7352170168230985, -0.6397746814172409, 0.8463438925366744, 0.6654798489053015, 0.5898888031987908, -0.24578070323181664, 0.8969285206540074, -0.5662410084123332, 1.0938500603836203, -0.12239543313528743, 0.22232875620726475, -2.100252650446614, 0.07236905792648542, 1.4025076400931227, -0.5884562982794522, -0.9889691929554822, 1.254073734692926, -0.46372972298110055, -0.48538707079930976, 1.3291500350558658, -0.5959406223584038, 0.8264347369014085, 0.03382006102493553, -1.7403756156373102, -0.10120422308479786, -2.0763793530629675, 0.32975298291286204, -0.2513970373300905, 1.0686811177498006, -1.287088310176192, 1.7189073509803223, -2.1812920330972028, -1.653046828768346, -0.6299599276446443, -0.6603974395461192, 1.9616869789233804, 0.8559600837851427, 0.6831248737350233, -0.28491484930330135, 2.273199289527967, -0.6001597532078587, -1.0362480369487086, 1.277052361551702, 0.716203215161114, -0.07102696522231514, -2.033535045783543, -0.7538182027296547, 0.0013298173934843229, 2.012898833923275, 1.2880410548949353, 0.4014209245850137, -0.7741539809820434, 0.7252590743472118, -0.8483347797463456, -0.49958477134736623, 0.14473176345929775, -0.8034821874756903, -1.351101132144767, 0.6170023030683952, -1.891397712945495, -0.9383709684301289, -0.41277249311839675, -1.591460336585324, -0.8097421575333087, 2.2616634455467683, -0.11339795454097942, -0.14794045700105715, -0.2163222303007041, 0.47811209099295643, -1.0224603818250957, 1.7108857580680352, 1.1466963877389036, 0.4356283563208712, 0.01784311691288129, 0.11980539540514351, 0.3947055397125486, 0.7596655979349227, -0.21600082570836415, -0.023137565460243193, 0.017163582231720136, 0.21032173566674786, -0.389023597520661, -0.19793727668987773, -0.29492035190757415, -1.2411400701237552, 0.39606779670549547, -0.9150253620940234, -0.5257507006499514, 1.8243832582774786, -0.1125237963450426, -2.7739318359255813, -0.0898090875362181, 0.8328315823372676], \"xaxis\": \"x9\", \"y\": [0.3656651539700398, -2.024621508933484, -0.17595214258639766, 0.38752123388547627, -0.40098108684220674, 0.7047994399031737, 0.6111222021594415, 0.2984057022335293, -0.5054188984967285, 0.12024912953358627, 0.03658450937199128, -0.28327791808777447, -1.3967097446357228, 1.1161579807451723, -0.02769518065720461, 0.3824321539746692, 0.5477711577384979, 0.08142385667673246, 1.3064477629658349, -0.16079346035363284, 1.3087896864926647, 0.3062345125176454, 0.09288871560599347, 0.1293533941503134, 0.5788875746115371, 0.01434073846552713, -1.8944062485400481, 1.8888049406514158, -0.4776845884066758, 1.2764291854498908, -0.5042490922031749, -0.7801119239008675, 1.3421330442051493, 0.672714533915635, 0.9893919285907951, 0.8494961107716652, 0.5838121382918745, 1.250930509255457, 1.09968861421728, -0.04163656113428267, 0.05322861552611884, -0.6125501183133603, -1.2206193313774207, 0.144642554577054, -1.319235756758065, 0.19491832305045914, -0.775115685297024, 1.0167592539070043, 0.983563546849777, -0.39039835223133834, -0.8284730578893609, -0.3936660846606071, 0.6232568363690445, -0.6333224212073132, 1.0650741192534734, -2.1686623348824674, -1.228154969602673, -0.9977266640263869, 0.9726160769808196, 0.2930229304519651, -0.4821496574965753, -0.5846169212147282, -0.9316895418709534, -1.2179313081717043, -2.074013254064868, 0.09682363701248563, -0.38151715167604977, 0.49188500666415497, -0.725306836736184, -0.8246979833109914, -1.3562429729164502, 0.2673330090054745, 1.2924557312605747, 0.24010807839265333, -0.1525097779159531, 0.013773240989478044, 0.801672870583813, 2.6129068949654126, -0.004835514247692923, 0.00038433475050008765, 0.3768613102888822, 1.5852792940187583, -1.2303409245158452, 0.10101802359198322, 0.8844781483544862, -0.8811133498746999, 0.373372580639977, -0.40411158698473626, 1.3672213632922996, 0.30692054933826124, 0.2980331198680305, -1.6977885063533618, 0.9342253811855618, 0.6893014976844566, -0.7823612487342642, -0.9297453414885516, 0.8523734371748879, -0.23312884194180006, 0.4116455392105631, -0.2530425260066888], \"yaxis\": \"y9\"}, {\"line\": {\"color\": \"rgba(128, 128, 128, 1.0)\", \"dash\": \"solid\", \"shape\": \"linear\", \"width\": 1.3}, \"marker\": {\"size\": 2, \"symbol\": \"circle\"}, \"mode\": \"markers\", \"name\": \"C\", \"text\": \"\", \"type\": \"scatter\", \"x\": [-0.8077541023962002, 0.7565634938517336, 1.1237573596606032, -0.39565919347789863, 0.0549785621201317, 1.366502617290853, -1.3230694814486699, 0.7387889439830942, -1.199480435930739, -2.282949284120805, -0.11425954367285318, 0.8220010850043288, -1.1018014057796768, 0.2503149600873541, 1.1736158070252711, 0.6947821804303227, 0.5283230210516395, 0.02697684131203542, 1.2281054446817783, 0.30732376074071527, -1.8252020255670138, 2.6418773394416872, 0.4006178825484417, 0.5288086239368401, 0.42863236503672264, 0.30564260765961393, 1.2778053713476605, 1.472255914104073, 0.05872832874232765, 0.7251880601234464, -0.2138418181358444, -2.0005260137365877, 1.534647810447825, 2.084477685137188, 2.7052715499038764, 0.6695822248372039, -0.06518920375824615, -1.9049080959097124, 1.2169413778613276, -2.03197874321166, 1.4546371527133481, 0.1989084957309017, -1.7818535501801909, 2.0004508452916028, 1.6296031993340103, 0.24500116269463681, 0.5640050900164671, 0.5904149850770735, 0.3823351716117955, 1.7376514275808248, -0.8979434180678454, 0.5914107965134787, 0.4234285284764335, -0.6922168342136781, -0.6970659041760846, -1.4925661057491024, 0.4165199828435986, -0.17973830756700138, -0.1899146526268394, 0.5206315273626101, -0.06918200176339967, -0.7240010125943824, 1.2793270686278744, 0.3365658155828963, -2.0232355137365383, -1.955386468277755, 1.0471304394836258, -0.3234898040130142, 0.7452124347332417, 0.9305259702811042, -0.7515431305554422, 1.9675896545741405, 0.28748431790382417, -0.19642992033258458, -0.49064884204819204, 0.18816479377724749, 0.07676733695429527, 0.49804273677106, 0.34102017267473134, 0.7200324639469576, 0.0606644111172542, -0.6137673524489353, 0.6592257674514602, -1.367796620444945, 1.3767073670816232, -0.6286369092359241, -2.659475702790765, 0.06032259735863327, 1.0736657620512429, -0.8494551963668133, 0.7416402492100004, 1.2144400487378093, 0.41762560003557575, -0.40527781652274925, -0.31652693291467393, 0.3028904622839831, -0.20221592711223793, 0.14151449129352375, -0.08920104667800999, 0.45969093794151544], \"xaxis\": \"x10\", \"y\": [0.3656651539700398, -2.024621508933484, -0.17595214258639766, 0.38752123388547627, -0.40098108684220674, 0.7047994399031737, 0.6111222021594415, 0.2984057022335293, -0.5054188984967285, 0.12024912953358627, 0.03658450937199128, -0.28327791808777447, -1.3967097446357228, 1.1161579807451723, -0.02769518065720461, 0.3824321539746692, 0.5477711577384979, 0.08142385667673246, 1.3064477629658349, -0.16079346035363284, 1.3087896864926647, 0.3062345125176454, 0.09288871560599347, 0.1293533941503134, 0.5788875746115371, 0.01434073846552713, -1.8944062485400481, 1.8888049406514158, -0.4776845884066758, 1.2764291854498908, -0.5042490922031749, -0.7801119239008675, 1.3421330442051493, 0.672714533915635, 0.9893919285907951, 0.8494961107716652, 0.5838121382918745, 1.250930509255457, 1.09968861421728, -0.04163656113428267, 0.05322861552611884, -0.6125501183133603, -1.2206193313774207, 0.144642554577054, -1.319235756758065, 0.19491832305045914, -0.775115685297024, 1.0167592539070043, 0.983563546849777, -0.39039835223133834, -0.8284730578893609, -0.3936660846606071, 0.6232568363690445, -0.6333224212073132, 1.0650741192534734, -2.1686623348824674, -1.228154969602673, -0.9977266640263869, 0.9726160769808196, 0.2930229304519651, -0.4821496574965753, -0.5846169212147282, -0.9316895418709534, -1.2179313081717043, -2.074013254064868, 0.09682363701248563, -0.38151715167604977, 0.49188500666415497, -0.725306836736184, -0.8246979833109914, -1.3562429729164502, 0.2673330090054745, 1.2924557312605747, 0.24010807839265333, -0.1525097779159531, 0.013773240989478044, 0.801672870583813, 2.6129068949654126, -0.004835514247692923, 0.00038433475050008765, 0.3768613102888822, 1.5852792940187583, -1.2303409245158452, 0.10101802359198322, 0.8844781483544862, -0.8811133498746999, 0.373372580639977, -0.40411158698473626, 1.3672213632922996, 0.30692054933826124, 0.2980331198680305, -1.6977885063533618, 0.9342253811855618, 0.6893014976844566, -0.7823612487342642, -0.9297453414885516, 0.8523734371748879, -0.23312884194180006, 0.4116455392105631, -0.2530425260066888], \"yaxis\": \"y10\"}, {\"histfunc\": \"count\", \"histnorm\": \"\", \"marker\": {\"color\": \"rgba(50, 171, 96, 1.0)\", \"line\": {\"color\": \"#4D5663\", \"width\": 1.3}}, \"name\": \"C\", \"nbinsx\": 10, \"opacity\": 0.8, \"orientation\": \"v\", \"type\": \"histogram\", \"x\": [0.3656651539700398, -2.024621508933484, -0.17595214258639766, 0.38752123388547627, -0.40098108684220674, 0.7047994399031737, 0.6111222021594415, 0.2984057022335293, -0.5054188984967285, 0.12024912953358627, 0.03658450937199128, -0.28327791808777447, -1.3967097446357228, 1.1161579807451723, -0.02769518065720461, 0.3824321539746692, 0.5477711577384979, 0.08142385667673246, 1.3064477629658349, -0.16079346035363284, 1.3087896864926647, 0.3062345125176454, 0.09288871560599347, 0.1293533941503134, 0.5788875746115371, 0.01434073846552713, -1.8944062485400481, 1.8888049406514158, -0.4776845884066758, 1.2764291854498908, -0.5042490922031749, -0.7801119239008675, 1.3421330442051493, 0.672714533915635, 0.9893919285907951, 0.8494961107716652, 0.5838121382918745, 1.250930509255457, 1.09968861421728, -0.04163656113428267, 0.05322861552611884, -0.6125501183133603, -1.2206193313774207, 0.144642554577054, -1.319235756758065, 0.19491832305045914, -0.775115685297024, 1.0167592539070043, 0.983563546849777, -0.39039835223133834, -0.8284730578893609, -0.3936660846606071, 0.6232568363690445, -0.6333224212073132, 1.0650741192534734, -2.1686623348824674, -1.228154969602673, -0.9977266640263869, 0.9726160769808196, 0.2930229304519651, -0.4821496574965753, -0.5846169212147282, -0.9316895418709534, -1.2179313081717043, -2.074013254064868, 0.09682363701248563, -0.38151715167604977, 0.49188500666415497, -0.725306836736184, -0.8246979833109914, -1.3562429729164502, 0.2673330090054745, 1.2924557312605747, 0.24010807839265333, -0.1525097779159531, 0.013773240989478044, 0.801672870583813, 2.6129068949654126, -0.004835514247692923, 0.00038433475050008765, 0.3768613102888822, 1.5852792940187583, -1.2303409245158452, 0.10101802359198322, 0.8844781483544862, -0.8811133498746999, 0.373372580639977, -0.40411158698473626, 1.3672213632922996, 0.30692054933826124, 0.2980331198680305, -1.6977885063533618, 0.9342253811855618, 0.6893014976844566, -0.7823612487342642, -0.9297453414885516, 0.8523734371748879, -0.23312884194180006, 0.4116455392105631, -0.2530425260066888], \"xaxis\": \"x11\", \"yaxis\": \"y11\"}, {\"line\": {\"color\": \"rgba(128, 128, 128, 1.0)\", \"dash\": \"solid\", \"shape\": \"linear\", \"width\": 1.3}, \"marker\": {\"size\": 2, \"symbol\": \"circle\"}, \"mode\": \"markers\", \"name\": \"C\", \"text\": \"\", \"type\": \"scatter\", \"x\": [0.7975416162339963, -0.21940657560340165, -0.6495223186326463, -1.1045817227401677, -0.7193189821090035, -0.8349004696712116, -1.1270940359263222, 0.045792655428507856, -0.916793147440208, 0.9213674139500968, -0.5886707980598632, -0.09356438719274726, 1.1920978378959821, -0.8317211629636166, -0.38109088723742296, 0.5766422340104451, 0.43763503347873917, -0.41169971859837184, -0.46590127089055766, 0.20217738254294637, -1.669518712654215, -0.5111871906175561, -0.6298861572186296, 0.8089227351774407, -0.017502244639379758, 0.5470549245950116, 1.205281769483588, 1.037057423581387, 0.09557849773090253, 0.57333584353472, -0.6736607481399736, 0.02354881168542178, 0.16149816470751635, -0.18720501878333623, -1.0368909880884163, 0.06346118185626269, 1.8593973699740949, 1.4227284353103165, -0.03745067461314494, 0.7018509417552491, 0.37484070339401815, 0.4490068546525637, 0.05210196611094483, -0.1701316667373229, 0.9975858765520681, 0.5679231522183869, 0.7333534143683618, -0.4881841277696792, -0.7735029325895608, 0.01891691584424374, -1.2359148304241079, -0.8896197467687542, -0.10908281293793401, 1.688463700552174, -0.23667063256752122, -0.0006127191057447444, -1.3901015766075688, -0.07471253156201306, -0.17391167365707075, 0.18494588958463734, -0.8072660199829106, 0.5042274950958247, 1.430319628227963, -1.0432237869179202, 0.6069703153867475, -0.9659360808606309, 1.6956317931889817, 0.1934229329498793, -0.3234302239208796, -0.5653941531404442, 1.4294978718028493, -0.4667825162224206, 0.8159024534431725, -0.27577624975932374, 0.05785711289876522, 1.4902936128030226, 0.9452236842836307, 1.34821155748868, -0.9335093588384209, 0.7629837548409932, -0.9040802654809437, -0.8912568923745329, -0.7504395625157962, 0.5435144524350202, 1.47191507660395, -1.9599202433457479, -0.09907887392997437, 1.4770671005625244, 0.40572998591662657, 0.09857348353580996, 0.23264132362483203, 0.9966223626862929, -0.23378918797685888, -0.8122495069200328, 0.7783050772190407, -0.9721164857966254, 0.4139167840603344, 0.6505919351452365, -1.4765433004431558, -0.2272361110201322], \"xaxis\": \"x12\", \"y\": [0.3656651539700398, -2.024621508933484, -0.17595214258639766, 0.38752123388547627, -0.40098108684220674, 0.7047994399031737, 0.6111222021594415, 0.2984057022335293, -0.5054188984967285, 0.12024912953358627, 0.03658450937199128, -0.28327791808777447, -1.3967097446357228, 1.1161579807451723, -0.02769518065720461, 0.3824321539746692, 0.5477711577384979, 0.08142385667673246, 1.3064477629658349, -0.16079346035363284, 1.3087896864926647, 0.3062345125176454, 0.09288871560599347, 0.1293533941503134, 0.5788875746115371, 0.01434073846552713, -1.8944062485400481, 1.8888049406514158, -0.4776845884066758, 1.2764291854498908, -0.5042490922031749, -0.7801119239008675, 1.3421330442051493, 0.672714533915635, 0.9893919285907951, 0.8494961107716652, 0.5838121382918745, 1.250930509255457, 1.09968861421728, -0.04163656113428267, 0.05322861552611884, -0.6125501183133603, -1.2206193313774207, 0.144642554577054, -1.319235756758065, 0.19491832305045914, -0.775115685297024, 1.0167592539070043, 0.983563546849777, -0.39039835223133834, -0.8284730578893609, -0.3936660846606071, 0.6232568363690445, -0.6333224212073132, 1.0650741192534734, -2.1686623348824674, -1.228154969602673, -0.9977266640263869, 0.9726160769808196, 0.2930229304519651, -0.4821496574965753, -0.5846169212147282, -0.9316895418709534, -1.2179313081717043, -2.074013254064868, 0.09682363701248563, -0.38151715167604977, 0.49188500666415497, -0.725306836736184, -0.8246979833109914, -1.3562429729164502, 0.2673330090054745, 1.2924557312605747, 0.24010807839265333, -0.1525097779159531, 0.013773240989478044, 0.801672870583813, 2.6129068949654126, -0.004835514247692923, 0.00038433475050008765, 0.3768613102888822, 1.5852792940187583, -1.2303409245158452, 0.10101802359198322, 0.8844781483544862, -0.8811133498746999, 0.373372580639977, -0.40411158698473626, 1.3672213632922996, 0.30692054933826124, 0.2980331198680305, -1.6977885063533618, 0.9342253811855618, 0.6893014976844566, -0.7823612487342642, -0.9297453414885516, 0.8523734371748879, -0.23312884194180006, 0.4116455392105631, -0.2530425260066888], \"yaxis\": \"y12\"}, {\"line\": {\"color\": \"rgba(128, 128, 128, 1.0)\", \"dash\": \"solid\", \"shape\": \"linear\", \"width\": 1.3}, \"marker\": {\"size\": 2, \"symbol\": \"circle\"}, \"mode\": \"markers\", \"name\": \"D\", \"text\": \"\", \"type\": \"scatter\", \"x\": [1.3306309417176265, -1.0385908792182337, 0.1874988544332731, -1.280273142495005, 1.049058077764222, 1.0611683123235378, 1.9071191693896197, 2.7352170168230985, -0.6397746814172409, 0.8463438925366744, 0.6654798489053015, 0.5898888031987908, -0.24578070323181664, 0.8969285206540074, -0.5662410084123332, 1.0938500603836203, -0.12239543313528743, 0.22232875620726475, -2.100252650446614, 0.07236905792648542, 1.4025076400931227, -0.5884562982794522, -0.9889691929554822, 1.254073734692926, -0.46372972298110055, -0.48538707079930976, 1.3291500350558658, -0.5959406223584038, 0.8264347369014085, 0.03382006102493553, -1.7403756156373102, -0.10120422308479786, -2.0763793530629675, 0.32975298291286204, -0.2513970373300905, 1.0686811177498006, -1.287088310176192, 1.7189073509803223, -2.1812920330972028, -1.653046828768346, -0.6299599276446443, -0.6603974395461192, 1.9616869789233804, 0.8559600837851427, 0.6831248737350233, -0.28491484930330135, 2.273199289527967, -0.6001597532078587, -1.0362480369487086, 1.277052361551702, 0.716203215161114, -0.07102696522231514, -2.033535045783543, -0.7538182027296547, 0.0013298173934843229, 2.012898833923275, 1.2880410548949353, 0.4014209245850137, -0.7741539809820434, 0.7252590743472118, -0.8483347797463456, -0.49958477134736623, 0.14473176345929775, -0.8034821874756903, -1.351101132144767, 0.6170023030683952, -1.891397712945495, -0.9383709684301289, -0.41277249311839675, -1.591460336585324, -0.8097421575333087, 2.2616634455467683, -0.11339795454097942, -0.14794045700105715, -0.2163222303007041, 0.47811209099295643, -1.0224603818250957, 1.7108857580680352, 1.1466963877389036, 0.4356283563208712, 0.01784311691288129, 0.11980539540514351, 0.3947055397125486, 0.7596655979349227, -0.21600082570836415, -0.023137565460243193, 0.017163582231720136, 0.21032173566674786, -0.389023597520661, -0.19793727668987773, -0.29492035190757415, -1.2411400701237552, 0.39606779670549547, -0.9150253620940234, -0.5257507006499514, 1.8243832582774786, -0.1125237963450426, -2.7739318359255813, -0.0898090875362181, 0.8328315823372676], \"xaxis\": \"x13\", \"y\": [0.7975416162339963, -0.21940657560340165, -0.6495223186326463, -1.1045817227401677, -0.7193189821090035, -0.8349004696712116, -1.1270940359263222, 0.045792655428507856, -0.916793147440208, 0.9213674139500968, -0.5886707980598632, -0.09356438719274726, 1.1920978378959821, -0.8317211629636166, -0.38109088723742296, 0.5766422340104451, 0.43763503347873917, -0.41169971859837184, -0.46590127089055766, 0.20217738254294637, -1.669518712654215, -0.5111871906175561, -0.6298861572186296, 0.8089227351774407, -0.017502244639379758, 0.5470549245950116, 1.205281769483588, 1.037057423581387, 0.09557849773090253, 0.57333584353472, -0.6736607481399736, 0.02354881168542178, 0.16149816470751635, -0.18720501878333623, -1.0368909880884163, 0.06346118185626269, 1.8593973699740949, 1.4227284353103165, -0.03745067461314494, 0.7018509417552491, 0.37484070339401815, 0.4490068546525637, 0.05210196611094483, -0.1701316667373229, 0.9975858765520681, 0.5679231522183869, 0.7333534143683618, -0.4881841277696792, -0.7735029325895608, 0.01891691584424374, -1.2359148304241079, -0.8896197467687542, -0.10908281293793401, 1.688463700552174, -0.23667063256752122, -0.0006127191057447444, -1.3901015766075688, -0.07471253156201306, -0.17391167365707075, 0.18494588958463734, -0.8072660199829106, 0.5042274950958247, 1.430319628227963, -1.0432237869179202, 0.6069703153867475, -0.9659360808606309, 1.6956317931889817, 0.1934229329498793, -0.3234302239208796, -0.5653941531404442, 1.4294978718028493, -0.4667825162224206, 0.8159024534431725, -0.27577624975932374, 0.05785711289876522, 1.4902936128030226, 0.9452236842836307, 1.34821155748868, -0.9335093588384209, 0.7629837548409932, -0.9040802654809437, -0.8912568923745329, -0.7504395625157962, 0.5435144524350202, 1.47191507660395, -1.9599202433457479, -0.09907887392997437, 1.4770671005625244, 0.40572998591662657, 0.09857348353580996, 0.23264132362483203, 0.9966223626862929, -0.23378918797685888, -0.8122495069200328, 0.7783050772190407, -0.9721164857966254, 0.4139167840603344, 0.6505919351452365, -1.4765433004431558, -0.2272361110201322], \"yaxis\": \"y13\"}, {\"line\": {\"color\": \"rgba(128, 128, 128, 1.0)\", \"dash\": \"solid\", \"shape\": \"linear\", \"width\": 1.3}, \"marker\": {\"size\": 2, \"symbol\": \"circle\"}, \"mode\": \"markers\", \"name\": \"D\", \"text\": \"\", \"type\": \"scatter\", \"x\": [-0.8077541023962002, 0.7565634938517336, 1.1237573596606032, -0.39565919347789863, 0.0549785621201317, 1.366502617290853, -1.3230694814486699, 0.7387889439830942, -1.199480435930739, -2.282949284120805, -0.11425954367285318, 0.8220010850043288, -1.1018014057796768, 0.2503149600873541, 1.1736158070252711, 0.6947821804303227, 0.5283230210516395, 0.02697684131203542, 1.2281054446817783, 0.30732376074071527, -1.8252020255670138, 2.6418773394416872, 0.4006178825484417, 0.5288086239368401, 0.42863236503672264, 0.30564260765961393, 1.2778053713476605, 1.472255914104073, 0.05872832874232765, 0.7251880601234464, -0.2138418181358444, -2.0005260137365877, 1.534647810447825, 2.084477685137188, 2.7052715499038764, 0.6695822248372039, -0.06518920375824615, -1.9049080959097124, 1.2169413778613276, -2.03197874321166, 1.4546371527133481, 0.1989084957309017, -1.7818535501801909, 2.0004508452916028, 1.6296031993340103, 0.24500116269463681, 0.5640050900164671, 0.5904149850770735, 0.3823351716117955, 1.7376514275808248, -0.8979434180678454, 0.5914107965134787, 0.4234285284764335, -0.6922168342136781, -0.6970659041760846, -1.4925661057491024, 0.4165199828435986, -0.17973830756700138, -0.1899146526268394, 0.5206315273626101, -0.06918200176339967, -0.7240010125943824, 1.2793270686278744, 0.3365658155828963, -2.0232355137365383, -1.955386468277755, 1.0471304394836258, -0.3234898040130142, 0.7452124347332417, 0.9305259702811042, -0.7515431305554422, 1.9675896545741405, 0.28748431790382417, -0.19642992033258458, -0.49064884204819204, 0.18816479377724749, 0.07676733695429527, 0.49804273677106, 0.34102017267473134, 0.7200324639469576, 0.0606644111172542, -0.6137673524489353, 0.6592257674514602, -1.367796620444945, 1.3767073670816232, -0.6286369092359241, -2.659475702790765, 0.06032259735863327, 1.0736657620512429, -0.8494551963668133, 0.7416402492100004, 1.2144400487378093, 0.41762560003557575, -0.40527781652274925, -0.31652693291467393, 0.3028904622839831, -0.20221592711223793, 0.14151449129352375, -0.08920104667800999, 0.45969093794151544], \"xaxis\": \"x14\", \"y\": [0.7975416162339963, -0.21940657560340165, -0.6495223186326463, -1.1045817227401677, -0.7193189821090035, -0.8349004696712116, -1.1270940359263222, 0.045792655428507856, -0.916793147440208, 0.9213674139500968, -0.5886707980598632, -0.09356438719274726, 1.1920978378959821, -0.8317211629636166, -0.38109088723742296, 0.5766422340104451, 0.43763503347873917, -0.41169971859837184, -0.46590127089055766, 0.20217738254294637, -1.669518712654215, -0.5111871906175561, -0.6298861572186296, 0.8089227351774407, -0.017502244639379758, 0.5470549245950116, 1.205281769483588, 1.037057423581387, 0.09557849773090253, 0.57333584353472, -0.6736607481399736, 0.02354881168542178, 0.16149816470751635, -0.18720501878333623, -1.0368909880884163, 0.06346118185626269, 1.8593973699740949, 1.4227284353103165, -0.03745067461314494, 0.7018509417552491, 0.37484070339401815, 0.4490068546525637, 0.05210196611094483, -0.1701316667373229, 0.9975858765520681, 0.5679231522183869, 0.7333534143683618, -0.4881841277696792, -0.7735029325895608, 0.01891691584424374, -1.2359148304241079, -0.8896197467687542, -0.10908281293793401, 1.688463700552174, -0.23667063256752122, -0.0006127191057447444, -1.3901015766075688, -0.07471253156201306, -0.17391167365707075, 0.18494588958463734, -0.8072660199829106, 0.5042274950958247, 1.430319628227963, -1.0432237869179202, 0.6069703153867475, -0.9659360808606309, 1.6956317931889817, 0.1934229329498793, -0.3234302239208796, -0.5653941531404442, 1.4294978718028493, -0.4667825162224206, 0.8159024534431725, -0.27577624975932374, 0.05785711289876522, 1.4902936128030226, 0.9452236842836307, 1.34821155748868, -0.9335093588384209, 0.7629837548409932, -0.9040802654809437, -0.8912568923745329, -0.7504395625157962, 0.5435144524350202, 1.47191507660395, -1.9599202433457479, -0.09907887392997437, 1.4770671005625244, 0.40572998591662657, 0.09857348353580996, 0.23264132362483203, 0.9966223626862929, -0.23378918797685888, -0.8122495069200328, 0.7783050772190407, -0.9721164857966254, 0.4139167840603344, 0.6505919351452365, -1.4765433004431558, -0.2272361110201322], \"yaxis\": \"y14\"}, {\"line\": {\"color\": \"rgba(128, 128, 128, 1.0)\", \"dash\": \"solid\", \"shape\": \"linear\", \"width\": 1.3}, \"marker\": {\"size\": 2, \"symbol\": \"circle\"}, \"mode\": \"markers\", \"name\": \"D\", \"text\": \"\", \"type\": \"scatter\", \"x\": [0.3656651539700398, -2.024621508933484, -0.17595214258639766, 0.38752123388547627, -0.40098108684220674, 0.7047994399031737, 0.6111222021594415, 0.2984057022335293, -0.5054188984967285, 0.12024912953358627, 0.03658450937199128, -0.28327791808777447, -1.3967097446357228, 1.1161579807451723, -0.02769518065720461, 0.3824321539746692, 0.5477711577384979, 0.08142385667673246, 1.3064477629658349, -0.16079346035363284, 1.3087896864926647, 0.3062345125176454, 0.09288871560599347, 0.1293533941503134, 0.5788875746115371, 0.01434073846552713, -1.8944062485400481, 1.8888049406514158, -0.4776845884066758, 1.2764291854498908, -0.5042490922031749, -0.7801119239008675, 1.3421330442051493, 0.672714533915635, 0.9893919285907951, 0.8494961107716652, 0.5838121382918745, 1.250930509255457, 1.09968861421728, -0.04163656113428267, 0.05322861552611884, -0.6125501183133603, -1.2206193313774207, 0.144642554577054, -1.319235756758065, 0.19491832305045914, -0.775115685297024, 1.0167592539070043, 0.983563546849777, -0.39039835223133834, -0.8284730578893609, -0.3936660846606071, 0.6232568363690445, -0.6333224212073132, 1.0650741192534734, -2.1686623348824674, -1.228154969602673, -0.9977266640263869, 0.9726160769808196, 0.2930229304519651, -0.4821496574965753, -0.5846169212147282, -0.9316895418709534, -1.2179313081717043, -2.074013254064868, 0.09682363701248563, -0.38151715167604977, 0.49188500666415497, -0.725306836736184, -0.8246979833109914, -1.3562429729164502, 0.2673330090054745, 1.2924557312605747, 0.24010807839265333, -0.1525097779159531, 0.013773240989478044, 0.801672870583813, 2.6129068949654126, -0.004835514247692923, 0.00038433475050008765, 0.3768613102888822, 1.5852792940187583, -1.2303409245158452, 0.10101802359198322, 0.8844781483544862, -0.8811133498746999, 0.373372580639977, -0.40411158698473626, 1.3672213632922996, 0.30692054933826124, 0.2980331198680305, -1.6977885063533618, 0.9342253811855618, 0.6893014976844566, -0.7823612487342642, -0.9297453414885516, 0.8523734371748879, -0.23312884194180006, 0.4116455392105631, -0.2530425260066888], \"xaxis\": \"x15\", \"y\": [0.7975416162339963, -0.21940657560340165, -0.6495223186326463, -1.1045817227401677, -0.7193189821090035, -0.8349004696712116, -1.1270940359263222, 0.045792655428507856, -0.916793147440208, 0.9213674139500968, -0.5886707980598632, -0.09356438719274726, 1.1920978378959821, -0.8317211629636166, -0.38109088723742296, 0.5766422340104451, 0.43763503347873917, -0.41169971859837184, -0.46590127089055766, 0.20217738254294637, -1.669518712654215, -0.5111871906175561, -0.6298861572186296, 0.8089227351774407, -0.017502244639379758, 0.5470549245950116, 1.205281769483588, 1.037057423581387, 0.09557849773090253, 0.57333584353472, -0.6736607481399736, 0.02354881168542178, 0.16149816470751635, -0.18720501878333623, -1.0368909880884163, 0.06346118185626269, 1.8593973699740949, 1.4227284353103165, -0.03745067461314494, 0.7018509417552491, 0.37484070339401815, 0.4490068546525637, 0.05210196611094483, -0.1701316667373229, 0.9975858765520681, 0.5679231522183869, 0.7333534143683618, -0.4881841277696792, -0.7735029325895608, 0.01891691584424374, -1.2359148304241079, -0.8896197467687542, -0.10908281293793401, 1.688463700552174, -0.23667063256752122, -0.0006127191057447444, -1.3901015766075688, -0.07471253156201306, -0.17391167365707075, 0.18494588958463734, -0.8072660199829106, 0.5042274950958247, 1.430319628227963, -1.0432237869179202, 0.6069703153867475, -0.9659360808606309, 1.6956317931889817, 0.1934229329498793, -0.3234302239208796, -0.5653941531404442, 1.4294978718028493, -0.4667825162224206, 0.8159024534431725, -0.27577624975932374, 0.05785711289876522, 1.4902936128030226, 0.9452236842836307, 1.34821155748868, -0.9335093588384209, 0.7629837548409932, -0.9040802654809437, -0.8912568923745329, -0.7504395625157962, 0.5435144524350202, 1.47191507660395, -1.9599202433457479, -0.09907887392997437, 1.4770671005625244, 0.40572998591662657, 0.09857348353580996, 0.23264132362483203, 0.9966223626862929, -0.23378918797685888, -0.8122495069200328, 0.7783050772190407, -0.9721164857966254, 0.4139167840603344, 0.6505919351452365, -1.4765433004431558, -0.2272361110201322], \"yaxis\": \"y15\"}, {\"histfunc\": \"count\", \"histnorm\": \"\", \"marker\": {\"color\": \"rgba(128, 0, 128, 1.0)\", \"line\": {\"color\": \"#4D5663\", \"width\": 1.3}}, \"name\": \"D\", \"nbinsx\": 10, \"opacity\": 0.8, \"orientation\": \"v\", \"type\": \"histogram\", \"x\": [0.7975416162339963, -0.21940657560340165, -0.6495223186326463, -1.1045817227401677, -0.7193189821090035, -0.8349004696712116, -1.1270940359263222, 0.045792655428507856, -0.916793147440208, 0.9213674139500968, -0.5886707980598632, -0.09356438719274726, 1.1920978378959821, -0.8317211629636166, -0.38109088723742296, 0.5766422340104451, 0.43763503347873917, -0.41169971859837184, -0.46590127089055766, 0.20217738254294637, -1.669518712654215, -0.5111871906175561, -0.6298861572186296, 0.8089227351774407, -0.017502244639379758, 0.5470549245950116, 1.205281769483588, 1.037057423581387, 0.09557849773090253, 0.57333584353472, -0.6736607481399736, 0.02354881168542178, 0.16149816470751635, -0.18720501878333623, -1.0368909880884163, 0.06346118185626269, 1.8593973699740949, 1.4227284353103165, -0.03745067461314494, 0.7018509417552491, 0.37484070339401815, 0.4490068546525637, 0.05210196611094483, -0.1701316667373229, 0.9975858765520681, 0.5679231522183869, 0.7333534143683618, -0.4881841277696792, -0.7735029325895608, 0.01891691584424374, -1.2359148304241079, -0.8896197467687542, -0.10908281293793401, 1.688463700552174, -0.23667063256752122, -0.0006127191057447444, -1.3901015766075688, -0.07471253156201306, -0.17391167365707075, 0.18494588958463734, -0.8072660199829106, 0.5042274950958247, 1.430319628227963, -1.0432237869179202, 0.6069703153867475, -0.9659360808606309, 1.6956317931889817, 0.1934229329498793, -0.3234302239208796, -0.5653941531404442, 1.4294978718028493, -0.4667825162224206, 0.8159024534431725, -0.27577624975932374, 0.05785711289876522, 1.4902936128030226, 0.9452236842836307, 1.34821155748868, -0.9335093588384209, 0.7629837548409932, -0.9040802654809437, -0.8912568923745329, -0.7504395625157962, 0.5435144524350202, 1.47191507660395, -1.9599202433457479, -0.09907887392997437, 1.4770671005625244, 0.40572998591662657, 0.09857348353580996, 0.23264132362483203, 0.9966223626862929, -0.23378918797685888, -0.8122495069200328, 0.7783050772190407, -0.9721164857966254, 0.4139167840603344, 0.6505919351452365, -1.4765433004431558, -0.2272361110201322], \"xaxis\": \"x16\", \"yaxis\": \"y16\"}],\n",
       "                        {\"bargap\": 0.02, \"legend\": {\"bgcolor\": \"#F5F6F9\", \"font\": {\"color\": \"#4D5663\"}}, \"paper_bgcolor\": \"#F5F6F9\", \"plot_bgcolor\": \"#F5F6F9\", \"showlegend\": false, \"template\": {\"data\": {\"bar\": [{\"error_x\": {\"color\": \"#2a3f5f\"}, \"error_y\": {\"color\": \"#2a3f5f\"}, \"marker\": {\"line\": {\"color\": \"#E5ECF6\", \"width\": 0.5}}, \"type\": \"bar\"}], \"barpolar\": [{\"marker\": {\"line\": {\"color\": \"#E5ECF6\", \"width\": 0.5}}, \"type\": \"barpolar\"}], \"carpet\": [{\"aaxis\": {\"endlinecolor\": \"#2a3f5f\", \"gridcolor\": \"white\", \"linecolor\": \"white\", \"minorgridcolor\": \"white\", \"startlinecolor\": \"#2a3f5f\"}, \"baxis\": {\"endlinecolor\": \"#2a3f5f\", \"gridcolor\": \"white\", \"linecolor\": \"white\", \"minorgridcolor\": \"white\", \"startlinecolor\": \"#2a3f5f\"}, \"type\": \"carpet\"}], \"choropleth\": [{\"colorbar\": {\"outlinewidth\": 0, \"ticks\": \"\"}, \"type\": \"choropleth\"}], \"contour\": [{\"colorbar\": {\"outlinewidth\": 0, \"ticks\": \"\"}, \"colorscale\": [[0.0, \"#0d0887\"], [0.1111111111111111, \"#46039f\"], [0.2222222222222222, \"#7201a8\"], [0.3333333333333333, \"#9c179e\"], [0.4444444444444444, \"#bd3786\"], [0.5555555555555556, \"#d8576b\"], [0.6666666666666666, \"#ed7953\"], [0.7777777777777778, \"#fb9f3a\"], [0.8888888888888888, \"#fdca26\"], [1.0, \"#f0f921\"]], \"type\": \"contour\"}], \"contourcarpet\": [{\"colorbar\": {\"outlinewidth\": 0, \"ticks\": \"\"}, \"type\": \"contourcarpet\"}], \"heatmap\": [{\"colorbar\": {\"outlinewidth\": 0, \"ticks\": \"\"}, \"colorscale\": [[0.0, \"#0d0887\"], [0.1111111111111111, \"#46039f\"], [0.2222222222222222, \"#7201a8\"], [0.3333333333333333, \"#9c179e\"], [0.4444444444444444, \"#bd3786\"], [0.5555555555555556, \"#d8576b\"], [0.6666666666666666, \"#ed7953\"], [0.7777777777777778, \"#fb9f3a\"], [0.8888888888888888, \"#fdca26\"], [1.0, \"#f0f921\"]], \"type\": \"heatmap\"}], \"heatmapgl\": [{\"colorbar\": {\"outlinewidth\": 0, \"ticks\": \"\"}, \"colorscale\": [[0.0, \"#0d0887\"], [0.1111111111111111, \"#46039f\"], [0.2222222222222222, \"#7201a8\"], [0.3333333333333333, \"#9c179e\"], [0.4444444444444444, \"#bd3786\"], [0.5555555555555556, \"#d8576b\"], [0.6666666666666666, \"#ed7953\"], [0.7777777777777778, \"#fb9f3a\"], [0.8888888888888888, \"#fdca26\"], [1.0, \"#f0f921\"]], \"type\": \"heatmapgl\"}], \"histogram\": [{\"marker\": {\"colorbar\": {\"outlinewidth\": 0, \"ticks\": \"\"}}, \"type\": \"histogram\"}], \"histogram2d\": [{\"colorbar\": {\"outlinewidth\": 0, \"ticks\": \"\"}, \"colorscale\": [[0.0, \"#0d0887\"], [0.1111111111111111, \"#46039f\"], [0.2222222222222222, \"#7201a8\"], [0.3333333333333333, \"#9c179e\"], [0.4444444444444444, \"#bd3786\"], [0.5555555555555556, \"#d8576b\"], [0.6666666666666666, \"#ed7953\"], [0.7777777777777778, \"#fb9f3a\"], [0.8888888888888888, \"#fdca26\"], [1.0, \"#f0f921\"]], \"type\": \"histogram2d\"}], \"histogram2dcontour\": [{\"colorbar\": {\"outlinewidth\": 0, \"ticks\": \"\"}, \"colorscale\": [[0.0, \"#0d0887\"], [0.1111111111111111, \"#46039f\"], [0.2222222222222222, \"#7201a8\"], [0.3333333333333333, \"#9c179e\"], [0.4444444444444444, \"#bd3786\"], [0.5555555555555556, \"#d8576b\"], [0.6666666666666666, \"#ed7953\"], [0.7777777777777778, \"#fb9f3a\"], [0.8888888888888888, \"#fdca26\"], [1.0, \"#f0f921\"]], \"type\": \"histogram2dcontour\"}], \"mesh3d\": [{\"colorbar\": {\"outlinewidth\": 0, \"ticks\": \"\"}, \"type\": \"mesh3d\"}], \"parcoords\": [{\"line\": {\"colorbar\": {\"outlinewidth\": 0, \"ticks\": \"\"}}, \"type\": \"parcoords\"}], \"pie\": [{\"automargin\": true, \"type\": \"pie\"}], \"scatter\": [{\"marker\": {\"colorbar\": {\"outlinewidth\": 0, \"ticks\": \"\"}}, \"type\": \"scatter\"}], \"scatter3d\": [{\"line\": {\"colorbar\": {\"outlinewidth\": 0, \"ticks\": \"\"}}, \"marker\": {\"colorbar\": {\"outlinewidth\": 0, \"ticks\": \"\"}}, \"type\": \"scatter3d\"}], \"scattercarpet\": [{\"marker\": {\"colorbar\": {\"outlinewidth\": 0, \"ticks\": \"\"}}, \"type\": \"scattercarpet\"}], \"scattergeo\": [{\"marker\": {\"colorbar\": {\"outlinewidth\": 0, \"ticks\": \"\"}}, \"type\": \"scattergeo\"}], \"scattergl\": [{\"marker\": {\"colorbar\": {\"outlinewidth\": 0, \"ticks\": \"\"}}, \"type\": \"scattergl\"}], \"scattermapbox\": [{\"marker\": {\"colorbar\": {\"outlinewidth\": 0, \"ticks\": \"\"}}, \"type\": \"scattermapbox\"}], \"scatterpolar\": [{\"marker\": {\"colorbar\": {\"outlinewidth\": 0, \"ticks\": \"\"}}, \"type\": \"scatterpolar\"}], \"scatterpolargl\": [{\"marker\": {\"colorbar\": {\"outlinewidth\": 0, \"ticks\": \"\"}}, \"type\": \"scatterpolargl\"}], \"scatterternary\": [{\"marker\": {\"colorbar\": {\"outlinewidth\": 0, \"ticks\": \"\"}}, \"type\": \"scatterternary\"}], \"surface\": [{\"colorbar\": {\"outlinewidth\": 0, \"ticks\": \"\"}, \"colorscale\": [[0.0, \"#0d0887\"], [0.1111111111111111, \"#46039f\"], [0.2222222222222222, \"#7201a8\"], [0.3333333333333333, \"#9c179e\"], [0.4444444444444444, \"#bd3786\"], [0.5555555555555556, \"#d8576b\"], [0.6666666666666666, \"#ed7953\"], [0.7777777777777778, \"#fb9f3a\"], [0.8888888888888888, \"#fdca26\"], [1.0, \"#f0f921\"]], \"type\": \"surface\"}], \"table\": [{\"cells\": {\"fill\": {\"color\": \"#EBF0F8\"}, \"line\": {\"color\": \"white\"}}, \"header\": {\"fill\": {\"color\": \"#C8D4E3\"}, \"line\": {\"color\": \"white\"}}, \"type\": \"table\"}]}, \"layout\": {\"annotationdefaults\": {\"arrowcolor\": \"#2a3f5f\", \"arrowhead\": 0, \"arrowwidth\": 1}, \"coloraxis\": {\"colorbar\": {\"outlinewidth\": 0, \"ticks\": \"\"}}, \"colorscale\": {\"diverging\": [[0, \"#8e0152\"], [0.1, \"#c51b7d\"], [0.2, \"#de77ae\"], [0.3, \"#f1b6da\"], [0.4, \"#fde0ef\"], [0.5, \"#f7f7f7\"], [0.6, \"#e6f5d0\"], [0.7, \"#b8e186\"], [0.8, \"#7fbc41\"], [0.9, \"#4d9221\"], [1, \"#276419\"]], \"sequential\": [[0.0, \"#0d0887\"], [0.1111111111111111, \"#46039f\"], [0.2222222222222222, \"#7201a8\"], [0.3333333333333333, \"#9c179e\"], [0.4444444444444444, \"#bd3786\"], [0.5555555555555556, \"#d8576b\"], [0.6666666666666666, \"#ed7953\"], [0.7777777777777778, \"#fb9f3a\"], [0.8888888888888888, \"#fdca26\"], [1.0, \"#f0f921\"]], \"sequentialminus\": [[0.0, \"#0d0887\"], [0.1111111111111111, \"#46039f\"], [0.2222222222222222, \"#7201a8\"], [0.3333333333333333, \"#9c179e\"], [0.4444444444444444, \"#bd3786\"], [0.5555555555555556, \"#d8576b\"], [0.6666666666666666, \"#ed7953\"], [0.7777777777777778, \"#fb9f3a\"], [0.8888888888888888, \"#fdca26\"], [1.0, \"#f0f921\"]]}, \"colorway\": [\"#636efa\", \"#EF553B\", \"#00cc96\", \"#ab63fa\", \"#FFA15A\", \"#19d3f3\", \"#FF6692\", \"#B6E880\", \"#FF97FF\", \"#FECB52\"], \"font\": {\"color\": \"#2a3f5f\"}, \"geo\": {\"bgcolor\": \"white\", \"lakecolor\": \"white\", \"landcolor\": \"#E5ECF6\", \"showlakes\": true, \"showland\": true, \"subunitcolor\": \"white\"}, \"hoverlabel\": {\"align\": \"left\"}, \"hovermode\": \"closest\", \"mapbox\": {\"style\": \"light\"}, \"paper_bgcolor\": \"white\", \"plot_bgcolor\": \"#E5ECF6\", \"polar\": {\"angularaxis\": {\"gridcolor\": \"white\", \"linecolor\": \"white\", \"ticks\": \"\"}, \"bgcolor\": \"#E5ECF6\", \"radialaxis\": {\"gridcolor\": \"white\", \"linecolor\": \"white\", \"ticks\": \"\"}}, \"scene\": {\"xaxis\": {\"backgroundcolor\": \"#E5ECF6\", \"gridcolor\": \"white\", \"gridwidth\": 2, \"linecolor\": \"white\", \"showbackground\": true, \"ticks\": \"\", \"zerolinecolor\": \"white\"}, \"yaxis\": {\"backgroundcolor\": \"#E5ECF6\", \"gridcolor\": \"white\", \"gridwidth\": 2, \"linecolor\": \"white\", \"showbackground\": true, \"ticks\": \"\", \"zerolinecolor\": \"white\"}, \"zaxis\": {\"backgroundcolor\": \"#E5ECF6\", \"gridcolor\": \"white\", \"gridwidth\": 2, \"linecolor\": \"white\", \"showbackground\": true, \"ticks\": \"\", \"zerolinecolor\": \"white\"}}, \"shapedefaults\": {\"line\": {\"color\": \"#2a3f5f\"}}, \"ternary\": {\"aaxis\": {\"gridcolor\": \"white\", \"linecolor\": \"white\", \"ticks\": \"\"}, \"baxis\": {\"gridcolor\": \"white\", \"linecolor\": \"white\", \"ticks\": \"\"}, \"bgcolor\": \"#E5ECF6\", \"caxis\": {\"gridcolor\": \"white\", \"linecolor\": \"white\", \"ticks\": \"\"}}, \"title\": {\"x\": 0.05}, \"xaxis\": {\"automargin\": true, \"gridcolor\": \"white\", \"linecolor\": \"white\", \"ticks\": \"\", \"title\": {\"standoff\": 15}, \"zerolinecolor\": \"white\", \"zerolinewidth\": 2}, \"yaxis\": {\"automargin\": true, \"gridcolor\": \"white\", \"linecolor\": \"white\", \"ticks\": \"\", \"title\": {\"standoff\": 15}, \"zerolinecolor\": \"white\", \"zerolinewidth\": 2}}}, \"title\": {\"font\": {\"color\": \"#4D5663\"}}, \"xaxis\": {\"anchor\": \"y\", \"domain\": [0.0, 0.2125], \"gridcolor\": \"#E1E5ED\", \"showgrid\": false, \"tickfont\": {\"color\": \"#4D5663\"}, \"title\": {\"font\": {\"color\": \"#4D5663\"}, \"text\": \"\"}, \"zerolinecolor\": \"#E1E5ED\"}, \"xaxis10\": {\"anchor\": \"y10\", \"domain\": [0.2625, 0.475], \"gridcolor\": \"#E1E5ED\", \"showgrid\": false, \"tickfont\": {\"color\": \"#4D5663\"}, \"title\": {\"font\": {\"color\": \"#4D5663\"}, \"text\": \"\"}, \"zerolinecolor\": \"#E1E5ED\"}, \"xaxis11\": {\"anchor\": \"y11\", \"domain\": [0.525, 0.7375], \"gridcolor\": \"#E1E5ED\", \"showgrid\": false, \"tickfont\": {\"color\": \"#4D5663\"}, \"title\": {\"font\": {\"color\": \"#4D5663\"}, \"text\": \"\"}, \"zerolinecolor\": \"#E1E5ED\"}, \"xaxis12\": {\"anchor\": \"y12\", \"domain\": [0.7875, 1.0], \"gridcolor\": \"#E1E5ED\", \"showgrid\": false, \"tickfont\": {\"color\": \"#4D5663\"}, \"title\": {\"font\": {\"color\": \"#4D5663\"}, \"text\": \"\"}, \"zerolinecolor\": \"#E1E5ED\"}, \"xaxis13\": {\"anchor\": \"y13\", \"domain\": [0.0, 0.2125], \"gridcolor\": \"#E1E5ED\", \"showgrid\": false, \"tickfont\": {\"color\": \"#4D5663\"}, \"title\": {\"font\": {\"color\": \"#4D5663\"}, \"text\": \"\"}, \"zerolinecolor\": \"#E1E5ED\"}, \"xaxis14\": {\"anchor\": \"y14\", \"domain\": [0.2625, 0.475], \"gridcolor\": \"#E1E5ED\", \"showgrid\": false, \"tickfont\": {\"color\": \"#4D5663\"}, \"title\": {\"font\": {\"color\": \"#4D5663\"}, \"text\": \"\"}, \"zerolinecolor\": \"#E1E5ED\"}, \"xaxis15\": {\"anchor\": \"y15\", \"domain\": [0.525, 0.7375], \"gridcolor\": \"#E1E5ED\", \"showgrid\": false, \"tickfont\": {\"color\": \"#4D5663\"}, \"title\": {\"font\": {\"color\": \"#4D5663\"}, \"text\": \"\"}, \"zerolinecolor\": \"#E1E5ED\"}, \"xaxis16\": {\"anchor\": \"y16\", \"domain\": [0.7875, 1.0], \"gridcolor\": \"#E1E5ED\", \"showgrid\": false, \"tickfont\": {\"color\": \"#4D5663\"}, \"title\": {\"font\": {\"color\": \"#4D5663\"}, \"text\": \"\"}, \"zerolinecolor\": \"#E1E5ED\"}, \"xaxis2\": {\"anchor\": \"y2\", \"domain\": [0.2625, 0.475], \"gridcolor\": \"#E1E5ED\", \"showgrid\": false, \"tickfont\": {\"color\": \"#4D5663\"}, \"title\": {\"font\": {\"color\": \"#4D5663\"}, \"text\": \"\"}, \"zerolinecolor\": \"#E1E5ED\"}, \"xaxis3\": {\"anchor\": \"y3\", \"domain\": [0.525, 0.7375], \"gridcolor\": \"#E1E5ED\", \"showgrid\": false, \"tickfont\": {\"color\": \"#4D5663\"}, \"title\": {\"font\": {\"color\": \"#4D5663\"}, \"text\": \"\"}, \"zerolinecolor\": \"#E1E5ED\"}, \"xaxis4\": {\"anchor\": \"y4\", \"domain\": [0.7875, 1.0], \"gridcolor\": \"#E1E5ED\", \"showgrid\": false, \"tickfont\": {\"color\": \"#4D5663\"}, \"title\": {\"font\": {\"color\": \"#4D5663\"}, \"text\": \"\"}, \"zerolinecolor\": \"#E1E5ED\"}, \"xaxis5\": {\"anchor\": \"y5\", \"domain\": [0.0, 0.2125], \"gridcolor\": \"#E1E5ED\", \"showgrid\": false, \"tickfont\": {\"color\": \"#4D5663\"}, \"title\": {\"font\": {\"color\": \"#4D5663\"}, \"text\": \"\"}, \"zerolinecolor\": \"#E1E5ED\"}, \"xaxis6\": {\"anchor\": \"y6\", \"domain\": [0.2625, 0.475], \"gridcolor\": \"#E1E5ED\", \"showgrid\": false, \"tickfont\": {\"color\": \"#4D5663\"}, \"title\": {\"font\": {\"color\": \"#4D5663\"}, \"text\": \"\"}, \"zerolinecolor\": \"#E1E5ED\"}, \"xaxis7\": {\"anchor\": \"y7\", \"domain\": [0.525, 0.7375], \"gridcolor\": \"#E1E5ED\", \"showgrid\": false, \"tickfont\": {\"color\": \"#4D5663\"}, \"title\": {\"font\": {\"color\": \"#4D5663\"}, \"text\": \"\"}, \"zerolinecolor\": \"#E1E5ED\"}, \"xaxis8\": {\"anchor\": \"y8\", \"domain\": [0.7875, 1.0], \"gridcolor\": \"#E1E5ED\", \"showgrid\": false, \"tickfont\": {\"color\": \"#4D5663\"}, \"title\": {\"font\": {\"color\": \"#4D5663\"}, \"text\": \"\"}, \"zerolinecolor\": \"#E1E5ED\"}, \"xaxis9\": {\"anchor\": \"y9\", \"domain\": [0.0, 0.2125], \"gridcolor\": \"#E1E5ED\", \"showgrid\": false, \"tickfont\": {\"color\": \"#4D5663\"}, \"title\": {\"font\": {\"color\": \"#4D5663\"}, \"text\": \"\"}, \"zerolinecolor\": \"#E1E5ED\"}, \"yaxis\": {\"anchor\": \"x\", \"domain\": [0.8025, 1.0], \"gridcolor\": \"#E1E5ED\", \"showgrid\": false, \"tickfont\": {\"color\": \"#4D5663\"}, \"title\": {\"font\": {\"color\": \"#4D5663\"}, \"text\": \"\"}, \"zerolinecolor\": \"#E1E5ED\"}, \"yaxis10\": {\"anchor\": \"x10\", \"domain\": [0.2675, 0.465], \"gridcolor\": \"#E1E5ED\", \"showgrid\": false, \"tickfont\": {\"color\": \"#4D5663\"}, \"title\": {\"font\": {\"color\": \"#4D5663\"}, \"text\": \"\"}, \"zerolinecolor\": \"#E1E5ED\"}, \"yaxis11\": {\"anchor\": \"x11\", \"domain\": [0.2675, 0.465], \"gridcolor\": \"#E1E5ED\", \"showgrid\": false, \"tickfont\": {\"color\": \"#4D5663\"}, \"title\": {\"font\": {\"color\": \"#4D5663\"}, \"text\": \"\"}, \"zerolinecolor\": \"#E1E5ED\"}, \"yaxis12\": {\"anchor\": \"x12\", \"domain\": [0.2675, 0.465], \"gridcolor\": \"#E1E5ED\", \"showgrid\": false, \"tickfont\": {\"color\": \"#4D5663\"}, \"title\": {\"font\": {\"color\": \"#4D5663\"}, \"text\": \"\"}, \"zerolinecolor\": \"#E1E5ED\"}, \"yaxis13\": {\"anchor\": \"x13\", \"domain\": [0.0, 0.1975], \"gridcolor\": \"#E1E5ED\", \"showgrid\": false, \"tickfont\": {\"color\": \"#4D5663\"}, \"title\": {\"font\": {\"color\": \"#4D5663\"}, \"text\": \"\"}, \"zerolinecolor\": \"#E1E5ED\"}, \"yaxis14\": {\"anchor\": \"x14\", \"domain\": [0.0, 0.1975], \"gridcolor\": \"#E1E5ED\", \"showgrid\": false, \"tickfont\": {\"color\": \"#4D5663\"}, \"title\": {\"font\": {\"color\": \"#4D5663\"}, \"text\": \"\"}, \"zerolinecolor\": \"#E1E5ED\"}, \"yaxis15\": {\"anchor\": \"x15\", \"domain\": [0.0, 0.1975], \"gridcolor\": \"#E1E5ED\", \"showgrid\": false, \"tickfont\": {\"color\": \"#4D5663\"}, \"title\": {\"font\": {\"color\": \"#4D5663\"}, \"text\": \"\"}, \"zerolinecolor\": \"#E1E5ED\"}, \"yaxis16\": {\"anchor\": \"x16\", \"domain\": [0.0, 0.1975], \"gridcolor\": \"#E1E5ED\", \"showgrid\": false, \"tickfont\": {\"color\": \"#4D5663\"}, \"title\": {\"font\": {\"color\": \"#4D5663\"}, \"text\": \"\"}, \"zerolinecolor\": \"#E1E5ED\"}, \"yaxis2\": {\"anchor\": \"x2\", \"domain\": [0.8025, 1.0], \"gridcolor\": \"#E1E5ED\", \"showgrid\": false, \"tickfont\": {\"color\": \"#4D5663\"}, \"title\": {\"font\": {\"color\": \"#4D5663\"}, \"text\": \"\"}, \"zerolinecolor\": \"#E1E5ED\"}, \"yaxis3\": {\"anchor\": \"x3\", \"domain\": [0.8025, 1.0], \"gridcolor\": \"#E1E5ED\", \"showgrid\": false, \"tickfont\": {\"color\": \"#4D5663\"}, \"title\": {\"font\": {\"color\": \"#4D5663\"}, \"text\": \"\"}, \"zerolinecolor\": \"#E1E5ED\"}, \"yaxis4\": {\"anchor\": \"x4\", \"domain\": [0.8025, 1.0], \"gridcolor\": \"#E1E5ED\", \"showgrid\": false, \"tickfont\": {\"color\": \"#4D5663\"}, \"title\": {\"font\": {\"color\": \"#4D5663\"}, \"text\": \"\"}, \"zerolinecolor\": \"#E1E5ED\"}, \"yaxis5\": {\"anchor\": \"x5\", \"domain\": [0.535, 0.7325], \"gridcolor\": \"#E1E5ED\", \"showgrid\": false, \"tickfont\": {\"color\": \"#4D5663\"}, \"title\": {\"font\": {\"color\": \"#4D5663\"}, \"text\": \"\"}, \"zerolinecolor\": \"#E1E5ED\"}, \"yaxis6\": {\"anchor\": \"x6\", \"domain\": [0.535, 0.7325], \"gridcolor\": \"#E1E5ED\", \"showgrid\": false, \"tickfont\": {\"color\": \"#4D5663\"}, \"title\": {\"font\": {\"color\": \"#4D5663\"}, \"text\": \"\"}, \"zerolinecolor\": \"#E1E5ED\"}, \"yaxis7\": {\"anchor\": \"x7\", \"domain\": [0.535, 0.7325], \"gridcolor\": \"#E1E5ED\", \"showgrid\": false, \"tickfont\": {\"color\": \"#4D5663\"}, \"title\": {\"font\": {\"color\": \"#4D5663\"}, \"text\": \"\"}, \"zerolinecolor\": \"#E1E5ED\"}, \"yaxis8\": {\"anchor\": \"x8\", \"domain\": [0.535, 0.7325], \"gridcolor\": \"#E1E5ED\", \"showgrid\": false, \"tickfont\": {\"color\": \"#4D5663\"}, \"title\": {\"font\": {\"color\": \"#4D5663\"}, \"text\": \"\"}, \"zerolinecolor\": \"#E1E5ED\"}, \"yaxis9\": {\"anchor\": \"x9\", \"domain\": [0.2675, 0.465], \"gridcolor\": \"#E1E5ED\", \"showgrid\": false, \"tickfont\": {\"color\": \"#4D5663\"}, \"title\": {\"font\": {\"color\": \"#4D5663\"}, \"text\": \"\"}, \"zerolinecolor\": \"#E1E5ED\"}},\n",
       "                        {\"showLink\": true, \"linkText\": \"Export to plot.ly\", \"plotlyServerURL\": \"https://plot.ly\", \"responsive\": true}\n",
       "                    ).then(function(){\n",
       "                            \n",
       "var gd = document.getElementById('06ebdcf0-95a5-47ee-bd2a-e20c7c51da4b');\n",
       "var x = new MutationObserver(function (mutations, observer) {{\n",
       "        var display = window.getComputedStyle(gd).display;\n",
       "        if (!display || display === 'none') {{\n",
       "            console.log([gd, 'removed!']);\n",
       "            Plotly.purge(gd);\n",
       "            observer.disconnect();\n",
       "        }}\n",
       "}});\n",
       "\n",
       "// Listen for the removal of the full notebook cells\n",
       "var notebookContainer = gd.closest('#notebook-container');\n",
       "if (notebookContainer) {{\n",
       "    x.observe(notebookContainer, {childList: true});\n",
       "}}\n",
       "\n",
       "// Listen for the clearing of the current output cell\n",
       "var outputEl = gd.closest('.output');\n",
       "if (outputEl) {{\n",
       "    x.observe(outputEl, {childList: true});\n",
       "}}\n",
       "\n",
       "                        })\n",
       "                };\n",
       "                });\n",
       "            </script>\n",
       "        </div>"
      ]
     },
     "metadata": {},
     "output_type": "display_data"
    }
   ],
   "source": [
    "df.scatter_matrix()"
   ]
  },
  {
   "cell_type": "code",
   "execution_count": null,
   "metadata": {},
   "outputs": [],
   "source": []
  }
 ],
 "metadata": {
  "kernelspec": {
   "display_name": "Python 3",
   "language": "python",
   "name": "python3"
  },
  "language_info": {
   "codemirror_mode": {
    "name": "ipython",
    "version": 3
   },
   "file_extension": ".py",
   "mimetype": "text/x-python",
   "name": "python",
   "nbconvert_exporter": "python",
   "pygments_lexer": "ipython3",
   "version": "3.7.6"
  }
 },
 "nbformat": 4,
 "nbformat_minor": 4
}
